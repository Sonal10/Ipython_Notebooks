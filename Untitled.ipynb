{
 "cells": [
  {
   "cell_type": "code",
   "execution_count": null,
   "metadata": {
    "collapsed": true
   },
   "outputs": [],
   "source": []
  }
 ],
 "metadata": {
  "anaconda-cloud": {},
  "kernelspec": {
   "display_name": "Python [dato-env]",
   "language": "python",
   "name": "Python [dato-env]"
  }
 },
 "nbformat": 4,
 "nbformat_minor": 0
}
