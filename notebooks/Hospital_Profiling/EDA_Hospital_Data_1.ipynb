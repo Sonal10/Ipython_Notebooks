{
 "cells": [
  {
   "cell_type": "code",
   "execution_count": 1,
   "metadata": {
    "collapsed": true
   },
   "outputs": [],
   "source": [
    "import pandas as pd\n",
    "from sklearn import linear_model as sk\n",
    "import statsmodels.api as sm\n",
    "import matplotlib.pylab\n",
    "import matplotlib.pylab as plt\n",
    "import numpy as np\n",
    "import patsy as pts\n",
    "from sklearn.decomposition import PCA"
   ]
  },
  {
   "cell_type": "code",
   "execution_count": 2,
   "metadata": {
    "collapsed": true
   },
   "outputs": [],
   "source": [
    "%matplotlib inline"
   ]
  },
  {
   "cell_type": "code",
   "execution_count": 3,
   "metadata": {
    "collapsed": true
   },
   "outputs": [],
   "source": [
    "df = pd.read_csv(\"C:\\Users\\dell pc\\Dataset\\HospitalProfiling.csv\")"
   ]
  },
  {
   "cell_type": "code",
   "execution_count": 4,
   "metadata": {
    "collapsed": true
   },
   "outputs": [],
   "source": [
    "df1 = pd.read_csv(\"C:\\Users\\dell pc\\Dataset\\HospitalProfiling-Copy.csv\")"
   ]
  },
  {
   "cell_type": "code",
   "execution_count": 5,
   "metadata": {
    "collapsed": false
   },
   "outputs": [
    {
     "data": {
      "text/html": [
       "<div>\n",
       "<table border=\"1\" class=\"dataframe\">\n",
       "  <thead>\n",
       "    <tr style=\"text-align: right;\">\n",
       "      <th></th>\n",
       "      <th>Hospital_ID</th>\n",
       "      <th>District_ID</th>\n",
       "      <th>Hospital_employees</th>\n",
       "    </tr>\n",
       "  </thead>\n",
       "  <tbody>\n",
       "    <tr>\n",
       "      <th>0</th>\n",
       "      <td>Hospital 1</td>\n",
       "      <td>District 12</td>\n",
       "      <td>3</td>\n",
       "    </tr>\n",
       "    <tr>\n",
       "      <th>1</th>\n",
       "      <td>Hospital 1</td>\n",
       "      <td>District 13</td>\n",
       "      <td>6</td>\n",
       "    </tr>\n",
       "    <tr>\n",
       "      <th>2</th>\n",
       "      <td>Hospital 1</td>\n",
       "      <td>District 15</td>\n",
       "      <td>2</td>\n",
       "    </tr>\n",
       "    <tr>\n",
       "      <th>3</th>\n",
       "      <td>Hospital 1</td>\n",
       "      <td>District 16</td>\n",
       "      <td>3</td>\n",
       "    </tr>\n",
       "    <tr>\n",
       "      <th>4</th>\n",
       "      <td>Hospital 1</td>\n",
       "      <td>District 19</td>\n",
       "      <td>5</td>\n",
       "    </tr>\n",
       "  </tbody>\n",
       "</table>\n",
       "</div>"
      ],
      "text/plain": [
       "  Hospital_ID  District_ID  Hospital_employees\n",
       "0  Hospital 1  District 12                   3\n",
       "1  Hospital 1  District 13                   6\n",
       "2  Hospital 1  District 15                   2\n",
       "3  Hospital 1  District 16                   3\n",
       "4  Hospital 1  District 19                   5"
      ]
     },
     "execution_count": 5,
     "metadata": {},
     "output_type": "execute_result"
    }
   ],
   "source": [
    "df.head()"
   ]
  },
  {
   "cell_type": "code",
   "execution_count": 6,
   "metadata": {
    "collapsed": false
   },
   "outputs": [
    {
     "data": {
      "text/html": [
       "<div>\n",
       "<table border=\"1\" class=\"dataframe\">\n",
       "  <thead>\n",
       "    <tr style=\"text-align: right;\">\n",
       "      <th></th>\n",
       "      <th>Hospital_ID</th>\n",
       "      <th>District_ID</th>\n",
       "      <th>Hospital_employees</th>\n",
       "    </tr>\n",
       "  </thead>\n",
       "  <tbody>\n",
       "    <tr>\n",
       "      <th>0</th>\n",
       "      <td>1</td>\n",
       "      <td>12</td>\n",
       "      <td>3</td>\n",
       "    </tr>\n",
       "    <tr>\n",
       "      <th>1</th>\n",
       "      <td>1</td>\n",
       "      <td>13</td>\n",
       "      <td>6</td>\n",
       "    </tr>\n",
       "    <tr>\n",
       "      <th>2</th>\n",
       "      <td>1</td>\n",
       "      <td>15</td>\n",
       "      <td>2</td>\n",
       "    </tr>\n",
       "    <tr>\n",
       "      <th>3</th>\n",
       "      <td>1</td>\n",
       "      <td>16</td>\n",
       "      <td>3</td>\n",
       "    </tr>\n",
       "    <tr>\n",
       "      <th>4</th>\n",
       "      <td>1</td>\n",
       "      <td>19</td>\n",
       "      <td>5</td>\n",
       "    </tr>\n",
       "  </tbody>\n",
       "</table>\n",
       "</div>"
      ],
      "text/plain": [
       "   Hospital_ID  District_ID  Hospital_employees\n",
       "0            1           12                   3\n",
       "1            1           13                   6\n",
       "2            1           15                   2\n",
       "3            1           16                   3\n",
       "4            1           19                   5"
      ]
     },
     "execution_count": 6,
     "metadata": {},
     "output_type": "execute_result"
    }
   ],
   "source": [
    "df1.head()"
   ]
  },
  {
   "cell_type": "code",
   "execution_count": 7,
   "metadata": {
    "collapsed": true
   },
   "outputs": [],
   "source": [
    "hospital_prof=df.copy()"
   ]
  },
  {
   "cell_type": "code",
   "execution_count": 8,
   "metadata": {
    "collapsed": false
   },
   "outputs": [
    {
     "data": {
      "text/html": [
       "<div>\n",
       "<table border=\"1\" class=\"dataframe\">\n",
       "  <thead>\n",
       "    <tr style=\"text-align: right;\">\n",
       "      <th></th>\n",
       "      <th>Hospital_ID</th>\n",
       "      <th>District_ID</th>\n",
       "      <th>Hospital_employees</th>\n",
       "    </tr>\n",
       "  </thead>\n",
       "  <tbody>\n",
       "    <tr>\n",
       "      <th>27860</th>\n",
       "      <td>Hospital 999</td>\n",
       "      <td>District 6</td>\n",
       "      <td>2</td>\n",
       "    </tr>\n",
       "    <tr>\n",
       "      <th>27861</th>\n",
       "      <td>Hospital 999</td>\n",
       "      <td>District 6</td>\n",
       "      <td>393</td>\n",
       "    </tr>\n",
       "    <tr>\n",
       "      <th>27862</th>\n",
       "      <td>Hospital 999</td>\n",
       "      <td>District 8</td>\n",
       "      <td>147</td>\n",
       "    </tr>\n",
       "    <tr>\n",
       "      <th>27863</th>\n",
       "      <td>Hospital 999</td>\n",
       "      <td>District 8</td>\n",
       "      <td>30</td>\n",
       "    </tr>\n",
       "    <tr>\n",
       "      <th>27864</th>\n",
       "      <td>Hospital 999</td>\n",
       "      <td>District 8</td>\n",
       "      <td>12</td>\n",
       "    </tr>\n",
       "  </tbody>\n",
       "</table>\n",
       "</div>"
      ],
      "text/plain": [
       "        Hospital_ID District_ID  Hospital_employees\n",
       "27860  Hospital 999  District 6                   2\n",
       "27861  Hospital 999  District 6                 393\n",
       "27862  Hospital 999  District 8                 147\n",
       "27863  Hospital 999  District 8                  30\n",
       "27864  Hospital 999  District 8                  12"
      ]
     },
     "execution_count": 8,
     "metadata": {},
     "output_type": "execute_result"
    }
   ],
   "source": [
    "df.tail()"
   ]
  },
  {
   "cell_type": "code",
   "execution_count": 9,
   "metadata": {
    "collapsed": false
   },
   "outputs": [
    {
     "data": {
      "text/plain": [
       "1996329"
      ]
     },
     "execution_count": 9,
     "metadata": {},
     "output_type": "execute_result"
    }
   ],
   "source": [
    "df['Hospital_employees'].max()"
   ]
  },
  {
   "cell_type": "code",
   "execution_count": 10,
   "metadata": {
    "collapsed": false
   },
   "outputs": [
    {
     "data": {
      "text/plain": [
       "1024.3012381123274"
      ]
     },
     "execution_count": 10,
     "metadata": {},
     "output_type": "execute_result"
    }
   ],
   "source": [
    "df['Hospital_employees'].mean()"
   ]
  },
  {
   "cell_type": "code",
   "execution_count": 11,
   "metadata": {
    "collapsed": false
   },
   "outputs": [
    {
     "data": {
      "text/plain": [
       "1"
      ]
     },
     "execution_count": 11,
     "metadata": {},
     "output_type": "execute_result"
    }
   ],
   "source": [
    "df['Hospital_employees'].min()"
   ]
  },
  {
   "cell_type": "code",
   "execution_count": 12,
   "metadata": {
    "collapsed": false
   },
   "outputs": [],
   "source": [
    "df = df.sort_values(['Hospital_employees'],ascending=True)"
   ]
  },
  {
   "cell_type": "code",
   "execution_count": 13,
   "metadata": {
    "collapsed": true
   },
   "outputs": [],
   "source": [
    "df1 = df1.sort_values(['Hospital_employees'],ascending=True)"
   ]
  },
  {
   "cell_type": "code",
   "execution_count": 14,
   "metadata": {
    "collapsed": false
   },
   "outputs": [
    {
     "data": {
      "text/plain": [
       "3862         1\n",
       "1944         1\n",
       "1960         1\n",
       "4009         1\n",
       "1976         1\n",
       "8123         1\n",
       "2040         1\n",
       "1912         1\n",
       "12303        1\n",
       "4187         1\n",
       "10364        1\n",
       "8317         1\n",
       "2200         1\n",
       "6298         1\n",
       "2248         1\n",
       "2072         1\n",
       "6346         1\n",
       "1880         1\n",
       "14110        1\n",
       "1608         1\n",
       "5722         1\n",
       "9836         1\n",
       "198280       1\n",
       "1688         1\n",
       "1704         1\n",
       "5930         1\n",
       "1720         1\n",
       "1784         1\n",
       "9980         1\n",
       "1800         1\n",
       "          ... \n",
       "24         165\n",
       "29         167\n",
       "38         167\n",
       "26         169\n",
       "50         175\n",
       "30         177\n",
       "22         178\n",
       "23         189\n",
       "19         208\n",
       "21         221\n",
       "17         225\n",
       "20         229\n",
       "25         235\n",
       "16         240\n",
       "14         279\n",
       "15         289\n",
       "18         291\n",
       "12         314\n",
       "11         362\n",
       "13         363\n",
       "10         384\n",
       "9          392\n",
       "7          461\n",
       "8          475\n",
       "6          569\n",
       "5          699\n",
       "4          712\n",
       "3         1031\n",
       "2         1207\n",
       "1         1509\n",
       "dtype: int64"
      ]
     },
     "execution_count": 14,
     "metadata": {},
     "output_type": "execute_result"
    }
   ],
   "source": [
    "pd.value_counts(df['Hospital_employees'].values, sort=True, dropna=False, ascending=True)"
   ]
  },
  {
   "cell_type": "code",
   "execution_count": 15,
   "metadata": {
    "collapsed": false
   },
   "outputs": [
    {
     "name": "stdout",
     "output_type": "stream",
     "text": [
      "Missing values per column:\n",
      "Hospital_ID           0\n",
      "District_ID           0\n",
      "Hospital_employees    0\n",
      "dtype: int64\n"
     ]
    }
   ],
   "source": [
    "#Create a new function:\n",
    "def num_missing(x):\n",
    "  return sum(x.isnull())\n",
    "\n",
    "#Applying per column:\n",
    "print \"Missing values per column:\"\n",
    "print df1.apply(num_missing, axis=0) #axis=0 defines that function is to be applied on each column"
   ]
  },
  {
   "cell_type": "code",
   "execution_count": 16,
   "metadata": {
    "collapsed": true
   },
   "outputs": [],
   "source": [
    "employee_bins = [0, 15, 50, 300, 1000, 2500, 10000, 25000]\n",
    "employee_labels = [\"V.V. Small\",\"V. Small\", \"Small\", \"Medium\", \"Large\", \"Very Large\", \"Magnificient\"]\n",
    "df1['hospital_cat'] = pd.cut(df1['Hospital_employees'], employee_bins, labels=employee_labels, \n",
    "    right=True, include_lowest=True)"
   ]
  },
  {
   "cell_type": "code",
   "execution_count": 17,
   "metadata": {
    "collapsed": false
   },
   "outputs": [
    {
     "data": {
      "text/plain": [
       "NaN              164\n",
       "Magnificient     296\n",
       "Very Large      1063\n",
       "Large           1534\n",
       "Medium          3166\n",
       "V. Small        5334\n",
       "Small           7262\n",
       "V.V. Small      9046\n",
       "dtype: int64"
      ]
     },
     "execution_count": 17,
     "metadata": {},
     "output_type": "execute_result"
    }
   ],
   "source": [
    "pd.value_counts(df1['hospital_cat'].values, sort=True, dropna=False, ascending=True)"
   ]
  },
  {
   "cell_type": "code",
   "execution_count": 18,
   "metadata": {
    "collapsed": false
   },
   "outputs": [
    {
     "data": {
      "text/html": [
       "<div>\n",
       "<table border=\"1\" class=\"dataframe\">\n",
       "  <thead>\n",
       "    <tr style=\"text-align: right;\">\n",
       "      <th></th>\n",
       "      <th>Hospital_ID</th>\n",
       "      <th>District_ID</th>\n",
       "      <th>Hospital_employees</th>\n",
       "      <th>hospital_cat</th>\n",
       "    </tr>\n",
       "  </thead>\n",
       "  <tbody>\n",
       "    <tr>\n",
       "      <th>13932</th>\n",
       "      <td>251</td>\n",
       "      <td>19</td>\n",
       "      <td>1</td>\n",
       "      <td>V.V. Small</td>\n",
       "    </tr>\n",
       "    <tr>\n",
       "      <th>1953</th>\n",
       "      <td>1110</td>\n",
       "      <td>43</td>\n",
       "      <td>1</td>\n",
       "      <td>V.V. Small</td>\n",
       "    </tr>\n",
       "    <tr>\n",
       "      <th>14375</th>\n",
       "      <td>279</td>\n",
       "      <td>13</td>\n",
       "      <td>1</td>\n",
       "      <td>V.V. Small</td>\n",
       "    </tr>\n",
       "    <tr>\n",
       "      <th>14378</th>\n",
       "      <td>279</td>\n",
       "      <td>19</td>\n",
       "      <td>1</td>\n",
       "      <td>V.V. Small</td>\n",
       "    </tr>\n",
       "    <tr>\n",
       "      <th>14379</th>\n",
       "      <td>279</td>\n",
       "      <td>19</td>\n",
       "      <td>1</td>\n",
       "      <td>V.V. Small</td>\n",
       "    </tr>\n",
       "  </tbody>\n",
       "</table>\n",
       "</div>"
      ],
      "text/plain": [
       "       Hospital_ID  District_ID  Hospital_employees hospital_cat\n",
       "13932          251           19                   1   V.V. Small\n",
       "1953          1110           43                   1   V.V. Small\n",
       "14375          279           13                   1   V.V. Small\n",
       "14378          279           19                   1   V.V. Small\n",
       "14379          279           19                   1   V.V. Small"
      ]
     },
     "execution_count": 18,
     "metadata": {},
     "output_type": "execute_result"
    }
   ],
   "source": [
    "df1.head()"
   ]
  },
  {
   "cell_type": "code",
   "execution_count": 19,
   "metadata": {
    "collapsed": false
   },
   "outputs": [
    {
     "data": {
      "text/plain": [
       "Hospital_ID           24\n",
       "District_ID           24\n",
       "Hospital_employees    24\n",
       "dtype: int64"
      ]
     },
     "execution_count": 19,
     "metadata": {},
     "output_type": "execute_result"
    }
   ],
   "source": [
    "df[df.Hospital_employees > 100000].count()"
   ]
  },
  {
   "cell_type": "code",
   "execution_count": 20,
   "metadata": {
    "collapsed": false
   },
   "outputs": [
    {
     "name": "stdout",
     "output_type": "stream",
     "text": [
      "<class 'pandas.core.frame.DataFrame'>\n",
      "Int64Index: 27865 entries, 13932 to 9974\n",
      "Data columns (total 3 columns):\n",
      "Hospital_ID           27865 non-null object\n",
      "District_ID           27865 non-null object\n",
      "Hospital_employees    27865 non-null int64\n",
      "dtypes: int64(1), object(2)\n",
      "memory usage: 870.8+ KB\n"
     ]
    }
   ],
   "source": [
    "df.info()"
   ]
  },
  {
   "cell_type": "code",
   "execution_count": 21,
   "metadata": {
    "collapsed": false
   },
   "outputs": [
    {
     "data": {
      "text/plain": [
       "Hospital_ID           71\n",
       "District_ID           71\n",
       "Hospital_employees    71\n",
       "dtype: int64"
      ]
     },
     "execution_count": 21,
     "metadata": {},
     "output_type": "execute_result"
    }
   ],
   "source": [
    "df[df.Hospital_employees > 50000].count()"
   ]
  },
  {
   "cell_type": "code",
   "execution_count": 22,
   "metadata": {
    "collapsed": false
   },
   "outputs": [
    {
     "data": {
      "text/plain": [
       "Hospital_ID           164\n",
       "District_ID           164\n",
       "Hospital_employees    164\n",
       "dtype: int64"
      ]
     },
     "execution_count": 22,
     "metadata": {},
     "output_type": "execute_result"
    }
   ],
   "source": [
    "df[df.Hospital_employees > 25000].count()"
   ]
  },
  {
   "cell_type": "code",
   "execution_count": 23,
   "metadata": {
    "collapsed": true
   },
   "outputs": [],
   "source": [
    "rev = pd.read_csv(\"C:\\Users\\dell pc\\Dataset\\HospitalRevenue.csv\")"
   ]
  },
  {
   "cell_type": "code",
   "execution_count": 24,
   "metadata": {
    "collapsed": false
   },
   "outputs": [
    {
     "data": {
      "text/html": [
       "<div>\n",
       "<table border=\"1\" class=\"dataframe\">\n",
       "  <thead>\n",
       "    <tr style=\"text-align: right;\">\n",
       "      <th></th>\n",
       "      <th>Hospital_ID</th>\n",
       "      <th>Region_ID</th>\n",
       "      <th>District_ID</th>\n",
       "      <th>Instrument_ID</th>\n",
       "      <th>Month 1</th>\n",
       "      <th>Month 2</th>\n",
       "      <th>Month 3</th>\n",
       "      <th>Month 4</th>\n",
       "      <th>Month 5</th>\n",
       "      <th>Month 6</th>\n",
       "      <th>Month 7</th>\n",
       "      <th>Month 8</th>\n",
       "      <th>Month 9</th>\n",
       "      <th>Month 10</th>\n",
       "      <th>Month 11</th>\n",
       "      <th>Month 12</th>\n",
       "      <th>Year Total</th>\n",
       "    </tr>\n",
       "  </thead>\n",
       "  <tbody>\n",
       "    <tr>\n",
       "      <th>0</th>\n",
       "      <td>Hospital 1</td>\n",
       "      <td>Region 1</td>\n",
       "      <td>District 12</td>\n",
       "      <td>Instrument 2</td>\n",
       "      <td>8534</td>\n",
       "      <td>9917</td>\n",
       "      <td>7825</td>\n",
       "      <td>11702</td>\n",
       "      <td>8776</td>\n",
       "      <td>7755</td>\n",
       "      <td>9289</td>\n",
       "      <td>7796</td>\n",
       "      <td>7595</td>\n",
       "      <td>8292</td>\n",
       "      <td>7787</td>\n",
       "      <td>8282</td>\n",
       "      <td>103550</td>\n",
       "    </tr>\n",
       "    <tr>\n",
       "      <th>1</th>\n",
       "      <td>Hospital 1</td>\n",
       "      <td>Region 1</td>\n",
       "      <td>District 12</td>\n",
       "      <td>Instrument 3</td>\n",
       "      <td>298</td>\n",
       "      <td>298</td>\n",
       "      <td>214</td>\n",
       "      <td>311</td>\n",
       "      <td>261</td>\n",
       "      <td>223</td>\n",
       "      <td>237</td>\n",
       "      <td>171</td>\n",
       "      <td>173</td>\n",
       "      <td>183</td>\n",
       "      <td>193</td>\n",
       "      <td>0</td>\n",
       "      <td>2562</td>\n",
       "    </tr>\n",
       "    <tr>\n",
       "      <th>2</th>\n",
       "      <td>Hospital 1</td>\n",
       "      <td>Region 1</td>\n",
       "      <td>District 13</td>\n",
       "      <td>Instrument 1</td>\n",
       "      <td>37</td>\n",
       "      <td>40</td>\n",
       "      <td>38</td>\n",
       "      <td>43</td>\n",
       "      <td>29</td>\n",
       "      <td>0</td>\n",
       "      <td>0</td>\n",
       "      <td>0</td>\n",
       "      <td>0</td>\n",
       "      <td>0</td>\n",
       "      <td>0</td>\n",
       "      <td>0</td>\n",
       "      <td>187</td>\n",
       "    </tr>\n",
       "    <tr>\n",
       "      <th>3</th>\n",
       "      <td>Hospital 1</td>\n",
       "      <td>Region 1</td>\n",
       "      <td>District 13</td>\n",
       "      <td>Instrument 2</td>\n",
       "      <td>2486</td>\n",
       "      <td>3332</td>\n",
       "      <td>3193</td>\n",
       "      <td>2556</td>\n",
       "      <td>2108</td>\n",
       "      <td>2757</td>\n",
       "      <td>2639</td>\n",
       "      <td>2531</td>\n",
       "      <td>2771</td>\n",
       "      <td>2682</td>\n",
       "      <td>12317</td>\n",
       "      <td>1369</td>\n",
       "      <td>40741</td>\n",
       "    </tr>\n",
       "    <tr>\n",
       "      <th>4</th>\n",
       "      <td>Hospital 1</td>\n",
       "      <td>Region 1</td>\n",
       "      <td>District 13</td>\n",
       "      <td>Instrument 3</td>\n",
       "      <td>857</td>\n",
       "      <td>892</td>\n",
       "      <td>739</td>\n",
       "      <td>759</td>\n",
       "      <td>736</td>\n",
       "      <td>415</td>\n",
       "      <td>1203</td>\n",
       "      <td>434</td>\n",
       "      <td>448</td>\n",
       "      <td>113</td>\n",
       "      <td>829</td>\n",
       "      <td>1124</td>\n",
       "      <td>8549</td>\n",
       "    </tr>\n",
       "  </tbody>\n",
       "</table>\n",
       "</div>"
      ],
      "text/plain": [
       "  Hospital_ID Region_ID  District_ID Instrument_ID  Month 1  Month 2  Month 3  \\\n",
       "0  Hospital 1  Region 1  District 12  Instrument 2     8534     9917     7825   \n",
       "1  Hospital 1  Region 1  District 12  Instrument 3      298      298      214   \n",
       "2  Hospital 1  Region 1  District 13  Instrument 1       37       40       38   \n",
       "3  Hospital 1  Region 1  District 13  Instrument 2     2486     3332     3193   \n",
       "4  Hospital 1  Region 1  District 13  Instrument 3      857      892      739   \n",
       "\n",
       "   Month 4  Month 5  Month 6  Month 7  Month 8  Month 9  Month 10  Month 11  \\\n",
       "0    11702     8776     7755     9289     7796     7595      8292      7787   \n",
       "1      311      261      223      237      171      173       183       193   \n",
       "2       43       29        0        0        0        0         0         0   \n",
       "3     2556     2108     2757     2639     2531     2771      2682     12317   \n",
       "4      759      736      415     1203      434      448       113       829   \n",
       "\n",
       "   Month 12  Year Total  \n",
       "0      8282      103550  \n",
       "1         0        2562  \n",
       "2         0         187  \n",
       "3      1369       40741  \n",
       "4      1124        8549  "
      ]
     },
     "execution_count": 24,
     "metadata": {},
     "output_type": "execute_result"
    }
   ],
   "source": [
    "rev.head()"
   ]
  },
  {
   "cell_type": "code",
   "execution_count": 25,
   "metadata": {
    "collapsed": false
   },
   "outputs": [
    {
     "data": {
      "text/plain": [
       "Hospital_ID           2973\n",
       "District_ID           2973\n",
       "Hospital_employees    2973\n",
       "dtype: int64"
      ]
     },
     "execution_count": 25,
     "metadata": {},
     "output_type": "execute_result"
    }
   ],
   "source": [
    "df[(df.Hospital_employees > 50) & (df.Hospital_employees < 100)].count()"
   ]
  },
  {
   "cell_type": "code",
   "execution_count": 26,
   "metadata": {
    "collapsed": false
   },
   "outputs": [
    {
     "data": {
      "text/plain": [
       "Hospital_ID           7248\n",
       "District_ID           7248\n",
       "Hospital_employees    7248\n",
       "dtype: int64"
      ]
     },
     "execution_count": 26,
     "metadata": {},
     "output_type": "execute_result"
    }
   ],
   "source": [
    "df[(df.Hospital_employees > 1) & (df.Hospital_employees < 15)].count()"
   ]
  },
  {
   "cell_type": "code",
   "execution_count": 27,
   "metadata": {
    "collapsed": false
   },
   "outputs": [
    {
     "data": {
      "text/plain": [
       "Hospital_ID           5546\n",
       "District_ID           5546\n",
       "Hospital_employees    5546\n",
       "dtype: int64"
      ]
     },
     "execution_count": 27,
     "metadata": {},
     "output_type": "execute_result"
    }
   ],
   "source": [
    "df[(df.Hospital_employees > 1) & (df.Hospital_employees < 10)].count()"
   ]
  },
  {
   "cell_type": "code",
   "execution_count": 28,
   "metadata": {
    "collapsed": false
   },
   "outputs": [
    {
     "data": {
      "text/plain": [
       "Hospital_ID           1066\n",
       "District_ID           1066\n",
       "Hospital_employees    1066\n",
       "dtype: int64"
      ]
     },
     "execution_count": 28,
     "metadata": {},
     "output_type": "execute_result"
    }
   ],
   "source": [
    "df[(df.Hospital_employees >= 2500) & (df.Hospital_employees < 10000)].count()"
   ]
  },
  {
   "cell_type": "code",
   "execution_count": 29,
   "metadata": {
    "collapsed": false
   },
   "outputs": [
    {
     "data": {
      "text/html": [
       "<div>\n",
       "<table border=\"1\" class=\"dataframe\">\n",
       "  <thead>\n",
       "    <tr style=\"text-align: right;\">\n",
       "      <th></th>\n",
       "      <th>Hospital_ID</th>\n",
       "      <th>District_ID</th>\n",
       "      <th>Hospital_employees</th>\n",
       "    </tr>\n",
       "  </thead>\n",
       "  <tbody>\n",
       "    <tr>\n",
       "      <th>count</th>\n",
       "      <td>27865.000000</td>\n",
       "      <td>27865.000000</td>\n",
       "      <td>2.786500e+04</td>\n",
       "    </tr>\n",
       "    <tr>\n",
       "      <th>mean</th>\n",
       "      <td>814.917100</td>\n",
       "      <td>26.211592</td>\n",
       "      <td>1.024301e+03</td>\n",
       "    </tr>\n",
       "    <tr>\n",
       "      <th>std</th>\n",
       "      <td>467.886423</td>\n",
       "      <td>15.127998</td>\n",
       "      <td>1.609038e+04</td>\n",
       "    </tr>\n",
       "    <tr>\n",
       "      <th>min</th>\n",
       "      <td>1.000000</td>\n",
       "      <td>1.000000</td>\n",
       "      <td>1.000000e+00</td>\n",
       "    </tr>\n",
       "    <tr>\n",
       "      <th>25%</th>\n",
       "      <td>405.000000</td>\n",
       "      <td>13.000000</td>\n",
       "      <td>9.000000e+00</td>\n",
       "    </tr>\n",
       "    <tr>\n",
       "      <th>50%</th>\n",
       "      <td>831.000000</td>\n",
       "      <td>26.000000</td>\n",
       "      <td>4.600000e+01</td>\n",
       "    </tr>\n",
       "    <tr>\n",
       "      <th>75%</th>\n",
       "      <td>1237.000000</td>\n",
       "      <td>40.000000</td>\n",
       "      <td>2.450000e+02</td>\n",
       "    </tr>\n",
       "    <tr>\n",
       "      <th>max</th>\n",
       "      <td>1602.000000</td>\n",
       "      <td>53.000000</td>\n",
       "      <td>1.996329e+06</td>\n",
       "    </tr>\n",
       "  </tbody>\n",
       "</table>\n",
       "</div>"
      ],
      "text/plain": [
       "        Hospital_ID   District_ID  Hospital_employees\n",
       "count  27865.000000  27865.000000        2.786500e+04\n",
       "mean     814.917100     26.211592        1.024301e+03\n",
       "std      467.886423     15.127998        1.609038e+04\n",
       "min        1.000000      1.000000        1.000000e+00\n",
       "25%      405.000000     13.000000        9.000000e+00\n",
       "50%      831.000000     26.000000        4.600000e+01\n",
       "75%     1237.000000     40.000000        2.450000e+02\n",
       "max     1602.000000     53.000000        1.996329e+06"
      ]
     },
     "execution_count": 29,
     "metadata": {},
     "output_type": "execute_result"
    }
   ],
   "source": [
    "df1.describe()"
   ]
  },
  {
   "cell_type": "code",
   "execution_count": 30,
   "metadata": {
    "collapsed": false
   },
   "outputs": [
    {
     "name": "stdout",
     "output_type": "stream",
     "text": [
      "<class 'pandas.core.frame.DataFrame'>\n",
      "Int64Index: 27865 entries, 13932 to 9974\n",
      "Data columns (total 4 columns):\n",
      "Hospital_ID           27865 non-null int64\n",
      "District_ID           27865 non-null int64\n",
      "Hospital_employees    27865 non-null int64\n",
      "hospital_cat          27701 non-null category\n",
      "dtypes: category(1), int64(3)\n",
      "memory usage: 898.0 KB\n"
     ]
    }
   ],
   "source": [
    "df1.info()"
   ]
  },
  {
   "cell_type": "code",
   "execution_count": 31,
   "metadata": {
    "collapsed": false
   },
   "outputs": [
    {
     "data": {
      "text/html": [
       "<div>\n",
       "<table border=\"1\" class=\"dataframe\">\n",
       "  <thead>\n",
       "    <tr style=\"text-align: right;\">\n",
       "      <th></th>\n",
       "      <th></th>\n",
       "      <th></th>\n",
       "      <th>Hospital_employees</th>\n",
       "    </tr>\n",
       "    <tr>\n",
       "      <th>Hospital_ID</th>\n",
       "      <th>District_ID</th>\n",
       "      <th></th>\n",
       "      <th></th>\n",
       "    </tr>\n",
       "  </thead>\n",
       "  <tbody>\n",
       "    <tr>\n",
       "      <th rowspan=\"30\" valign=\"top\">Hospital 1</th>\n",
       "      <th rowspan=\"8\" valign=\"top\">District 12</th>\n",
       "      <th>count</th>\n",
       "      <td>1.000000</td>\n",
       "    </tr>\n",
       "    <tr>\n",
       "      <th>mean</th>\n",
       "      <td>3.000000</td>\n",
       "    </tr>\n",
       "    <tr>\n",
       "      <th>std</th>\n",
       "      <td>NaN</td>\n",
       "    </tr>\n",
       "    <tr>\n",
       "      <th>min</th>\n",
       "      <td>3.000000</td>\n",
       "    </tr>\n",
       "    <tr>\n",
       "      <th>25%</th>\n",
       "      <td>3.000000</td>\n",
       "    </tr>\n",
       "    <tr>\n",
       "      <th>50%</th>\n",
       "      <td>3.000000</td>\n",
       "    </tr>\n",
       "    <tr>\n",
       "      <th>75%</th>\n",
       "      <td>3.000000</td>\n",
       "    </tr>\n",
       "    <tr>\n",
       "      <th>max</th>\n",
       "      <td>3.000000</td>\n",
       "    </tr>\n",
       "    <tr>\n",
       "      <th rowspan=\"8\" valign=\"top\">District 13</th>\n",
       "      <th>count</th>\n",
       "      <td>1.000000</td>\n",
       "    </tr>\n",
       "    <tr>\n",
       "      <th>mean</th>\n",
       "      <td>6.000000</td>\n",
       "    </tr>\n",
       "    <tr>\n",
       "      <th>std</th>\n",
       "      <td>NaN</td>\n",
       "    </tr>\n",
       "    <tr>\n",
       "      <th>min</th>\n",
       "      <td>6.000000</td>\n",
       "    </tr>\n",
       "    <tr>\n",
       "      <th>25%</th>\n",
       "      <td>6.000000</td>\n",
       "    </tr>\n",
       "    <tr>\n",
       "      <th>50%</th>\n",
       "      <td>6.000000</td>\n",
       "    </tr>\n",
       "    <tr>\n",
       "      <th>75%</th>\n",
       "      <td>6.000000</td>\n",
       "    </tr>\n",
       "    <tr>\n",
       "      <th>max</th>\n",
       "      <td>6.000000</td>\n",
       "    </tr>\n",
       "    <tr>\n",
       "      <th rowspan=\"8\" valign=\"top\">District 15</th>\n",
       "      <th>count</th>\n",
       "      <td>1.000000</td>\n",
       "    </tr>\n",
       "    <tr>\n",
       "      <th>mean</th>\n",
       "      <td>2.000000</td>\n",
       "    </tr>\n",
       "    <tr>\n",
       "      <th>std</th>\n",
       "      <td>NaN</td>\n",
       "    </tr>\n",
       "    <tr>\n",
       "      <th>min</th>\n",
       "      <td>2.000000</td>\n",
       "    </tr>\n",
       "    <tr>\n",
       "      <th>25%</th>\n",
       "      <td>2.000000</td>\n",
       "    </tr>\n",
       "    <tr>\n",
       "      <th>50%</th>\n",
       "      <td>2.000000</td>\n",
       "    </tr>\n",
       "    <tr>\n",
       "      <th>75%</th>\n",
       "      <td>2.000000</td>\n",
       "    </tr>\n",
       "    <tr>\n",
       "      <th>max</th>\n",
       "      <td>2.000000</td>\n",
       "    </tr>\n",
       "    <tr>\n",
       "      <th rowspan=\"6\" valign=\"top\">District 16</th>\n",
       "      <th>count</th>\n",
       "      <td>1.000000</td>\n",
       "    </tr>\n",
       "    <tr>\n",
       "      <th>mean</th>\n",
       "      <td>3.000000</td>\n",
       "    </tr>\n",
       "    <tr>\n",
       "      <th>std</th>\n",
       "      <td>NaN</td>\n",
       "    </tr>\n",
       "    <tr>\n",
       "      <th>min</th>\n",
       "      <td>3.000000</td>\n",
       "    </tr>\n",
       "    <tr>\n",
       "      <th>25%</th>\n",
       "      <td>3.000000</td>\n",
       "    </tr>\n",
       "    <tr>\n",
       "      <th>50%</th>\n",
       "      <td>3.000000</td>\n",
       "    </tr>\n",
       "    <tr>\n",
       "      <th>...</th>\n",
       "      <th>...</th>\n",
       "      <th>...</th>\n",
       "      <td>...</td>\n",
       "    </tr>\n",
       "    <tr>\n",
       "      <th rowspan=\"30\" valign=\"top\">Hospital 999</th>\n",
       "      <th rowspan=\"6\" valign=\"top\">District 48</th>\n",
       "      <th>std</th>\n",
       "      <td>37.476659</td>\n",
       "    </tr>\n",
       "    <tr>\n",
       "      <th>min</th>\n",
       "      <td>2.000000</td>\n",
       "    </tr>\n",
       "    <tr>\n",
       "      <th>25%</th>\n",
       "      <td>15.250000</td>\n",
       "    </tr>\n",
       "    <tr>\n",
       "      <th>50%</th>\n",
       "      <td>28.500000</td>\n",
       "    </tr>\n",
       "    <tr>\n",
       "      <th>75%</th>\n",
       "      <td>41.750000</td>\n",
       "    </tr>\n",
       "    <tr>\n",
       "      <th>max</th>\n",
       "      <td>55.000000</td>\n",
       "    </tr>\n",
       "    <tr>\n",
       "      <th rowspan=\"8\" valign=\"top\">District 53</th>\n",
       "      <th>count</th>\n",
       "      <td>8.000000</td>\n",
       "    </tr>\n",
       "    <tr>\n",
       "      <th>mean</th>\n",
       "      <td>597.750000</td>\n",
       "    </tr>\n",
       "    <tr>\n",
       "      <th>std</th>\n",
       "      <td>735.997234</td>\n",
       "    </tr>\n",
       "    <tr>\n",
       "      <th>min</th>\n",
       "      <td>116.000000</td>\n",
       "    </tr>\n",
       "    <tr>\n",
       "      <th>25%</th>\n",
       "      <td>201.500000</td>\n",
       "    </tr>\n",
       "    <tr>\n",
       "      <th>50%</th>\n",
       "      <td>401.000000</td>\n",
       "    </tr>\n",
       "    <tr>\n",
       "      <th>75%</th>\n",
       "      <td>524.250000</td>\n",
       "    </tr>\n",
       "    <tr>\n",
       "      <th>max</th>\n",
       "      <td>2367.000000</td>\n",
       "    </tr>\n",
       "    <tr>\n",
       "      <th rowspan=\"8\" valign=\"top\">District 6</th>\n",
       "      <th>count</th>\n",
       "      <td>4.000000</td>\n",
       "    </tr>\n",
       "    <tr>\n",
       "      <th>mean</th>\n",
       "      <td>102.250000</td>\n",
       "    </tr>\n",
       "    <tr>\n",
       "      <th>std</th>\n",
       "      <td>193.890648</td>\n",
       "    </tr>\n",
       "    <tr>\n",
       "      <th>min</th>\n",
       "      <td>2.000000</td>\n",
       "    </tr>\n",
       "    <tr>\n",
       "      <th>25%</th>\n",
       "      <td>2.000000</td>\n",
       "    </tr>\n",
       "    <tr>\n",
       "      <th>50%</th>\n",
       "      <td>7.000000</td>\n",
       "    </tr>\n",
       "    <tr>\n",
       "      <th>75%</th>\n",
       "      <td>107.250000</td>\n",
       "    </tr>\n",
       "    <tr>\n",
       "      <th>max</th>\n",
       "      <td>393.000000</td>\n",
       "    </tr>\n",
       "    <tr>\n",
       "      <th rowspan=\"8\" valign=\"top\">District 8</th>\n",
       "      <th>count</th>\n",
       "      <td>3.000000</td>\n",
       "    </tr>\n",
       "    <tr>\n",
       "      <th>mean</th>\n",
       "      <td>63.000000</td>\n",
       "    </tr>\n",
       "    <tr>\n",
       "      <th>std</th>\n",
       "      <td>73.300750</td>\n",
       "    </tr>\n",
       "    <tr>\n",
       "      <th>min</th>\n",
       "      <td>12.000000</td>\n",
       "    </tr>\n",
       "    <tr>\n",
       "      <th>25%</th>\n",
       "      <td>21.000000</td>\n",
       "    </tr>\n",
       "    <tr>\n",
       "      <th>50%</th>\n",
       "      <td>30.000000</td>\n",
       "    </tr>\n",
       "    <tr>\n",
       "      <th>75%</th>\n",
       "      <td>88.500000</td>\n",
       "    </tr>\n",
       "    <tr>\n",
       "      <th>max</th>\n",
       "      <td>147.000000</td>\n",
       "    </tr>\n",
       "  </tbody>\n",
       "</table>\n",
       "<p>195752 rows × 1 columns</p>\n",
       "</div>"
      ],
      "text/plain": [
       "                                Hospital_employees\n",
       "Hospital_ID  District_ID                          \n",
       "Hospital 1   District 12 count            1.000000\n",
       "                         mean             3.000000\n",
       "                         std                   NaN\n",
       "                         min              3.000000\n",
       "                         25%              3.000000\n",
       "                         50%              3.000000\n",
       "                         75%              3.000000\n",
       "                         max              3.000000\n",
       "             District 13 count            1.000000\n",
       "                         mean             6.000000\n",
       "                         std                   NaN\n",
       "                         min              6.000000\n",
       "                         25%              6.000000\n",
       "                         50%              6.000000\n",
       "                         75%              6.000000\n",
       "                         max              6.000000\n",
       "             District 15 count            1.000000\n",
       "                         mean             2.000000\n",
       "                         std                   NaN\n",
       "                         min              2.000000\n",
       "                         25%              2.000000\n",
       "                         50%              2.000000\n",
       "                         75%              2.000000\n",
       "                         max              2.000000\n",
       "             District 16 count            1.000000\n",
       "                         mean             3.000000\n",
       "                         std                   NaN\n",
       "                         min              3.000000\n",
       "                         25%              3.000000\n",
       "                         50%              3.000000\n",
       "...                                            ...\n",
       "Hospital 999 District 48 std             37.476659\n",
       "                         min              2.000000\n",
       "                         25%             15.250000\n",
       "                         50%             28.500000\n",
       "                         75%             41.750000\n",
       "                         max             55.000000\n",
       "             District 53 count            8.000000\n",
       "                         mean           597.750000\n",
       "                         std            735.997234\n",
       "                         min            116.000000\n",
       "                         25%            201.500000\n",
       "                         50%            401.000000\n",
       "                         75%            524.250000\n",
       "                         max           2367.000000\n",
       "             District 6  count            4.000000\n",
       "                         mean           102.250000\n",
       "                         std            193.890648\n",
       "                         min              2.000000\n",
       "                         25%              2.000000\n",
       "                         50%              7.000000\n",
       "                         75%            107.250000\n",
       "                         max            393.000000\n",
       "             District 8  count            3.000000\n",
       "                         mean            63.000000\n",
       "                         std             73.300750\n",
       "                         min             12.000000\n",
       "                         25%             21.000000\n",
       "                         50%             30.000000\n",
       "                         75%             88.500000\n",
       "                         max            147.000000\n",
       "\n",
       "[195752 rows x 1 columns]"
      ]
     },
     "execution_count": 31,
     "metadata": {},
     "output_type": "execute_result"
    }
   ],
   "source": [
    "test = df.groupby(['Hospital_ID','District_ID'])\n",
    "test.describe()"
   ]
  },
  {
   "cell_type": "code",
   "execution_count": 32,
   "metadata": {
    "collapsed": true
   },
   "outputs": [],
   "source": [
    "df1['Key']=df1.Hospital_ID+df1.District_ID"
   ]
  },
  {
   "cell_type": "code",
   "execution_count": 33,
   "metadata": {
    "collapsed": false
   },
   "outputs": [
    {
     "data": {
      "text/html": [
       "<div>\n",
       "<table border=\"1\" class=\"dataframe\">\n",
       "  <thead>\n",
       "    <tr style=\"text-align: right;\">\n",
       "      <th></th>\n",
       "      <th>Hospital_ID</th>\n",
       "      <th>District_ID</th>\n",
       "      <th>Hospital_employees</th>\n",
       "      <th>hospital_cat</th>\n",
       "      <th>Key</th>\n",
       "    </tr>\n",
       "  </thead>\n",
       "  <tbody>\n",
       "    <tr>\n",
       "      <th>13932</th>\n",
       "      <td>251</td>\n",
       "      <td>19</td>\n",
       "      <td>1</td>\n",
       "      <td>V.V. Small</td>\n",
       "      <td>270</td>\n",
       "    </tr>\n",
       "    <tr>\n",
       "      <th>1953</th>\n",
       "      <td>1110</td>\n",
       "      <td>43</td>\n",
       "      <td>1</td>\n",
       "      <td>V.V. Small</td>\n",
       "      <td>1153</td>\n",
       "    </tr>\n",
       "    <tr>\n",
       "      <th>14375</th>\n",
       "      <td>279</td>\n",
       "      <td>13</td>\n",
       "      <td>1</td>\n",
       "      <td>V.V. Small</td>\n",
       "      <td>292</td>\n",
       "    </tr>\n",
       "    <tr>\n",
       "      <th>14378</th>\n",
       "      <td>279</td>\n",
       "      <td>19</td>\n",
       "      <td>1</td>\n",
       "      <td>V.V. Small</td>\n",
       "      <td>298</td>\n",
       "    </tr>\n",
       "    <tr>\n",
       "      <th>14379</th>\n",
       "      <td>279</td>\n",
       "      <td>19</td>\n",
       "      <td>1</td>\n",
       "      <td>V.V. Small</td>\n",
       "      <td>298</td>\n",
       "    </tr>\n",
       "  </tbody>\n",
       "</table>\n",
       "</div>"
      ],
      "text/plain": [
       "       Hospital_ID  District_ID  Hospital_employees hospital_cat   Key\n",
       "13932          251           19                   1   V.V. Small   270\n",
       "1953          1110           43                   1   V.V. Small  1153\n",
       "14375          279           13                   1   V.V. Small   292\n",
       "14378          279           19                   1   V.V. Small   298\n",
       "14379          279           19                   1   V.V. Small   298"
      ]
     },
     "execution_count": 33,
     "metadata": {},
     "output_type": "execute_result"
    }
   ],
   "source": [
    "df1.head()"
   ]
  },
  {
   "cell_type": "code",
   "execution_count": 34,
   "metadata": {
    "collapsed": true
   },
   "outputs": [],
   "source": [
    "del df1['Key']"
   ]
  },
  {
   "cell_type": "code",
   "execution_count": 35,
   "metadata": {
    "collapsed": false
   },
   "outputs": [
    {
     "data": {
      "text/html": [
       "<div>\n",
       "<table border=\"1\" class=\"dataframe\">\n",
       "  <thead>\n",
       "    <tr style=\"text-align: right;\">\n",
       "      <th></th>\n",
       "      <th>Hospital_ID</th>\n",
       "      <th>District_ID</th>\n",
       "      <th>Hospital_employees</th>\n",
       "      <th>hospital_cat</th>\n",
       "    </tr>\n",
       "  </thead>\n",
       "  <tbody>\n",
       "    <tr>\n",
       "      <th>13932</th>\n",
       "      <td>251</td>\n",
       "      <td>19</td>\n",
       "      <td>1</td>\n",
       "      <td>V.V. Small</td>\n",
       "    </tr>\n",
       "    <tr>\n",
       "      <th>1953</th>\n",
       "      <td>1110</td>\n",
       "      <td>43</td>\n",
       "      <td>1</td>\n",
       "      <td>V.V. Small</td>\n",
       "    </tr>\n",
       "    <tr>\n",
       "      <th>14375</th>\n",
       "      <td>279</td>\n",
       "      <td>13</td>\n",
       "      <td>1</td>\n",
       "      <td>V.V. Small</td>\n",
       "    </tr>\n",
       "    <tr>\n",
       "      <th>14378</th>\n",
       "      <td>279</td>\n",
       "      <td>19</td>\n",
       "      <td>1</td>\n",
       "      <td>V.V. Small</td>\n",
       "    </tr>\n",
       "    <tr>\n",
       "      <th>14379</th>\n",
       "      <td>279</td>\n",
       "      <td>19</td>\n",
       "      <td>1</td>\n",
       "      <td>V.V. Small</td>\n",
       "    </tr>\n",
       "  </tbody>\n",
       "</table>\n",
       "</div>"
      ],
      "text/plain": [
       "       Hospital_ID  District_ID  Hospital_employees hospital_cat\n",
       "13932          251           19                   1   V.V. Small\n",
       "1953          1110           43                   1   V.V. Small\n",
       "14375          279           13                   1   V.V. Small\n",
       "14378          279           19                   1   V.V. Small\n",
       "14379          279           19                   1   V.V. Small"
      ]
     },
     "execution_count": 35,
     "metadata": {},
     "output_type": "execute_result"
    }
   ],
   "source": [
    "df1.head()"
   ]
  },
  {
   "cell_type": "code",
   "execution_count": 36,
   "metadata": {
    "collapsed": true
   },
   "outputs": [],
   "source": [
    "df1['Key']=df1.Hospital_ID+df1.District_ID"
   ]
  },
  {
   "cell_type": "code",
   "execution_count": 37,
   "metadata": {
    "collapsed": false
   },
   "outputs": [
    {
     "data": {
      "text/html": [
       "<div>\n",
       "<table border=\"1\" class=\"dataframe\">\n",
       "  <thead>\n",
       "    <tr style=\"text-align: right;\">\n",
       "      <th></th>\n",
       "      <th>Hospital_ID</th>\n",
       "      <th>District_ID</th>\n",
       "      <th>Hospital_employees</th>\n",
       "      <th>hospital_cat</th>\n",
       "      <th>Key</th>\n",
       "    </tr>\n",
       "  </thead>\n",
       "  <tbody>\n",
       "    <tr>\n",
       "      <th>13932</th>\n",
       "      <td>251</td>\n",
       "      <td>19</td>\n",
       "      <td>1</td>\n",
       "      <td>V.V. Small</td>\n",
       "      <td>270</td>\n",
       "    </tr>\n",
       "    <tr>\n",
       "      <th>1953</th>\n",
       "      <td>1110</td>\n",
       "      <td>43</td>\n",
       "      <td>1</td>\n",
       "      <td>V.V. Small</td>\n",
       "      <td>1153</td>\n",
       "    </tr>\n",
       "    <tr>\n",
       "      <th>14375</th>\n",
       "      <td>279</td>\n",
       "      <td>13</td>\n",
       "      <td>1</td>\n",
       "      <td>V.V. Small</td>\n",
       "      <td>292</td>\n",
       "    </tr>\n",
       "    <tr>\n",
       "      <th>14378</th>\n",
       "      <td>279</td>\n",
       "      <td>19</td>\n",
       "      <td>1</td>\n",
       "      <td>V.V. Small</td>\n",
       "      <td>298</td>\n",
       "    </tr>\n",
       "    <tr>\n",
       "      <th>14379</th>\n",
       "      <td>279</td>\n",
       "      <td>19</td>\n",
       "      <td>1</td>\n",
       "      <td>V.V. Small</td>\n",
       "      <td>298</td>\n",
       "    </tr>\n",
       "  </tbody>\n",
       "</table>\n",
       "</div>"
      ],
      "text/plain": [
       "       Hospital_ID  District_ID  Hospital_employees hospital_cat   Key\n",
       "13932          251           19                   1   V.V. Small   270\n",
       "1953          1110           43                   1   V.V. Small  1153\n",
       "14375          279           13                   1   V.V. Small   292\n",
       "14378          279           19                   1   V.V. Small   298\n",
       "14379          279           19                   1   V.V. Small   298"
      ]
     },
     "execution_count": 37,
     "metadata": {},
     "output_type": "execute_result"
    }
   ],
   "source": [
    "df1.head()"
   ]
  },
  {
   "cell_type": "code",
   "execution_count": 38,
   "metadata": {
    "collapsed": false
   },
   "outputs": [
    {
     "name": "stdout",
     "output_type": "stream",
     "text": [
      "Hospital_ID           21849\n",
      "District_ID           21849\n",
      "Hospital_employees    21849\n",
      "dtype: int64\n"
     ]
    }
   ],
   "source": [
    "rem_dup = df.groupby(['Hospital_ID','District_ID']).filter(lambda df:df.shape[0] == 1)\n",
    "print rem_dup.count()"
   ]
  },
  {
   "cell_type": "code",
   "execution_count": 39,
   "metadata": {
    "collapsed": false
   },
   "outputs": [
    {
     "data": {
      "text/html": [
       "<div>\n",
       "<table border=\"1\" class=\"dataframe\">\n",
       "  <thead>\n",
       "    <tr style=\"text-align: right;\">\n",
       "      <th></th>\n",
       "      <th>Hospital_ID</th>\n",
       "      <th>District_ID</th>\n",
       "      <th>Hospital_employees</th>\n",
       "    </tr>\n",
       "  </thead>\n",
       "  <tbody>\n",
       "    <tr>\n",
       "      <th>13932</th>\n",
       "      <td>Hospital 251</td>\n",
       "      <td>District 19</td>\n",
       "      <td>1</td>\n",
       "    </tr>\n",
       "    <tr>\n",
       "      <th>1953</th>\n",
       "      <td>Hospital 1110</td>\n",
       "      <td>District 43</td>\n",
       "      <td>1</td>\n",
       "    </tr>\n",
       "    <tr>\n",
       "      <th>14375</th>\n",
       "      <td>Hospital 279</td>\n",
       "      <td>District 13</td>\n",
       "      <td>1</td>\n",
       "    </tr>\n",
       "    <tr>\n",
       "      <th>14378</th>\n",
       "      <td>Hospital 279</td>\n",
       "      <td>District 19</td>\n",
       "      <td>1</td>\n",
       "    </tr>\n",
       "    <tr>\n",
       "      <th>14379</th>\n",
       "      <td>Hospital 279</td>\n",
       "      <td>District 19</td>\n",
       "      <td>1</td>\n",
       "    </tr>\n",
       "  </tbody>\n",
       "</table>\n",
       "</div>"
      ],
      "text/plain": [
       "         Hospital_ID  District_ID  Hospital_employees\n",
       "13932   Hospital 251  District 19                   1\n",
       "1953   Hospital 1110  District 43                   1\n",
       "14375   Hospital 279  District 13                   1\n",
       "14378   Hospital 279  District 19                   1\n",
       "14379   Hospital 279  District 19                   1"
      ]
     },
     "execution_count": 39,
     "metadata": {},
     "output_type": "execute_result"
    }
   ],
   "source": [
    "df.head()"
   ]
  },
  {
   "cell_type": "code",
   "execution_count": 40,
   "metadata": {
    "collapsed": false
   },
   "outputs": [
    {
     "ename": "KeyError",
     "evalue": "'Key'",
     "output_type": "error",
     "traceback": [
      "\u001b[1;31m---------------------------------------------------------------------------\u001b[0m",
      "\u001b[1;31mKeyError\u001b[0m                                  Traceback (most recent call last)",
      "\u001b[1;32m<ipython-input-40-72819022301d>\u001b[0m in \u001b[0;36m<module>\u001b[1;34m()\u001b[0m\n\u001b[1;32m----> 1\u001b[1;33m \u001b[0mdf\u001b[0m\u001b[1;33m=\u001b[0m\u001b[0mdf\u001b[0m\u001b[1;33m.\u001b[0m\u001b[0mdrop_duplicates\u001b[0m\u001b[1;33m(\u001b[0m\u001b[0msubset\u001b[0m\u001b[1;33m=\u001b[0m\u001b[1;33m[\u001b[0m\u001b[1;34m'Key'\u001b[0m\u001b[1;33m]\u001b[0m\u001b[1;33m)\u001b[0m\u001b[1;33m\u001b[0m\u001b[0m\n\u001b[0m",
      "\u001b[1;32mC:\\Users\\dell pc\\Anaconda2\\lib\\site-packages\\pandas\\util\\decorators.pyc\u001b[0m in \u001b[0;36mwrapper\u001b[1;34m(*args, **kwargs)\u001b[0m\n\u001b[0;32m     89\u001b[0m                 \u001b[1;32melse\u001b[0m\u001b[1;33m:\u001b[0m\u001b[1;33m\u001b[0m\u001b[0m\n\u001b[0;32m     90\u001b[0m                     \u001b[0mkwargs\u001b[0m\u001b[1;33m[\u001b[0m\u001b[0mnew_arg_name\u001b[0m\u001b[1;33m]\u001b[0m \u001b[1;33m=\u001b[0m \u001b[0mnew_arg_value\u001b[0m\u001b[1;33m\u001b[0m\u001b[0m\n\u001b[1;32m---> 91\u001b[1;33m             \u001b[1;32mreturn\u001b[0m \u001b[0mfunc\u001b[0m\u001b[1;33m(\u001b[0m\u001b[1;33m*\u001b[0m\u001b[0margs\u001b[0m\u001b[1;33m,\u001b[0m \u001b[1;33m**\u001b[0m\u001b[0mkwargs\u001b[0m\u001b[1;33m)\u001b[0m\u001b[1;33m\u001b[0m\u001b[0m\n\u001b[0m\u001b[0;32m     92\u001b[0m         \u001b[1;32mreturn\u001b[0m \u001b[0mwrapper\u001b[0m\u001b[1;33m\u001b[0m\u001b[0m\n\u001b[0;32m     93\u001b[0m     \u001b[1;32mreturn\u001b[0m \u001b[0m_deprecate_kwarg\u001b[0m\u001b[1;33m\u001b[0m\u001b[0m\n",
      "\u001b[1;32mC:\\Users\\dell pc\\Anaconda2\\lib\\site-packages\\pandas\\core\\frame.pyc\u001b[0m in \u001b[0;36mdrop_duplicates\u001b[1;34m(self, subset, keep, inplace)\u001b[0m\n\u001b[0;32m   3056\u001b[0m         \u001b[0mdeduplicated\u001b[0m \u001b[1;33m:\u001b[0m \u001b[0mDataFrame\u001b[0m\u001b[1;33m\u001b[0m\u001b[0m\n\u001b[0;32m   3057\u001b[0m         \"\"\"\n\u001b[1;32m-> 3058\u001b[1;33m         \u001b[0mduplicated\u001b[0m \u001b[1;33m=\u001b[0m \u001b[0mself\u001b[0m\u001b[1;33m.\u001b[0m\u001b[0mduplicated\u001b[0m\u001b[1;33m(\u001b[0m\u001b[0msubset\u001b[0m\u001b[1;33m,\u001b[0m \u001b[0mkeep\u001b[0m\u001b[1;33m=\u001b[0m\u001b[0mkeep\u001b[0m\u001b[1;33m)\u001b[0m\u001b[1;33m\u001b[0m\u001b[0m\n\u001b[0m\u001b[0;32m   3059\u001b[0m \u001b[1;33m\u001b[0m\u001b[0m\n\u001b[0;32m   3060\u001b[0m         \u001b[1;32mif\u001b[0m \u001b[0minplace\u001b[0m\u001b[1;33m:\u001b[0m\u001b[1;33m\u001b[0m\u001b[0m\n",
      "\u001b[1;32mC:\\Users\\dell pc\\Anaconda2\\lib\\site-packages\\pandas\\util\\decorators.pyc\u001b[0m in \u001b[0;36mwrapper\u001b[1;34m(*args, **kwargs)\u001b[0m\n\u001b[0;32m     89\u001b[0m                 \u001b[1;32melse\u001b[0m\u001b[1;33m:\u001b[0m\u001b[1;33m\u001b[0m\u001b[0m\n\u001b[0;32m     90\u001b[0m                     \u001b[0mkwargs\u001b[0m\u001b[1;33m[\u001b[0m\u001b[0mnew_arg_name\u001b[0m\u001b[1;33m]\u001b[0m \u001b[1;33m=\u001b[0m \u001b[0mnew_arg_value\u001b[0m\u001b[1;33m\u001b[0m\u001b[0m\n\u001b[1;32m---> 91\u001b[1;33m             \u001b[1;32mreturn\u001b[0m \u001b[0mfunc\u001b[0m\u001b[1;33m(\u001b[0m\u001b[1;33m*\u001b[0m\u001b[0margs\u001b[0m\u001b[1;33m,\u001b[0m \u001b[1;33m**\u001b[0m\u001b[0mkwargs\u001b[0m\u001b[1;33m)\u001b[0m\u001b[1;33m\u001b[0m\u001b[0m\n\u001b[0m\u001b[0;32m     92\u001b[0m         \u001b[1;32mreturn\u001b[0m \u001b[0mwrapper\u001b[0m\u001b[1;33m\u001b[0m\u001b[0m\n\u001b[0;32m     93\u001b[0m     \u001b[1;32mreturn\u001b[0m \u001b[0m_deprecate_kwarg\u001b[0m\u001b[1;33m\u001b[0m\u001b[0m\n",
      "\u001b[1;32mC:\\Users\\dell pc\\Anaconda2\\lib\\site-packages\\pandas\\core\\frame.pyc\u001b[0m in \u001b[0;36mduplicated\u001b[1;34m(self, subset, keep)\u001b[0m\n\u001b[0;32m   3106\u001b[0m \u001b[1;33m\u001b[0m\u001b[0m\n\u001b[0;32m   3107\u001b[0m         \u001b[0mvals\u001b[0m \u001b[1;33m=\u001b[0m \u001b[1;33m(\u001b[0m\u001b[0mself\u001b[0m\u001b[1;33m[\u001b[0m\u001b[0mcol\u001b[0m\u001b[1;33m]\u001b[0m\u001b[1;33m.\u001b[0m\u001b[0mvalues\u001b[0m \u001b[1;32mfor\u001b[0m \u001b[0mcol\u001b[0m \u001b[1;32min\u001b[0m \u001b[0msubset\u001b[0m\u001b[1;33m)\u001b[0m\u001b[1;33m\u001b[0m\u001b[0m\n\u001b[1;32m-> 3108\u001b[1;33m         \u001b[0mlabels\u001b[0m\u001b[1;33m,\u001b[0m \u001b[0mshape\u001b[0m \u001b[1;33m=\u001b[0m \u001b[0mmap\u001b[0m\u001b[1;33m(\u001b[0m\u001b[0mlist\u001b[0m\u001b[1;33m,\u001b[0m \u001b[0mzip\u001b[0m\u001b[1;33m(\u001b[0m\u001b[1;33m*\u001b[0m\u001b[0mmap\u001b[0m\u001b[1;33m(\u001b[0m\u001b[0mf\u001b[0m\u001b[1;33m,\u001b[0m \u001b[0mvals\u001b[0m\u001b[1;33m)\u001b[0m\u001b[1;33m)\u001b[0m\u001b[1;33m)\u001b[0m\u001b[1;33m\u001b[0m\u001b[0m\n\u001b[0m\u001b[0;32m   3109\u001b[0m \u001b[1;33m\u001b[0m\u001b[0m\n\u001b[0;32m   3110\u001b[0m         \u001b[0mids\u001b[0m \u001b[1;33m=\u001b[0m \u001b[0mget_group_index\u001b[0m\u001b[1;33m(\u001b[0m\u001b[0mlabels\u001b[0m\u001b[1;33m,\u001b[0m \u001b[0mshape\u001b[0m\u001b[1;33m,\u001b[0m \u001b[0msort\u001b[0m\u001b[1;33m=\u001b[0m\u001b[0mFalse\u001b[0m\u001b[1;33m,\u001b[0m \u001b[0mxnull\u001b[0m\u001b[1;33m=\u001b[0m\u001b[0mFalse\u001b[0m\u001b[1;33m)\u001b[0m\u001b[1;33m\u001b[0m\u001b[0m\n",
      "\u001b[1;32mC:\\Users\\dell pc\\Anaconda2\\lib\\site-packages\\pandas\\core\\frame.pyc\u001b[0m in \u001b[0;36m<genexpr>\u001b[1;34m((col,))\u001b[0m\n\u001b[0;32m   3105\u001b[0m             \u001b[0msubset\u001b[0m \u001b[1;33m=\u001b[0m \u001b[0msubset\u001b[0m\u001b[1;33m,\u001b[0m\u001b[1;33m\u001b[0m\u001b[0m\n\u001b[0;32m   3106\u001b[0m \u001b[1;33m\u001b[0m\u001b[0m\n\u001b[1;32m-> 3107\u001b[1;33m         \u001b[0mvals\u001b[0m \u001b[1;33m=\u001b[0m \u001b[1;33m(\u001b[0m\u001b[0mself\u001b[0m\u001b[1;33m[\u001b[0m\u001b[0mcol\u001b[0m\u001b[1;33m]\u001b[0m\u001b[1;33m.\u001b[0m\u001b[0mvalues\u001b[0m \u001b[1;32mfor\u001b[0m \u001b[0mcol\u001b[0m \u001b[1;32min\u001b[0m \u001b[0msubset\u001b[0m\u001b[1;33m)\u001b[0m\u001b[1;33m\u001b[0m\u001b[0m\n\u001b[0m\u001b[0;32m   3108\u001b[0m         \u001b[0mlabels\u001b[0m\u001b[1;33m,\u001b[0m \u001b[0mshape\u001b[0m \u001b[1;33m=\u001b[0m \u001b[0mmap\u001b[0m\u001b[1;33m(\u001b[0m\u001b[0mlist\u001b[0m\u001b[1;33m,\u001b[0m \u001b[0mzip\u001b[0m\u001b[1;33m(\u001b[0m\u001b[1;33m*\u001b[0m\u001b[0mmap\u001b[0m\u001b[1;33m(\u001b[0m\u001b[0mf\u001b[0m\u001b[1;33m,\u001b[0m \u001b[0mvals\u001b[0m\u001b[1;33m)\u001b[0m\u001b[1;33m)\u001b[0m\u001b[1;33m)\u001b[0m\u001b[1;33m\u001b[0m\u001b[0m\n\u001b[0;32m   3109\u001b[0m \u001b[1;33m\u001b[0m\u001b[0m\n",
      "\u001b[1;32mC:\\Users\\dell pc\\Anaconda2\\lib\\site-packages\\pandas\\core\\frame.pyc\u001b[0m in \u001b[0;36m__getitem__\u001b[1;34m(self, key)\u001b[0m\n\u001b[0;32m   1995\u001b[0m             \u001b[1;32mreturn\u001b[0m \u001b[0mself\u001b[0m\u001b[1;33m.\u001b[0m\u001b[0m_getitem_multilevel\u001b[0m\u001b[1;33m(\u001b[0m\u001b[0mkey\u001b[0m\u001b[1;33m)\u001b[0m\u001b[1;33m\u001b[0m\u001b[0m\n\u001b[0;32m   1996\u001b[0m         \u001b[1;32melse\u001b[0m\u001b[1;33m:\u001b[0m\u001b[1;33m\u001b[0m\u001b[0m\n\u001b[1;32m-> 1997\u001b[1;33m             \u001b[1;32mreturn\u001b[0m \u001b[0mself\u001b[0m\u001b[1;33m.\u001b[0m\u001b[0m_getitem_column\u001b[0m\u001b[1;33m(\u001b[0m\u001b[0mkey\u001b[0m\u001b[1;33m)\u001b[0m\u001b[1;33m\u001b[0m\u001b[0m\n\u001b[0m\u001b[0;32m   1998\u001b[0m \u001b[1;33m\u001b[0m\u001b[0m\n\u001b[0;32m   1999\u001b[0m     \u001b[1;32mdef\u001b[0m \u001b[0m_getitem_column\u001b[0m\u001b[1;33m(\u001b[0m\u001b[0mself\u001b[0m\u001b[1;33m,\u001b[0m \u001b[0mkey\u001b[0m\u001b[1;33m)\u001b[0m\u001b[1;33m:\u001b[0m\u001b[1;33m\u001b[0m\u001b[0m\n",
      "\u001b[1;32mC:\\Users\\dell pc\\Anaconda2\\lib\\site-packages\\pandas\\core\\frame.pyc\u001b[0m in \u001b[0;36m_getitem_column\u001b[1;34m(self, key)\u001b[0m\n\u001b[0;32m   2002\u001b[0m         \u001b[1;31m# get column\u001b[0m\u001b[1;33m\u001b[0m\u001b[1;33m\u001b[0m\u001b[0m\n\u001b[0;32m   2003\u001b[0m         \u001b[1;32mif\u001b[0m \u001b[0mself\u001b[0m\u001b[1;33m.\u001b[0m\u001b[0mcolumns\u001b[0m\u001b[1;33m.\u001b[0m\u001b[0mis_unique\u001b[0m\u001b[1;33m:\u001b[0m\u001b[1;33m\u001b[0m\u001b[0m\n\u001b[1;32m-> 2004\u001b[1;33m             \u001b[1;32mreturn\u001b[0m \u001b[0mself\u001b[0m\u001b[1;33m.\u001b[0m\u001b[0m_get_item_cache\u001b[0m\u001b[1;33m(\u001b[0m\u001b[0mkey\u001b[0m\u001b[1;33m)\u001b[0m\u001b[1;33m\u001b[0m\u001b[0m\n\u001b[0m\u001b[0;32m   2005\u001b[0m \u001b[1;33m\u001b[0m\u001b[0m\n\u001b[0;32m   2006\u001b[0m         \u001b[1;31m# duplicate columns & possible reduce dimensionality\u001b[0m\u001b[1;33m\u001b[0m\u001b[1;33m\u001b[0m\u001b[0m\n",
      "\u001b[1;32mC:\\Users\\dell pc\\Anaconda2\\lib\\site-packages\\pandas\\core\\generic.pyc\u001b[0m in \u001b[0;36m_get_item_cache\u001b[1;34m(self, item)\u001b[0m\n\u001b[0;32m   1348\u001b[0m         \u001b[0mres\u001b[0m \u001b[1;33m=\u001b[0m \u001b[0mcache\u001b[0m\u001b[1;33m.\u001b[0m\u001b[0mget\u001b[0m\u001b[1;33m(\u001b[0m\u001b[0mitem\u001b[0m\u001b[1;33m)\u001b[0m\u001b[1;33m\u001b[0m\u001b[0m\n\u001b[0;32m   1349\u001b[0m         \u001b[1;32mif\u001b[0m \u001b[0mres\u001b[0m \u001b[1;32mis\u001b[0m \u001b[0mNone\u001b[0m\u001b[1;33m:\u001b[0m\u001b[1;33m\u001b[0m\u001b[0m\n\u001b[1;32m-> 1350\u001b[1;33m             \u001b[0mvalues\u001b[0m \u001b[1;33m=\u001b[0m \u001b[0mself\u001b[0m\u001b[1;33m.\u001b[0m\u001b[0m_data\u001b[0m\u001b[1;33m.\u001b[0m\u001b[0mget\u001b[0m\u001b[1;33m(\u001b[0m\u001b[0mitem\u001b[0m\u001b[1;33m)\u001b[0m\u001b[1;33m\u001b[0m\u001b[0m\n\u001b[0m\u001b[0;32m   1351\u001b[0m             \u001b[0mres\u001b[0m \u001b[1;33m=\u001b[0m \u001b[0mself\u001b[0m\u001b[1;33m.\u001b[0m\u001b[0m_box_item_values\u001b[0m\u001b[1;33m(\u001b[0m\u001b[0mitem\u001b[0m\u001b[1;33m,\u001b[0m \u001b[0mvalues\u001b[0m\u001b[1;33m)\u001b[0m\u001b[1;33m\u001b[0m\u001b[0m\n\u001b[0;32m   1352\u001b[0m             \u001b[0mcache\u001b[0m\u001b[1;33m[\u001b[0m\u001b[0mitem\u001b[0m\u001b[1;33m]\u001b[0m \u001b[1;33m=\u001b[0m \u001b[0mres\u001b[0m\u001b[1;33m\u001b[0m\u001b[0m\n",
      "\u001b[1;32mC:\\Users\\dell pc\\Anaconda2\\lib\\site-packages\\pandas\\core\\internals.pyc\u001b[0m in \u001b[0;36mget\u001b[1;34m(self, item, fastpath)\u001b[0m\n\u001b[0;32m   3288\u001b[0m \u001b[1;33m\u001b[0m\u001b[0m\n\u001b[0;32m   3289\u001b[0m             \u001b[1;32mif\u001b[0m \u001b[1;32mnot\u001b[0m \u001b[0misnull\u001b[0m\u001b[1;33m(\u001b[0m\u001b[0mitem\u001b[0m\u001b[1;33m)\u001b[0m\u001b[1;33m:\u001b[0m\u001b[1;33m\u001b[0m\u001b[0m\n\u001b[1;32m-> 3290\u001b[1;33m                 \u001b[0mloc\u001b[0m \u001b[1;33m=\u001b[0m \u001b[0mself\u001b[0m\u001b[1;33m.\u001b[0m\u001b[0mitems\u001b[0m\u001b[1;33m.\u001b[0m\u001b[0mget_loc\u001b[0m\u001b[1;33m(\u001b[0m\u001b[0mitem\u001b[0m\u001b[1;33m)\u001b[0m\u001b[1;33m\u001b[0m\u001b[0m\n\u001b[0m\u001b[0;32m   3291\u001b[0m             \u001b[1;32melse\u001b[0m\u001b[1;33m:\u001b[0m\u001b[1;33m\u001b[0m\u001b[0m\n\u001b[0;32m   3292\u001b[0m                 \u001b[0mindexer\u001b[0m \u001b[1;33m=\u001b[0m \u001b[0mnp\u001b[0m\u001b[1;33m.\u001b[0m\u001b[0marange\u001b[0m\u001b[1;33m(\u001b[0m\u001b[0mlen\u001b[0m\u001b[1;33m(\u001b[0m\u001b[0mself\u001b[0m\u001b[1;33m.\u001b[0m\u001b[0mitems\u001b[0m\u001b[1;33m)\u001b[0m\u001b[1;33m)\u001b[0m\u001b[1;33m[\u001b[0m\u001b[0misnull\u001b[0m\u001b[1;33m(\u001b[0m\u001b[0mself\u001b[0m\u001b[1;33m.\u001b[0m\u001b[0mitems\u001b[0m\u001b[1;33m)\u001b[0m\u001b[1;33m]\u001b[0m\u001b[1;33m\u001b[0m\u001b[0m\n",
      "\u001b[1;32mC:\\Users\\dell pc\\Anaconda2\\lib\\site-packages\\pandas\\indexes\\base.pyc\u001b[0m in \u001b[0;36mget_loc\u001b[1;34m(self, key, method, tolerance)\u001b[0m\n\u001b[0;32m   1945\u001b[0m                 \u001b[1;32mreturn\u001b[0m \u001b[0mself\u001b[0m\u001b[1;33m.\u001b[0m\u001b[0m_engine\u001b[0m\u001b[1;33m.\u001b[0m\u001b[0mget_loc\u001b[0m\u001b[1;33m(\u001b[0m\u001b[0mkey\u001b[0m\u001b[1;33m)\u001b[0m\u001b[1;33m\u001b[0m\u001b[0m\n\u001b[0;32m   1946\u001b[0m             \u001b[1;32mexcept\u001b[0m \u001b[0mKeyError\u001b[0m\u001b[1;33m:\u001b[0m\u001b[1;33m\u001b[0m\u001b[0m\n\u001b[1;32m-> 1947\u001b[1;33m                 \u001b[1;32mreturn\u001b[0m \u001b[0mself\u001b[0m\u001b[1;33m.\u001b[0m\u001b[0m_engine\u001b[0m\u001b[1;33m.\u001b[0m\u001b[0mget_loc\u001b[0m\u001b[1;33m(\u001b[0m\u001b[0mself\u001b[0m\u001b[1;33m.\u001b[0m\u001b[0m_maybe_cast_indexer\u001b[0m\u001b[1;33m(\u001b[0m\u001b[0mkey\u001b[0m\u001b[1;33m)\u001b[0m\u001b[1;33m)\u001b[0m\u001b[1;33m\u001b[0m\u001b[0m\n\u001b[0m\u001b[0;32m   1948\u001b[0m \u001b[1;33m\u001b[0m\u001b[0m\n\u001b[0;32m   1949\u001b[0m         \u001b[0mindexer\u001b[0m \u001b[1;33m=\u001b[0m \u001b[0mself\u001b[0m\u001b[1;33m.\u001b[0m\u001b[0mget_indexer\u001b[0m\u001b[1;33m(\u001b[0m\u001b[1;33m[\u001b[0m\u001b[0mkey\u001b[0m\u001b[1;33m]\u001b[0m\u001b[1;33m,\u001b[0m \u001b[0mmethod\u001b[0m\u001b[1;33m=\u001b[0m\u001b[0mmethod\u001b[0m\u001b[1;33m,\u001b[0m \u001b[0mtolerance\u001b[0m\u001b[1;33m=\u001b[0m\u001b[0mtolerance\u001b[0m\u001b[1;33m)\u001b[0m\u001b[1;33m\u001b[0m\u001b[0m\n",
      "\u001b[1;32mpandas\\index.pyx\u001b[0m in \u001b[0;36mpandas.index.IndexEngine.get_loc (pandas\\index.c:4154)\u001b[1;34m()\u001b[0m\n",
      "\u001b[1;32mpandas\\index.pyx\u001b[0m in \u001b[0;36mpandas.index.IndexEngine.get_loc (pandas\\index.c:4018)\u001b[1;34m()\u001b[0m\n",
      "\u001b[1;32mpandas\\hashtable.pyx\u001b[0m in \u001b[0;36mpandas.hashtable.PyObjectHashTable.get_item (pandas\\hashtable.c:12368)\u001b[1;34m()\u001b[0m\n",
      "\u001b[1;32mpandas\\hashtable.pyx\u001b[0m in \u001b[0;36mpandas.hashtable.PyObjectHashTable.get_item (pandas\\hashtable.c:12322)\u001b[1;34m()\u001b[0m\n",
      "\u001b[1;31mKeyError\u001b[0m: 'Key'"
     ]
    }
   ],
   "source": [
    "df=df.drop_duplicates(subset=['Key'])"
   ]
  },
  {
   "cell_type": "code",
   "execution_count": 41,
   "metadata": {
    "collapsed": false
   },
   "outputs": [
    {
     "data": {
      "text/html": [
       "<div>\n",
       "<table border=\"1\" class=\"dataframe\">\n",
       "  <thead>\n",
       "    <tr style=\"text-align: right;\">\n",
       "      <th></th>\n",
       "      <th>Hospital_employees</th>\n",
       "    </tr>\n",
       "  </thead>\n",
       "  <tbody>\n",
       "    <tr>\n",
       "      <th>count</th>\n",
       "      <td>2.786500e+04</td>\n",
       "    </tr>\n",
       "    <tr>\n",
       "      <th>mean</th>\n",
       "      <td>1.024301e+03</td>\n",
       "    </tr>\n",
       "    <tr>\n",
       "      <th>std</th>\n",
       "      <td>1.609038e+04</td>\n",
       "    </tr>\n",
       "    <tr>\n",
       "      <th>min</th>\n",
       "      <td>1.000000e+00</td>\n",
       "    </tr>\n",
       "    <tr>\n",
       "      <th>25%</th>\n",
       "      <td>9.000000e+00</td>\n",
       "    </tr>\n",
       "    <tr>\n",
       "      <th>50%</th>\n",
       "      <td>4.600000e+01</td>\n",
       "    </tr>\n",
       "    <tr>\n",
       "      <th>75%</th>\n",
       "      <td>2.450000e+02</td>\n",
       "    </tr>\n",
       "    <tr>\n",
       "      <th>max</th>\n",
       "      <td>1.996329e+06</td>\n",
       "    </tr>\n",
       "  </tbody>\n",
       "</table>\n",
       "</div>"
      ],
      "text/plain": [
       "       Hospital_employees\n",
       "count        2.786500e+04\n",
       "mean         1.024301e+03\n",
       "std          1.609038e+04\n",
       "min          1.000000e+00\n",
       "25%          9.000000e+00\n",
       "50%          4.600000e+01\n",
       "75%          2.450000e+02\n",
       "max          1.996329e+06"
      ]
     },
     "execution_count": 41,
     "metadata": {},
     "output_type": "execute_result"
    }
   ],
   "source": [
    "df.describe()"
   ]
  },
  {
   "cell_type": "code",
   "execution_count": 42,
   "metadata": {
    "collapsed": false
   },
   "outputs": [
    {
     "data": {
      "text/html": [
       "<div>\n",
       "<table border=\"1\" class=\"dataframe\">\n",
       "  <thead>\n",
       "    <tr style=\"text-align: right;\">\n",
       "      <th></th>\n",
       "      <th>Hospital_ID</th>\n",
       "      <th>District_ID</th>\n",
       "      <th>Hospital_employees</th>\n",
       "    </tr>\n",
       "  </thead>\n",
       "  <tbody>\n",
       "    <tr>\n",
       "      <th>13932</th>\n",
       "      <td>Hospital 251</td>\n",
       "      <td>District 19</td>\n",
       "      <td>1</td>\n",
       "    </tr>\n",
       "    <tr>\n",
       "      <th>1953</th>\n",
       "      <td>Hospital 1110</td>\n",
       "      <td>District 43</td>\n",
       "      <td>1</td>\n",
       "    </tr>\n",
       "    <tr>\n",
       "      <th>14375</th>\n",
       "      <td>Hospital 279</td>\n",
       "      <td>District 13</td>\n",
       "      <td>1</td>\n",
       "    </tr>\n",
       "    <tr>\n",
       "      <th>14378</th>\n",
       "      <td>Hospital 279</td>\n",
       "      <td>District 19</td>\n",
       "      <td>1</td>\n",
       "    </tr>\n",
       "    <tr>\n",
       "      <th>14379</th>\n",
       "      <td>Hospital 279</td>\n",
       "      <td>District 19</td>\n",
       "      <td>1</td>\n",
       "    </tr>\n",
       "  </tbody>\n",
       "</table>\n",
       "</div>"
      ],
      "text/plain": [
       "         Hospital_ID  District_ID  Hospital_employees\n",
       "13932   Hospital 251  District 19                   1\n",
       "1953   Hospital 1110  District 43                   1\n",
       "14375   Hospital 279  District 13                   1\n",
       "14378   Hospital 279  District 19                   1\n",
       "14379   Hospital 279  District 19                   1"
      ]
     },
     "execution_count": 42,
     "metadata": {},
     "output_type": "execute_result"
    }
   ],
   "source": [
    "df.head()"
   ]
  },
  {
   "cell_type": "code",
   "execution_count": 43,
   "metadata": {
    "collapsed": false
   },
   "outputs": [
    {
     "ename": "KeyError",
     "evalue": "'Key'",
     "output_type": "error",
     "traceback": [
      "\u001b[1;31m---------------------------------------------------------------------------\u001b[0m",
      "\u001b[1;31mKeyError\u001b[0m                                  Traceback (most recent call last)",
      "\u001b[1;32m<ipython-input-43-1f145209ab78>\u001b[0m in \u001b[0;36m<module>\u001b[1;34m()\u001b[0m\n\u001b[1;32m----> 1\u001b[1;33m \u001b[1;32mdel\u001b[0m \u001b[0mdf\u001b[0m\u001b[1;33m[\u001b[0m\u001b[1;34m'Key'\u001b[0m\u001b[1;33m]\u001b[0m\u001b[1;33m\u001b[0m\u001b[0m\n\u001b[0m",
      "\u001b[1;32mC:\\Users\\dell pc\\Anaconda2\\lib\\site-packages\\pandas\\core\\generic.pyc\u001b[0m in \u001b[0;36m__delitem__\u001b[1;34m(self, key)\u001b[0m\n\u001b[0;32m   1604\u001b[0m             \u001b[1;31m# there was no match, this call should raise the appropriate\u001b[0m\u001b[1;33m\u001b[0m\u001b[1;33m\u001b[0m\u001b[0m\n\u001b[0;32m   1605\u001b[0m             \u001b[1;31m# exception:\u001b[0m\u001b[1;33m\u001b[0m\u001b[1;33m\u001b[0m\u001b[0m\n\u001b[1;32m-> 1606\u001b[1;33m             \u001b[0mself\u001b[0m\u001b[1;33m.\u001b[0m\u001b[0m_data\u001b[0m\u001b[1;33m.\u001b[0m\u001b[0mdelete\u001b[0m\u001b[1;33m(\u001b[0m\u001b[0mkey\u001b[0m\u001b[1;33m)\u001b[0m\u001b[1;33m\u001b[0m\u001b[0m\n\u001b[0m\u001b[0;32m   1607\u001b[0m \u001b[1;33m\u001b[0m\u001b[0m\n\u001b[0;32m   1608\u001b[0m         \u001b[1;31m# delete from the caches\u001b[0m\u001b[1;33m\u001b[0m\u001b[1;33m\u001b[0m\u001b[0m\n",
      "\u001b[1;32mC:\\Users\\dell pc\\Anaconda2\\lib\\site-packages\\pandas\\core\\internals.pyc\u001b[0m in \u001b[0;36mdelete\u001b[1;34m(self, item)\u001b[0m\n\u001b[0;32m   3347\u001b[0m         \u001b[0mDelete\u001b[0m \u001b[0mselected\u001b[0m \u001b[0mitem\u001b[0m \u001b[1;33m(\u001b[0m\u001b[0mitems\u001b[0m \u001b[1;32mif\u001b[0m \u001b[0mnon\u001b[0m\u001b[1;33m-\u001b[0m\u001b[0munique\u001b[0m\u001b[1;33m)\u001b[0m \u001b[1;32min\u001b[0m\u001b[1;33m-\u001b[0m\u001b[0mplace\u001b[0m\u001b[1;33m.\u001b[0m\u001b[1;33m\u001b[0m\u001b[0m\n\u001b[0;32m   3348\u001b[0m         \"\"\"\n\u001b[1;32m-> 3349\u001b[1;33m         \u001b[0mindexer\u001b[0m \u001b[1;33m=\u001b[0m \u001b[0mself\u001b[0m\u001b[1;33m.\u001b[0m\u001b[0mitems\u001b[0m\u001b[1;33m.\u001b[0m\u001b[0mget_loc\u001b[0m\u001b[1;33m(\u001b[0m\u001b[0mitem\u001b[0m\u001b[1;33m)\u001b[0m\u001b[1;33m\u001b[0m\u001b[0m\n\u001b[0m\u001b[0;32m   3350\u001b[0m \u001b[1;33m\u001b[0m\u001b[0m\n\u001b[0;32m   3351\u001b[0m         \u001b[0mis_deleted\u001b[0m \u001b[1;33m=\u001b[0m \u001b[0mnp\u001b[0m\u001b[1;33m.\u001b[0m\u001b[0mzeros\u001b[0m\u001b[1;33m(\u001b[0m\u001b[0mself\u001b[0m\u001b[1;33m.\u001b[0m\u001b[0mshape\u001b[0m\u001b[1;33m[\u001b[0m\u001b[1;36m0\u001b[0m\u001b[1;33m]\u001b[0m\u001b[1;33m,\u001b[0m \u001b[0mdtype\u001b[0m\u001b[1;33m=\u001b[0m\u001b[0mnp\u001b[0m\u001b[1;33m.\u001b[0m\u001b[0mbool_\u001b[0m\u001b[1;33m)\u001b[0m\u001b[1;33m\u001b[0m\u001b[0m\n",
      "\u001b[1;32mC:\\Users\\dell pc\\Anaconda2\\lib\\site-packages\\pandas\\indexes\\base.pyc\u001b[0m in \u001b[0;36mget_loc\u001b[1;34m(self, key, method, tolerance)\u001b[0m\n\u001b[0;32m   1945\u001b[0m                 \u001b[1;32mreturn\u001b[0m \u001b[0mself\u001b[0m\u001b[1;33m.\u001b[0m\u001b[0m_engine\u001b[0m\u001b[1;33m.\u001b[0m\u001b[0mget_loc\u001b[0m\u001b[1;33m(\u001b[0m\u001b[0mkey\u001b[0m\u001b[1;33m)\u001b[0m\u001b[1;33m\u001b[0m\u001b[0m\n\u001b[0;32m   1946\u001b[0m             \u001b[1;32mexcept\u001b[0m \u001b[0mKeyError\u001b[0m\u001b[1;33m:\u001b[0m\u001b[1;33m\u001b[0m\u001b[0m\n\u001b[1;32m-> 1947\u001b[1;33m                 \u001b[1;32mreturn\u001b[0m \u001b[0mself\u001b[0m\u001b[1;33m.\u001b[0m\u001b[0m_engine\u001b[0m\u001b[1;33m.\u001b[0m\u001b[0mget_loc\u001b[0m\u001b[1;33m(\u001b[0m\u001b[0mself\u001b[0m\u001b[1;33m.\u001b[0m\u001b[0m_maybe_cast_indexer\u001b[0m\u001b[1;33m(\u001b[0m\u001b[0mkey\u001b[0m\u001b[1;33m)\u001b[0m\u001b[1;33m)\u001b[0m\u001b[1;33m\u001b[0m\u001b[0m\n\u001b[0m\u001b[0;32m   1948\u001b[0m \u001b[1;33m\u001b[0m\u001b[0m\n\u001b[0;32m   1949\u001b[0m         \u001b[0mindexer\u001b[0m \u001b[1;33m=\u001b[0m \u001b[0mself\u001b[0m\u001b[1;33m.\u001b[0m\u001b[0mget_indexer\u001b[0m\u001b[1;33m(\u001b[0m\u001b[1;33m[\u001b[0m\u001b[0mkey\u001b[0m\u001b[1;33m]\u001b[0m\u001b[1;33m,\u001b[0m \u001b[0mmethod\u001b[0m\u001b[1;33m=\u001b[0m\u001b[0mmethod\u001b[0m\u001b[1;33m,\u001b[0m \u001b[0mtolerance\u001b[0m\u001b[1;33m=\u001b[0m\u001b[0mtolerance\u001b[0m\u001b[1;33m)\u001b[0m\u001b[1;33m\u001b[0m\u001b[0m\n",
      "\u001b[1;32mpandas\\index.pyx\u001b[0m in \u001b[0;36mpandas.index.IndexEngine.get_loc (pandas\\index.c:4154)\u001b[1;34m()\u001b[0m\n",
      "\u001b[1;32mpandas\\index.pyx\u001b[0m in \u001b[0;36mpandas.index.IndexEngine.get_loc (pandas\\index.c:4018)\u001b[1;34m()\u001b[0m\n",
      "\u001b[1;32mpandas\\hashtable.pyx\u001b[0m in \u001b[0;36mpandas.hashtable.PyObjectHashTable.get_item (pandas\\hashtable.c:12368)\u001b[1;34m()\u001b[0m\n",
      "\u001b[1;32mpandas\\hashtable.pyx\u001b[0m in \u001b[0;36mpandas.hashtable.PyObjectHashTable.get_item (pandas\\hashtable.c:12322)\u001b[1;34m()\u001b[0m\n",
      "\u001b[1;31mKeyError\u001b[0m: 'Key'"
     ]
    }
   ],
   "source": [
    "del df['Key']"
   ]
  },
  {
   "cell_type": "code",
   "execution_count": 44,
   "metadata": {
    "collapsed": false
   },
   "outputs": [
    {
     "data": {
      "text/html": [
       "<div>\n",
       "<table border=\"1\" class=\"dataframe\">\n",
       "  <thead>\n",
       "    <tr style=\"text-align: right;\">\n",
       "      <th></th>\n",
       "      <th>Hospital_ID</th>\n",
       "      <th>District_ID</th>\n",
       "      <th>Hospital_employees</th>\n",
       "    </tr>\n",
       "  </thead>\n",
       "  <tbody>\n",
       "    <tr>\n",
       "      <th>13932</th>\n",
       "      <td>Hospital 251</td>\n",
       "      <td>District 19</td>\n",
       "      <td>1</td>\n",
       "    </tr>\n",
       "    <tr>\n",
       "      <th>1953</th>\n",
       "      <td>Hospital 1110</td>\n",
       "      <td>District 43</td>\n",
       "      <td>1</td>\n",
       "    </tr>\n",
       "    <tr>\n",
       "      <th>14375</th>\n",
       "      <td>Hospital 279</td>\n",
       "      <td>District 13</td>\n",
       "      <td>1</td>\n",
       "    </tr>\n",
       "    <tr>\n",
       "      <th>14378</th>\n",
       "      <td>Hospital 279</td>\n",
       "      <td>District 19</td>\n",
       "      <td>1</td>\n",
       "    </tr>\n",
       "    <tr>\n",
       "      <th>14379</th>\n",
       "      <td>Hospital 279</td>\n",
       "      <td>District 19</td>\n",
       "      <td>1</td>\n",
       "    </tr>\n",
       "  </tbody>\n",
       "</table>\n",
       "</div>"
      ],
      "text/plain": [
       "         Hospital_ID  District_ID  Hospital_employees\n",
       "13932   Hospital 251  District 19                   1\n",
       "1953   Hospital 1110  District 43                   1\n",
       "14375   Hospital 279  District 13                   1\n",
       "14378   Hospital 279  District 19                   1\n",
       "14379   Hospital 279  District 19                   1"
      ]
     },
     "execution_count": 44,
     "metadata": {},
     "output_type": "execute_result"
    }
   ],
   "source": [
    "df.head()"
   ]
  },
  {
   "cell_type": "code",
   "execution_count": 45,
   "metadata": {
    "collapsed": false
   },
   "outputs": [],
   "source": [
    "df['Key'] = df.Hospital_ID + df.District_ID"
   ]
  },
  {
   "cell_type": "code",
   "execution_count": 46,
   "metadata": {
    "collapsed": false
   },
   "outputs": [
    {
     "data": {
      "text/html": [
       "<div>\n",
       "<table border=\"1\" class=\"dataframe\">\n",
       "  <thead>\n",
       "    <tr style=\"text-align: right;\">\n",
       "      <th></th>\n",
       "      <th>Hospital_ID</th>\n",
       "      <th>District_ID</th>\n",
       "      <th>Hospital_employees</th>\n",
       "      <th>Key</th>\n",
       "    </tr>\n",
       "  </thead>\n",
       "  <tbody>\n",
       "    <tr>\n",
       "      <th>13932</th>\n",
       "      <td>Hospital 251</td>\n",
       "      <td>District 19</td>\n",
       "      <td>1</td>\n",
       "      <td>Hospital 251District 19</td>\n",
       "    </tr>\n",
       "    <tr>\n",
       "      <th>1953</th>\n",
       "      <td>Hospital 1110</td>\n",
       "      <td>District 43</td>\n",
       "      <td>1</td>\n",
       "      <td>Hospital 1110District 43</td>\n",
       "    </tr>\n",
       "    <tr>\n",
       "      <th>14375</th>\n",
       "      <td>Hospital 279</td>\n",
       "      <td>District 13</td>\n",
       "      <td>1</td>\n",
       "      <td>Hospital 279District 13</td>\n",
       "    </tr>\n",
       "    <tr>\n",
       "      <th>14378</th>\n",
       "      <td>Hospital 279</td>\n",
       "      <td>District 19</td>\n",
       "      <td>1</td>\n",
       "      <td>Hospital 279District 19</td>\n",
       "    </tr>\n",
       "    <tr>\n",
       "      <th>14379</th>\n",
       "      <td>Hospital 279</td>\n",
       "      <td>District 19</td>\n",
       "      <td>1</td>\n",
       "      <td>Hospital 279District 19</td>\n",
       "    </tr>\n",
       "  </tbody>\n",
       "</table>\n",
       "</div>"
      ],
      "text/plain": [
       "         Hospital_ID  District_ID  Hospital_employees  \\\n",
       "13932   Hospital 251  District 19                   1   \n",
       "1953   Hospital 1110  District 43                   1   \n",
       "14375   Hospital 279  District 13                   1   \n",
       "14378   Hospital 279  District 19                   1   \n",
       "14379   Hospital 279  District 19                   1   \n",
       "\n",
       "                            Key  \n",
       "13932   Hospital 251District 19  \n",
       "1953   Hospital 1110District 43  \n",
       "14375   Hospital 279District 13  \n",
       "14378   Hospital 279District 19  \n",
       "14379   Hospital 279District 19  "
      ]
     },
     "execution_count": 46,
     "metadata": {},
     "output_type": "execute_result"
    }
   ],
   "source": [
    "df.head()"
   ]
  },
  {
   "cell_type": "code",
   "execution_count": 47,
   "metadata": {
    "collapsed": false
   },
   "outputs": [
    {
     "data": {
      "text/html": [
       "<div>\n",
       "<table border=\"1\" class=\"dataframe\">\n",
       "  <thead>\n",
       "    <tr style=\"text-align: right;\">\n",
       "      <th></th>\n",
       "      <th>Hospital_ID</th>\n",
       "      <th>Region_ID</th>\n",
       "      <th>District_ID</th>\n",
       "      <th>Instrument_ID</th>\n",
       "      <th>Month 1</th>\n",
       "      <th>Month 2</th>\n",
       "      <th>Month 3</th>\n",
       "      <th>Month 4</th>\n",
       "      <th>Month 5</th>\n",
       "      <th>Month 6</th>\n",
       "      <th>Month 7</th>\n",
       "      <th>Month 8</th>\n",
       "      <th>Month 9</th>\n",
       "      <th>Month 10</th>\n",
       "      <th>Month 11</th>\n",
       "      <th>Month 12</th>\n",
       "      <th>Year Total</th>\n",
       "    </tr>\n",
       "  </thead>\n",
       "  <tbody>\n",
       "    <tr>\n",
       "      <th>0</th>\n",
       "      <td>Hospital 1</td>\n",
       "      <td>Region 1</td>\n",
       "      <td>District 12</td>\n",
       "      <td>Instrument 2</td>\n",
       "      <td>8534</td>\n",
       "      <td>9917</td>\n",
       "      <td>7825</td>\n",
       "      <td>11702</td>\n",
       "      <td>8776</td>\n",
       "      <td>7755</td>\n",
       "      <td>9289</td>\n",
       "      <td>7796</td>\n",
       "      <td>7595</td>\n",
       "      <td>8292</td>\n",
       "      <td>7787</td>\n",
       "      <td>8282</td>\n",
       "      <td>103550</td>\n",
       "    </tr>\n",
       "    <tr>\n",
       "      <th>1</th>\n",
       "      <td>Hospital 1</td>\n",
       "      <td>Region 1</td>\n",
       "      <td>District 12</td>\n",
       "      <td>Instrument 3</td>\n",
       "      <td>298</td>\n",
       "      <td>298</td>\n",
       "      <td>214</td>\n",
       "      <td>311</td>\n",
       "      <td>261</td>\n",
       "      <td>223</td>\n",
       "      <td>237</td>\n",
       "      <td>171</td>\n",
       "      <td>173</td>\n",
       "      <td>183</td>\n",
       "      <td>193</td>\n",
       "      <td>0</td>\n",
       "      <td>2562</td>\n",
       "    </tr>\n",
       "    <tr>\n",
       "      <th>2</th>\n",
       "      <td>Hospital 1</td>\n",
       "      <td>Region 1</td>\n",
       "      <td>District 13</td>\n",
       "      <td>Instrument 1</td>\n",
       "      <td>37</td>\n",
       "      <td>40</td>\n",
       "      <td>38</td>\n",
       "      <td>43</td>\n",
       "      <td>29</td>\n",
       "      <td>0</td>\n",
       "      <td>0</td>\n",
       "      <td>0</td>\n",
       "      <td>0</td>\n",
       "      <td>0</td>\n",
       "      <td>0</td>\n",
       "      <td>0</td>\n",
       "      <td>187</td>\n",
       "    </tr>\n",
       "    <tr>\n",
       "      <th>3</th>\n",
       "      <td>Hospital 1</td>\n",
       "      <td>Region 1</td>\n",
       "      <td>District 13</td>\n",
       "      <td>Instrument 2</td>\n",
       "      <td>2486</td>\n",
       "      <td>3332</td>\n",
       "      <td>3193</td>\n",
       "      <td>2556</td>\n",
       "      <td>2108</td>\n",
       "      <td>2757</td>\n",
       "      <td>2639</td>\n",
       "      <td>2531</td>\n",
       "      <td>2771</td>\n",
       "      <td>2682</td>\n",
       "      <td>12317</td>\n",
       "      <td>1369</td>\n",
       "      <td>40741</td>\n",
       "    </tr>\n",
       "    <tr>\n",
       "      <th>4</th>\n",
       "      <td>Hospital 1</td>\n",
       "      <td>Region 1</td>\n",
       "      <td>District 13</td>\n",
       "      <td>Instrument 3</td>\n",
       "      <td>857</td>\n",
       "      <td>892</td>\n",
       "      <td>739</td>\n",
       "      <td>759</td>\n",
       "      <td>736</td>\n",
       "      <td>415</td>\n",
       "      <td>1203</td>\n",
       "      <td>434</td>\n",
       "      <td>448</td>\n",
       "      <td>113</td>\n",
       "      <td>829</td>\n",
       "      <td>1124</td>\n",
       "      <td>8549</td>\n",
       "    </tr>\n",
       "  </tbody>\n",
       "</table>\n",
       "</div>"
      ],
      "text/plain": [
       "  Hospital_ID Region_ID  District_ID Instrument_ID  Month 1  Month 2  Month 3  \\\n",
       "0  Hospital 1  Region 1  District 12  Instrument 2     8534     9917     7825   \n",
       "1  Hospital 1  Region 1  District 12  Instrument 3      298      298      214   \n",
       "2  Hospital 1  Region 1  District 13  Instrument 1       37       40       38   \n",
       "3  Hospital 1  Region 1  District 13  Instrument 2     2486     3332     3193   \n",
       "4  Hospital 1  Region 1  District 13  Instrument 3      857      892      739   \n",
       "\n",
       "   Month 4  Month 5  Month 6  Month 7  Month 8  Month 9  Month 10  Month 11  \\\n",
       "0    11702     8776     7755     9289     7796     7595      8292      7787   \n",
       "1      311      261      223      237      171      173       183       193   \n",
       "2       43       29        0        0        0        0         0         0   \n",
       "3     2556     2108     2757     2639     2531     2771      2682     12317   \n",
       "4      759      736      415     1203      434      448       113       829   \n",
       "\n",
       "   Month 12  Year Total  \n",
       "0      8282      103550  \n",
       "1         0        2562  \n",
       "2         0         187  \n",
       "3      1369       40741  \n",
       "4      1124        8549  "
      ]
     },
     "execution_count": 47,
     "metadata": {},
     "output_type": "execute_result"
    }
   ],
   "source": [
    "rev.head()"
   ]
  },
  {
   "cell_type": "code",
   "execution_count": 48,
   "metadata": {
    "collapsed": false
   },
   "outputs": [
    {
     "data": {
      "text/html": [
       "<div>\n",
       "<table border=\"1\" class=\"dataframe\">\n",
       "  <thead>\n",
       "    <tr style=\"text-align: right;\">\n",
       "      <th></th>\n",
       "      <th>Month 1</th>\n",
       "      <th>Month 2</th>\n",
       "      <th>Month 3</th>\n",
       "      <th>Month 4</th>\n",
       "      <th>Month 5</th>\n",
       "      <th>Month 6</th>\n",
       "      <th>Month 7</th>\n",
       "      <th>Month 8</th>\n",
       "      <th>Month 9</th>\n",
       "      <th>Month 10</th>\n",
       "      <th>Month 11</th>\n",
       "      <th>Month 12</th>\n",
       "      <th>Year Total</th>\n",
       "    </tr>\n",
       "  </thead>\n",
       "  <tbody>\n",
       "    <tr>\n",
       "      <th>count</th>\n",
       "      <td>4.435300e+04</td>\n",
       "      <td>4.435300e+04</td>\n",
       "      <td>4.435300e+04</td>\n",
       "      <td>4.435300e+04</td>\n",
       "      <td>4.435300e+04</td>\n",
       "      <td>4.435300e+04</td>\n",
       "      <td>4.435300e+04</td>\n",
       "      <td>4.435300e+04</td>\n",
       "      <td>4.435300e+04</td>\n",
       "      <td>4.435300e+04</td>\n",
       "      <td>4.435300e+04</td>\n",
       "      <td>4.435300e+04</td>\n",
       "      <td>4.435300e+04</td>\n",
       "    </tr>\n",
       "    <tr>\n",
       "      <th>mean</th>\n",
       "      <td>2.439288e+03</td>\n",
       "      <td>2.515734e+03</td>\n",
       "      <td>2.562847e+03</td>\n",
       "      <td>2.480626e+03</td>\n",
       "      <td>2.641750e+03</td>\n",
       "      <td>2.692442e+03</td>\n",
       "      <td>2.608996e+03</td>\n",
       "      <td>2.609247e+03</td>\n",
       "      <td>2.658345e+03</td>\n",
       "      <td>2.638559e+03</td>\n",
       "      <td>3.179302e+03</td>\n",
       "      <td>2.639070e+03</td>\n",
       "      <td>3.166621e+04</td>\n",
       "    </tr>\n",
       "    <tr>\n",
       "      <th>std</th>\n",
       "      <td>1.955569e+04</td>\n",
       "      <td>1.722204e+04</td>\n",
       "      <td>1.852453e+04</td>\n",
       "      <td>1.774030e+04</td>\n",
       "      <td>1.931754e+04</td>\n",
       "      <td>2.028655e+04</td>\n",
       "      <td>1.898657e+04</td>\n",
       "      <td>2.098131e+04</td>\n",
       "      <td>2.158379e+04</td>\n",
       "      <td>1.970812e+04</td>\n",
       "      <td>2.903776e+04</td>\n",
       "      <td>1.912902e+04</td>\n",
       "      <td>2.110960e+05</td>\n",
       "    </tr>\n",
       "    <tr>\n",
       "      <th>min</th>\n",
       "      <td>-1.223435e+06</td>\n",
       "      <td>-1.944620e+05</td>\n",
       "      <td>-5.149670e+05</td>\n",
       "      <td>-2.932610e+05</td>\n",
       "      <td>-2.343230e+05</td>\n",
       "      <td>-3.143660e+05</td>\n",
       "      <td>-4.364940e+05</td>\n",
       "      <td>-5.097630e+05</td>\n",
       "      <td>-8.961340e+05</td>\n",
       "      <td>-2.811200e+05</td>\n",
       "      <td>-1.471149e+06</td>\n",
       "      <td>-3.068690e+05</td>\n",
       "      <td>-2.040193e+06</td>\n",
       "    </tr>\n",
       "    <tr>\n",
       "      <th>25%</th>\n",
       "      <td>0.000000e+00</td>\n",
       "      <td>0.000000e+00</td>\n",
       "      <td>0.000000e+00</td>\n",
       "      <td>0.000000e+00</td>\n",
       "      <td>0.000000e+00</td>\n",
       "      <td>0.000000e+00</td>\n",
       "      <td>0.000000e+00</td>\n",
       "      <td>0.000000e+00</td>\n",
       "      <td>0.000000e+00</td>\n",
       "      <td>0.000000e+00</td>\n",
       "      <td>0.000000e+00</td>\n",
       "      <td>0.000000e+00</td>\n",
       "      <td>2.470000e+02</td>\n",
       "    </tr>\n",
       "    <tr>\n",
       "      <th>50%</th>\n",
       "      <td>8.700000e+01</td>\n",
       "      <td>9.000000e+01</td>\n",
       "      <td>9.200000e+01</td>\n",
       "      <td>8.500000e+01</td>\n",
       "      <td>7.600000e+01</td>\n",
       "      <td>5.900000e+01</td>\n",
       "      <td>6.900000e+01</td>\n",
       "      <td>6.900000e+01</td>\n",
       "      <td>6.600000e+01</td>\n",
       "      <td>6.600000e+01</td>\n",
       "      <td>7.700000e+01</td>\n",
       "      <td>5.200000e+01</td>\n",
       "      <td>1.878000e+03</td>\n",
       "    </tr>\n",
       "    <tr>\n",
       "      <th>75%</th>\n",
       "      <td>8.130000e+02</td>\n",
       "      <td>8.150000e+02</td>\n",
       "      <td>8.400000e+02</td>\n",
       "      <td>8.190000e+02</td>\n",
       "      <td>8.180000e+02</td>\n",
       "      <td>7.560000e+02</td>\n",
       "      <td>7.690000e+02</td>\n",
       "      <td>7.490000e+02</td>\n",
       "      <td>7.440000e+02</td>\n",
       "      <td>7.430000e+02</td>\n",
       "      <td>8.130000e+02</td>\n",
       "      <td>7.250000e+02</td>\n",
       "      <td>1.167000e+04</td>\n",
       "    </tr>\n",
       "    <tr>\n",
       "      <th>max</th>\n",
       "      <td>1.600173e+06</td>\n",
       "      <td>1.254068e+06</td>\n",
       "      <td>1.330740e+06</td>\n",
       "      <td>1.273001e+06</td>\n",
       "      <td>1.506083e+06</td>\n",
       "      <td>1.444746e+06</td>\n",
       "      <td>1.376751e+06</td>\n",
       "      <td>1.201132e+06</td>\n",
       "      <td>1.558106e+06</td>\n",
       "      <td>1.375467e+06</td>\n",
       "      <td>1.414112e+06</td>\n",
       "      <td>1.386712e+06</td>\n",
       "      <td>1.546145e+07</td>\n",
       "    </tr>\n",
       "  </tbody>\n",
       "</table>\n",
       "</div>"
      ],
      "text/plain": [
       "            Month 1       Month 2       Month 3       Month 4       Month 5  \\\n",
       "count  4.435300e+04  4.435300e+04  4.435300e+04  4.435300e+04  4.435300e+04   \n",
       "mean   2.439288e+03  2.515734e+03  2.562847e+03  2.480626e+03  2.641750e+03   \n",
       "std    1.955569e+04  1.722204e+04  1.852453e+04  1.774030e+04  1.931754e+04   \n",
       "min   -1.223435e+06 -1.944620e+05 -5.149670e+05 -2.932610e+05 -2.343230e+05   \n",
       "25%    0.000000e+00  0.000000e+00  0.000000e+00  0.000000e+00  0.000000e+00   \n",
       "50%    8.700000e+01  9.000000e+01  9.200000e+01  8.500000e+01  7.600000e+01   \n",
       "75%    8.130000e+02  8.150000e+02  8.400000e+02  8.190000e+02  8.180000e+02   \n",
       "max    1.600173e+06  1.254068e+06  1.330740e+06  1.273001e+06  1.506083e+06   \n",
       "\n",
       "            Month 6       Month 7       Month 8       Month 9      Month 10  \\\n",
       "count  4.435300e+04  4.435300e+04  4.435300e+04  4.435300e+04  4.435300e+04   \n",
       "mean   2.692442e+03  2.608996e+03  2.609247e+03  2.658345e+03  2.638559e+03   \n",
       "std    2.028655e+04  1.898657e+04  2.098131e+04  2.158379e+04  1.970812e+04   \n",
       "min   -3.143660e+05 -4.364940e+05 -5.097630e+05 -8.961340e+05 -2.811200e+05   \n",
       "25%    0.000000e+00  0.000000e+00  0.000000e+00  0.000000e+00  0.000000e+00   \n",
       "50%    5.900000e+01  6.900000e+01  6.900000e+01  6.600000e+01  6.600000e+01   \n",
       "75%    7.560000e+02  7.690000e+02  7.490000e+02  7.440000e+02  7.430000e+02   \n",
       "max    1.444746e+06  1.376751e+06  1.201132e+06  1.558106e+06  1.375467e+06   \n",
       "\n",
       "           Month 11      Month 12    Year Total  \n",
       "count  4.435300e+04  4.435300e+04  4.435300e+04  \n",
       "mean   3.179302e+03  2.639070e+03  3.166621e+04  \n",
       "std    2.903776e+04  1.912902e+04  2.110960e+05  \n",
       "min   -1.471149e+06 -3.068690e+05 -2.040193e+06  \n",
       "25%    0.000000e+00  0.000000e+00  2.470000e+02  \n",
       "50%    7.700000e+01  5.200000e+01  1.878000e+03  \n",
       "75%    8.130000e+02  7.250000e+02  1.167000e+04  \n",
       "max    1.414112e+06  1.386712e+06  1.546145e+07  "
      ]
     },
     "execution_count": 48,
     "metadata": {},
     "output_type": "execute_result"
    }
   ],
   "source": [
    "rev.describe()"
   ]
  },
  {
   "cell_type": "code",
   "execution_count": 49,
   "metadata": {
    "collapsed": false
   },
   "outputs": [
    {
     "name": "stdout",
     "output_type": "stream",
     "text": [
      "Hospital_ID      0\n",
      "Region_ID        0\n",
      "District_ID      0\n",
      "Instrument_ID    0\n",
      "Month 1          0\n",
      "Month 2          0\n",
      "Month 3          0\n",
      "Month 4          0\n",
      "Month 5          0\n",
      "Month 6          0\n",
      "Month 7          0\n",
      "Month 8          0\n",
      "Month 9          0\n",
      "Month 10         0\n",
      "Month 11         0\n",
      "Month 12         0\n",
      "Year Total       0\n",
      "dtype: int64\n"
     ]
    }
   ],
   "source": [
    "\n",
    "print rev.apply(num_missing, axis=0) #axis=0 defines that function is to be applied on each column"
   ]
  },
  {
   "cell_type": "code",
   "execution_count": 50,
   "metadata": {
    "collapsed": false
   },
   "outputs": [
    {
     "data": {
      "text/html": [
       "<div>\n",
       "<table border=\"1\" class=\"dataframe\">\n",
       "  <thead>\n",
       "    <tr style=\"text-align: right;\">\n",
       "      <th></th>\n",
       "      <th>Hospital_ID</th>\n",
       "      <th>Region_ID</th>\n",
       "      <th>District_ID</th>\n",
       "      <th>Instrument_ID</th>\n",
       "      <th>Month 1</th>\n",
       "      <th>Month 2</th>\n",
       "      <th>Month 3</th>\n",
       "      <th>Month 4</th>\n",
       "      <th>Month 5</th>\n",
       "      <th>Month 6</th>\n",
       "      <th>Month 7</th>\n",
       "      <th>Month 8</th>\n",
       "      <th>Month 9</th>\n",
       "      <th>Month 10</th>\n",
       "      <th>Month 11</th>\n",
       "      <th>Month 12</th>\n",
       "      <th>Year Total</th>\n",
       "    </tr>\n",
       "  </thead>\n",
       "  <tbody>\n",
       "    <tr>\n",
       "      <th>44348</th>\n",
       "      <td>Hospital 999</td>\n",
       "      <td>Region 5</td>\n",
       "      <td>District 50</td>\n",
       "      <td>Instrument 3</td>\n",
       "      <td>3697</td>\n",
       "      <td>3276</td>\n",
       "      <td>3370</td>\n",
       "      <td>3976</td>\n",
       "      <td>3503</td>\n",
       "      <td>3566</td>\n",
       "      <td>3678</td>\n",
       "      <td>3762</td>\n",
       "      <td>3633</td>\n",
       "      <td>3819</td>\n",
       "      <td>4124</td>\n",
       "      <td>3859</td>\n",
       "      <td>44263</td>\n",
       "    </tr>\n",
       "    <tr>\n",
       "      <th>44349</th>\n",
       "      <td>Hospital 999</td>\n",
       "      <td>Region 5</td>\n",
       "      <td>District 50</td>\n",
       "      <td>Instrument 4</td>\n",
       "      <td>0</td>\n",
       "      <td>0</td>\n",
       "      <td>0</td>\n",
       "      <td>0</td>\n",
       "      <td>0</td>\n",
       "      <td>0</td>\n",
       "      <td>27</td>\n",
       "      <td>0</td>\n",
       "      <td>0</td>\n",
       "      <td>0</td>\n",
       "      <td>0</td>\n",
       "      <td>0</td>\n",
       "      <td>27</td>\n",
       "    </tr>\n",
       "    <tr>\n",
       "      <th>44350</th>\n",
       "      <td>Hospital 999</td>\n",
       "      <td>Region 5</td>\n",
       "      <td>District 52</td>\n",
       "      <td>Instrument 2</td>\n",
       "      <td>0</td>\n",
       "      <td>0</td>\n",
       "      <td>1234</td>\n",
       "      <td>0</td>\n",
       "      <td>0</td>\n",
       "      <td>0</td>\n",
       "      <td>0</td>\n",
       "      <td>0</td>\n",
       "      <td>0</td>\n",
       "      <td>0</td>\n",
       "      <td>0</td>\n",
       "      <td>0</td>\n",
       "      <td>1234</td>\n",
       "    </tr>\n",
       "    <tr>\n",
       "      <th>44351</th>\n",
       "      <td>Hospital 999</td>\n",
       "      <td>Region 5</td>\n",
       "      <td>District 52</td>\n",
       "      <td>Instrument 7</td>\n",
       "      <td>0</td>\n",
       "      <td>0</td>\n",
       "      <td>0</td>\n",
       "      <td>0</td>\n",
       "      <td>0</td>\n",
       "      <td>1234</td>\n",
       "      <td>0</td>\n",
       "      <td>0</td>\n",
       "      <td>1670</td>\n",
       "      <td>589</td>\n",
       "      <td>462</td>\n",
       "      <td>1780</td>\n",
       "      <td>5735</td>\n",
       "    </tr>\n",
       "    <tr>\n",
       "      <th>44352</th>\n",
       "      <td>Hospital 999</td>\n",
       "      <td>Region 5</td>\n",
       "      <td>District 6</td>\n",
       "      <td>Instrument 2</td>\n",
       "      <td>0</td>\n",
       "      <td>0</td>\n",
       "      <td>0</td>\n",
       "      <td>0</td>\n",
       "      <td>391</td>\n",
       "      <td>304</td>\n",
       "      <td>436</td>\n",
       "      <td>281</td>\n",
       "      <td>310</td>\n",
       "      <td>434</td>\n",
       "      <td>394</td>\n",
       "      <td>355</td>\n",
       "      <td>2905</td>\n",
       "    </tr>\n",
       "  </tbody>\n",
       "</table>\n",
       "</div>"
      ],
      "text/plain": [
       "        Hospital_ID Region_ID  District_ID Instrument_ID  Month 1  Month 2  \\\n",
       "44348  Hospital 999  Region 5  District 50  Instrument 3     3697     3276   \n",
       "44349  Hospital 999  Region 5  District 50  Instrument 4        0        0   \n",
       "44350  Hospital 999  Region 5  District 52  Instrument 2        0        0   \n",
       "44351  Hospital 999  Region 5  District 52  Instrument 7        0        0   \n",
       "44352  Hospital 999  Region 5   District 6  Instrument 2        0        0   \n",
       "\n",
       "       Month 3  Month 4  Month 5  Month 6  Month 7  Month 8  Month 9  \\\n",
       "44348     3370     3976     3503     3566     3678     3762     3633   \n",
       "44349        0        0        0        0       27        0        0   \n",
       "44350     1234        0        0        0        0        0        0   \n",
       "44351        0        0        0     1234        0        0     1670   \n",
       "44352        0        0      391      304      436      281      310   \n",
       "\n",
       "       Month 10  Month 11  Month 12  Year Total  \n",
       "44348      3819      4124      3859       44263  \n",
       "44349         0         0         0          27  \n",
       "44350         0         0         0        1234  \n",
       "44351       589       462      1780        5735  \n",
       "44352       434       394       355        2905  "
      ]
     },
     "execution_count": 50,
     "metadata": {},
     "output_type": "execute_result"
    }
   ],
   "source": [
    "rev.tail()"
   ]
  },
  {
   "cell_type": "code",
   "execution_count": 51,
   "metadata": {
    "collapsed": true
   },
   "outputs": [],
   "source": [
    "rev['District_ID']=rev['District_ID'].str.replace('No District Available','District 99')"
   ]
  },
  {
   "cell_type": "code",
   "execution_count": 52,
   "metadata": {
    "collapsed": false
   },
   "outputs": [
    {
     "data": {
      "text/plain": [
       "District 13    4878\n",
       "District 20    3946\n",
       "District 28    3812\n",
       "District 18    3350\n",
       "District 50    2886\n",
       "District 41    2702\n",
       "District 34    2346\n",
       "District 32    1957\n",
       "District 39    1915\n",
       "District 29    1509\n",
       "District 12    1309\n",
       "District 44    1276\n",
       "District 10    1095\n",
       "District 15    1027\n",
       "District 48     825\n",
       "District 19     796\n",
       "District 17     738\n",
       "District 37     616\n",
       "District 2      606\n",
       "District 25     561\n",
       "District 99     507\n",
       "District 8      473\n",
       "District 21     472\n",
       "District 3      441\n",
       "District 6      400\n",
       "District 4      356\n",
       "District 14     302\n",
       "District 35     277\n",
       "District 51     251\n",
       "District 46     242\n",
       "District 1      239\n",
       "District 5      203\n",
       "District 52     200\n",
       "District 33     194\n",
       "District 16     191\n",
       "District 9      161\n",
       "District 49     149\n",
       "District 27     148\n",
       "District 45     144\n",
       "District 31     135\n",
       "District 47     127\n",
       "District 7      108\n",
       "District 38      95\n",
       "District 40      81\n",
       "District 26      57\n",
       "District 22      47\n",
       "District 36      42\n",
       "District 42      40\n",
       "District 11      28\n",
       "District 23      27\n",
       "District 43      27\n",
       "District 30      21\n",
       "District 24      18\n",
       "Name: District_ID, dtype: int64"
      ]
     },
     "execution_count": 52,
     "metadata": {},
     "output_type": "execute_result"
    }
   ],
   "source": [
    "rev['District_ID'].value_counts()"
   ]
  },
  {
   "cell_type": "code",
   "execution_count": 53,
   "metadata": {
    "collapsed": true
   },
   "outputs": [],
   "source": [
    "rev['Key1']=rev.Hospital_ID+rev.District_ID+rev.Instrument_ID"
   ]
  },
  {
   "cell_type": "code",
   "execution_count": 54,
   "metadata": {
    "collapsed": false
   },
   "outputs": [
    {
     "data": {
      "text/html": [
       "<div>\n",
       "<table border=\"1\" class=\"dataframe\">\n",
       "  <thead>\n",
       "    <tr style=\"text-align: right;\">\n",
       "      <th></th>\n",
       "      <th>Hospital_ID</th>\n",
       "      <th>Region_ID</th>\n",
       "      <th>District_ID</th>\n",
       "      <th>Instrument_ID</th>\n",
       "      <th>Month 1</th>\n",
       "      <th>Month 2</th>\n",
       "      <th>Month 3</th>\n",
       "      <th>Month 4</th>\n",
       "      <th>Month 5</th>\n",
       "      <th>Month 6</th>\n",
       "      <th>Month 7</th>\n",
       "      <th>Month 8</th>\n",
       "      <th>Month 9</th>\n",
       "      <th>Month 10</th>\n",
       "      <th>Month 11</th>\n",
       "      <th>Month 12</th>\n",
       "      <th>Year Total</th>\n",
       "      <th>Key1</th>\n",
       "    </tr>\n",
       "  </thead>\n",
       "  <tbody>\n",
       "    <tr>\n",
       "      <th>0</th>\n",
       "      <td>Hospital 1</td>\n",
       "      <td>Region 1</td>\n",
       "      <td>District 12</td>\n",
       "      <td>Instrument 2</td>\n",
       "      <td>8534</td>\n",
       "      <td>9917</td>\n",
       "      <td>7825</td>\n",
       "      <td>11702</td>\n",
       "      <td>8776</td>\n",
       "      <td>7755</td>\n",
       "      <td>9289</td>\n",
       "      <td>7796</td>\n",
       "      <td>7595</td>\n",
       "      <td>8292</td>\n",
       "      <td>7787</td>\n",
       "      <td>8282</td>\n",
       "      <td>103550</td>\n",
       "      <td>Hospital 1District 12Instrument 2</td>\n",
       "    </tr>\n",
       "    <tr>\n",
       "      <th>1</th>\n",
       "      <td>Hospital 1</td>\n",
       "      <td>Region 1</td>\n",
       "      <td>District 12</td>\n",
       "      <td>Instrument 3</td>\n",
       "      <td>298</td>\n",
       "      <td>298</td>\n",
       "      <td>214</td>\n",
       "      <td>311</td>\n",
       "      <td>261</td>\n",
       "      <td>223</td>\n",
       "      <td>237</td>\n",
       "      <td>171</td>\n",
       "      <td>173</td>\n",
       "      <td>183</td>\n",
       "      <td>193</td>\n",
       "      <td>0</td>\n",
       "      <td>2562</td>\n",
       "      <td>Hospital 1District 12Instrument 3</td>\n",
       "    </tr>\n",
       "    <tr>\n",
       "      <th>2</th>\n",
       "      <td>Hospital 1</td>\n",
       "      <td>Region 1</td>\n",
       "      <td>District 13</td>\n",
       "      <td>Instrument 1</td>\n",
       "      <td>37</td>\n",
       "      <td>40</td>\n",
       "      <td>38</td>\n",
       "      <td>43</td>\n",
       "      <td>29</td>\n",
       "      <td>0</td>\n",
       "      <td>0</td>\n",
       "      <td>0</td>\n",
       "      <td>0</td>\n",
       "      <td>0</td>\n",
       "      <td>0</td>\n",
       "      <td>0</td>\n",
       "      <td>187</td>\n",
       "      <td>Hospital 1District 13Instrument 1</td>\n",
       "    </tr>\n",
       "    <tr>\n",
       "      <th>3</th>\n",
       "      <td>Hospital 1</td>\n",
       "      <td>Region 1</td>\n",
       "      <td>District 13</td>\n",
       "      <td>Instrument 2</td>\n",
       "      <td>2486</td>\n",
       "      <td>3332</td>\n",
       "      <td>3193</td>\n",
       "      <td>2556</td>\n",
       "      <td>2108</td>\n",
       "      <td>2757</td>\n",
       "      <td>2639</td>\n",
       "      <td>2531</td>\n",
       "      <td>2771</td>\n",
       "      <td>2682</td>\n",
       "      <td>12317</td>\n",
       "      <td>1369</td>\n",
       "      <td>40741</td>\n",
       "      <td>Hospital 1District 13Instrument 2</td>\n",
       "    </tr>\n",
       "    <tr>\n",
       "      <th>4</th>\n",
       "      <td>Hospital 1</td>\n",
       "      <td>Region 1</td>\n",
       "      <td>District 13</td>\n",
       "      <td>Instrument 3</td>\n",
       "      <td>857</td>\n",
       "      <td>892</td>\n",
       "      <td>739</td>\n",
       "      <td>759</td>\n",
       "      <td>736</td>\n",
       "      <td>415</td>\n",
       "      <td>1203</td>\n",
       "      <td>434</td>\n",
       "      <td>448</td>\n",
       "      <td>113</td>\n",
       "      <td>829</td>\n",
       "      <td>1124</td>\n",
       "      <td>8549</td>\n",
       "      <td>Hospital 1District 13Instrument 3</td>\n",
       "    </tr>\n",
       "  </tbody>\n",
       "</table>\n",
       "</div>"
      ],
      "text/plain": [
       "  Hospital_ID Region_ID  District_ID Instrument_ID  Month 1  Month 2  Month 3  \\\n",
       "0  Hospital 1  Region 1  District 12  Instrument 2     8534     9917     7825   \n",
       "1  Hospital 1  Region 1  District 12  Instrument 3      298      298      214   \n",
       "2  Hospital 1  Region 1  District 13  Instrument 1       37       40       38   \n",
       "3  Hospital 1  Region 1  District 13  Instrument 2     2486     3332     3193   \n",
       "4  Hospital 1  Region 1  District 13  Instrument 3      857      892      739   \n",
       "\n",
       "   Month 4  Month 5  Month 6  Month 7  Month 8  Month 9  Month 10  Month 11  \\\n",
       "0    11702     8776     7755     9289     7796     7595      8292      7787   \n",
       "1      311      261      223      237      171      173       183       193   \n",
       "2       43       29        0        0        0        0         0         0   \n",
       "3     2556     2108     2757     2639     2531     2771      2682     12317   \n",
       "4      759      736      415     1203      434      448       113       829   \n",
       "\n",
       "   Month 12  Year Total                               Key1  \n",
       "0      8282      103550  Hospital 1District 12Instrument 2  \n",
       "1         0        2562  Hospital 1District 12Instrument 3  \n",
       "2         0         187  Hospital 1District 13Instrument 1  \n",
       "3      1369       40741  Hospital 1District 13Instrument 2  \n",
       "4      1124        8549  Hospital 1District 13Instrument 3  "
      ]
     },
     "execution_count": 54,
     "metadata": {},
     "output_type": "execute_result"
    }
   ],
   "source": [
    "rev.head()"
   ]
  },
  {
   "cell_type": "code",
   "execution_count": 55,
   "metadata": {
    "collapsed": true
   },
   "outputs": [],
   "source": [
    "rev=rev.drop_duplicates(subset=['Key1'])"
   ]
  },
  {
   "cell_type": "code",
   "execution_count": 56,
   "metadata": {
    "collapsed": false
   },
   "outputs": [
    {
     "data": {
      "text/html": [
       "<div>\n",
       "<table border=\"1\" class=\"dataframe\">\n",
       "  <thead>\n",
       "    <tr style=\"text-align: right;\">\n",
       "      <th></th>\n",
       "      <th>Month 1</th>\n",
       "      <th>Month 2</th>\n",
       "      <th>Month 3</th>\n",
       "      <th>Month 4</th>\n",
       "      <th>Month 5</th>\n",
       "      <th>Month 6</th>\n",
       "      <th>Month 7</th>\n",
       "      <th>Month 8</th>\n",
       "      <th>Month 9</th>\n",
       "      <th>Month 10</th>\n",
       "      <th>Month 11</th>\n",
       "      <th>Month 12</th>\n",
       "      <th>Year Total</th>\n",
       "    </tr>\n",
       "  </thead>\n",
       "  <tbody>\n",
       "    <tr>\n",
       "      <th>count</th>\n",
       "      <td>4.435300e+04</td>\n",
       "      <td>4.435300e+04</td>\n",
       "      <td>4.435300e+04</td>\n",
       "      <td>4.435300e+04</td>\n",
       "      <td>4.435300e+04</td>\n",
       "      <td>4.435300e+04</td>\n",
       "      <td>4.435300e+04</td>\n",
       "      <td>4.435300e+04</td>\n",
       "      <td>4.435300e+04</td>\n",
       "      <td>4.435300e+04</td>\n",
       "      <td>4.435300e+04</td>\n",
       "      <td>4.435300e+04</td>\n",
       "      <td>4.435300e+04</td>\n",
       "    </tr>\n",
       "    <tr>\n",
       "      <th>mean</th>\n",
       "      <td>2.439288e+03</td>\n",
       "      <td>2.515734e+03</td>\n",
       "      <td>2.562847e+03</td>\n",
       "      <td>2.480626e+03</td>\n",
       "      <td>2.641750e+03</td>\n",
       "      <td>2.692442e+03</td>\n",
       "      <td>2.608996e+03</td>\n",
       "      <td>2.609247e+03</td>\n",
       "      <td>2.658345e+03</td>\n",
       "      <td>2.638559e+03</td>\n",
       "      <td>3.179302e+03</td>\n",
       "      <td>2.639070e+03</td>\n",
       "      <td>3.166621e+04</td>\n",
       "    </tr>\n",
       "    <tr>\n",
       "      <th>std</th>\n",
       "      <td>1.955569e+04</td>\n",
       "      <td>1.722204e+04</td>\n",
       "      <td>1.852453e+04</td>\n",
       "      <td>1.774030e+04</td>\n",
       "      <td>1.931754e+04</td>\n",
       "      <td>2.028655e+04</td>\n",
       "      <td>1.898657e+04</td>\n",
       "      <td>2.098131e+04</td>\n",
       "      <td>2.158379e+04</td>\n",
       "      <td>1.970812e+04</td>\n",
       "      <td>2.903776e+04</td>\n",
       "      <td>1.912902e+04</td>\n",
       "      <td>2.110960e+05</td>\n",
       "    </tr>\n",
       "    <tr>\n",
       "      <th>min</th>\n",
       "      <td>-1.223435e+06</td>\n",
       "      <td>-1.944620e+05</td>\n",
       "      <td>-5.149670e+05</td>\n",
       "      <td>-2.932610e+05</td>\n",
       "      <td>-2.343230e+05</td>\n",
       "      <td>-3.143660e+05</td>\n",
       "      <td>-4.364940e+05</td>\n",
       "      <td>-5.097630e+05</td>\n",
       "      <td>-8.961340e+05</td>\n",
       "      <td>-2.811200e+05</td>\n",
       "      <td>-1.471149e+06</td>\n",
       "      <td>-3.068690e+05</td>\n",
       "      <td>-2.040193e+06</td>\n",
       "    </tr>\n",
       "    <tr>\n",
       "      <th>25%</th>\n",
       "      <td>0.000000e+00</td>\n",
       "      <td>0.000000e+00</td>\n",
       "      <td>0.000000e+00</td>\n",
       "      <td>0.000000e+00</td>\n",
       "      <td>0.000000e+00</td>\n",
       "      <td>0.000000e+00</td>\n",
       "      <td>0.000000e+00</td>\n",
       "      <td>0.000000e+00</td>\n",
       "      <td>0.000000e+00</td>\n",
       "      <td>0.000000e+00</td>\n",
       "      <td>0.000000e+00</td>\n",
       "      <td>0.000000e+00</td>\n",
       "      <td>2.470000e+02</td>\n",
       "    </tr>\n",
       "    <tr>\n",
       "      <th>50%</th>\n",
       "      <td>8.700000e+01</td>\n",
       "      <td>9.000000e+01</td>\n",
       "      <td>9.200000e+01</td>\n",
       "      <td>8.500000e+01</td>\n",
       "      <td>7.600000e+01</td>\n",
       "      <td>5.900000e+01</td>\n",
       "      <td>6.900000e+01</td>\n",
       "      <td>6.900000e+01</td>\n",
       "      <td>6.600000e+01</td>\n",
       "      <td>6.600000e+01</td>\n",
       "      <td>7.700000e+01</td>\n",
       "      <td>5.200000e+01</td>\n",
       "      <td>1.878000e+03</td>\n",
       "    </tr>\n",
       "    <tr>\n",
       "      <th>75%</th>\n",
       "      <td>8.130000e+02</td>\n",
       "      <td>8.150000e+02</td>\n",
       "      <td>8.400000e+02</td>\n",
       "      <td>8.190000e+02</td>\n",
       "      <td>8.180000e+02</td>\n",
       "      <td>7.560000e+02</td>\n",
       "      <td>7.690000e+02</td>\n",
       "      <td>7.490000e+02</td>\n",
       "      <td>7.440000e+02</td>\n",
       "      <td>7.430000e+02</td>\n",
       "      <td>8.130000e+02</td>\n",
       "      <td>7.250000e+02</td>\n",
       "      <td>1.167000e+04</td>\n",
       "    </tr>\n",
       "    <tr>\n",
       "      <th>max</th>\n",
       "      <td>1.600173e+06</td>\n",
       "      <td>1.254068e+06</td>\n",
       "      <td>1.330740e+06</td>\n",
       "      <td>1.273001e+06</td>\n",
       "      <td>1.506083e+06</td>\n",
       "      <td>1.444746e+06</td>\n",
       "      <td>1.376751e+06</td>\n",
       "      <td>1.201132e+06</td>\n",
       "      <td>1.558106e+06</td>\n",
       "      <td>1.375467e+06</td>\n",
       "      <td>1.414112e+06</td>\n",
       "      <td>1.386712e+06</td>\n",
       "      <td>1.546145e+07</td>\n",
       "    </tr>\n",
       "  </tbody>\n",
       "</table>\n",
       "</div>"
      ],
      "text/plain": [
       "            Month 1       Month 2       Month 3       Month 4       Month 5  \\\n",
       "count  4.435300e+04  4.435300e+04  4.435300e+04  4.435300e+04  4.435300e+04   \n",
       "mean   2.439288e+03  2.515734e+03  2.562847e+03  2.480626e+03  2.641750e+03   \n",
       "std    1.955569e+04  1.722204e+04  1.852453e+04  1.774030e+04  1.931754e+04   \n",
       "min   -1.223435e+06 -1.944620e+05 -5.149670e+05 -2.932610e+05 -2.343230e+05   \n",
       "25%    0.000000e+00  0.000000e+00  0.000000e+00  0.000000e+00  0.000000e+00   \n",
       "50%    8.700000e+01  9.000000e+01  9.200000e+01  8.500000e+01  7.600000e+01   \n",
       "75%    8.130000e+02  8.150000e+02  8.400000e+02  8.190000e+02  8.180000e+02   \n",
       "max    1.600173e+06  1.254068e+06  1.330740e+06  1.273001e+06  1.506083e+06   \n",
       "\n",
       "            Month 6       Month 7       Month 8       Month 9      Month 10  \\\n",
       "count  4.435300e+04  4.435300e+04  4.435300e+04  4.435300e+04  4.435300e+04   \n",
       "mean   2.692442e+03  2.608996e+03  2.609247e+03  2.658345e+03  2.638559e+03   \n",
       "std    2.028655e+04  1.898657e+04  2.098131e+04  2.158379e+04  1.970812e+04   \n",
       "min   -3.143660e+05 -4.364940e+05 -5.097630e+05 -8.961340e+05 -2.811200e+05   \n",
       "25%    0.000000e+00  0.000000e+00  0.000000e+00  0.000000e+00  0.000000e+00   \n",
       "50%    5.900000e+01  6.900000e+01  6.900000e+01  6.600000e+01  6.600000e+01   \n",
       "75%    7.560000e+02  7.690000e+02  7.490000e+02  7.440000e+02  7.430000e+02   \n",
       "max    1.444746e+06  1.376751e+06  1.201132e+06  1.558106e+06  1.375467e+06   \n",
       "\n",
       "           Month 11      Month 12    Year Total  \n",
       "count  4.435300e+04  4.435300e+04  4.435300e+04  \n",
       "mean   3.179302e+03  2.639070e+03  3.166621e+04  \n",
       "std    2.903776e+04  1.912902e+04  2.110960e+05  \n",
       "min   -1.471149e+06 -3.068690e+05 -2.040193e+06  \n",
       "25%    0.000000e+00  0.000000e+00  2.470000e+02  \n",
       "50%    7.700000e+01  5.200000e+01  1.878000e+03  \n",
       "75%    8.130000e+02  7.250000e+02  1.167000e+04  \n",
       "max    1.414112e+06  1.386712e+06  1.546145e+07  "
      ]
     },
     "execution_count": 56,
     "metadata": {},
     "output_type": "execute_result"
    }
   ],
   "source": [
    "rev.describe()"
   ]
  },
  {
   "cell_type": "code",
   "execution_count": 58,
   "metadata": {
    "collapsed": true
   },
   "outputs": [],
   "source": [
    "rev['Key2']=rev.Hospital_ID+rev.District_ID"
   ]
  },
  {
   "cell_type": "code",
   "execution_count": 59,
   "metadata": {
    "collapsed": false
   },
   "outputs": [
    {
     "data": {
      "text/html": [
       "<div>\n",
       "<table border=\"1\" class=\"dataframe\">\n",
       "  <thead>\n",
       "    <tr style=\"text-align: right;\">\n",
       "      <th></th>\n",
       "      <th>Hospital_ID</th>\n",
       "      <th>Region_ID</th>\n",
       "      <th>District_ID</th>\n",
       "      <th>Instrument_ID</th>\n",
       "      <th>Month 1</th>\n",
       "      <th>Month 2</th>\n",
       "      <th>Month 3</th>\n",
       "      <th>Month 4</th>\n",
       "      <th>Month 5</th>\n",
       "      <th>Month 6</th>\n",
       "      <th>Month 7</th>\n",
       "      <th>Month 8</th>\n",
       "      <th>Month 9</th>\n",
       "      <th>Month 10</th>\n",
       "      <th>Month 11</th>\n",
       "      <th>Month 12</th>\n",
       "      <th>Year Total</th>\n",
       "      <th>Key1</th>\n",
       "      <th>Key2</th>\n",
       "    </tr>\n",
       "  </thead>\n",
       "  <tbody>\n",
       "    <tr>\n",
       "      <th>0</th>\n",
       "      <td>Hospital 1</td>\n",
       "      <td>Region 1</td>\n",
       "      <td>District 12</td>\n",
       "      <td>Instrument 2</td>\n",
       "      <td>8534</td>\n",
       "      <td>9917</td>\n",
       "      <td>7825</td>\n",
       "      <td>11702</td>\n",
       "      <td>8776</td>\n",
       "      <td>7755</td>\n",
       "      <td>9289</td>\n",
       "      <td>7796</td>\n",
       "      <td>7595</td>\n",
       "      <td>8292</td>\n",
       "      <td>7787</td>\n",
       "      <td>8282</td>\n",
       "      <td>103550</td>\n",
       "      <td>Hospital 1District 12Instrument 2</td>\n",
       "      <td>Hospital 1District 12</td>\n",
       "    </tr>\n",
       "    <tr>\n",
       "      <th>1</th>\n",
       "      <td>Hospital 1</td>\n",
       "      <td>Region 1</td>\n",
       "      <td>District 12</td>\n",
       "      <td>Instrument 3</td>\n",
       "      <td>298</td>\n",
       "      <td>298</td>\n",
       "      <td>214</td>\n",
       "      <td>311</td>\n",
       "      <td>261</td>\n",
       "      <td>223</td>\n",
       "      <td>237</td>\n",
       "      <td>171</td>\n",
       "      <td>173</td>\n",
       "      <td>183</td>\n",
       "      <td>193</td>\n",
       "      <td>0</td>\n",
       "      <td>2562</td>\n",
       "      <td>Hospital 1District 12Instrument 3</td>\n",
       "      <td>Hospital 1District 12</td>\n",
       "    </tr>\n",
       "    <tr>\n",
       "      <th>2</th>\n",
       "      <td>Hospital 1</td>\n",
       "      <td>Region 1</td>\n",
       "      <td>District 13</td>\n",
       "      <td>Instrument 1</td>\n",
       "      <td>37</td>\n",
       "      <td>40</td>\n",
       "      <td>38</td>\n",
       "      <td>43</td>\n",
       "      <td>29</td>\n",
       "      <td>0</td>\n",
       "      <td>0</td>\n",
       "      <td>0</td>\n",
       "      <td>0</td>\n",
       "      <td>0</td>\n",
       "      <td>0</td>\n",
       "      <td>0</td>\n",
       "      <td>187</td>\n",
       "      <td>Hospital 1District 13Instrument 1</td>\n",
       "      <td>Hospital 1District 13</td>\n",
       "    </tr>\n",
       "  </tbody>\n",
       "</table>\n",
       "</div>"
      ],
      "text/plain": [
       "  Hospital_ID Region_ID  District_ID Instrument_ID  Month 1  Month 2  Month 3  \\\n",
       "0  Hospital 1  Region 1  District 12  Instrument 2     8534     9917     7825   \n",
       "1  Hospital 1  Region 1  District 12  Instrument 3      298      298      214   \n",
       "2  Hospital 1  Region 1  District 13  Instrument 1       37       40       38   \n",
       "\n",
       "   Month 4  Month 5  Month 6  Month 7  Month 8  Month 9  Month 10  Month 11  \\\n",
       "0    11702     8776     7755     9289     7796     7595      8292      7787   \n",
       "1      311      261      223      237      171      173       183       193   \n",
       "2       43       29        0        0        0        0         0         0   \n",
       "\n",
       "   Month 12  Year Total                               Key1  \\\n",
       "0      8282      103550  Hospital 1District 12Instrument 2   \n",
       "1         0        2562  Hospital 1District 12Instrument 3   \n",
       "2         0         187  Hospital 1District 13Instrument 1   \n",
       "\n",
       "                    Key2  \n",
       "0  Hospital 1District 12  \n",
       "1  Hospital 1District 12  \n",
       "2  Hospital 1District 13  "
      ]
     },
     "execution_count": 59,
     "metadata": {},
     "output_type": "execute_result"
    }
   ],
   "source": [
    "rev.head(3)"
   ]
  },
  {
   "cell_type": "code",
   "execution_count": 60,
   "metadata": {
    "collapsed": false
   },
   "outputs": [
    {
     "data": {
      "text/plain": [
       "Hospital_ID      0\n",
       "Region_ID        0\n",
       "District_ID      0\n",
       "Instrument_ID    0\n",
       "Month 1          0\n",
       "Month 2          0\n",
       "Month 3          0\n",
       "Month 4          0\n",
       "Month 5          0\n",
       "Month 6          0\n",
       "Month 7          0\n",
       "Month 8          0\n",
       "Month 9          0\n",
       "Month 10         0\n",
       "Month 11         0\n",
       "Month 12         0\n",
       "Year Total       0\n",
       "Key1             0\n",
       "Key2             0\n",
       "dtype: int64"
      ]
     },
     "execution_count": 60,
     "metadata": {},
     "output_type": "execute_result"
    }
   ],
   "source": [
    "rev[(rev.District_ID == 'No Distrct Available')].count()"
   ]
  },
  {
   "cell_type": "raw",
   "metadata": {},
   "source": [
    "#Merge dfs."
   ]
  },
  {
   "cell_type": "code",
   "execution_count": 61,
   "metadata": {
    "collapsed": true
   },
   "outputs": [],
   "source": [
    "rev_time=rev.copy()"
   ]
  },
  {
   "cell_type": "code",
   "execution_count": 62,
   "metadata": {
    "collapsed": true
   },
   "outputs": [],
   "source": [
    "del rev['Month 1']"
   ]
  },
  {
   "cell_type": "code",
   "execution_count": 63,
   "metadata": {
    "collapsed": false
   },
   "outputs": [
    {
     "data": {
      "text/html": [
       "<div>\n",
       "<table border=\"1\" class=\"dataframe\">\n",
       "  <thead>\n",
       "    <tr style=\"text-align: right;\">\n",
       "      <th></th>\n",
       "      <th>Hospital_ID</th>\n",
       "      <th>Region_ID</th>\n",
       "      <th>District_ID</th>\n",
       "      <th>Instrument_ID</th>\n",
       "      <th>Month 2</th>\n",
       "      <th>Month 3</th>\n",
       "      <th>Month 4</th>\n",
       "      <th>Month 5</th>\n",
       "      <th>Month 6</th>\n",
       "      <th>Month 7</th>\n",
       "      <th>Month 8</th>\n",
       "      <th>Month 9</th>\n",
       "      <th>Month 10</th>\n",
       "      <th>Month 11</th>\n",
       "      <th>Month 12</th>\n",
       "      <th>Year Total</th>\n",
       "      <th>Key1</th>\n",
       "      <th>Key2</th>\n",
       "    </tr>\n",
       "  </thead>\n",
       "  <tbody>\n",
       "    <tr>\n",
       "      <th>0</th>\n",
       "      <td>Hospital 1</td>\n",
       "      <td>Region 1</td>\n",
       "      <td>District 12</td>\n",
       "      <td>Instrument 2</td>\n",
       "      <td>9917</td>\n",
       "      <td>7825</td>\n",
       "      <td>11702</td>\n",
       "      <td>8776</td>\n",
       "      <td>7755</td>\n",
       "      <td>9289</td>\n",
       "      <td>7796</td>\n",
       "      <td>7595</td>\n",
       "      <td>8292</td>\n",
       "      <td>7787</td>\n",
       "      <td>8282</td>\n",
       "      <td>103550</td>\n",
       "      <td>Hospital 1District 12Instrument 2</td>\n",
       "      <td>Hospital 1District 12</td>\n",
       "    </tr>\n",
       "    <tr>\n",
       "      <th>1</th>\n",
       "      <td>Hospital 1</td>\n",
       "      <td>Region 1</td>\n",
       "      <td>District 12</td>\n",
       "      <td>Instrument 3</td>\n",
       "      <td>298</td>\n",
       "      <td>214</td>\n",
       "      <td>311</td>\n",
       "      <td>261</td>\n",
       "      <td>223</td>\n",
       "      <td>237</td>\n",
       "      <td>171</td>\n",
       "      <td>173</td>\n",
       "      <td>183</td>\n",
       "      <td>193</td>\n",
       "      <td>0</td>\n",
       "      <td>2562</td>\n",
       "      <td>Hospital 1District 12Instrument 3</td>\n",
       "      <td>Hospital 1District 12</td>\n",
       "    </tr>\n",
       "    <tr>\n",
       "      <th>2</th>\n",
       "      <td>Hospital 1</td>\n",
       "      <td>Region 1</td>\n",
       "      <td>District 13</td>\n",
       "      <td>Instrument 1</td>\n",
       "      <td>40</td>\n",
       "      <td>38</td>\n",
       "      <td>43</td>\n",
       "      <td>29</td>\n",
       "      <td>0</td>\n",
       "      <td>0</td>\n",
       "      <td>0</td>\n",
       "      <td>0</td>\n",
       "      <td>0</td>\n",
       "      <td>0</td>\n",
       "      <td>0</td>\n",
       "      <td>187</td>\n",
       "      <td>Hospital 1District 13Instrument 1</td>\n",
       "      <td>Hospital 1District 13</td>\n",
       "    </tr>\n",
       "    <tr>\n",
       "      <th>3</th>\n",
       "      <td>Hospital 1</td>\n",
       "      <td>Region 1</td>\n",
       "      <td>District 13</td>\n",
       "      <td>Instrument 2</td>\n",
       "      <td>3332</td>\n",
       "      <td>3193</td>\n",
       "      <td>2556</td>\n",
       "      <td>2108</td>\n",
       "      <td>2757</td>\n",
       "      <td>2639</td>\n",
       "      <td>2531</td>\n",
       "      <td>2771</td>\n",
       "      <td>2682</td>\n",
       "      <td>12317</td>\n",
       "      <td>1369</td>\n",
       "      <td>40741</td>\n",
       "      <td>Hospital 1District 13Instrument 2</td>\n",
       "      <td>Hospital 1District 13</td>\n",
       "    </tr>\n",
       "    <tr>\n",
       "      <th>4</th>\n",
       "      <td>Hospital 1</td>\n",
       "      <td>Region 1</td>\n",
       "      <td>District 13</td>\n",
       "      <td>Instrument 3</td>\n",
       "      <td>892</td>\n",
       "      <td>739</td>\n",
       "      <td>759</td>\n",
       "      <td>736</td>\n",
       "      <td>415</td>\n",
       "      <td>1203</td>\n",
       "      <td>434</td>\n",
       "      <td>448</td>\n",
       "      <td>113</td>\n",
       "      <td>829</td>\n",
       "      <td>1124</td>\n",
       "      <td>8549</td>\n",
       "      <td>Hospital 1District 13Instrument 3</td>\n",
       "      <td>Hospital 1District 13</td>\n",
       "    </tr>\n",
       "  </tbody>\n",
       "</table>\n",
       "</div>"
      ],
      "text/plain": [
       "  Hospital_ID Region_ID  District_ID Instrument_ID  Month 2  Month 3  Month 4  \\\n",
       "0  Hospital 1  Region 1  District 12  Instrument 2     9917     7825    11702   \n",
       "1  Hospital 1  Region 1  District 12  Instrument 3      298      214      311   \n",
       "2  Hospital 1  Region 1  District 13  Instrument 1       40       38       43   \n",
       "3  Hospital 1  Region 1  District 13  Instrument 2     3332     3193     2556   \n",
       "4  Hospital 1  Region 1  District 13  Instrument 3      892      739      759   \n",
       "\n",
       "   Month 5  Month 6  Month 7  Month 8  Month 9  Month 10  Month 11  Month 12  \\\n",
       "0     8776     7755     9289     7796     7595      8292      7787      8282   \n",
       "1      261      223      237      171      173       183       193         0   \n",
       "2       29        0        0        0        0         0         0         0   \n",
       "3     2108     2757     2639     2531     2771      2682     12317      1369   \n",
       "4      736      415     1203      434      448       113       829      1124   \n",
       "\n",
       "   Year Total                               Key1                   Key2  \n",
       "0      103550  Hospital 1District 12Instrument 2  Hospital 1District 12  \n",
       "1        2562  Hospital 1District 12Instrument 3  Hospital 1District 12  \n",
       "2         187  Hospital 1District 13Instrument 1  Hospital 1District 13  \n",
       "3       40741  Hospital 1District 13Instrument 2  Hospital 1District 13  \n",
       "4        8549  Hospital 1District 13Instrument 3  Hospital 1District 13  "
      ]
     },
     "execution_count": 63,
     "metadata": {},
     "output_type": "execute_result"
    }
   ],
   "source": [
    "rev.head()"
   ]
  },
  {
   "cell_type": "code",
   "execution_count": 64,
   "metadata": {
    "collapsed": false
   },
   "outputs": [],
   "source": [
    "del rev['Month 2']"
   ]
  },
  {
   "cell_type": "code",
   "execution_count": 65,
   "metadata": {
    "collapsed": true
   },
   "outputs": [],
   "source": [
    "del rev['Month 3']"
   ]
  },
  {
   "cell_type": "code",
   "execution_count": 66,
   "metadata": {
    "collapsed": true
   },
   "outputs": [],
   "source": [
    "del rev['Month 4']"
   ]
  },
  {
   "cell_type": "code",
   "execution_count": 67,
   "metadata": {
    "collapsed": true
   },
   "outputs": [],
   "source": [
    "del rev['Month 5']"
   ]
  },
  {
   "cell_type": "code",
   "execution_count": 68,
   "metadata": {
    "collapsed": true
   },
   "outputs": [],
   "source": [
    "del rev['Month 6']"
   ]
  },
  {
   "cell_type": "code",
   "execution_count": 69,
   "metadata": {
    "collapsed": true
   },
   "outputs": [],
   "source": [
    "del rev['Month 7']"
   ]
  },
  {
   "cell_type": "code",
   "execution_count": 70,
   "metadata": {
    "collapsed": true
   },
   "outputs": [],
   "source": [
    "del rev['Month 8']"
   ]
  },
  {
   "cell_type": "code",
   "execution_count": 71,
   "metadata": {
    "collapsed": true
   },
   "outputs": [],
   "source": [
    "del rev['Month 9']"
   ]
  },
  {
   "cell_type": "code",
   "execution_count": 72,
   "metadata": {
    "collapsed": true
   },
   "outputs": [],
   "source": [
    "del rev['Month 10']"
   ]
  },
  {
   "cell_type": "code",
   "execution_count": 73,
   "metadata": {
    "collapsed": true
   },
   "outputs": [],
   "source": [
    "del rev['Month 11']"
   ]
  },
  {
   "cell_type": "code",
   "execution_count": 74,
   "metadata": {
    "collapsed": true
   },
   "outputs": [],
   "source": [
    "del rev['Month 12']"
   ]
  },
  {
   "cell_type": "code",
   "execution_count": 75,
   "metadata": {
    "collapsed": false
   },
   "outputs": [
    {
     "data": {
      "text/html": [
       "<div>\n",
       "<table border=\"1\" class=\"dataframe\">\n",
       "  <thead>\n",
       "    <tr style=\"text-align: right;\">\n",
       "      <th></th>\n",
       "      <th>Hospital_ID</th>\n",
       "      <th>Region_ID</th>\n",
       "      <th>District_ID</th>\n",
       "      <th>Instrument_ID</th>\n",
       "      <th>Year Total</th>\n",
       "      <th>Key1</th>\n",
       "      <th>Key2</th>\n",
       "    </tr>\n",
       "  </thead>\n",
       "  <tbody>\n",
       "    <tr>\n",
       "      <th>0</th>\n",
       "      <td>Hospital 1</td>\n",
       "      <td>Region 1</td>\n",
       "      <td>District 12</td>\n",
       "      <td>Instrument 2</td>\n",
       "      <td>103550</td>\n",
       "      <td>Hospital 1District 12Instrument 2</td>\n",
       "      <td>Hospital 1District 12</td>\n",
       "    </tr>\n",
       "    <tr>\n",
       "      <th>1</th>\n",
       "      <td>Hospital 1</td>\n",
       "      <td>Region 1</td>\n",
       "      <td>District 12</td>\n",
       "      <td>Instrument 3</td>\n",
       "      <td>2562</td>\n",
       "      <td>Hospital 1District 12Instrument 3</td>\n",
       "      <td>Hospital 1District 12</td>\n",
       "    </tr>\n",
       "    <tr>\n",
       "      <th>2</th>\n",
       "      <td>Hospital 1</td>\n",
       "      <td>Region 1</td>\n",
       "      <td>District 13</td>\n",
       "      <td>Instrument 1</td>\n",
       "      <td>187</td>\n",
       "      <td>Hospital 1District 13Instrument 1</td>\n",
       "      <td>Hospital 1District 13</td>\n",
       "    </tr>\n",
       "    <tr>\n",
       "      <th>3</th>\n",
       "      <td>Hospital 1</td>\n",
       "      <td>Region 1</td>\n",
       "      <td>District 13</td>\n",
       "      <td>Instrument 2</td>\n",
       "      <td>40741</td>\n",
       "      <td>Hospital 1District 13Instrument 2</td>\n",
       "      <td>Hospital 1District 13</td>\n",
       "    </tr>\n",
       "    <tr>\n",
       "      <th>4</th>\n",
       "      <td>Hospital 1</td>\n",
       "      <td>Region 1</td>\n",
       "      <td>District 13</td>\n",
       "      <td>Instrument 3</td>\n",
       "      <td>8549</td>\n",
       "      <td>Hospital 1District 13Instrument 3</td>\n",
       "      <td>Hospital 1District 13</td>\n",
       "    </tr>\n",
       "  </tbody>\n",
       "</table>\n",
       "</div>"
      ],
      "text/plain": [
       "  Hospital_ID Region_ID  District_ID Instrument_ID  Year Total  \\\n",
       "0  Hospital 1  Region 1  District 12  Instrument 2      103550   \n",
       "1  Hospital 1  Region 1  District 12  Instrument 3        2562   \n",
       "2  Hospital 1  Region 1  District 13  Instrument 1         187   \n",
       "3  Hospital 1  Region 1  District 13  Instrument 2       40741   \n",
       "4  Hospital 1  Region 1  District 13  Instrument 3        8549   \n",
       "\n",
       "                                Key1                   Key2  \n",
       "0  Hospital 1District 12Instrument 2  Hospital 1District 12  \n",
       "1  Hospital 1District 12Instrument 3  Hospital 1District 12  \n",
       "2  Hospital 1District 13Instrument 1  Hospital 1District 13  \n",
       "3  Hospital 1District 13Instrument 2  Hospital 1District 13  \n",
       "4  Hospital 1District 13Instrument 3  Hospital 1District 13  "
      ]
     },
     "execution_count": 75,
     "metadata": {},
     "output_type": "execute_result"
    }
   ],
   "source": [
    "rev.head()"
   ]
  },
  {
   "cell_type": "code",
   "execution_count": 76,
   "metadata": {
    "collapsed": false
   },
   "outputs": [],
   "source": [
    "del rev['Year Total']"
   ]
  },
  {
   "cell_type": "code",
   "execution_count": 77,
   "metadata": {
    "collapsed": true
   },
   "outputs": [],
   "source": [
    "rev['Year Total']=rev_time['Year Total']"
   ]
  },
  {
   "cell_type": "code",
   "execution_count": 78,
   "metadata": {
    "collapsed": false
   },
   "outputs": [
    {
     "data": {
      "text/html": [
       "<div>\n",
       "<table border=\"1\" class=\"dataframe\">\n",
       "  <thead>\n",
       "    <tr style=\"text-align: right;\">\n",
       "      <th></th>\n",
       "      <th>Hospital_ID</th>\n",
       "      <th>Region_ID</th>\n",
       "      <th>District_ID</th>\n",
       "      <th>Instrument_ID</th>\n",
       "      <th>Key1</th>\n",
       "      <th>Key2</th>\n",
       "      <th>Year Total</th>\n",
       "    </tr>\n",
       "  </thead>\n",
       "  <tbody>\n",
       "    <tr>\n",
       "      <th>0</th>\n",
       "      <td>Hospital 1</td>\n",
       "      <td>Region 1</td>\n",
       "      <td>District 12</td>\n",
       "      <td>Instrument 2</td>\n",
       "      <td>Hospital 1District 12Instrument 2</td>\n",
       "      <td>Hospital 1District 12</td>\n",
       "      <td>103550</td>\n",
       "    </tr>\n",
       "    <tr>\n",
       "      <th>1</th>\n",
       "      <td>Hospital 1</td>\n",
       "      <td>Region 1</td>\n",
       "      <td>District 12</td>\n",
       "      <td>Instrument 3</td>\n",
       "      <td>Hospital 1District 12Instrument 3</td>\n",
       "      <td>Hospital 1District 12</td>\n",
       "      <td>2562</td>\n",
       "    </tr>\n",
       "    <tr>\n",
       "      <th>2</th>\n",
       "      <td>Hospital 1</td>\n",
       "      <td>Region 1</td>\n",
       "      <td>District 13</td>\n",
       "      <td>Instrument 1</td>\n",
       "      <td>Hospital 1District 13Instrument 1</td>\n",
       "      <td>Hospital 1District 13</td>\n",
       "      <td>187</td>\n",
       "    </tr>\n",
       "    <tr>\n",
       "      <th>3</th>\n",
       "      <td>Hospital 1</td>\n",
       "      <td>Region 1</td>\n",
       "      <td>District 13</td>\n",
       "      <td>Instrument 2</td>\n",
       "      <td>Hospital 1District 13Instrument 2</td>\n",
       "      <td>Hospital 1District 13</td>\n",
       "      <td>40741</td>\n",
       "    </tr>\n",
       "    <tr>\n",
       "      <th>4</th>\n",
       "      <td>Hospital 1</td>\n",
       "      <td>Region 1</td>\n",
       "      <td>District 13</td>\n",
       "      <td>Instrument 3</td>\n",
       "      <td>Hospital 1District 13Instrument 3</td>\n",
       "      <td>Hospital 1District 13</td>\n",
       "      <td>8549</td>\n",
       "    </tr>\n",
       "  </tbody>\n",
       "</table>\n",
       "</div>"
      ],
      "text/plain": [
       "  Hospital_ID Region_ID  District_ID Instrument_ID  \\\n",
       "0  Hospital 1  Region 1  District 12  Instrument 2   \n",
       "1  Hospital 1  Region 1  District 12  Instrument 3   \n",
       "2  Hospital 1  Region 1  District 13  Instrument 1   \n",
       "3  Hospital 1  Region 1  District 13  Instrument 2   \n",
       "4  Hospital 1  Region 1  District 13  Instrument 3   \n",
       "\n",
       "                                Key1                   Key2  Year Total  \n",
       "0  Hospital 1District 12Instrument 2  Hospital 1District 12      103550  \n",
       "1  Hospital 1District 12Instrument 3  Hospital 1District 12        2562  \n",
       "2  Hospital 1District 13Instrument 1  Hospital 1District 13         187  \n",
       "3  Hospital 1District 13Instrument 2  Hospital 1District 13       40741  \n",
       "4  Hospital 1District 13Instrument 3  Hospital 1District 13        8549  "
      ]
     },
     "execution_count": 78,
     "metadata": {},
     "output_type": "execute_result"
    }
   ],
   "source": [
    "rev.head()"
   ]
  },
  {
   "cell_type": "code",
   "execution_count": 79,
   "metadata": {
    "collapsed": false
   },
   "outputs": [
    {
     "ename": "KeyError",
     "evalue": "'Year Totals'",
     "output_type": "error",
     "traceback": [
      "\u001b[1;31m---------------------------------------------------------------------------\u001b[0m",
      "\u001b[1;31mKeyError\u001b[0m                                  Traceback (most recent call last)",
      "\u001b[1;32m<ipython-input-79-766c63c49916>\u001b[0m in \u001b[0;36m<module>\u001b[1;34m()\u001b[0m\n\u001b[1;32m----> 1\u001b[1;33m \u001b[1;32mdel\u001b[0m \u001b[0mrev\u001b[0m\u001b[1;33m[\u001b[0m\u001b[1;34m'Year Totals'\u001b[0m\u001b[1;33m]\u001b[0m\u001b[1;33m\u001b[0m\u001b[0m\n\u001b[0m",
      "\u001b[1;32mC:\\Users\\dell pc\\Anaconda2\\lib\\site-packages\\pandas\\core\\generic.pyc\u001b[0m in \u001b[0;36m__delitem__\u001b[1;34m(self, key)\u001b[0m\n\u001b[0;32m   1604\u001b[0m             \u001b[1;31m# there was no match, this call should raise the appropriate\u001b[0m\u001b[1;33m\u001b[0m\u001b[1;33m\u001b[0m\u001b[0m\n\u001b[0;32m   1605\u001b[0m             \u001b[1;31m# exception:\u001b[0m\u001b[1;33m\u001b[0m\u001b[1;33m\u001b[0m\u001b[0m\n\u001b[1;32m-> 1606\u001b[1;33m             \u001b[0mself\u001b[0m\u001b[1;33m.\u001b[0m\u001b[0m_data\u001b[0m\u001b[1;33m.\u001b[0m\u001b[0mdelete\u001b[0m\u001b[1;33m(\u001b[0m\u001b[0mkey\u001b[0m\u001b[1;33m)\u001b[0m\u001b[1;33m\u001b[0m\u001b[0m\n\u001b[0m\u001b[0;32m   1607\u001b[0m \u001b[1;33m\u001b[0m\u001b[0m\n\u001b[0;32m   1608\u001b[0m         \u001b[1;31m# delete from the caches\u001b[0m\u001b[1;33m\u001b[0m\u001b[1;33m\u001b[0m\u001b[0m\n",
      "\u001b[1;32mC:\\Users\\dell pc\\Anaconda2\\lib\\site-packages\\pandas\\core\\internals.pyc\u001b[0m in \u001b[0;36mdelete\u001b[1;34m(self, item)\u001b[0m\n\u001b[0;32m   3347\u001b[0m         \u001b[0mDelete\u001b[0m \u001b[0mselected\u001b[0m \u001b[0mitem\u001b[0m \u001b[1;33m(\u001b[0m\u001b[0mitems\u001b[0m \u001b[1;32mif\u001b[0m \u001b[0mnon\u001b[0m\u001b[1;33m-\u001b[0m\u001b[0munique\u001b[0m\u001b[1;33m)\u001b[0m \u001b[1;32min\u001b[0m\u001b[1;33m-\u001b[0m\u001b[0mplace\u001b[0m\u001b[1;33m.\u001b[0m\u001b[1;33m\u001b[0m\u001b[0m\n\u001b[0;32m   3348\u001b[0m         \"\"\"\n\u001b[1;32m-> 3349\u001b[1;33m         \u001b[0mindexer\u001b[0m \u001b[1;33m=\u001b[0m \u001b[0mself\u001b[0m\u001b[1;33m.\u001b[0m\u001b[0mitems\u001b[0m\u001b[1;33m.\u001b[0m\u001b[0mget_loc\u001b[0m\u001b[1;33m(\u001b[0m\u001b[0mitem\u001b[0m\u001b[1;33m)\u001b[0m\u001b[1;33m\u001b[0m\u001b[0m\n\u001b[0m\u001b[0;32m   3350\u001b[0m \u001b[1;33m\u001b[0m\u001b[0m\n\u001b[0;32m   3351\u001b[0m         \u001b[0mis_deleted\u001b[0m \u001b[1;33m=\u001b[0m \u001b[0mnp\u001b[0m\u001b[1;33m.\u001b[0m\u001b[0mzeros\u001b[0m\u001b[1;33m(\u001b[0m\u001b[0mself\u001b[0m\u001b[1;33m.\u001b[0m\u001b[0mshape\u001b[0m\u001b[1;33m[\u001b[0m\u001b[1;36m0\u001b[0m\u001b[1;33m]\u001b[0m\u001b[1;33m,\u001b[0m \u001b[0mdtype\u001b[0m\u001b[1;33m=\u001b[0m\u001b[0mnp\u001b[0m\u001b[1;33m.\u001b[0m\u001b[0mbool_\u001b[0m\u001b[1;33m)\u001b[0m\u001b[1;33m\u001b[0m\u001b[0m\n",
      "\u001b[1;32mC:\\Users\\dell pc\\Anaconda2\\lib\\site-packages\\pandas\\indexes\\base.pyc\u001b[0m in \u001b[0;36mget_loc\u001b[1;34m(self, key, method, tolerance)\u001b[0m\n\u001b[0;32m   1945\u001b[0m                 \u001b[1;32mreturn\u001b[0m \u001b[0mself\u001b[0m\u001b[1;33m.\u001b[0m\u001b[0m_engine\u001b[0m\u001b[1;33m.\u001b[0m\u001b[0mget_loc\u001b[0m\u001b[1;33m(\u001b[0m\u001b[0mkey\u001b[0m\u001b[1;33m)\u001b[0m\u001b[1;33m\u001b[0m\u001b[0m\n\u001b[0;32m   1946\u001b[0m             \u001b[1;32mexcept\u001b[0m \u001b[0mKeyError\u001b[0m\u001b[1;33m:\u001b[0m\u001b[1;33m\u001b[0m\u001b[0m\n\u001b[1;32m-> 1947\u001b[1;33m                 \u001b[1;32mreturn\u001b[0m \u001b[0mself\u001b[0m\u001b[1;33m.\u001b[0m\u001b[0m_engine\u001b[0m\u001b[1;33m.\u001b[0m\u001b[0mget_loc\u001b[0m\u001b[1;33m(\u001b[0m\u001b[0mself\u001b[0m\u001b[1;33m.\u001b[0m\u001b[0m_maybe_cast_indexer\u001b[0m\u001b[1;33m(\u001b[0m\u001b[0mkey\u001b[0m\u001b[1;33m)\u001b[0m\u001b[1;33m)\u001b[0m\u001b[1;33m\u001b[0m\u001b[0m\n\u001b[0m\u001b[0;32m   1948\u001b[0m \u001b[1;33m\u001b[0m\u001b[0m\n\u001b[0;32m   1949\u001b[0m         \u001b[0mindexer\u001b[0m \u001b[1;33m=\u001b[0m \u001b[0mself\u001b[0m\u001b[1;33m.\u001b[0m\u001b[0mget_indexer\u001b[0m\u001b[1;33m(\u001b[0m\u001b[1;33m[\u001b[0m\u001b[0mkey\u001b[0m\u001b[1;33m]\u001b[0m\u001b[1;33m,\u001b[0m \u001b[0mmethod\u001b[0m\u001b[1;33m=\u001b[0m\u001b[0mmethod\u001b[0m\u001b[1;33m,\u001b[0m \u001b[0mtolerance\u001b[0m\u001b[1;33m=\u001b[0m\u001b[0mtolerance\u001b[0m\u001b[1;33m)\u001b[0m\u001b[1;33m\u001b[0m\u001b[0m\n",
      "\u001b[1;32mpandas\\index.pyx\u001b[0m in \u001b[0;36mpandas.index.IndexEngine.get_loc (pandas\\index.c:4154)\u001b[1;34m()\u001b[0m\n",
      "\u001b[1;32mpandas\\index.pyx\u001b[0m in \u001b[0;36mpandas.index.IndexEngine.get_loc (pandas\\index.c:4018)\u001b[1;34m()\u001b[0m\n",
      "\u001b[1;32mpandas\\hashtable.pyx\u001b[0m in \u001b[0;36mpandas.hashtable.PyObjectHashTable.get_item (pandas\\hashtable.c:12368)\u001b[1;34m()\u001b[0m\n",
      "\u001b[1;32mpandas\\hashtable.pyx\u001b[0m in \u001b[0;36mpandas.hashtable.PyObjectHashTable.get_item (pandas\\hashtable.c:12322)\u001b[1;34m()\u001b[0m\n",
      "\u001b[1;31mKeyError\u001b[0m: 'Year Totals'"
     ]
    }
   ],
   "source": [
    "del rev['Year Totals']"
   ]
  },
  {
   "cell_type": "raw",
   "metadata": {},
   "source": [
    "Merge will now happen."
   ]
  },
  {
   "cell_type": "code",
   "execution_count": 80,
   "metadata": {
    "collapsed": false
   },
   "outputs": [
    {
     "data": {
      "text/html": [
       "<div>\n",
       "<table border=\"1\" class=\"dataframe\">\n",
       "  <thead>\n",
       "    <tr style=\"text-align: right;\">\n",
       "      <th></th>\n",
       "      <th>Hospital_ID</th>\n",
       "      <th>Region_ID</th>\n",
       "      <th>District_ID</th>\n",
       "      <th>Instrument_ID</th>\n",
       "      <th>Key1</th>\n",
       "      <th>Key2</th>\n",
       "      <th>Year Total</th>\n",
       "    </tr>\n",
       "  </thead>\n",
       "  <tbody>\n",
       "    <tr>\n",
       "      <th>0</th>\n",
       "      <td>Hospital 1</td>\n",
       "      <td>Region 1</td>\n",
       "      <td>District 12</td>\n",
       "      <td>Instrument 2</td>\n",
       "      <td>Hospital 1District 12Instrument 2</td>\n",
       "      <td>Hospital 1District 12</td>\n",
       "      <td>103550</td>\n",
       "    </tr>\n",
       "    <tr>\n",
       "      <th>1</th>\n",
       "      <td>Hospital 1</td>\n",
       "      <td>Region 1</td>\n",
       "      <td>District 12</td>\n",
       "      <td>Instrument 3</td>\n",
       "      <td>Hospital 1District 12Instrument 3</td>\n",
       "      <td>Hospital 1District 12</td>\n",
       "      <td>2562</td>\n",
       "    </tr>\n",
       "    <tr>\n",
       "      <th>2</th>\n",
       "      <td>Hospital 1</td>\n",
       "      <td>Region 1</td>\n",
       "      <td>District 13</td>\n",
       "      <td>Instrument 1</td>\n",
       "      <td>Hospital 1District 13Instrument 1</td>\n",
       "      <td>Hospital 1District 13</td>\n",
       "      <td>187</td>\n",
       "    </tr>\n",
       "    <tr>\n",
       "      <th>3</th>\n",
       "      <td>Hospital 1</td>\n",
       "      <td>Region 1</td>\n",
       "      <td>District 13</td>\n",
       "      <td>Instrument 2</td>\n",
       "      <td>Hospital 1District 13Instrument 2</td>\n",
       "      <td>Hospital 1District 13</td>\n",
       "      <td>40741</td>\n",
       "    </tr>\n",
       "    <tr>\n",
       "      <th>4</th>\n",
       "      <td>Hospital 1</td>\n",
       "      <td>Region 1</td>\n",
       "      <td>District 13</td>\n",
       "      <td>Instrument 3</td>\n",
       "      <td>Hospital 1District 13Instrument 3</td>\n",
       "      <td>Hospital 1District 13</td>\n",
       "      <td>8549</td>\n",
       "    </tr>\n",
       "  </tbody>\n",
       "</table>\n",
       "</div>"
      ],
      "text/plain": [
       "  Hospital_ID Region_ID  District_ID Instrument_ID  \\\n",
       "0  Hospital 1  Region 1  District 12  Instrument 2   \n",
       "1  Hospital 1  Region 1  District 12  Instrument 3   \n",
       "2  Hospital 1  Region 1  District 13  Instrument 1   \n",
       "3  Hospital 1  Region 1  District 13  Instrument 2   \n",
       "4  Hospital 1  Region 1  District 13  Instrument 3   \n",
       "\n",
       "                                Key1                   Key2  Year Total  \n",
       "0  Hospital 1District 12Instrument 2  Hospital 1District 12      103550  \n",
       "1  Hospital 1District 12Instrument 3  Hospital 1District 12        2562  \n",
       "2  Hospital 1District 13Instrument 1  Hospital 1District 13         187  \n",
       "3  Hospital 1District 13Instrument 2  Hospital 1District 13       40741  \n",
       "4  Hospital 1District 13Instrument 3  Hospital 1District 13        8549  "
      ]
     },
     "execution_count": 80,
     "metadata": {},
     "output_type": "execute_result"
    }
   ],
   "source": [
    "rev.head()"
   ]
  },
  {
   "cell_type": "code",
   "execution_count": 81,
   "metadata": {
    "collapsed": false
   },
   "outputs": [],
   "source": [
    "del rev['Key1']"
   ]
  },
  {
   "cell_type": "code",
   "execution_count": 82,
   "metadata": {
    "collapsed": false
   },
   "outputs": [
    {
     "data": {
      "text/html": [
       "<div>\n",
       "<table border=\"1\" class=\"dataframe\">\n",
       "  <thead>\n",
       "    <tr style=\"text-align: right;\">\n",
       "      <th></th>\n",
       "      <th>Hospital_ID</th>\n",
       "      <th>Region_ID</th>\n",
       "      <th>District_ID</th>\n",
       "      <th>Instrument_ID</th>\n",
       "      <th>Key2</th>\n",
       "      <th>Year Total</th>\n",
       "    </tr>\n",
       "  </thead>\n",
       "  <tbody>\n",
       "    <tr>\n",
       "      <th>0</th>\n",
       "      <td>Hospital 1</td>\n",
       "      <td>Region 1</td>\n",
       "      <td>District 12</td>\n",
       "      <td>Instrument 2</td>\n",
       "      <td>Hospital 1District 12</td>\n",
       "      <td>103550</td>\n",
       "    </tr>\n",
       "    <tr>\n",
       "      <th>1</th>\n",
       "      <td>Hospital 1</td>\n",
       "      <td>Region 1</td>\n",
       "      <td>District 12</td>\n",
       "      <td>Instrument 3</td>\n",
       "      <td>Hospital 1District 12</td>\n",
       "      <td>2562</td>\n",
       "    </tr>\n",
       "    <tr>\n",
       "      <th>2</th>\n",
       "      <td>Hospital 1</td>\n",
       "      <td>Region 1</td>\n",
       "      <td>District 13</td>\n",
       "      <td>Instrument 1</td>\n",
       "      <td>Hospital 1District 13</td>\n",
       "      <td>187</td>\n",
       "    </tr>\n",
       "    <tr>\n",
       "      <th>3</th>\n",
       "      <td>Hospital 1</td>\n",
       "      <td>Region 1</td>\n",
       "      <td>District 13</td>\n",
       "      <td>Instrument 2</td>\n",
       "      <td>Hospital 1District 13</td>\n",
       "      <td>40741</td>\n",
       "    </tr>\n",
       "    <tr>\n",
       "      <th>4</th>\n",
       "      <td>Hospital 1</td>\n",
       "      <td>Region 1</td>\n",
       "      <td>District 13</td>\n",
       "      <td>Instrument 3</td>\n",
       "      <td>Hospital 1District 13</td>\n",
       "      <td>8549</td>\n",
       "    </tr>\n",
       "  </tbody>\n",
       "</table>\n",
       "</div>"
      ],
      "text/plain": [
       "  Hospital_ID Region_ID  District_ID Instrument_ID                   Key2  \\\n",
       "0  Hospital 1  Region 1  District 12  Instrument 2  Hospital 1District 12   \n",
       "1  Hospital 1  Region 1  District 12  Instrument 3  Hospital 1District 12   \n",
       "2  Hospital 1  Region 1  District 13  Instrument 1  Hospital 1District 13   \n",
       "3  Hospital 1  Region 1  District 13  Instrument 2  Hospital 1District 13   \n",
       "4  Hospital 1  Region 1  District 13  Instrument 3  Hospital 1District 13   \n",
       "\n",
       "   Year Total  \n",
       "0      103550  \n",
       "1        2562  \n",
       "2         187  \n",
       "3       40741  \n",
       "4        8549  "
      ]
     },
     "execution_count": 82,
     "metadata": {},
     "output_type": "execute_result"
    }
   ],
   "source": [
    "rev.head()"
   ]
  },
  {
   "cell_type": "code",
   "execution_count": 83,
   "metadata": {
    "collapsed": false
   },
   "outputs": [
    {
     "data": {
      "text/plain": [
       "1          237\n",
       "2          175\n",
       "12         151\n",
       "4          146\n",
       "36         136\n",
       "3          135\n",
       "5          131\n",
       "8          122\n",
       "6          120\n",
       "0          112\n",
       "13         108\n",
       "33         104\n",
       "7           98\n",
       "11          96\n",
       "10          95\n",
       "24          95\n",
       "9           93\n",
       "14          92\n",
       "15          92\n",
       "66          90\n",
       "60          85\n",
       "18          83\n",
       "17          83\n",
       "35          81\n",
       "21          81\n",
       "48          80\n",
       "20          79\n",
       "16          78\n",
       "22          75\n",
       "72          75\n",
       "          ... \n",
       "13225        1\n",
       "80808        1\n",
       "17319        1\n",
       "25603        1\n",
       "15368        1\n",
       "13321        1\n",
       "44090        1\n",
       "210448       1\n",
       "12988        1\n",
       "74430        1\n",
       "70733        1\n",
       "7244         1\n",
       "9291         1\n",
       "64197        1\n",
       "13385        1\n",
       "19526        1\n",
       "29761        1\n",
       "37576        1\n",
       "2970278      1\n",
       "3118         1\n",
       "5165         1\n",
       "7212         1\n",
       "9259         1\n",
       "11306        1\n",
       "48152        1\n",
       "604803       1\n",
       "7002         1\n",
       "5133         1\n",
       "7180         1\n",
       "57236        1\n",
       "Name: Year Total, dtype: int64"
      ]
     },
     "execution_count": 83,
     "metadata": {},
     "output_type": "execute_result"
    }
   ],
   "source": [
    "rev['Year Total'].value_counts()"
   ]
  },
  {
   "cell_type": "code",
   "execution_count": 84,
   "metadata": {
    "collapsed": false
   },
   "outputs": [
    {
     "data": {
      "text/plain": [
       "-2040193"
      ]
     },
     "execution_count": 84,
     "metadata": {},
     "output_type": "execute_result"
    }
   ],
   "source": [
    "rev['Year Total'].min()"
   ]
  },
  {
   "cell_type": "code",
   "execution_count": 85,
   "metadata": {
    "collapsed": true
   },
   "outputs": [],
   "source": [
    "rev['Hospital_ID']=rev['Hospital_ID'].str.replace('Hospital ','')"
   ]
  },
  {
   "cell_type": "code",
   "execution_count": 86,
   "metadata": {
    "collapsed": false
   },
   "outputs": [
    {
     "data": {
      "text/html": [
       "<div>\n",
       "<table border=\"1\" class=\"dataframe\">\n",
       "  <thead>\n",
       "    <tr style=\"text-align: right;\">\n",
       "      <th></th>\n",
       "      <th>Hospital_ID</th>\n",
       "      <th>Region_ID</th>\n",
       "      <th>District_ID</th>\n",
       "      <th>Instrument_ID</th>\n",
       "      <th>Key2</th>\n",
       "      <th>Year Total</th>\n",
       "    </tr>\n",
       "  </thead>\n",
       "  <tbody>\n",
       "    <tr>\n",
       "      <th>0</th>\n",
       "      <td>1</td>\n",
       "      <td>Region 1</td>\n",
       "      <td>District 12</td>\n",
       "      <td>Instrument 2</td>\n",
       "      <td>Hospital 1District 12</td>\n",
       "      <td>103550</td>\n",
       "    </tr>\n",
       "    <tr>\n",
       "      <th>1</th>\n",
       "      <td>1</td>\n",
       "      <td>Region 1</td>\n",
       "      <td>District 12</td>\n",
       "      <td>Instrument 3</td>\n",
       "      <td>Hospital 1District 12</td>\n",
       "      <td>2562</td>\n",
       "    </tr>\n",
       "    <tr>\n",
       "      <th>2</th>\n",
       "      <td>1</td>\n",
       "      <td>Region 1</td>\n",
       "      <td>District 13</td>\n",
       "      <td>Instrument 1</td>\n",
       "      <td>Hospital 1District 13</td>\n",
       "      <td>187</td>\n",
       "    </tr>\n",
       "    <tr>\n",
       "      <th>3</th>\n",
       "      <td>1</td>\n",
       "      <td>Region 1</td>\n",
       "      <td>District 13</td>\n",
       "      <td>Instrument 2</td>\n",
       "      <td>Hospital 1District 13</td>\n",
       "      <td>40741</td>\n",
       "    </tr>\n",
       "    <tr>\n",
       "      <th>4</th>\n",
       "      <td>1</td>\n",
       "      <td>Region 1</td>\n",
       "      <td>District 13</td>\n",
       "      <td>Instrument 3</td>\n",
       "      <td>Hospital 1District 13</td>\n",
       "      <td>8549</td>\n",
       "    </tr>\n",
       "  </tbody>\n",
       "</table>\n",
       "</div>"
      ],
      "text/plain": [
       "  Hospital_ID Region_ID  District_ID Instrument_ID                   Key2  \\\n",
       "0           1  Region 1  District 12  Instrument 2  Hospital 1District 12   \n",
       "1           1  Region 1  District 12  Instrument 3  Hospital 1District 12   \n",
       "2           1  Region 1  District 13  Instrument 1  Hospital 1District 13   \n",
       "3           1  Region 1  District 13  Instrument 2  Hospital 1District 13   \n",
       "4           1  Region 1  District 13  Instrument 3  Hospital 1District 13   \n",
       "\n",
       "   Year Total  \n",
       "0      103550  \n",
       "1        2562  \n",
       "2         187  \n",
       "3       40741  \n",
       "4        8549  "
      ]
     },
     "execution_count": 86,
     "metadata": {},
     "output_type": "execute_result"
    }
   ],
   "source": [
    "rev.head()"
   ]
  },
  {
   "cell_type": "code",
   "execution_count": 87,
   "metadata": {
    "collapsed": true
   },
   "outputs": [],
   "source": [
    "rev['Region_ID']=rev['Region_ID'].str.replace('Region ','')"
   ]
  },
  {
   "cell_type": "code",
   "execution_count": 88,
   "metadata": {
    "collapsed": true
   },
   "outputs": [],
   "source": [
    "rev['District_ID']=rev['District_ID'].str.replace('District ','')"
   ]
  },
  {
   "cell_type": "code",
   "execution_count": 89,
   "metadata": {
    "collapsed": false
   },
   "outputs": [
    {
     "data": {
      "text/html": [
       "<div>\n",
       "<table border=\"1\" class=\"dataframe\">\n",
       "  <thead>\n",
       "    <tr style=\"text-align: right;\">\n",
       "      <th></th>\n",
       "      <th>Hospital_ID</th>\n",
       "      <th>District_ID</th>\n",
       "      <th>Hospital_employees</th>\n",
       "      <th>Key</th>\n",
       "    </tr>\n",
       "  </thead>\n",
       "  <tbody>\n",
       "    <tr>\n",
       "      <th>13932</th>\n",
       "      <td>Hospital 251</td>\n",
       "      <td>District 19</td>\n",
       "      <td>1</td>\n",
       "      <td>Hospital 251District 19</td>\n",
       "    </tr>\n",
       "    <tr>\n",
       "      <th>1953</th>\n",
       "      <td>Hospital 1110</td>\n",
       "      <td>District 43</td>\n",
       "      <td>1</td>\n",
       "      <td>Hospital 1110District 43</td>\n",
       "    </tr>\n",
       "    <tr>\n",
       "      <th>14375</th>\n",
       "      <td>Hospital 279</td>\n",
       "      <td>District 13</td>\n",
       "      <td>1</td>\n",
       "      <td>Hospital 279District 13</td>\n",
       "    </tr>\n",
       "    <tr>\n",
       "      <th>14378</th>\n",
       "      <td>Hospital 279</td>\n",
       "      <td>District 19</td>\n",
       "      <td>1</td>\n",
       "      <td>Hospital 279District 19</td>\n",
       "    </tr>\n",
       "    <tr>\n",
       "      <th>14379</th>\n",
       "      <td>Hospital 279</td>\n",
       "      <td>District 19</td>\n",
       "      <td>1</td>\n",
       "      <td>Hospital 279District 19</td>\n",
       "    </tr>\n",
       "  </tbody>\n",
       "</table>\n",
       "</div>"
      ],
      "text/plain": [
       "         Hospital_ID  District_ID  Hospital_employees  \\\n",
       "13932   Hospital 251  District 19                   1   \n",
       "1953   Hospital 1110  District 43                   1   \n",
       "14375   Hospital 279  District 13                   1   \n",
       "14378   Hospital 279  District 19                   1   \n",
       "14379   Hospital 279  District 19                   1   \n",
       "\n",
       "                            Key  \n",
       "13932   Hospital 251District 19  \n",
       "1953   Hospital 1110District 43  \n",
       "14375   Hospital 279District 13  \n",
       "14378   Hospital 279District 19  \n",
       "14379   Hospital 279District 19  "
      ]
     },
     "execution_count": 89,
     "metadata": {},
     "output_type": "execute_result"
    }
   ],
   "source": [
    "df.head()"
   ]
  },
  {
   "cell_type": "code",
   "execution_count": 90,
   "metadata": {
    "collapsed": false
   },
   "outputs": [],
   "source": [
    "df['District_ID']=df['District_ID'].str.replace('District ','')"
   ]
  },
  {
   "cell_type": "code",
   "execution_count": 91,
   "metadata": {
    "collapsed": false
   },
   "outputs": [
    {
     "data": {
      "text/html": [
       "<div>\n",
       "<table border=\"1\" class=\"dataframe\">\n",
       "  <thead>\n",
       "    <tr style=\"text-align: right;\">\n",
       "      <th></th>\n",
       "      <th>Hospital_ID</th>\n",
       "      <th>District_ID</th>\n",
       "      <th>Hospital_employees</th>\n",
       "      <th>Key</th>\n",
       "    </tr>\n",
       "  </thead>\n",
       "  <tbody>\n",
       "    <tr>\n",
       "      <th>13932</th>\n",
       "      <td>Hospital 251</td>\n",
       "      <td>19</td>\n",
       "      <td>1</td>\n",
       "      <td>Hospital 251District 19</td>\n",
       "    </tr>\n",
       "    <tr>\n",
       "      <th>1953</th>\n",
       "      <td>Hospital 1110</td>\n",
       "      <td>43</td>\n",
       "      <td>1</td>\n",
       "      <td>Hospital 1110District 43</td>\n",
       "    </tr>\n",
       "    <tr>\n",
       "      <th>14375</th>\n",
       "      <td>Hospital 279</td>\n",
       "      <td>13</td>\n",
       "      <td>1</td>\n",
       "      <td>Hospital 279District 13</td>\n",
       "    </tr>\n",
       "    <tr>\n",
       "      <th>14378</th>\n",
       "      <td>Hospital 279</td>\n",
       "      <td>19</td>\n",
       "      <td>1</td>\n",
       "      <td>Hospital 279District 19</td>\n",
       "    </tr>\n",
       "    <tr>\n",
       "      <th>14379</th>\n",
       "      <td>Hospital 279</td>\n",
       "      <td>19</td>\n",
       "      <td>1</td>\n",
       "      <td>Hospital 279District 19</td>\n",
       "    </tr>\n",
       "  </tbody>\n",
       "</table>\n",
       "</div>"
      ],
      "text/plain": [
       "         Hospital_ID District_ID  Hospital_employees                       Key\n",
       "13932   Hospital 251          19                   1   Hospital 251District 19\n",
       "1953   Hospital 1110          43                   1  Hospital 1110District 43\n",
       "14375   Hospital 279          13                   1   Hospital 279District 13\n",
       "14378   Hospital 279          19                   1   Hospital 279District 19\n",
       "14379   Hospital 279          19                   1   Hospital 279District 19"
      ]
     },
     "execution_count": 91,
     "metadata": {},
     "output_type": "execute_result"
    }
   ],
   "source": [
    "df.head()"
   ]
  },
  {
   "cell_type": "code",
   "execution_count": 92,
   "metadata": {
    "collapsed": false
   },
   "outputs": [],
   "source": [
    "df['Hospital_ID']=df['Hospital_ID'].str.replace('Hospital ','')"
   ]
  },
  {
   "cell_type": "code",
   "execution_count": 93,
   "metadata": {
    "collapsed": false
   },
   "outputs": [
    {
     "data": {
      "text/html": [
       "<div>\n",
       "<table border=\"1\" class=\"dataframe\">\n",
       "  <thead>\n",
       "    <tr style=\"text-align: right;\">\n",
       "      <th></th>\n",
       "      <th>Hospital_ID</th>\n",
       "      <th>District_ID</th>\n",
       "      <th>Hospital_employees</th>\n",
       "      <th>Key</th>\n",
       "    </tr>\n",
       "  </thead>\n",
       "  <tbody>\n",
       "    <tr>\n",
       "      <th>13932</th>\n",
       "      <td>251</td>\n",
       "      <td>19</td>\n",
       "      <td>1</td>\n",
       "      <td>Hospital 251District 19</td>\n",
       "    </tr>\n",
       "    <tr>\n",
       "      <th>1953</th>\n",
       "      <td>1110</td>\n",
       "      <td>43</td>\n",
       "      <td>1</td>\n",
       "      <td>Hospital 1110District 43</td>\n",
       "    </tr>\n",
       "    <tr>\n",
       "      <th>14375</th>\n",
       "      <td>279</td>\n",
       "      <td>13</td>\n",
       "      <td>1</td>\n",
       "      <td>Hospital 279District 13</td>\n",
       "    </tr>\n",
       "    <tr>\n",
       "      <th>14378</th>\n",
       "      <td>279</td>\n",
       "      <td>19</td>\n",
       "      <td>1</td>\n",
       "      <td>Hospital 279District 19</td>\n",
       "    </tr>\n",
       "    <tr>\n",
       "      <th>14379</th>\n",
       "      <td>279</td>\n",
       "      <td>19</td>\n",
       "      <td>1</td>\n",
       "      <td>Hospital 279District 19</td>\n",
       "    </tr>\n",
       "  </tbody>\n",
       "</table>\n",
       "</div>"
      ],
      "text/plain": [
       "      Hospital_ID District_ID  Hospital_employees                       Key\n",
       "13932         251          19                   1   Hospital 251District 19\n",
       "1953         1110          43                   1  Hospital 1110District 43\n",
       "14375         279          13                   1   Hospital 279District 13\n",
       "14378         279          19                   1   Hospital 279District 19\n",
       "14379         279          19                   1   Hospital 279District 19"
      ]
     },
     "execution_count": 93,
     "metadata": {},
     "output_type": "execute_result"
    }
   ],
   "source": [
    "df.head()"
   ]
  },
  {
   "cell_type": "code",
   "execution_count": 94,
   "metadata": {
    "collapsed": false
   },
   "outputs": [],
   "source": [
    "rev=rev[((rev['Year Total'] - rev['Year Total'].mean())/rev['Year Total'].std()).abs()<3]"
   ]
  },
  {
   "cell_type": "code",
   "execution_count": 95,
   "metadata": {
    "collapsed": false
   },
   "outputs": [
    {
     "data": {
      "text/html": [
       "<div>\n",
       "<table border=\"1\" class=\"dataframe\">\n",
       "  <thead>\n",
       "    <tr style=\"text-align: right;\">\n",
       "      <th></th>\n",
       "      <th>Year Total</th>\n",
       "    </tr>\n",
       "  </thead>\n",
       "  <tbody>\n",
       "    <tr>\n",
       "      <th>count</th>\n",
       "      <td>44030.000000</td>\n",
       "    </tr>\n",
       "    <tr>\n",
       "      <th>mean</th>\n",
       "      <td>19218.377992</td>\n",
       "    </tr>\n",
       "    <tr>\n",
       "      <th>std</th>\n",
       "      <td>57536.307843</td>\n",
       "    </tr>\n",
       "    <tr>\n",
       "      <th>min</th>\n",
       "      <td>-514967.000000</td>\n",
       "    </tr>\n",
       "    <tr>\n",
       "      <th>25%</th>\n",
       "      <td>243.000000</td>\n",
       "    </tr>\n",
       "    <tr>\n",
       "      <th>50%</th>\n",
       "      <td>1833.000000</td>\n",
       "    </tr>\n",
       "    <tr>\n",
       "      <th>75%</th>\n",
       "      <td>11234.000000</td>\n",
       "    </tr>\n",
       "    <tr>\n",
       "      <th>max</th>\n",
       "      <td>664055.000000</td>\n",
       "    </tr>\n",
       "  </tbody>\n",
       "</table>\n",
       "</div>"
      ],
      "text/plain": [
       "          Year Total\n",
       "count   44030.000000\n",
       "mean    19218.377992\n",
       "std     57536.307843\n",
       "min   -514967.000000\n",
       "25%       243.000000\n",
       "50%      1833.000000\n",
       "75%     11234.000000\n",
       "max    664055.000000"
      ]
     },
     "execution_count": 95,
     "metadata": {},
     "output_type": "execute_result"
    }
   ],
   "source": [
    "rev.describe()"
   ]
  },
  {
   "cell_type": "code",
   "execution_count": 96,
   "metadata": {
    "collapsed": false
   },
   "outputs": [
    {
     "data": {
      "text/html": [
       "<div>\n",
       "<table border=\"1\" class=\"dataframe\">\n",
       "  <thead>\n",
       "    <tr style=\"text-align: right;\">\n",
       "      <th></th>\n",
       "      <th>Hospital_ID</th>\n",
       "      <th>Region_ID</th>\n",
       "      <th>District_ID</th>\n",
       "      <th>Instrument_ID</th>\n",
       "      <th>Key2</th>\n",
       "      <th>Year Total</th>\n",
       "    </tr>\n",
       "  </thead>\n",
       "  <tbody>\n",
       "    <tr>\n",
       "      <th>0</th>\n",
       "      <td>1</td>\n",
       "      <td>1</td>\n",
       "      <td>12</td>\n",
       "      <td>Instrument 2</td>\n",
       "      <td>Hospital 1District 12</td>\n",
       "      <td>103550</td>\n",
       "    </tr>\n",
       "    <tr>\n",
       "      <th>1</th>\n",
       "      <td>1</td>\n",
       "      <td>1</td>\n",
       "      <td>12</td>\n",
       "      <td>Instrument 3</td>\n",
       "      <td>Hospital 1District 12</td>\n",
       "      <td>2562</td>\n",
       "    </tr>\n",
       "    <tr>\n",
       "      <th>2</th>\n",
       "      <td>1</td>\n",
       "      <td>1</td>\n",
       "      <td>13</td>\n",
       "      <td>Instrument 1</td>\n",
       "      <td>Hospital 1District 13</td>\n",
       "      <td>187</td>\n",
       "    </tr>\n",
       "    <tr>\n",
       "      <th>3</th>\n",
       "      <td>1</td>\n",
       "      <td>1</td>\n",
       "      <td>13</td>\n",
       "      <td>Instrument 2</td>\n",
       "      <td>Hospital 1District 13</td>\n",
       "      <td>40741</td>\n",
       "    </tr>\n",
       "    <tr>\n",
       "      <th>4</th>\n",
       "      <td>1</td>\n",
       "      <td>1</td>\n",
       "      <td>13</td>\n",
       "      <td>Instrument 3</td>\n",
       "      <td>Hospital 1District 13</td>\n",
       "      <td>8549</td>\n",
       "    </tr>\n",
       "  </tbody>\n",
       "</table>\n",
       "</div>"
      ],
      "text/plain": [
       "  Hospital_ID Region_ID District_ID Instrument_ID                   Key2  \\\n",
       "0           1         1          12  Instrument 2  Hospital 1District 12   \n",
       "1           1         1          12  Instrument 3  Hospital 1District 12   \n",
       "2           1         1          13  Instrument 1  Hospital 1District 13   \n",
       "3           1         1          13  Instrument 2  Hospital 1District 13   \n",
       "4           1         1          13  Instrument 3  Hospital 1District 13   \n",
       "\n",
       "   Year Total  \n",
       "0      103550  \n",
       "1        2562  \n",
       "2         187  \n",
       "3       40741  \n",
       "4        8549  "
      ]
     },
     "execution_count": 96,
     "metadata": {},
     "output_type": "execute_result"
    }
   ],
   "source": [
    "rev.head()"
   ]
  },
  {
   "cell_type": "code",
   "execution_count": 97,
   "metadata": {
    "collapsed": false
   },
   "outputs": [
    {
     "name": "stderr",
     "output_type": "stream",
     "text": [
      "C:\\Users\\dell pc\\Anaconda2\\lib\\site-packages\\ipykernel\\__main__.py:1: SettingWithCopyWarning: \n",
      "A value is trying to be set on a copy of a slice from a DataFrame.\n",
      "Try using .loc[row_indexer,col_indexer] = value instead\n",
      "\n",
      "See the caveats in the documentation: http://pandas.pydata.org/pandas-docs/stable/indexing.html#indexing-view-versus-copy\n",
      "  if __name__ == '__main__':\n"
     ]
    }
   ],
   "source": [
    "rev['Key']=rev['Key2']"
   ]
  },
  {
   "cell_type": "code",
   "execution_count": 98,
   "metadata": {
    "collapsed": false
   },
   "outputs": [
    {
     "data": {
      "text/html": [
       "<div>\n",
       "<table border=\"1\" class=\"dataframe\">\n",
       "  <thead>\n",
       "    <tr style=\"text-align: right;\">\n",
       "      <th></th>\n",
       "      <th>Hospital_ID</th>\n",
       "      <th>Region_ID</th>\n",
       "      <th>District_ID</th>\n",
       "      <th>Instrument_ID</th>\n",
       "      <th>Key2</th>\n",
       "      <th>Year Total</th>\n",
       "      <th>Key</th>\n",
       "    </tr>\n",
       "  </thead>\n",
       "  <tbody>\n",
       "    <tr>\n",
       "      <th>0</th>\n",
       "      <td>1</td>\n",
       "      <td>1</td>\n",
       "      <td>12</td>\n",
       "      <td>Instrument 2</td>\n",
       "      <td>Hospital 1District 12</td>\n",
       "      <td>103550</td>\n",
       "      <td>Hospital 1District 12</td>\n",
       "    </tr>\n",
       "    <tr>\n",
       "      <th>1</th>\n",
       "      <td>1</td>\n",
       "      <td>1</td>\n",
       "      <td>12</td>\n",
       "      <td>Instrument 3</td>\n",
       "      <td>Hospital 1District 12</td>\n",
       "      <td>2562</td>\n",
       "      <td>Hospital 1District 12</td>\n",
       "    </tr>\n",
       "    <tr>\n",
       "      <th>2</th>\n",
       "      <td>1</td>\n",
       "      <td>1</td>\n",
       "      <td>13</td>\n",
       "      <td>Instrument 1</td>\n",
       "      <td>Hospital 1District 13</td>\n",
       "      <td>187</td>\n",
       "      <td>Hospital 1District 13</td>\n",
       "    </tr>\n",
       "    <tr>\n",
       "      <th>3</th>\n",
       "      <td>1</td>\n",
       "      <td>1</td>\n",
       "      <td>13</td>\n",
       "      <td>Instrument 2</td>\n",
       "      <td>Hospital 1District 13</td>\n",
       "      <td>40741</td>\n",
       "      <td>Hospital 1District 13</td>\n",
       "    </tr>\n",
       "    <tr>\n",
       "      <th>4</th>\n",
       "      <td>1</td>\n",
       "      <td>1</td>\n",
       "      <td>13</td>\n",
       "      <td>Instrument 3</td>\n",
       "      <td>Hospital 1District 13</td>\n",
       "      <td>8549</td>\n",
       "      <td>Hospital 1District 13</td>\n",
       "    </tr>\n",
       "  </tbody>\n",
       "</table>\n",
       "</div>"
      ],
      "text/plain": [
       "  Hospital_ID Region_ID District_ID Instrument_ID                   Key2  \\\n",
       "0           1         1          12  Instrument 2  Hospital 1District 12   \n",
       "1           1         1          12  Instrument 3  Hospital 1District 12   \n",
       "2           1         1          13  Instrument 1  Hospital 1District 13   \n",
       "3           1         1          13  Instrument 2  Hospital 1District 13   \n",
       "4           1         1          13  Instrument 3  Hospital 1District 13   \n",
       "\n",
       "   Year Total                    Key  \n",
       "0      103550  Hospital 1District 12  \n",
       "1        2562  Hospital 1District 12  \n",
       "2         187  Hospital 1District 13  \n",
       "3       40741  Hospital 1District 13  \n",
       "4        8549  Hospital 1District 13  "
      ]
     },
     "execution_count": 98,
     "metadata": {},
     "output_type": "execute_result"
    }
   ],
   "source": [
    "rev.head()"
   ]
  },
  {
   "cell_type": "code",
   "execution_count": 99,
   "metadata": {
    "collapsed": true
   },
   "outputs": [],
   "source": [
    "del rev['Key2']"
   ]
  },
  {
   "cell_type": "code",
   "execution_count": 100,
   "metadata": {
    "collapsed": true
   },
   "outputs": [],
   "source": [
    "fin_df=rev.merge(df,how='left',on='Key')"
   ]
  },
  {
   "cell_type": "code",
   "execution_count": 101,
   "metadata": {
    "collapsed": false
   },
   "outputs": [
    {
     "name": "stderr",
     "output_type": "stream",
     "text": [
      "C:\\Users\\dell pc\\Anaconda2\\lib\\site-packages\\numpy\\lib\\function_base.py:3823: RuntimeWarning: Invalid value encountered in percentile\n",
      "  RuntimeWarning)\n"
     ]
    },
    {
     "data": {
      "text/html": [
       "<div>\n",
       "<table border=\"1\" class=\"dataframe\">\n",
       "  <thead>\n",
       "    <tr style=\"text-align: right;\">\n",
       "      <th></th>\n",
       "      <th>Year Total</th>\n",
       "      <th>Hospital_employees</th>\n",
       "    </tr>\n",
       "  </thead>\n",
       "  <tbody>\n",
       "    <tr>\n",
       "      <th>count</th>\n",
       "      <td>49031.000000</td>\n",
       "      <td>36243.000000</td>\n",
       "    </tr>\n",
       "    <tr>\n",
       "      <th>mean</th>\n",
       "      <td>21340.439824</td>\n",
       "      <td>979.281765</td>\n",
       "    </tr>\n",
       "    <tr>\n",
       "      <th>std</th>\n",
       "      <td>64160.070979</td>\n",
       "      <td>4583.174972</td>\n",
       "    </tr>\n",
       "    <tr>\n",
       "      <th>min</th>\n",
       "      <td>-514967.000000</td>\n",
       "      <td>1.000000</td>\n",
       "    </tr>\n",
       "    <tr>\n",
       "      <th>25%</th>\n",
       "      <td>260.000000</td>\n",
       "      <td>NaN</td>\n",
       "    </tr>\n",
       "    <tr>\n",
       "      <th>50%</th>\n",
       "      <td>1954.000000</td>\n",
       "      <td>NaN</td>\n",
       "    </tr>\n",
       "    <tr>\n",
       "      <th>75%</th>\n",
       "      <td>12122.000000</td>\n",
       "      <td>NaN</td>\n",
       "    </tr>\n",
       "    <tr>\n",
       "      <th>max</th>\n",
       "      <td>664055.000000</td>\n",
       "      <td>151043.000000</td>\n",
       "    </tr>\n",
       "  </tbody>\n",
       "</table>\n",
       "</div>"
      ],
      "text/plain": [
       "          Year Total  Hospital_employees\n",
       "count   49031.000000        36243.000000\n",
       "mean    21340.439824          979.281765\n",
       "std     64160.070979         4583.174972\n",
       "min   -514967.000000            1.000000\n",
       "25%       260.000000                 NaN\n",
       "50%      1954.000000                 NaN\n",
       "75%     12122.000000                 NaN\n",
       "max    664055.000000       151043.000000"
      ]
     },
     "execution_count": 101,
     "metadata": {},
     "output_type": "execute_result"
    }
   ],
   "source": [
    "fin_df.describe()"
   ]
  },
  {
   "cell_type": "code",
   "execution_count": 102,
   "metadata": {
    "collapsed": false
   },
   "outputs": [
    {
     "data": {
      "text/html": [
       "<div>\n",
       "<table border=\"1\" class=\"dataframe\">\n",
       "  <thead>\n",
       "    <tr style=\"text-align: right;\">\n",
       "      <th></th>\n",
       "      <th>Hospital_ID_x</th>\n",
       "      <th>Region_ID</th>\n",
       "      <th>District_ID_x</th>\n",
       "      <th>Instrument_ID</th>\n",
       "      <th>Year Total</th>\n",
       "      <th>Key</th>\n",
       "      <th>Hospital_ID_y</th>\n",
       "      <th>District_ID_y</th>\n",
       "      <th>Hospital_employees</th>\n",
       "    </tr>\n",
       "  </thead>\n",
       "  <tbody>\n",
       "    <tr>\n",
       "      <th>0</th>\n",
       "      <td>1</td>\n",
       "      <td>1</td>\n",
       "      <td>12</td>\n",
       "      <td>Instrument 2</td>\n",
       "      <td>103550</td>\n",
       "      <td>Hospital 1District 12</td>\n",
       "      <td>1</td>\n",
       "      <td>12</td>\n",
       "      <td>3.0</td>\n",
       "    </tr>\n",
       "    <tr>\n",
       "      <th>1</th>\n",
       "      <td>1</td>\n",
       "      <td>1</td>\n",
       "      <td>12</td>\n",
       "      <td>Instrument 3</td>\n",
       "      <td>2562</td>\n",
       "      <td>Hospital 1District 12</td>\n",
       "      <td>1</td>\n",
       "      <td>12</td>\n",
       "      <td>3.0</td>\n",
       "    </tr>\n",
       "    <tr>\n",
       "      <th>2</th>\n",
       "      <td>1</td>\n",
       "      <td>1</td>\n",
       "      <td>13</td>\n",
       "      <td>Instrument 1</td>\n",
       "      <td>187</td>\n",
       "      <td>Hospital 1District 13</td>\n",
       "      <td>1</td>\n",
       "      <td>13</td>\n",
       "      <td>6.0</td>\n",
       "    </tr>\n",
       "    <tr>\n",
       "      <th>3</th>\n",
       "      <td>1</td>\n",
       "      <td>1</td>\n",
       "      <td>13</td>\n",
       "      <td>Instrument 2</td>\n",
       "      <td>40741</td>\n",
       "      <td>Hospital 1District 13</td>\n",
       "      <td>1</td>\n",
       "      <td>13</td>\n",
       "      <td>6.0</td>\n",
       "    </tr>\n",
       "    <tr>\n",
       "      <th>4</th>\n",
       "      <td>1</td>\n",
       "      <td>1</td>\n",
       "      <td>13</td>\n",
       "      <td>Instrument 3</td>\n",
       "      <td>8549</td>\n",
       "      <td>Hospital 1District 13</td>\n",
       "      <td>1</td>\n",
       "      <td>13</td>\n",
       "      <td>6.0</td>\n",
       "    </tr>\n",
       "  </tbody>\n",
       "</table>\n",
       "</div>"
      ],
      "text/plain": [
       "  Hospital_ID_x Region_ID District_ID_x Instrument_ID  Year Total  \\\n",
       "0             1         1            12  Instrument 2      103550   \n",
       "1             1         1            12  Instrument 3        2562   \n",
       "2             1         1            13  Instrument 1         187   \n",
       "3             1         1            13  Instrument 2       40741   \n",
       "4             1         1            13  Instrument 3        8549   \n",
       "\n",
       "                     Key Hospital_ID_y District_ID_y  Hospital_employees  \n",
       "0  Hospital 1District 12             1            12                 3.0  \n",
       "1  Hospital 1District 12             1            12                 3.0  \n",
       "2  Hospital 1District 13             1            13                 6.0  \n",
       "3  Hospital 1District 13             1            13                 6.0  \n",
       "4  Hospital 1District 13             1            13                 6.0  "
      ]
     },
     "execution_count": 102,
     "metadata": {},
     "output_type": "execute_result"
    }
   ],
   "source": [
    "fin_df.head()"
   ]
  },
  {
   "cell_type": "code",
   "execution_count": 103,
   "metadata": {
    "collapsed": false
   },
   "outputs": [
    {
     "name": "stdout",
     "output_type": "stream",
     "text": [
      "Missing values per column:\n",
      "Hospital_ID_x             0\n",
      "Region_ID                 0\n",
      "District_ID_x             0\n",
      "Instrument_ID             0\n",
      "Year Total                0\n",
      "Key                       0\n",
      "Hospital_ID_y         12788\n",
      "District_ID_y         12788\n",
      "Hospital_employees    12788\n",
      "dtype: int64\n"
     ]
    }
   ],
   "source": [
    "\n",
    "#Applying per column:\n",
    "print \"Missing values per column:\"\n",
    "print fin_df.apply(num_missing, axis=0) #axis=0 defines that function is to be applied on each column"
   ]
  },
  {
   "cell_type": "code",
   "execution_count": 104,
   "metadata": {
    "collapsed": true
   },
   "outputs": [],
   "source": [
    "df_2mer = df['Key']"
   ]
  },
  {
   "cell_type": "code",
   "execution_count": 105,
   "metadata": {
    "collapsed": false
   },
   "outputs": [],
   "source": [
    "df_2mer2 = df['Hospital_employees']"
   ]
  },
  {
   "cell_type": "code",
   "execution_count": 106,
   "metadata": {
    "collapsed": true
   },
   "outputs": [],
   "source": [
    "df_fin_mer = pd.concat([df_2mer,df_2mer2])"
   ]
  },
  {
   "cell_type": "code",
   "execution_count": 107,
   "metadata": {
    "collapsed": false
   },
   "outputs": [
    {
     "data": {
      "text/plain": [
       "13932     Hospital 251District 19\n",
       "1953     Hospital 1110District 43\n",
       "14375     Hospital 279District 13\n",
       "14378     Hospital 279District 19\n",
       "14379     Hospital 279District 19\n",
       "dtype: object"
      ]
     },
     "execution_count": 107,
     "metadata": {},
     "output_type": "execute_result"
    }
   ],
   "source": [
    "df_fin_mer.head()"
   ]
  },
  {
   "cell_type": "code",
   "execution_count": 108,
   "metadata": {
    "collapsed": false
   },
   "outputs": [
    {
     "data": {
      "text/plain": [
       "13932     Hospital 251District 19\n",
       "1953     Hospital 1110District 43\n",
       "14375     Hospital 279District 13\n",
       "14378     Hospital 279District 19\n",
       "14379     Hospital 279District 19\n",
       "dtype: object"
      ]
     },
     "execution_count": 108,
     "metadata": {},
     "output_type": "execute_result"
    }
   ],
   "source": [
    "df_fin_mer.head()"
   ]
  },
  {
   "cell_type": "code",
   "execution_count": 109,
   "metadata": {
    "collapsed": false
   },
   "outputs": [
    {
     "data": {
      "text/html": [
       "<div>\n",
       "<table border=\"1\" class=\"dataframe\">\n",
       "  <thead>\n",
       "    <tr style=\"text-align: right;\">\n",
       "      <th></th>\n",
       "      <th>Hospital_ID_x</th>\n",
       "      <th>Region_ID</th>\n",
       "      <th>District_ID_x</th>\n",
       "      <th>Instrument_ID</th>\n",
       "      <th>Year Total</th>\n",
       "      <th>Key</th>\n",
       "      <th>Hospital_ID_y</th>\n",
       "      <th>District_ID_y</th>\n",
       "      <th>Hospital_employees</th>\n",
       "    </tr>\n",
       "  </thead>\n",
       "  <tbody>\n",
       "    <tr>\n",
       "      <th>0</th>\n",
       "      <td>1</td>\n",
       "      <td>1</td>\n",
       "      <td>12</td>\n",
       "      <td>Instrument 2</td>\n",
       "      <td>103550</td>\n",
       "      <td>Hospital 1District 12</td>\n",
       "      <td>1</td>\n",
       "      <td>12</td>\n",
       "      <td>3.0</td>\n",
       "    </tr>\n",
       "    <tr>\n",
       "      <th>1</th>\n",
       "      <td>1</td>\n",
       "      <td>1</td>\n",
       "      <td>12</td>\n",
       "      <td>Instrument 3</td>\n",
       "      <td>2562</td>\n",
       "      <td>Hospital 1District 12</td>\n",
       "      <td>1</td>\n",
       "      <td>12</td>\n",
       "      <td>3.0</td>\n",
       "    </tr>\n",
       "    <tr>\n",
       "      <th>2</th>\n",
       "      <td>1</td>\n",
       "      <td>1</td>\n",
       "      <td>13</td>\n",
       "      <td>Instrument 1</td>\n",
       "      <td>187</td>\n",
       "      <td>Hospital 1District 13</td>\n",
       "      <td>1</td>\n",
       "      <td>13</td>\n",
       "      <td>6.0</td>\n",
       "    </tr>\n",
       "    <tr>\n",
       "      <th>3</th>\n",
       "      <td>1</td>\n",
       "      <td>1</td>\n",
       "      <td>13</td>\n",
       "      <td>Instrument 2</td>\n",
       "      <td>40741</td>\n",
       "      <td>Hospital 1District 13</td>\n",
       "      <td>1</td>\n",
       "      <td>13</td>\n",
       "      <td>6.0</td>\n",
       "    </tr>\n",
       "    <tr>\n",
       "      <th>4</th>\n",
       "      <td>1</td>\n",
       "      <td>1</td>\n",
       "      <td>13</td>\n",
       "      <td>Instrument 3</td>\n",
       "      <td>8549</td>\n",
       "      <td>Hospital 1District 13</td>\n",
       "      <td>1</td>\n",
       "      <td>13</td>\n",
       "      <td>6.0</td>\n",
       "    </tr>\n",
       "  </tbody>\n",
       "</table>\n",
       "</div>"
      ],
      "text/plain": [
       "  Hospital_ID_x Region_ID District_ID_x Instrument_ID  Year Total  \\\n",
       "0             1         1            12  Instrument 2      103550   \n",
       "1             1         1            12  Instrument 3        2562   \n",
       "2             1         1            13  Instrument 1         187   \n",
       "3             1         1            13  Instrument 2       40741   \n",
       "4             1         1            13  Instrument 3        8549   \n",
       "\n",
       "                     Key Hospital_ID_y District_ID_y  Hospital_employees  \n",
       "0  Hospital 1District 12             1            12                 3.0  \n",
       "1  Hospital 1District 12             1            12                 3.0  \n",
       "2  Hospital 1District 13             1            13                 6.0  \n",
       "3  Hospital 1District 13             1            13                 6.0  \n",
       "4  Hospital 1District 13             1            13                 6.0  "
      ]
     },
     "execution_count": 109,
     "metadata": {},
     "output_type": "execute_result"
    }
   ],
   "source": [
    "fin_df.head()"
   ]
  },
  {
   "cell_type": "code",
   "execution_count": 110,
   "metadata": {
    "collapsed": false
   },
   "outputs": [
    {
     "data": {
      "text/html": [
       "<div>\n",
       "<table border=\"1\" class=\"dataframe\">\n",
       "  <thead>\n",
       "    <tr style=\"text-align: right;\">\n",
       "      <th></th>\n",
       "      <th>Hospital_ID</th>\n",
       "      <th>District_ID</th>\n",
       "      <th>Hospital_employees</th>\n",
       "      <th>Key</th>\n",
       "    </tr>\n",
       "  </thead>\n",
       "  <tbody>\n",
       "    <tr>\n",
       "      <th>13932</th>\n",
       "      <td>251</td>\n",
       "      <td>19</td>\n",
       "      <td>1</td>\n",
       "      <td>Hospital 251District 19</td>\n",
       "    </tr>\n",
       "    <tr>\n",
       "      <th>1953</th>\n",
       "      <td>1110</td>\n",
       "      <td>43</td>\n",
       "      <td>1</td>\n",
       "      <td>Hospital 1110District 43</td>\n",
       "    </tr>\n",
       "    <tr>\n",
       "      <th>14375</th>\n",
       "      <td>279</td>\n",
       "      <td>13</td>\n",
       "      <td>1</td>\n",
       "      <td>Hospital 279District 13</td>\n",
       "    </tr>\n",
       "    <tr>\n",
       "      <th>14378</th>\n",
       "      <td>279</td>\n",
       "      <td>19</td>\n",
       "      <td>1</td>\n",
       "      <td>Hospital 279District 19</td>\n",
       "    </tr>\n",
       "    <tr>\n",
       "      <th>14379</th>\n",
       "      <td>279</td>\n",
       "      <td>19</td>\n",
       "      <td>1</td>\n",
       "      <td>Hospital 279District 19</td>\n",
       "    </tr>\n",
       "  </tbody>\n",
       "</table>\n",
       "</div>"
      ],
      "text/plain": [
       "      Hospital_ID District_ID  Hospital_employees                       Key\n",
       "13932         251          19                   1   Hospital 251District 19\n",
       "1953         1110          43                   1  Hospital 1110District 43\n",
       "14375         279          13                   1   Hospital 279District 13\n",
       "14378         279          19                   1   Hospital 279District 19\n",
       "14379         279          19                   1   Hospital 279District 19"
      ]
     },
     "execution_count": 110,
     "metadata": {},
     "output_type": "execute_result"
    }
   ],
   "source": [
    "df.head()"
   ]
  },
  {
   "cell_type": "code",
   "execution_count": 111,
   "metadata": {
    "collapsed": true
   },
   "outputs": [],
   "source": [
    "df_for_merge=df.copy()"
   ]
  },
  {
   "cell_type": "code",
   "execution_count": 112,
   "metadata": {
    "collapsed": false
   },
   "outputs": [],
   "source": [
    "del df_for_merge['Hospital_ID']"
   ]
  },
  {
   "cell_type": "code",
   "execution_count": 113,
   "metadata": {
    "collapsed": true
   },
   "outputs": [],
   "source": [
    "del df_for_merge['District_ID']"
   ]
  },
  {
   "cell_type": "code",
   "execution_count": 114,
   "metadata": {
    "collapsed": false
   },
   "outputs": [
    {
     "data": {
      "text/html": [
       "<div>\n",
       "<table border=\"1\" class=\"dataframe\">\n",
       "  <thead>\n",
       "    <tr style=\"text-align: right;\">\n",
       "      <th></th>\n",
       "      <th>Hospital_employees</th>\n",
       "      <th>Key</th>\n",
       "    </tr>\n",
       "  </thead>\n",
       "  <tbody>\n",
       "    <tr>\n",
       "      <th>13932</th>\n",
       "      <td>1</td>\n",
       "      <td>Hospital 251District 19</td>\n",
       "    </tr>\n",
       "    <tr>\n",
       "      <th>1953</th>\n",
       "      <td>1</td>\n",
       "      <td>Hospital 1110District 43</td>\n",
       "    </tr>\n",
       "    <tr>\n",
       "      <th>14375</th>\n",
       "      <td>1</td>\n",
       "      <td>Hospital 279District 13</td>\n",
       "    </tr>\n",
       "    <tr>\n",
       "      <th>14378</th>\n",
       "      <td>1</td>\n",
       "      <td>Hospital 279District 19</td>\n",
       "    </tr>\n",
       "    <tr>\n",
       "      <th>14379</th>\n",
       "      <td>1</td>\n",
       "      <td>Hospital 279District 19</td>\n",
       "    </tr>\n",
       "  </tbody>\n",
       "</table>\n",
       "</div>"
      ],
      "text/plain": [
       "       Hospital_employees                       Key\n",
       "13932                   1   Hospital 251District 19\n",
       "1953                    1  Hospital 1110District 43\n",
       "14375                   1   Hospital 279District 13\n",
       "14378                   1   Hospital 279District 19\n",
       "14379                   1   Hospital 279District 19"
      ]
     },
     "execution_count": 114,
     "metadata": {},
     "output_type": "execute_result"
    }
   ],
   "source": [
    "df_for_merge.head()"
   ]
  },
  {
   "cell_type": "code",
   "execution_count": 115,
   "metadata": {
    "collapsed": true
   },
   "outputs": [],
   "source": [
    "fin_df_2=rev.merge(df_for_merge,how='left',on='Key')"
   ]
  },
  {
   "cell_type": "code",
   "execution_count": 116,
   "metadata": {
    "collapsed": false
   },
   "outputs": [
    {
     "data": {
      "text/html": [
       "<div>\n",
       "<table border=\"1\" class=\"dataframe\">\n",
       "  <thead>\n",
       "    <tr style=\"text-align: right;\">\n",
       "      <th></th>\n",
       "      <th>Hospital_ID</th>\n",
       "      <th>Region_ID</th>\n",
       "      <th>District_ID</th>\n",
       "      <th>Instrument_ID</th>\n",
       "      <th>Year Total</th>\n",
       "      <th>Key</th>\n",
       "      <th>Hospital_employees</th>\n",
       "    </tr>\n",
       "  </thead>\n",
       "  <tbody>\n",
       "    <tr>\n",
       "      <th>0</th>\n",
       "      <td>1</td>\n",
       "      <td>1</td>\n",
       "      <td>12</td>\n",
       "      <td>Instrument 2</td>\n",
       "      <td>103550</td>\n",
       "      <td>Hospital 1District 12</td>\n",
       "      <td>3.0</td>\n",
       "    </tr>\n",
       "    <tr>\n",
       "      <th>1</th>\n",
       "      <td>1</td>\n",
       "      <td>1</td>\n",
       "      <td>12</td>\n",
       "      <td>Instrument 3</td>\n",
       "      <td>2562</td>\n",
       "      <td>Hospital 1District 12</td>\n",
       "      <td>3.0</td>\n",
       "    </tr>\n",
       "    <tr>\n",
       "      <th>2</th>\n",
       "      <td>1</td>\n",
       "      <td>1</td>\n",
       "      <td>13</td>\n",
       "      <td>Instrument 1</td>\n",
       "      <td>187</td>\n",
       "      <td>Hospital 1District 13</td>\n",
       "      <td>6.0</td>\n",
       "    </tr>\n",
       "    <tr>\n",
       "      <th>3</th>\n",
       "      <td>1</td>\n",
       "      <td>1</td>\n",
       "      <td>13</td>\n",
       "      <td>Instrument 2</td>\n",
       "      <td>40741</td>\n",
       "      <td>Hospital 1District 13</td>\n",
       "      <td>6.0</td>\n",
       "    </tr>\n",
       "    <tr>\n",
       "      <th>4</th>\n",
       "      <td>1</td>\n",
       "      <td>1</td>\n",
       "      <td>13</td>\n",
       "      <td>Instrument 3</td>\n",
       "      <td>8549</td>\n",
       "      <td>Hospital 1District 13</td>\n",
       "      <td>6.0</td>\n",
       "    </tr>\n",
       "  </tbody>\n",
       "</table>\n",
       "</div>"
      ],
      "text/plain": [
       "  Hospital_ID Region_ID District_ID Instrument_ID  Year Total  \\\n",
       "0           1         1          12  Instrument 2      103550   \n",
       "1           1         1          12  Instrument 3        2562   \n",
       "2           1         1          13  Instrument 1         187   \n",
       "3           1         1          13  Instrument 2       40741   \n",
       "4           1         1          13  Instrument 3        8549   \n",
       "\n",
       "                     Key  Hospital_employees  \n",
       "0  Hospital 1District 12                 3.0  \n",
       "1  Hospital 1District 12                 3.0  \n",
       "2  Hospital 1District 13                 6.0  \n",
       "3  Hospital 1District 13                 6.0  \n",
       "4  Hospital 1District 13                 6.0  "
      ]
     },
     "execution_count": 116,
     "metadata": {},
     "output_type": "execute_result"
    }
   ],
   "source": [
    "fin_df_2.head()"
   ]
  },
  {
   "cell_type": "code",
   "execution_count": 117,
   "metadata": {
    "collapsed": false
   },
   "outputs": [
    {
     "name": "stdout",
     "output_type": "stream",
     "text": [
      "Missing values per column:\n",
      "Hospital_ID               0\n",
      "Region_ID                 0\n",
      "District_ID               0\n",
      "Instrument_ID             0\n",
      "Year Total                0\n",
      "Key                       0\n",
      "Hospital_employees    12788\n",
      "dtype: int64\n"
     ]
    }
   ],
   "source": [
    "\n",
    "#Applying per column:\n",
    "print \"Missing values per column:\"\n",
    "print fin_df_2.apply(num_missing, axis=0) #axis=0 defines that function is to be applied on each column"
   ]
  },
  {
   "cell_type": "code",
   "execution_count": 118,
   "metadata": {
    "collapsed": false
   },
   "outputs": [
    {
     "data": {
      "text/html": [
       "<div>\n",
       "<table border=\"1\" class=\"dataframe\">\n",
       "  <thead>\n",
       "    <tr style=\"text-align: right;\">\n",
       "      <th></th>\n",
       "      <th>Year Total</th>\n",
       "      <th>Hospital_employees</th>\n",
       "    </tr>\n",
       "  </thead>\n",
       "  <tbody>\n",
       "    <tr>\n",
       "      <th>count</th>\n",
       "      <td>49031.000000</td>\n",
       "      <td>36243.000000</td>\n",
       "    </tr>\n",
       "    <tr>\n",
       "      <th>mean</th>\n",
       "      <td>21340.439824</td>\n",
       "      <td>979.281765</td>\n",
       "    </tr>\n",
       "    <tr>\n",
       "      <th>std</th>\n",
       "      <td>64160.070979</td>\n",
       "      <td>4583.174972</td>\n",
       "    </tr>\n",
       "    <tr>\n",
       "      <th>min</th>\n",
       "      <td>-514967.000000</td>\n",
       "      <td>1.000000</td>\n",
       "    </tr>\n",
       "    <tr>\n",
       "      <th>25%</th>\n",
       "      <td>260.000000</td>\n",
       "      <td>NaN</td>\n",
       "    </tr>\n",
       "    <tr>\n",
       "      <th>50%</th>\n",
       "      <td>1954.000000</td>\n",
       "      <td>NaN</td>\n",
       "    </tr>\n",
       "    <tr>\n",
       "      <th>75%</th>\n",
       "      <td>12122.000000</td>\n",
       "      <td>NaN</td>\n",
       "    </tr>\n",
       "    <tr>\n",
       "      <th>max</th>\n",
       "      <td>664055.000000</td>\n",
       "      <td>151043.000000</td>\n",
       "    </tr>\n",
       "  </tbody>\n",
       "</table>\n",
       "</div>"
      ],
      "text/plain": [
       "          Year Total  Hospital_employees\n",
       "count   49031.000000        36243.000000\n",
       "mean    21340.439824          979.281765\n",
       "std     64160.070979         4583.174972\n",
       "min   -514967.000000            1.000000\n",
       "25%       260.000000                 NaN\n",
       "50%      1954.000000                 NaN\n",
       "75%     12122.000000                 NaN\n",
       "max    664055.000000       151043.000000"
      ]
     },
     "execution_count": 118,
     "metadata": {},
     "output_type": "execute_result"
    }
   ],
   "source": [
    "fin_df_2.describe()"
   ]
  },
  {
   "cell_type": "code",
   "execution_count": 119,
   "metadata": {
    "collapsed": false
   },
   "outputs": [
    {
     "name": "stdout",
     "output_type": "stream",
     "text": [
      "<class 'pandas.core.frame.DataFrame'>\n",
      "Int64Index: 49031 entries, 0 to 49030\n",
      "Data columns (total 7 columns):\n",
      "Hospital_ID           49031 non-null object\n",
      "Region_ID             49031 non-null object\n",
      "District_ID           49031 non-null object\n",
      "Instrument_ID         49031 non-null object\n",
      "Year Total            49031 non-null int64\n",
      "Key                   49031 non-null object\n",
      "Hospital_employees    36243 non-null float64\n",
      "dtypes: float64(1), int64(1), object(5)\n",
      "memory usage: 3.0+ MB\n"
     ]
    }
   ],
   "source": [
    "fin_df_2.info()"
   ]
  },
  {
   "cell_type": "code",
   "execution_count": 120,
   "metadata": {
    "collapsed": true
   },
   "outputs": [],
   "source": [
    "fin_df_v1=fin_df_2.copy()"
   ]
  },
  {
   "cell_type": "code",
   "execution_count": 121,
   "metadata": {
    "collapsed": true
   },
   "outputs": [],
   "source": [
    "del fin_df_2['Key']"
   ]
  },
  {
   "cell_type": "code",
   "execution_count": 122,
   "metadata": {
    "collapsed": false
   },
   "outputs": [
    {
     "data": {
      "text/html": [
       "<div>\n",
       "<table border=\"1\" class=\"dataframe\">\n",
       "  <thead>\n",
       "    <tr style=\"text-align: right;\">\n",
       "      <th></th>\n",
       "      <th>Hospital_ID</th>\n",
       "      <th>Region_ID</th>\n",
       "      <th>District_ID</th>\n",
       "      <th>Instrument_ID</th>\n",
       "      <th>Year Total</th>\n",
       "      <th>Hospital_employees</th>\n",
       "    </tr>\n",
       "  </thead>\n",
       "  <tbody>\n",
       "    <tr>\n",
       "      <th>0</th>\n",
       "      <td>1</td>\n",
       "      <td>1</td>\n",
       "      <td>12</td>\n",
       "      <td>Instrument 2</td>\n",
       "      <td>103550</td>\n",
       "      <td>3.0</td>\n",
       "    </tr>\n",
       "    <tr>\n",
       "      <th>1</th>\n",
       "      <td>1</td>\n",
       "      <td>1</td>\n",
       "      <td>12</td>\n",
       "      <td>Instrument 3</td>\n",
       "      <td>2562</td>\n",
       "      <td>3.0</td>\n",
       "    </tr>\n",
       "    <tr>\n",
       "      <th>2</th>\n",
       "      <td>1</td>\n",
       "      <td>1</td>\n",
       "      <td>13</td>\n",
       "      <td>Instrument 1</td>\n",
       "      <td>187</td>\n",
       "      <td>6.0</td>\n",
       "    </tr>\n",
       "    <tr>\n",
       "      <th>3</th>\n",
       "      <td>1</td>\n",
       "      <td>1</td>\n",
       "      <td>13</td>\n",
       "      <td>Instrument 2</td>\n",
       "      <td>40741</td>\n",
       "      <td>6.0</td>\n",
       "    </tr>\n",
       "    <tr>\n",
       "      <th>4</th>\n",
       "      <td>1</td>\n",
       "      <td>1</td>\n",
       "      <td>13</td>\n",
       "      <td>Instrument 3</td>\n",
       "      <td>8549</td>\n",
       "      <td>6.0</td>\n",
       "    </tr>\n",
       "  </tbody>\n",
       "</table>\n",
       "</div>"
      ],
      "text/plain": [
       "  Hospital_ID Region_ID District_ID Instrument_ID  Year Total  \\\n",
       "0           1         1          12  Instrument 2      103550   \n",
       "1           1         1          12  Instrument 3        2562   \n",
       "2           1         1          13  Instrument 1         187   \n",
       "3           1         1          13  Instrument 2       40741   \n",
       "4           1         1          13  Instrument 3        8549   \n",
       "\n",
       "   Hospital_employees  \n",
       "0                 3.0  \n",
       "1                 3.0  \n",
       "2                 6.0  \n",
       "3                 6.0  \n",
       "4                 6.0  "
      ]
     },
     "execution_count": 122,
     "metadata": {},
     "output_type": "execute_result"
    }
   ],
   "source": [
    "fin_df_2.head()"
   ]
  },
  {
   "cell_type": "code",
   "execution_count": 123,
   "metadata": {
    "collapsed": true
   },
   "outputs": [],
   "source": [
    "fin_df_2['Instrument_ID']=fin_df_2['Instrument_ID'].str.replace('Instrument ','')"
   ]
  },
  {
   "cell_type": "code",
   "execution_count": 124,
   "metadata": {
    "collapsed": false
   },
   "outputs": [
    {
     "data": {
      "text/html": [
       "<div>\n",
       "<table border=\"1\" class=\"dataframe\">\n",
       "  <thead>\n",
       "    <tr style=\"text-align: right;\">\n",
       "      <th></th>\n",
       "      <th>Hospital_ID</th>\n",
       "      <th>Region_ID</th>\n",
       "      <th>District_ID</th>\n",
       "      <th>Instrument_ID</th>\n",
       "      <th>Year Total</th>\n",
       "      <th>Hospital_employees</th>\n",
       "    </tr>\n",
       "  </thead>\n",
       "  <tbody>\n",
       "    <tr>\n",
       "      <th>0</th>\n",
       "      <td>1</td>\n",
       "      <td>1</td>\n",
       "      <td>12</td>\n",
       "      <td>2</td>\n",
       "      <td>103550</td>\n",
       "      <td>3.0</td>\n",
       "    </tr>\n",
       "    <tr>\n",
       "      <th>1</th>\n",
       "      <td>1</td>\n",
       "      <td>1</td>\n",
       "      <td>12</td>\n",
       "      <td>3</td>\n",
       "      <td>2562</td>\n",
       "      <td>3.0</td>\n",
       "    </tr>\n",
       "    <tr>\n",
       "      <th>2</th>\n",
       "      <td>1</td>\n",
       "      <td>1</td>\n",
       "      <td>13</td>\n",
       "      <td>1</td>\n",
       "      <td>187</td>\n",
       "      <td>6.0</td>\n",
       "    </tr>\n",
       "    <tr>\n",
       "      <th>3</th>\n",
       "      <td>1</td>\n",
       "      <td>1</td>\n",
       "      <td>13</td>\n",
       "      <td>2</td>\n",
       "      <td>40741</td>\n",
       "      <td>6.0</td>\n",
       "    </tr>\n",
       "    <tr>\n",
       "      <th>4</th>\n",
       "      <td>1</td>\n",
       "      <td>1</td>\n",
       "      <td>13</td>\n",
       "      <td>3</td>\n",
       "      <td>8549</td>\n",
       "      <td>6.0</td>\n",
       "    </tr>\n",
       "  </tbody>\n",
       "</table>\n",
       "</div>"
      ],
      "text/plain": [
       "  Hospital_ID Region_ID District_ID Instrument_ID  Year Total  \\\n",
       "0           1         1          12             2      103550   \n",
       "1           1         1          12             3        2562   \n",
       "2           1         1          13             1         187   \n",
       "3           1         1          13             2       40741   \n",
       "4           1         1          13             3        8549   \n",
       "\n",
       "   Hospital_employees  \n",
       "0                 3.0  \n",
       "1                 3.0  \n",
       "2                 6.0  \n",
       "3                 6.0  \n",
       "4                 6.0  "
      ]
     },
     "execution_count": 124,
     "metadata": {},
     "output_type": "execute_result"
    }
   ],
   "source": [
    "fin_df_2.head()"
   ]
  },
  {
   "cell_type": "code",
   "execution_count": 125,
   "metadata": {
    "collapsed": false
   },
   "outputs": [
    {
     "name": "stdout",
     "output_type": "stream",
     "text": [
      "<class 'pandas.core.frame.DataFrame'>\n",
      "Int64Index: 49031 entries, 0 to 49030\n",
      "Data columns (total 6 columns):\n",
      "Hospital_ID           49031 non-null object\n",
      "Region_ID             49031 non-null object\n",
      "District_ID           49031 non-null object\n",
      "Instrument_ID         49031 non-null object\n",
      "Year Total            49031 non-null int64\n",
      "Hospital_employees    36243 non-null float64\n",
      "dtypes: float64(1), int64(1), object(4)\n",
      "memory usage: 2.6+ MB\n"
     ]
    }
   ],
   "source": [
    "fin_df_2.info()"
   ]
  },
  {
   "cell_type": "code",
   "execution_count": 126,
   "metadata": {
    "collapsed": false
   },
   "outputs": [],
   "source": [
    "fin_df_2=fin_df_2.apply(pd.to_numeric, errors=('coerce'))"
   ]
  },
  {
   "cell_type": "code",
   "execution_count": 127,
   "metadata": {
    "collapsed": false
   },
   "outputs": [
    {
     "name": "stdout",
     "output_type": "stream",
     "text": [
      "<class 'pandas.core.frame.DataFrame'>\n",
      "Int64Index: 49031 entries, 0 to 49030\n",
      "Data columns (total 6 columns):\n",
      "Hospital_ID           49031 non-null int64\n",
      "Region_ID             49031 non-null int64\n",
      "District_ID           49031 non-null int64\n",
      "Instrument_ID         49031 non-null int64\n",
      "Year Total            49031 non-null int64\n",
      "Hospital_employees    36243 non-null float64\n",
      "dtypes: float64(1), int64(5)\n",
      "memory usage: 2.6 MB\n"
     ]
    }
   ],
   "source": [
    "fin_df_2.info()"
   ]
  },
  {
   "cell_type": "code",
   "execution_count": 128,
   "metadata": {
    "collapsed": false
   },
   "outputs": [
    {
     "data": {
      "text/html": [
       "<div>\n",
       "<table border=\"1\" class=\"dataframe\">\n",
       "  <thead>\n",
       "    <tr style=\"text-align: right;\">\n",
       "      <th></th>\n",
       "      <th>Hospital_ID</th>\n",
       "      <th>Region_ID</th>\n",
       "      <th>District_ID</th>\n",
       "      <th>Instrument_ID</th>\n",
       "      <th>Year Total</th>\n",
       "      <th>Hospital_employees</th>\n",
       "    </tr>\n",
       "  </thead>\n",
       "  <tbody>\n",
       "    <tr>\n",
       "      <th>count</th>\n",
       "      <td>49031.000000</td>\n",
       "      <td>49031.000000</td>\n",
       "      <td>49031.000000</td>\n",
       "      <td>49031.000000</td>\n",
       "      <td>49031.000000</td>\n",
       "      <td>36243.000000</td>\n",
       "    </tr>\n",
       "    <tr>\n",
       "      <th>mean</th>\n",
       "      <td>810.387999</td>\n",
       "      <td>2.544472</td>\n",
       "      <td>26.692705</td>\n",
       "      <td>3.407171</td>\n",
       "      <td>21340.439824</td>\n",
       "      <td>979.281765</td>\n",
       "    </tr>\n",
       "    <tr>\n",
       "      <th>std</th>\n",
       "      <td>468.008112</td>\n",
       "      <td>1.396149</td>\n",
       "      <td>14.956395</td>\n",
       "      <td>2.316869</td>\n",
       "      <td>64160.070979</td>\n",
       "      <td>4583.174972</td>\n",
       "    </tr>\n",
       "    <tr>\n",
       "      <th>min</th>\n",
       "      <td>1.000000</td>\n",
       "      <td>1.000000</td>\n",
       "      <td>1.000000</td>\n",
       "      <td>1.000000</td>\n",
       "      <td>-514967.000000</td>\n",
       "      <td>1.000000</td>\n",
       "    </tr>\n",
       "    <tr>\n",
       "      <th>25%</th>\n",
       "      <td>399.000000</td>\n",
       "      <td>1.000000</td>\n",
       "      <td>15.000000</td>\n",
       "      <td>2.000000</td>\n",
       "      <td>260.000000</td>\n",
       "      <td>NaN</td>\n",
       "    </tr>\n",
       "    <tr>\n",
       "      <th>50%</th>\n",
       "      <td>815.000000</td>\n",
       "      <td>2.000000</td>\n",
       "      <td>25.000000</td>\n",
       "      <td>3.000000</td>\n",
       "      <td>1954.000000</td>\n",
       "      <td>NaN</td>\n",
       "    </tr>\n",
       "    <tr>\n",
       "      <th>75%</th>\n",
       "      <td>1229.000000</td>\n",
       "      <td>3.000000</td>\n",
       "      <td>38.000000</td>\n",
       "      <td>5.000000</td>\n",
       "      <td>12122.000000</td>\n",
       "      <td>NaN</td>\n",
       "    </tr>\n",
       "    <tr>\n",
       "      <th>max</th>\n",
       "      <td>1602.000000</td>\n",
       "      <td>6.000000</td>\n",
       "      <td>99.000000</td>\n",
       "      <td>20.000000</td>\n",
       "      <td>664055.000000</td>\n",
       "      <td>151043.000000</td>\n",
       "    </tr>\n",
       "  </tbody>\n",
       "</table>\n",
       "</div>"
      ],
      "text/plain": [
       "        Hospital_ID     Region_ID   District_ID  Instrument_ID     Year Total  \\\n",
       "count  49031.000000  49031.000000  49031.000000   49031.000000   49031.000000   \n",
       "mean     810.387999      2.544472     26.692705       3.407171   21340.439824   \n",
       "std      468.008112      1.396149     14.956395       2.316869   64160.070979   \n",
       "min        1.000000      1.000000      1.000000       1.000000 -514967.000000   \n",
       "25%      399.000000      1.000000     15.000000       2.000000     260.000000   \n",
       "50%      815.000000      2.000000     25.000000       3.000000    1954.000000   \n",
       "75%     1229.000000      3.000000     38.000000       5.000000   12122.000000   \n",
       "max     1602.000000      6.000000     99.000000      20.000000  664055.000000   \n",
       "\n",
       "       Hospital_employees  \n",
       "count        36243.000000  \n",
       "mean           979.281765  \n",
       "std           4583.174972  \n",
       "min              1.000000  \n",
       "25%                   NaN  \n",
       "50%                   NaN  \n",
       "75%                   NaN  \n",
       "max         151043.000000  "
      ]
     },
     "execution_count": 128,
     "metadata": {},
     "output_type": "execute_result"
    }
   ],
   "source": [
    "fin_df_2.describe()"
   ]
  },
  {
   "cell_type": "code",
   "execution_count": 129,
   "metadata": {
    "collapsed": false
   },
   "outputs": [
    {
     "data": {
      "text/plain": [
       "979.2817647545733"
      ]
     },
     "execution_count": 129,
     "metadata": {},
     "output_type": "execute_result"
    }
   ],
   "source": [
    "fin_df_2['Hospital_employees'].mean()"
   ]
  },
  {
   "cell_type": "code",
   "execution_count": 130,
   "metadata": {
    "collapsed": false
   },
   "outputs": [],
   "source": [
    "fin_df_3=fin_df_2.fillna(fin_df_2.mean())"
   ]
  },
  {
   "cell_type": "code",
   "execution_count": 131,
   "metadata": {
    "collapsed": false
   },
   "outputs": [
    {
     "data": {
      "text/html": [
       "<div>\n",
       "<table border=\"1\" class=\"dataframe\">\n",
       "  <thead>\n",
       "    <tr style=\"text-align: right;\">\n",
       "      <th></th>\n",
       "      <th>Hospital_ID</th>\n",
       "      <th>Region_ID</th>\n",
       "      <th>District_ID</th>\n",
       "      <th>Instrument_ID</th>\n",
       "      <th>Year Total</th>\n",
       "      <th>Hospital_employees</th>\n",
       "    </tr>\n",
       "  </thead>\n",
       "  <tbody>\n",
       "    <tr>\n",
       "      <th>count</th>\n",
       "      <td>49031.000000</td>\n",
       "      <td>49031.000000</td>\n",
       "      <td>49031.000000</td>\n",
       "      <td>49031.000000</td>\n",
       "      <td>49031.000000</td>\n",
       "      <td>49031.000000</td>\n",
       "    </tr>\n",
       "    <tr>\n",
       "      <th>mean</th>\n",
       "      <td>810.387999</td>\n",
       "      <td>2.544472</td>\n",
       "      <td>26.692705</td>\n",
       "      <td>3.407171</td>\n",
       "      <td>21340.439824</td>\n",
       "      <td>979.281765</td>\n",
       "    </tr>\n",
       "    <tr>\n",
       "      <th>std</th>\n",
       "      <td>468.008112</td>\n",
       "      <td>1.396149</td>\n",
       "      <td>14.956395</td>\n",
       "      <td>2.316869</td>\n",
       "      <td>64160.070979</td>\n",
       "      <td>3940.411420</td>\n",
       "    </tr>\n",
       "    <tr>\n",
       "      <th>min</th>\n",
       "      <td>1.000000</td>\n",
       "      <td>1.000000</td>\n",
       "      <td>1.000000</td>\n",
       "      <td>1.000000</td>\n",
       "      <td>-514967.000000</td>\n",
       "      <td>1.000000</td>\n",
       "    </tr>\n",
       "    <tr>\n",
       "      <th>25%</th>\n",
       "      <td>399.000000</td>\n",
       "      <td>1.000000</td>\n",
       "      <td>15.000000</td>\n",
       "      <td>2.000000</td>\n",
       "      <td>260.000000</td>\n",
       "      <td>44.000000</td>\n",
       "    </tr>\n",
       "    <tr>\n",
       "      <th>50%</th>\n",
       "      <td>815.000000</td>\n",
       "      <td>2.000000</td>\n",
       "      <td>25.000000</td>\n",
       "      <td>3.000000</td>\n",
       "      <td>1954.000000</td>\n",
       "      <td>311.000000</td>\n",
       "    </tr>\n",
       "    <tr>\n",
       "      <th>75%</th>\n",
       "      <td>1229.000000</td>\n",
       "      <td>3.000000</td>\n",
       "      <td>38.000000</td>\n",
       "      <td>5.000000</td>\n",
       "      <td>12122.000000</td>\n",
       "      <td>979.281765</td>\n",
       "    </tr>\n",
       "    <tr>\n",
       "      <th>max</th>\n",
       "      <td>1602.000000</td>\n",
       "      <td>6.000000</td>\n",
       "      <td>99.000000</td>\n",
       "      <td>20.000000</td>\n",
       "      <td>664055.000000</td>\n",
       "      <td>151043.000000</td>\n",
       "    </tr>\n",
       "  </tbody>\n",
       "</table>\n",
       "</div>"
      ],
      "text/plain": [
       "        Hospital_ID     Region_ID   District_ID  Instrument_ID     Year Total  \\\n",
       "count  49031.000000  49031.000000  49031.000000   49031.000000   49031.000000   \n",
       "mean     810.387999      2.544472     26.692705       3.407171   21340.439824   \n",
       "std      468.008112      1.396149     14.956395       2.316869   64160.070979   \n",
       "min        1.000000      1.000000      1.000000       1.000000 -514967.000000   \n",
       "25%      399.000000      1.000000     15.000000       2.000000     260.000000   \n",
       "50%      815.000000      2.000000     25.000000       3.000000    1954.000000   \n",
       "75%     1229.000000      3.000000     38.000000       5.000000   12122.000000   \n",
       "max     1602.000000      6.000000     99.000000      20.000000  664055.000000   \n",
       "\n",
       "       Hospital_employees  \n",
       "count        49031.000000  \n",
       "mean           979.281765  \n",
       "std           3940.411420  \n",
       "min              1.000000  \n",
       "25%             44.000000  \n",
       "50%            311.000000  \n",
       "75%            979.281765  \n",
       "max         151043.000000  "
      ]
     },
     "execution_count": 131,
     "metadata": {},
     "output_type": "execute_result"
    }
   ],
   "source": [
    "fin_df_3.describe()"
   ]
  },
  {
   "cell_type": "code",
   "execution_count": 132,
   "metadata": {
    "collapsed": true
   },
   "outputs": [],
   "source": [
    "del fin_df_v1['Key']"
   ]
  },
  {
   "cell_type": "code",
   "execution_count": 133,
   "metadata": {
    "collapsed": true
   },
   "outputs": [],
   "source": [
    "fin_df_v1['Instrument_ID']=fin_df_v1['Instrument_ID'].str.replace('Instrument ','')"
   ]
  },
  {
   "cell_type": "code",
   "execution_count": 134,
   "metadata": {
    "collapsed": true
   },
   "outputs": [],
   "source": [
    "fin_df_v2=fin_df_v1.fillna(fin_df_v1.mean())"
   ]
  },
  {
   "cell_type": "code",
   "execution_count": 135,
   "metadata": {
    "collapsed": false
   },
   "outputs": [
    {
     "data": {
      "text/html": [
       "<div>\n",
       "<table border=\"1\" class=\"dataframe\">\n",
       "  <thead>\n",
       "    <tr style=\"text-align: right;\">\n",
       "      <th></th>\n",
       "      <th>Year Total</th>\n",
       "      <th>Hospital_employees</th>\n",
       "    </tr>\n",
       "  </thead>\n",
       "  <tbody>\n",
       "    <tr>\n",
       "      <th>count</th>\n",
       "      <td>49031.000000</td>\n",
       "      <td>49031.000000</td>\n",
       "    </tr>\n",
       "    <tr>\n",
       "      <th>mean</th>\n",
       "      <td>21340.439824</td>\n",
       "      <td>979.281765</td>\n",
       "    </tr>\n",
       "    <tr>\n",
       "      <th>std</th>\n",
       "      <td>64160.070979</td>\n",
       "      <td>3940.411420</td>\n",
       "    </tr>\n",
       "    <tr>\n",
       "      <th>min</th>\n",
       "      <td>-514967.000000</td>\n",
       "      <td>1.000000</td>\n",
       "    </tr>\n",
       "    <tr>\n",
       "      <th>25%</th>\n",
       "      <td>260.000000</td>\n",
       "      <td>44.000000</td>\n",
       "    </tr>\n",
       "    <tr>\n",
       "      <th>50%</th>\n",
       "      <td>1954.000000</td>\n",
       "      <td>311.000000</td>\n",
       "    </tr>\n",
       "    <tr>\n",
       "      <th>75%</th>\n",
       "      <td>12122.000000</td>\n",
       "      <td>979.281765</td>\n",
       "    </tr>\n",
       "    <tr>\n",
       "      <th>max</th>\n",
       "      <td>664055.000000</td>\n",
       "      <td>151043.000000</td>\n",
       "    </tr>\n",
       "  </tbody>\n",
       "</table>\n",
       "</div>"
      ],
      "text/plain": [
       "          Year Total  Hospital_employees\n",
       "count   49031.000000        49031.000000\n",
       "mean    21340.439824          979.281765\n",
       "std     64160.070979         3940.411420\n",
       "min   -514967.000000            1.000000\n",
       "25%       260.000000           44.000000\n",
       "50%      1954.000000          311.000000\n",
       "75%     12122.000000          979.281765\n",
       "max    664055.000000       151043.000000"
      ]
     },
     "execution_count": 135,
     "metadata": {},
     "output_type": "execute_result"
    }
   ],
   "source": [
    "fin_df_v2.describe()"
   ]
  },
  {
   "cell_type": "code",
   "execution_count": 136,
   "metadata": {
    "collapsed": false
   },
   "outputs": [],
   "source": [
    "column=['Buy']\n",
    "y = pd.DataFrame(data=None, columns=column)"
   ]
  },
  {
   "cell_type": "code",
   "execution_count": 137,
   "metadata": {
    "collapsed": true
   },
   "outputs": [],
   "source": [
    "proj_rev = pd.read_csv(\"C:\\Users\\dell pc\\Dataset\\ProjectedRevenue.csv\")"
   ]
  },
  {
   "cell_type": "code",
   "execution_count": 138,
   "metadata": {
    "collapsed": false
   },
   "outputs": [
    {
     "data": {
      "text/html": [
       "<div>\n",
       "<table border=\"1\" class=\"dataframe\">\n",
       "  <thead>\n",
       "    <tr style=\"text-align: right;\">\n",
       "      <th></th>\n",
       "      <th>Hospital_ID</th>\n",
       "      <th>District_ID</th>\n",
       "      <th>Instrument_ID</th>\n",
       "      <th>Annual_Projected_Revenue</th>\n",
       "    </tr>\n",
       "  </thead>\n",
       "  <tbody>\n",
       "    <tr>\n",
       "      <th>0</th>\n",
       "      <td>Hospital 1</td>\n",
       "      <td>District 13</td>\n",
       "      <td>Instrument 2</td>\n",
       "      <td>17164</td>\n",
       "    </tr>\n",
       "    <tr>\n",
       "      <th>1</th>\n",
       "      <td>Hospital 1</td>\n",
       "      <td>District 13</td>\n",
       "      <td>Instrument 3</td>\n",
       "      <td>655645</td>\n",
       "    </tr>\n",
       "    <tr>\n",
       "      <th>2</th>\n",
       "      <td>Hospital 1</td>\n",
       "      <td>District 13</td>\n",
       "      <td>Instrument 4</td>\n",
       "      <td>281452</td>\n",
       "    </tr>\n",
       "    <tr>\n",
       "      <th>3</th>\n",
       "      <td>Hospital 1</td>\n",
       "      <td>District 2</td>\n",
       "      <td>Instrument 2</td>\n",
       "      <td>12199</td>\n",
       "    </tr>\n",
       "    <tr>\n",
       "      <th>4</th>\n",
       "      <td>Hospital 1</td>\n",
       "      <td>District 20</td>\n",
       "      <td>Instrument 2</td>\n",
       "      <td>178128</td>\n",
       "    </tr>\n",
       "  </tbody>\n",
       "</table>\n",
       "</div>"
      ],
      "text/plain": [
       "  Hospital_ID  District_ID Instrument_ID  Annual_Projected_Revenue\n",
       "0  Hospital 1  District 13  Instrument 2                     17164\n",
       "1  Hospital 1  District 13  Instrument 3                    655645\n",
       "2  Hospital 1  District 13  Instrument 4                    281452\n",
       "3  Hospital 1   District 2  Instrument 2                     12199\n",
       "4  Hospital 1  District 20  Instrument 2                    178128"
      ]
     },
     "execution_count": 138,
     "metadata": {},
     "output_type": "execute_result"
    }
   ],
   "source": [
    "proj_rev.head()"
   ]
  },
  {
   "cell_type": "code",
   "execution_count": 139,
   "metadata": {
    "collapsed": true
   },
   "outputs": [],
   "source": [
    "proj_rev['Key2']=proj_rev.Hospital_ID+proj_rev.District_ID+proj_rev.Instrument_ID"
   ]
  },
  {
   "cell_type": "code",
   "execution_count": 140,
   "metadata": {
    "collapsed": false
   },
   "outputs": [
    {
     "data": {
      "text/html": [
       "<div>\n",
       "<table border=\"1\" class=\"dataframe\">\n",
       "  <thead>\n",
       "    <tr style=\"text-align: right;\">\n",
       "      <th></th>\n",
       "      <th>Hospital_ID</th>\n",
       "      <th>District_ID</th>\n",
       "      <th>Instrument_ID</th>\n",
       "      <th>Annual_Projected_Revenue</th>\n",
       "      <th>Key2</th>\n",
       "    </tr>\n",
       "  </thead>\n",
       "  <tbody>\n",
       "    <tr>\n",
       "      <th>0</th>\n",
       "      <td>Hospital 1</td>\n",
       "      <td>District 13</td>\n",
       "      <td>Instrument 2</td>\n",
       "      <td>17164</td>\n",
       "      <td>Hospital 1District 13Instrument 2</td>\n",
       "    </tr>\n",
       "    <tr>\n",
       "      <th>1</th>\n",
       "      <td>Hospital 1</td>\n",
       "      <td>District 13</td>\n",
       "      <td>Instrument 3</td>\n",
       "      <td>655645</td>\n",
       "      <td>Hospital 1District 13Instrument 3</td>\n",
       "    </tr>\n",
       "    <tr>\n",
       "      <th>2</th>\n",
       "      <td>Hospital 1</td>\n",
       "      <td>District 13</td>\n",
       "      <td>Instrument 4</td>\n",
       "      <td>281452</td>\n",
       "      <td>Hospital 1District 13Instrument 4</td>\n",
       "    </tr>\n",
       "    <tr>\n",
       "      <th>3</th>\n",
       "      <td>Hospital 1</td>\n",
       "      <td>District 2</td>\n",
       "      <td>Instrument 2</td>\n",
       "      <td>12199</td>\n",
       "      <td>Hospital 1District 2Instrument 2</td>\n",
       "    </tr>\n",
       "    <tr>\n",
       "      <th>4</th>\n",
       "      <td>Hospital 1</td>\n",
       "      <td>District 20</td>\n",
       "      <td>Instrument 2</td>\n",
       "      <td>178128</td>\n",
       "      <td>Hospital 1District 20Instrument 2</td>\n",
       "    </tr>\n",
       "  </tbody>\n",
       "</table>\n",
       "</div>"
      ],
      "text/plain": [
       "  Hospital_ID  District_ID Instrument_ID  Annual_Projected_Revenue  \\\n",
       "0  Hospital 1  District 13  Instrument 2                     17164   \n",
       "1  Hospital 1  District 13  Instrument 3                    655645   \n",
       "2  Hospital 1  District 13  Instrument 4                    281452   \n",
       "3  Hospital 1   District 2  Instrument 2                     12199   \n",
       "4  Hospital 1  District 20  Instrument 2                    178128   \n",
       "\n",
       "                                Key2  \n",
       "0  Hospital 1District 13Instrument 2  \n",
       "1  Hospital 1District 13Instrument 3  \n",
       "2  Hospital 1District 13Instrument 4  \n",
       "3   Hospital 1District 2Instrument 2  \n",
       "4  Hospital 1District 20Instrument 2  "
      ]
     },
     "execution_count": 140,
     "metadata": {},
     "output_type": "execute_result"
    }
   ],
   "source": [
    "proj_rev.head()"
   ]
  },
  {
   "cell_type": "code",
   "execution_count": 141,
   "metadata": {
    "collapsed": false
   },
   "outputs": [
    {
     "data": {
      "text/html": [
       "<div>\n",
       "<table border=\"1\" class=\"dataframe\">\n",
       "  <thead>\n",
       "    <tr style=\"text-align: right;\">\n",
       "      <th></th>\n",
       "      <th>Hospital_ID</th>\n",
       "      <th>Region_ID</th>\n",
       "      <th>District_ID</th>\n",
       "      <th>Instrument_ID</th>\n",
       "      <th>Year Total</th>\n",
       "      <th>Hospital_employees</th>\n",
       "    </tr>\n",
       "  </thead>\n",
       "  <tbody>\n",
       "    <tr>\n",
       "      <th>0</th>\n",
       "      <td>1</td>\n",
       "      <td>1</td>\n",
       "      <td>12</td>\n",
       "      <td>2</td>\n",
       "      <td>103550</td>\n",
       "      <td>3.0</td>\n",
       "    </tr>\n",
       "    <tr>\n",
       "      <th>1</th>\n",
       "      <td>1</td>\n",
       "      <td>1</td>\n",
       "      <td>12</td>\n",
       "      <td>3</td>\n",
       "      <td>2562</td>\n",
       "      <td>3.0</td>\n",
       "    </tr>\n",
       "    <tr>\n",
       "      <th>2</th>\n",
       "      <td>1</td>\n",
       "      <td>1</td>\n",
       "      <td>13</td>\n",
       "      <td>1</td>\n",
       "      <td>187</td>\n",
       "      <td>6.0</td>\n",
       "    </tr>\n",
       "    <tr>\n",
       "      <th>3</th>\n",
       "      <td>1</td>\n",
       "      <td>1</td>\n",
       "      <td>13</td>\n",
       "      <td>2</td>\n",
       "      <td>40741</td>\n",
       "      <td>6.0</td>\n",
       "    </tr>\n",
       "    <tr>\n",
       "      <th>4</th>\n",
       "      <td>1</td>\n",
       "      <td>1</td>\n",
       "      <td>13</td>\n",
       "      <td>3</td>\n",
       "      <td>8549</td>\n",
       "      <td>6.0</td>\n",
       "    </tr>\n",
       "  </tbody>\n",
       "</table>\n",
       "</div>"
      ],
      "text/plain": [
       "  Hospital_ID Region_ID District_ID Instrument_ID  Year Total  \\\n",
       "0           1         1          12             2      103550   \n",
       "1           1         1          12             3        2562   \n",
       "2           1         1          13             1         187   \n",
       "3           1         1          13             2       40741   \n",
       "4           1         1          13             3        8549   \n",
       "\n",
       "   Hospital_employees  \n",
       "0                 3.0  \n",
       "1                 3.0  \n",
       "2                 6.0  \n",
       "3                 6.0  \n",
       "4                 6.0  "
      ]
     },
     "execution_count": 141,
     "metadata": {},
     "output_type": "execute_result"
    }
   ],
   "source": [
    "fin_df_v2.head()"
   ]
  },
  {
   "cell_type": "code",
   "execution_count": 142,
   "metadata": {
    "collapsed": false
   },
   "outputs": [
    {
     "ename": "KeyError",
     "evalue": "'Key1'",
     "output_type": "error",
     "traceback": [
      "\u001b[1;31m---------------------------------------------------------------------------\u001b[0m",
      "\u001b[1;31mKeyError\u001b[0m                                  Traceback (most recent call last)",
      "\u001b[1;32m<ipython-input-142-b9f9a97ff1e7>\u001b[0m in \u001b[0;36m<module>\u001b[1;34m()\u001b[0m\n\u001b[1;32m----> 1\u001b[1;33m \u001b[1;32mdel\u001b[0m \u001b[0mproj_rev\u001b[0m\u001b[1;33m[\u001b[0m\u001b[1;34m'Key1'\u001b[0m\u001b[1;33m]\u001b[0m\u001b[1;33m\u001b[0m\u001b[0m\n\u001b[0m",
      "\u001b[1;32mC:\\Users\\dell pc\\Anaconda2\\lib\\site-packages\\pandas\\core\\generic.pyc\u001b[0m in \u001b[0;36m__delitem__\u001b[1;34m(self, key)\u001b[0m\n\u001b[0;32m   1604\u001b[0m             \u001b[1;31m# there was no match, this call should raise the appropriate\u001b[0m\u001b[1;33m\u001b[0m\u001b[1;33m\u001b[0m\u001b[0m\n\u001b[0;32m   1605\u001b[0m             \u001b[1;31m# exception:\u001b[0m\u001b[1;33m\u001b[0m\u001b[1;33m\u001b[0m\u001b[0m\n\u001b[1;32m-> 1606\u001b[1;33m             \u001b[0mself\u001b[0m\u001b[1;33m.\u001b[0m\u001b[0m_data\u001b[0m\u001b[1;33m.\u001b[0m\u001b[0mdelete\u001b[0m\u001b[1;33m(\u001b[0m\u001b[0mkey\u001b[0m\u001b[1;33m)\u001b[0m\u001b[1;33m\u001b[0m\u001b[0m\n\u001b[0m\u001b[0;32m   1607\u001b[0m \u001b[1;33m\u001b[0m\u001b[0m\n\u001b[0;32m   1608\u001b[0m         \u001b[1;31m# delete from the caches\u001b[0m\u001b[1;33m\u001b[0m\u001b[1;33m\u001b[0m\u001b[0m\n",
      "\u001b[1;32mC:\\Users\\dell pc\\Anaconda2\\lib\\site-packages\\pandas\\core\\internals.pyc\u001b[0m in \u001b[0;36mdelete\u001b[1;34m(self, item)\u001b[0m\n\u001b[0;32m   3347\u001b[0m         \u001b[0mDelete\u001b[0m \u001b[0mselected\u001b[0m \u001b[0mitem\u001b[0m \u001b[1;33m(\u001b[0m\u001b[0mitems\u001b[0m \u001b[1;32mif\u001b[0m \u001b[0mnon\u001b[0m\u001b[1;33m-\u001b[0m\u001b[0munique\u001b[0m\u001b[1;33m)\u001b[0m \u001b[1;32min\u001b[0m\u001b[1;33m-\u001b[0m\u001b[0mplace\u001b[0m\u001b[1;33m.\u001b[0m\u001b[1;33m\u001b[0m\u001b[0m\n\u001b[0;32m   3348\u001b[0m         \"\"\"\n\u001b[1;32m-> 3349\u001b[1;33m         \u001b[0mindexer\u001b[0m \u001b[1;33m=\u001b[0m \u001b[0mself\u001b[0m\u001b[1;33m.\u001b[0m\u001b[0mitems\u001b[0m\u001b[1;33m.\u001b[0m\u001b[0mget_loc\u001b[0m\u001b[1;33m(\u001b[0m\u001b[0mitem\u001b[0m\u001b[1;33m)\u001b[0m\u001b[1;33m\u001b[0m\u001b[0m\n\u001b[0m\u001b[0;32m   3350\u001b[0m \u001b[1;33m\u001b[0m\u001b[0m\n\u001b[0;32m   3351\u001b[0m         \u001b[0mis_deleted\u001b[0m \u001b[1;33m=\u001b[0m \u001b[0mnp\u001b[0m\u001b[1;33m.\u001b[0m\u001b[0mzeros\u001b[0m\u001b[1;33m(\u001b[0m\u001b[0mself\u001b[0m\u001b[1;33m.\u001b[0m\u001b[0mshape\u001b[0m\u001b[1;33m[\u001b[0m\u001b[1;36m0\u001b[0m\u001b[1;33m]\u001b[0m\u001b[1;33m,\u001b[0m \u001b[0mdtype\u001b[0m\u001b[1;33m=\u001b[0m\u001b[0mnp\u001b[0m\u001b[1;33m.\u001b[0m\u001b[0mbool_\u001b[0m\u001b[1;33m)\u001b[0m\u001b[1;33m\u001b[0m\u001b[0m\n",
      "\u001b[1;32mC:\\Users\\dell pc\\Anaconda2\\lib\\site-packages\\pandas\\indexes\\base.pyc\u001b[0m in \u001b[0;36mget_loc\u001b[1;34m(self, key, method, tolerance)\u001b[0m\n\u001b[0;32m   1945\u001b[0m                 \u001b[1;32mreturn\u001b[0m \u001b[0mself\u001b[0m\u001b[1;33m.\u001b[0m\u001b[0m_engine\u001b[0m\u001b[1;33m.\u001b[0m\u001b[0mget_loc\u001b[0m\u001b[1;33m(\u001b[0m\u001b[0mkey\u001b[0m\u001b[1;33m)\u001b[0m\u001b[1;33m\u001b[0m\u001b[0m\n\u001b[0;32m   1946\u001b[0m             \u001b[1;32mexcept\u001b[0m \u001b[0mKeyError\u001b[0m\u001b[1;33m:\u001b[0m\u001b[1;33m\u001b[0m\u001b[0m\n\u001b[1;32m-> 1947\u001b[1;33m                 \u001b[1;32mreturn\u001b[0m \u001b[0mself\u001b[0m\u001b[1;33m.\u001b[0m\u001b[0m_engine\u001b[0m\u001b[1;33m.\u001b[0m\u001b[0mget_loc\u001b[0m\u001b[1;33m(\u001b[0m\u001b[0mself\u001b[0m\u001b[1;33m.\u001b[0m\u001b[0m_maybe_cast_indexer\u001b[0m\u001b[1;33m(\u001b[0m\u001b[0mkey\u001b[0m\u001b[1;33m)\u001b[0m\u001b[1;33m)\u001b[0m\u001b[1;33m\u001b[0m\u001b[0m\n\u001b[0m\u001b[0;32m   1948\u001b[0m \u001b[1;33m\u001b[0m\u001b[0m\n\u001b[0;32m   1949\u001b[0m         \u001b[0mindexer\u001b[0m \u001b[1;33m=\u001b[0m \u001b[0mself\u001b[0m\u001b[1;33m.\u001b[0m\u001b[0mget_indexer\u001b[0m\u001b[1;33m(\u001b[0m\u001b[1;33m[\u001b[0m\u001b[0mkey\u001b[0m\u001b[1;33m]\u001b[0m\u001b[1;33m,\u001b[0m \u001b[0mmethod\u001b[0m\u001b[1;33m=\u001b[0m\u001b[0mmethod\u001b[0m\u001b[1;33m,\u001b[0m \u001b[0mtolerance\u001b[0m\u001b[1;33m=\u001b[0m\u001b[0mtolerance\u001b[0m\u001b[1;33m)\u001b[0m\u001b[1;33m\u001b[0m\u001b[0m\n",
      "\u001b[1;32mpandas\\index.pyx\u001b[0m in \u001b[0;36mpandas.index.IndexEngine.get_loc (pandas\\index.c:4154)\u001b[1;34m()\u001b[0m\n",
      "\u001b[1;32mpandas\\index.pyx\u001b[0m in \u001b[0;36mpandas.index.IndexEngine.get_loc (pandas\\index.c:4018)\u001b[1;34m()\u001b[0m\n",
      "\u001b[1;32mpandas\\hashtable.pyx\u001b[0m in \u001b[0;36mpandas.hashtable.PyObjectHashTable.get_item (pandas\\hashtable.c:12368)\u001b[1;34m()\u001b[0m\n",
      "\u001b[1;32mpandas\\hashtable.pyx\u001b[0m in \u001b[0;36mpandas.hashtable.PyObjectHashTable.get_item (pandas\\hashtable.c:12322)\u001b[1;34m()\u001b[0m\n",
      "\u001b[1;31mKeyError\u001b[0m: 'Key1'"
     ]
    }
   ],
   "source": [
    "del proj_rev['Key1']"
   ]
  },
  {
   "cell_type": "code",
   "execution_count": 143,
   "metadata": {
    "collapsed": false
   },
   "outputs": [
    {
     "ename": "SyntaxError",
     "evalue": "invalid syntax (<ipython-input-143-7c0eb63cc6ba>, line 1)",
     "output_type": "error",
     "traceback": [
      "\u001b[1;36m  File \u001b[1;32m\"<ipython-input-143-7c0eb63cc6ba>\"\u001b[1;36m, line \u001b[1;32m1\u001b[0m\n\u001b[1;33m    fin_df_v3=fin_df_v2.copy()fin_df_v2\u001b[0m\n\u001b[1;37m                                      ^\u001b[0m\n\u001b[1;31mSyntaxError\u001b[0m\u001b[1;31m:\u001b[0m invalid syntax\n"
     ]
    }
   ],
   "source": [
    "fin_df_v3=fin_df_v2.copy()fin_df_v2"
   ]
  },
  {
   "cell_type": "code",
   "execution_count": 144,
   "metadata": {
    "collapsed": false
   },
   "outputs": [
    {
     "data": {
      "text/html": [
       "<div>\n",
       "<table border=\"1\" class=\"dataframe\">\n",
       "  <thead>\n",
       "    <tr style=\"text-align: right;\">\n",
       "      <th></th>\n",
       "      <th>Hospital_ID</th>\n",
       "      <th>Region_ID</th>\n",
       "      <th>District_ID</th>\n",
       "      <th>Instrument_ID</th>\n",
       "      <th>Year Total</th>\n",
       "      <th>Key</th>\n",
       "    </tr>\n",
       "  </thead>\n",
       "  <tbody>\n",
       "    <tr>\n",
       "      <th>0</th>\n",
       "      <td>1</td>\n",
       "      <td>1</td>\n",
       "      <td>12</td>\n",
       "      <td>Instrument 2</td>\n",
       "      <td>103550</td>\n",
       "      <td>Hospital 1District 12</td>\n",
       "    </tr>\n",
       "    <tr>\n",
       "      <th>1</th>\n",
       "      <td>1</td>\n",
       "      <td>1</td>\n",
       "      <td>12</td>\n",
       "      <td>Instrument 3</td>\n",
       "      <td>2562</td>\n",
       "      <td>Hospital 1District 12</td>\n",
       "    </tr>\n",
       "    <tr>\n",
       "      <th>2</th>\n",
       "      <td>1</td>\n",
       "      <td>1</td>\n",
       "      <td>13</td>\n",
       "      <td>Instrument 1</td>\n",
       "      <td>187</td>\n",
       "      <td>Hospital 1District 13</td>\n",
       "    </tr>\n",
       "    <tr>\n",
       "      <th>3</th>\n",
       "      <td>1</td>\n",
       "      <td>1</td>\n",
       "      <td>13</td>\n",
       "      <td>Instrument 2</td>\n",
       "      <td>40741</td>\n",
       "      <td>Hospital 1District 13</td>\n",
       "    </tr>\n",
       "    <tr>\n",
       "      <th>4</th>\n",
       "      <td>1</td>\n",
       "      <td>1</td>\n",
       "      <td>13</td>\n",
       "      <td>Instrument 3</td>\n",
       "      <td>8549</td>\n",
       "      <td>Hospital 1District 13</td>\n",
       "    </tr>\n",
       "  </tbody>\n",
       "</table>\n",
       "</div>"
      ],
      "text/plain": [
       "  Hospital_ID Region_ID District_ID Instrument_ID  Year Total  \\\n",
       "0           1         1          12  Instrument 2      103550   \n",
       "1           1         1          12  Instrument 3        2562   \n",
       "2           1         1          13  Instrument 1         187   \n",
       "3           1         1          13  Instrument 2       40741   \n",
       "4           1         1          13  Instrument 3        8549   \n",
       "\n",
       "                     Key  \n",
       "0  Hospital 1District 12  \n",
       "1  Hospital 1District 12  \n",
       "2  Hospital 1District 13  \n",
       "3  Hospital 1District 13  \n",
       "4  Hospital 1District 13  "
      ]
     },
     "execution_count": 144,
     "metadata": {},
     "output_type": "execute_result"
    }
   ],
   "source": [
    "rev.head()"
   ]
  },
  {
   "cell_type": "code",
   "execution_count": 145,
   "metadata": {
    "collapsed": true
   },
   "outputs": [],
   "source": [
    "rev['Key2']=rev['Key']+rev['Instrument_ID']"
   ]
  },
  {
   "cell_type": "code",
   "execution_count": 146,
   "metadata": {
    "collapsed": false
   },
   "outputs": [
    {
     "data": {
      "text/html": [
       "<div>\n",
       "<table border=\"1\" class=\"dataframe\">\n",
       "  <thead>\n",
       "    <tr style=\"text-align: right;\">\n",
       "      <th></th>\n",
       "      <th>Hospital_ID</th>\n",
       "      <th>Region_ID</th>\n",
       "      <th>District_ID</th>\n",
       "      <th>Instrument_ID</th>\n",
       "      <th>Year Total</th>\n",
       "      <th>Key</th>\n",
       "      <th>Key2</th>\n",
       "    </tr>\n",
       "  </thead>\n",
       "  <tbody>\n",
       "    <tr>\n",
       "      <th>0</th>\n",
       "      <td>1</td>\n",
       "      <td>1</td>\n",
       "      <td>12</td>\n",
       "      <td>Instrument 2</td>\n",
       "      <td>103550</td>\n",
       "      <td>Hospital 1District 12</td>\n",
       "      <td>Hospital 1District 12Instrument 2</td>\n",
       "    </tr>\n",
       "    <tr>\n",
       "      <th>1</th>\n",
       "      <td>1</td>\n",
       "      <td>1</td>\n",
       "      <td>12</td>\n",
       "      <td>Instrument 3</td>\n",
       "      <td>2562</td>\n",
       "      <td>Hospital 1District 12</td>\n",
       "      <td>Hospital 1District 12Instrument 3</td>\n",
       "    </tr>\n",
       "    <tr>\n",
       "      <th>2</th>\n",
       "      <td>1</td>\n",
       "      <td>1</td>\n",
       "      <td>13</td>\n",
       "      <td>Instrument 1</td>\n",
       "      <td>187</td>\n",
       "      <td>Hospital 1District 13</td>\n",
       "      <td>Hospital 1District 13Instrument 1</td>\n",
       "    </tr>\n",
       "    <tr>\n",
       "      <th>3</th>\n",
       "      <td>1</td>\n",
       "      <td>1</td>\n",
       "      <td>13</td>\n",
       "      <td>Instrument 2</td>\n",
       "      <td>40741</td>\n",
       "      <td>Hospital 1District 13</td>\n",
       "      <td>Hospital 1District 13Instrument 2</td>\n",
       "    </tr>\n",
       "    <tr>\n",
       "      <th>4</th>\n",
       "      <td>1</td>\n",
       "      <td>1</td>\n",
       "      <td>13</td>\n",
       "      <td>Instrument 3</td>\n",
       "      <td>8549</td>\n",
       "      <td>Hospital 1District 13</td>\n",
       "      <td>Hospital 1District 13Instrument 3</td>\n",
       "    </tr>\n",
       "  </tbody>\n",
       "</table>\n",
       "</div>"
      ],
      "text/plain": [
       "  Hospital_ID Region_ID District_ID Instrument_ID  Year Total  \\\n",
       "0           1         1          12  Instrument 2      103550   \n",
       "1           1         1          12  Instrument 3        2562   \n",
       "2           1         1          13  Instrument 1         187   \n",
       "3           1         1          13  Instrument 2       40741   \n",
       "4           1         1          13  Instrument 3        8549   \n",
       "\n",
       "                     Key                               Key2  \n",
       "0  Hospital 1District 12  Hospital 1District 12Instrument 2  \n",
       "1  Hospital 1District 12  Hospital 1District 12Instrument 3  \n",
       "2  Hospital 1District 13  Hospital 1District 13Instrument 1  \n",
       "3  Hospital 1District 13  Hospital 1District 13Instrument 2  \n",
       "4  Hospital 1District 13  Hospital 1District 13Instrument 3  "
      ]
     },
     "execution_count": 146,
     "metadata": {},
     "output_type": "execute_result"
    }
   ],
   "source": [
    "rev.head()"
   ]
  },
  {
   "cell_type": "code",
   "execution_count": 147,
   "metadata": {
    "collapsed": true
   },
   "outputs": [],
   "source": [
    "proj_rev_chck=rev.merge(proj_rev,how='right',on='Key2')"
   ]
  },
  {
   "cell_type": "code",
   "execution_count": 148,
   "metadata": {
    "collapsed": false
   },
   "outputs": [
    {
     "name": "stdout",
     "output_type": "stream",
     "text": [
      "<class 'pandas.core.frame.DataFrame'>\n",
      "Int64Index: 11410 entries, 0 to 11409\n",
      "Data columns (total 11 columns):\n",
      "Hospital_ID_x               8043 non-null object\n",
      "Region_ID                   8043 non-null object\n",
      "District_ID_x               8043 non-null object\n",
      "Instrument_ID_x             8043 non-null object\n",
      "Year Total                  8043 non-null float64\n",
      "Key                         8043 non-null object\n",
      "Key2                        11410 non-null object\n",
      "Hospital_ID_y               11410 non-null object\n",
      "District_ID_y               11410 non-null object\n",
      "Instrument_ID_y             11410 non-null object\n",
      "Annual_Projected_Revenue    11410 non-null int64\n",
      "dtypes: float64(1), int64(1), object(9)\n",
      "memory usage: 1.0+ MB\n"
     ]
    }
   ],
   "source": [
    "proj_rev_chck.info()"
   ]
  },
  {
   "cell_type": "code",
   "execution_count": 149,
   "metadata": {
    "collapsed": false
   },
   "outputs": [
    {
     "data": {
      "text/html": [
       "<div>\n",
       "<table border=\"1\" class=\"dataframe\">\n",
       "  <thead>\n",
       "    <tr style=\"text-align: right;\">\n",
       "      <th></th>\n",
       "      <th>Year Total</th>\n",
       "      <th>Annual_Projected_Revenue</th>\n",
       "    </tr>\n",
       "  </thead>\n",
       "  <tbody>\n",
       "    <tr>\n",
       "      <th>count</th>\n",
       "      <td>8043.000000</td>\n",
       "      <td>1.141000e+04</td>\n",
       "    </tr>\n",
       "    <tr>\n",
       "      <th>mean</th>\n",
       "      <td>45627.633843</td>\n",
       "      <td>8.703573e+04</td>\n",
       "    </tr>\n",
       "    <tr>\n",
       "      <th>std</th>\n",
       "      <td>88733.382415</td>\n",
       "      <td>4.980154e+05</td>\n",
       "    </tr>\n",
       "    <tr>\n",
       "      <th>min</th>\n",
       "      <td>-424656.000000</td>\n",
       "      <td>1.020000e+02</td>\n",
       "    </tr>\n",
       "    <tr>\n",
       "      <th>25%</th>\n",
       "      <td>NaN</td>\n",
       "      <td>2.900500e+03</td>\n",
       "    </tr>\n",
       "    <tr>\n",
       "      <th>50%</th>\n",
       "      <td>NaN</td>\n",
       "      <td>1.200000e+04</td>\n",
       "    </tr>\n",
       "    <tr>\n",
       "      <th>75%</th>\n",
       "      <td>NaN</td>\n",
       "      <td>4.713775e+04</td>\n",
       "    </tr>\n",
       "    <tr>\n",
       "      <th>max</th>\n",
       "      <td>664055.000000</td>\n",
       "      <td>2.358150e+07</td>\n",
       "    </tr>\n",
       "  </tbody>\n",
       "</table>\n",
       "</div>"
      ],
      "text/plain": [
       "          Year Total  Annual_Projected_Revenue\n",
       "count    8043.000000              1.141000e+04\n",
       "mean    45627.633843              8.703573e+04\n",
       "std     88733.382415              4.980154e+05\n",
       "min   -424656.000000              1.020000e+02\n",
       "25%              NaN              2.900500e+03\n",
       "50%              NaN              1.200000e+04\n",
       "75%              NaN              4.713775e+04\n",
       "max    664055.000000              2.358150e+07"
      ]
     },
     "execution_count": 149,
     "metadata": {},
     "output_type": "execute_result"
    }
   ],
   "source": [
    "proj_rev_chck.describe()"
   ]
  },
  {
   "cell_type": "code",
   "execution_count": 150,
   "metadata": {
    "collapsed": false
   },
   "outputs": [
    {
     "name": "stdout",
     "output_type": "stream",
     "text": [
      "Missing values per column:\n",
      "Hospital_ID_x               3367\n",
      "Region_ID                   3367\n",
      "District_ID_x               3367\n",
      "Instrument_ID_x             3367\n",
      "Year Total                  3367\n",
      "Key                         3367\n",
      "Key2                           0\n",
      "Hospital_ID_y                  0\n",
      "District_ID_y                  0\n",
      "Instrument_ID_y                0\n",
      "Annual_Projected_Revenue       0\n",
      "dtype: int64\n"
     ]
    }
   ],
   "source": [
    "\n",
    "#Applying per column:\n",
    "print \"Missing values per column:\"\n",
    "print proj_rev_chck.apply(num_missing, axis=0) #axis=0 defines that function is to be applied on each column"
   ]
  },
  {
   "cell_type": "code",
   "execution_count": 151,
   "metadata": {
    "collapsed": false
   },
   "outputs": [
    {
     "data": {
      "text/plain": [
       "102"
      ]
     },
     "execution_count": 151,
     "metadata": {},
     "output_type": "execute_result"
    }
   ],
   "source": [
    "proj_rev_chck['Annual_Projected_Revenue'].min()"
   ]
  },
  {
   "cell_type": "code",
   "execution_count": 152,
   "metadata": {
    "collapsed": true
   },
   "outputs": [],
   "source": [
    "proj_rev_chck2=rev.merge(proj_rev,how='outer',on='Key2')"
   ]
  },
  {
   "cell_type": "code",
   "execution_count": 153,
   "metadata": {
    "collapsed": false
   },
   "outputs": [
    {
     "name": "stdout",
     "output_type": "stream",
     "text": [
      "<class 'pandas.core.frame.DataFrame'>\n",
      "Int64Index: 47397 entries, 0 to 47396\n",
      "Data columns (total 11 columns):\n",
      "Hospital_ID_x               44030 non-null object\n",
      "Region_ID                   44030 non-null object\n",
      "District_ID_x               44030 non-null object\n",
      "Instrument_ID_x             44030 non-null object\n",
      "Year Total                  44030 non-null float64\n",
      "Key                         44030 non-null object\n",
      "Key2                        47397 non-null object\n",
      "Hospital_ID_y               11410 non-null object\n",
      "District_ID_y               11410 non-null object\n",
      "Instrument_ID_y             11410 non-null object\n",
      "Annual_Projected_Revenue    11410 non-null float64\n",
      "dtypes: float64(2), object(9)\n",
      "memory usage: 4.3+ MB\n"
     ]
    }
   ],
   "source": [
    "proj_rev_chck2.info()"
   ]
  },
  {
   "cell_type": "code",
   "execution_count": 154,
   "metadata": {
    "collapsed": false
   },
   "outputs": [
    {
     "name": "stdout",
     "output_type": "stream",
     "text": [
      "Missing values per column:\n",
      "Hospital_ID_x                3367\n",
      "Region_ID                    3367\n",
      "District_ID_x                3367\n",
      "Instrument_ID_x              3367\n",
      "Year Total                   3367\n",
      "Key                          3367\n",
      "Key2                            0\n",
      "Hospital_ID_y               35987\n",
      "District_ID_y               35987\n",
      "Instrument_ID_y             35987\n",
      "Annual_Projected_Revenue    35987\n",
      "dtype: int64\n"
     ]
    }
   ],
   "source": [
    "\n",
    "#Applying per column:\n",
    "print \"Missing values per column:\"\n",
    "print proj_rev_chck2.apply(num_missing, axis=0) #axis=0 defines that function is to be applied on each column"
   ]
  },
  {
   "cell_type": "code",
   "execution_count": 155,
   "metadata": {
    "collapsed": false
   },
   "outputs": [],
   "source": [
    "proj_rev_chck2['Buy'] = np.where(proj_rev_chck2['Annual_Projected_Revenue'].isnull(),'0','1')"
   ]
  },
  {
   "cell_type": "code",
   "execution_count": 156,
   "metadata": {
    "collapsed": false
   },
   "outputs": [
    {
     "data": {
      "text/html": [
       "<div>\n",
       "<table border=\"1\" class=\"dataframe\">\n",
       "  <thead>\n",
       "    <tr style=\"text-align: right;\">\n",
       "      <th></th>\n",
       "      <th>Hospital_ID_x</th>\n",
       "      <th>Region_ID</th>\n",
       "      <th>District_ID_x</th>\n",
       "      <th>Instrument_ID_x</th>\n",
       "      <th>Year Total</th>\n",
       "      <th>Key</th>\n",
       "      <th>Key2</th>\n",
       "      <th>Hospital_ID_y</th>\n",
       "      <th>District_ID_y</th>\n",
       "      <th>Instrument_ID_y</th>\n",
       "      <th>Annual_Projected_Revenue</th>\n",
       "      <th>Buy</th>\n",
       "    </tr>\n",
       "  </thead>\n",
       "  <tbody>\n",
       "    <tr>\n",
       "      <th>0</th>\n",
       "      <td>1</td>\n",
       "      <td>1</td>\n",
       "      <td>12</td>\n",
       "      <td>Instrument 2</td>\n",
       "      <td>103550.0</td>\n",
       "      <td>Hospital 1District 12</td>\n",
       "      <td>Hospital 1District 12Instrument 2</td>\n",
       "      <td>NaN</td>\n",
       "      <td>NaN</td>\n",
       "      <td>NaN</td>\n",
       "      <td>NaN</td>\n",
       "      <td>0</td>\n",
       "    </tr>\n",
       "    <tr>\n",
       "      <th>1</th>\n",
       "      <td>1</td>\n",
       "      <td>1</td>\n",
       "      <td>12</td>\n",
       "      <td>Instrument 3</td>\n",
       "      <td>2562.0</td>\n",
       "      <td>Hospital 1District 12</td>\n",
       "      <td>Hospital 1District 12Instrument 3</td>\n",
       "      <td>NaN</td>\n",
       "      <td>NaN</td>\n",
       "      <td>NaN</td>\n",
       "      <td>NaN</td>\n",
       "      <td>0</td>\n",
       "    </tr>\n",
       "    <tr>\n",
       "      <th>2</th>\n",
       "      <td>1</td>\n",
       "      <td>1</td>\n",
       "      <td>13</td>\n",
       "      <td>Instrument 1</td>\n",
       "      <td>187.0</td>\n",
       "      <td>Hospital 1District 13</td>\n",
       "      <td>Hospital 1District 13Instrument 1</td>\n",
       "      <td>NaN</td>\n",
       "      <td>NaN</td>\n",
       "      <td>NaN</td>\n",
       "      <td>NaN</td>\n",
       "      <td>0</td>\n",
       "    </tr>\n",
       "    <tr>\n",
       "      <th>3</th>\n",
       "      <td>1</td>\n",
       "      <td>1</td>\n",
       "      <td>13</td>\n",
       "      <td>Instrument 2</td>\n",
       "      <td>40741.0</td>\n",
       "      <td>Hospital 1District 13</td>\n",
       "      <td>Hospital 1District 13Instrument 2</td>\n",
       "      <td>Hospital 1</td>\n",
       "      <td>District 13</td>\n",
       "      <td>Instrument 2</td>\n",
       "      <td>17164.0</td>\n",
       "      <td>1</td>\n",
       "    </tr>\n",
       "    <tr>\n",
       "      <th>4</th>\n",
       "      <td>1</td>\n",
       "      <td>1</td>\n",
       "      <td>13</td>\n",
       "      <td>Instrument 3</td>\n",
       "      <td>8549.0</td>\n",
       "      <td>Hospital 1District 13</td>\n",
       "      <td>Hospital 1District 13Instrument 3</td>\n",
       "      <td>Hospital 1</td>\n",
       "      <td>District 13</td>\n",
       "      <td>Instrument 3</td>\n",
       "      <td>655645.0</td>\n",
       "      <td>1</td>\n",
       "    </tr>\n",
       "  </tbody>\n",
       "</table>\n",
       "</div>"
      ],
      "text/plain": [
       "  Hospital_ID_x Region_ID District_ID_x Instrument_ID_x  Year Total  \\\n",
       "0             1         1            12    Instrument 2    103550.0   \n",
       "1             1         1            12    Instrument 3      2562.0   \n",
       "2             1         1            13    Instrument 1       187.0   \n",
       "3             1         1            13    Instrument 2     40741.0   \n",
       "4             1         1            13    Instrument 3      8549.0   \n",
       "\n",
       "                     Key                               Key2 Hospital_ID_y  \\\n",
       "0  Hospital 1District 12  Hospital 1District 12Instrument 2           NaN   \n",
       "1  Hospital 1District 12  Hospital 1District 12Instrument 3           NaN   \n",
       "2  Hospital 1District 13  Hospital 1District 13Instrument 1           NaN   \n",
       "3  Hospital 1District 13  Hospital 1District 13Instrument 2    Hospital 1   \n",
       "4  Hospital 1District 13  Hospital 1District 13Instrument 3    Hospital 1   \n",
       "\n",
       "  District_ID_y Instrument_ID_y  Annual_Projected_Revenue Buy  \n",
       "0           NaN             NaN                       NaN   0  \n",
       "1           NaN             NaN                       NaN   0  \n",
       "2           NaN             NaN                       NaN   0  \n",
       "3   District 13    Instrument 2                   17164.0   1  \n",
       "4   District 13    Instrument 3                  655645.0   1  "
      ]
     },
     "execution_count": 156,
     "metadata": {},
     "output_type": "execute_result"
    }
   ],
   "source": [
    "proj_rev_chck2.head()"
   ]
  },
  {
   "cell_type": "code",
   "execution_count": 157,
   "metadata": {
    "collapsed": true
   },
   "outputs": [],
   "source": [
    "proj_rev_chck2_v1=proj_rev_chck2.copy()"
   ]
  },
  {
   "cell_type": "code",
   "execution_count": 158,
   "metadata": {
    "collapsed": false
   },
   "outputs": [
    {
     "name": "stdout",
     "output_type": "stream",
     "text": [
      "Hospital_ID_x                3367\n",
      "Region_ID                    3367\n",
      "District_ID_x                3367\n",
      "Instrument_ID_x              3367\n",
      "Year Total                   3367\n",
      "Key                          3367\n",
      "Key2                            0\n",
      "Hospital_ID_y               35987\n",
      "District_ID_y               35987\n",
      "Instrument_ID_y             35987\n",
      "Annual_Projected_Revenue    35987\n",
      "Buy                             0\n",
      "dtype: int64\n"
     ]
    }
   ],
   "source": [
    "print proj_rev_chck2.apply(num_missing, axis=0)"
   ]
  },
  {
   "cell_type": "code",
   "execution_count": 159,
   "metadata": {
    "collapsed": false
   },
   "outputs": [],
   "source": [
    "proj_rev_chck2['Hospital_ID']=np.where(proj_rev_chck2['Hospital_ID_x'].isnull(),proj_rev_chck2['Hospital_ID_y'],proj_rev_chck2['Hospital_ID_x'])"
   ]
  },
  {
   "cell_type": "code",
   "execution_count": 160,
   "metadata": {
    "collapsed": false
   },
   "outputs": [
    {
     "name": "stdout",
     "output_type": "stream",
     "text": [
      "Hospital_ID_x                3367\n",
      "Region_ID                    3367\n",
      "District_ID_x                3367\n",
      "Instrument_ID_x              3367\n",
      "Year Total                   3367\n",
      "Key                          3367\n",
      "Key2                            0\n",
      "Hospital_ID_y               35987\n",
      "District_ID_y               35987\n",
      "Instrument_ID_y             35987\n",
      "Annual_Projected_Revenue    35987\n",
      "Buy                             0\n",
      "Hospital_ID                     0\n",
      "dtype: int64\n"
     ]
    }
   ],
   "source": [
    "print proj_rev_chck2.apply(num_missing, axis=0)"
   ]
  },
  {
   "cell_type": "code",
   "execution_count": 161,
   "metadata": {
    "collapsed": true
   },
   "outputs": [],
   "source": [
    "proj_rev_chck2['District_ID']=np.where(proj_rev_chck2['District_ID_x'].isnull(),proj_rev_chck2['District_ID_y'],proj_rev_chck2['District_ID_x'])"
   ]
  },
  {
   "cell_type": "code",
   "execution_count": 162,
   "metadata": {
    "collapsed": true
   },
   "outputs": [],
   "source": [
    "proj_rev_chck2['Instrument_ID']=np.where(proj_rev_chck2['Instrument_ID_x'].isnull(),proj_rev_chck2['Instrument_ID_y'],proj_rev_chck2['Instrument_ID_x'])"
   ]
  },
  {
   "cell_type": "code",
   "execution_count": 163,
   "metadata": {
    "collapsed": false
   },
   "outputs": [
    {
     "name": "stdout",
     "output_type": "stream",
     "text": [
      "Hospital_ID_x                3367\n",
      "Region_ID                    3367\n",
      "District_ID_x                3367\n",
      "Instrument_ID_x              3367\n",
      "Year Total                   3367\n",
      "Key                          3367\n",
      "Key2                            0\n",
      "Hospital_ID_y               35987\n",
      "District_ID_y               35987\n",
      "Instrument_ID_y             35987\n",
      "Annual_Projected_Revenue    35987\n",
      "Buy                             0\n",
      "Hospital_ID                     0\n",
      "District_ID                     0\n",
      "Instrument_ID                   0\n",
      "dtype: int64\n"
     ]
    }
   ],
   "source": [
    "print proj_rev_chck2.apply(num_missing, axis=0)"
   ]
  },
  {
   "cell_type": "code",
   "execution_count": 164,
   "metadata": {
    "collapsed": true
   },
   "outputs": [],
   "source": [
    "proj_rev_chck2_v2=proj_rev_chck2.copy()"
   ]
  },
  {
   "cell_type": "code",
   "execution_count": 165,
   "metadata": {
    "collapsed": true
   },
   "outputs": [],
   "source": [
    "proj_rev_chck2['Year Total']=proj_rev_chck2['Year Total'].fillna(proj_rev_chck2['Year Total'].mean())"
   ]
  },
  {
   "cell_type": "code",
   "execution_count": 166,
   "metadata": {
    "collapsed": true
   },
   "outputs": [],
   "source": [
    "proj_rev_chck2['Annual_Projected_Revenue']=proj_rev_chck2['Annual_Projected_Revenue'].fillna('0')"
   ]
  },
  {
   "cell_type": "code",
   "execution_count": 167,
   "metadata": {
    "collapsed": false
   },
   "outputs": [
    {
     "name": "stdout",
     "output_type": "stream",
     "text": [
      "Hospital_ID_x                3367\n",
      "Region_ID                    3367\n",
      "District_ID_x                3367\n",
      "Instrument_ID_x              3367\n",
      "Year Total                      0\n",
      "Key                          3367\n",
      "Key2                            0\n",
      "Hospital_ID_y               35987\n",
      "District_ID_y               35987\n",
      "Instrument_ID_y             35987\n",
      "Annual_Projected_Revenue        0\n",
      "Buy                             0\n",
      "Hospital_ID                     0\n",
      "District_ID                     0\n",
      "Instrument_ID                   0\n",
      "dtype: int64\n"
     ]
    }
   ],
   "source": [
    "print proj_rev_chck2.apply(num_missing, axis=0)"
   ]
  },
  {
   "cell_type": "code",
   "execution_count": 168,
   "metadata": {
    "collapsed": true
   },
   "outputs": [],
   "source": [
    "proj_rev_chck2_v3=proj_rev_chck2.copy()"
   ]
  },
  {
   "cell_type": "markdown",
   "metadata": {},
   "source": [
    "# DO CHANGES FROM HERE !!!!"
   ]
  },
  {
   "cell_type": "code",
   "execution_count": 169,
   "metadata": {
    "collapsed": true
   },
   "outputs": [],
   "source": [
    "del proj_rev_chck2['Hospital_ID_x']"
   ]
  },
  {
   "cell_type": "code",
   "execution_count": 170,
   "metadata": {
    "collapsed": true
   },
   "outputs": [],
   "source": [
    "del proj_rev_chck2['Hospital_ID_y']"
   ]
  },
  {
   "cell_type": "code",
   "execution_count": 171,
   "metadata": {
    "collapsed": true
   },
   "outputs": [],
   "source": [
    "del proj_rev_chck2['District_ID_y']"
   ]
  },
  {
   "cell_type": "code",
   "execution_count": 172,
   "metadata": {
    "collapsed": true
   },
   "outputs": [],
   "source": [
    "del proj_rev_chck2['District_ID_x']"
   ]
  },
  {
   "cell_type": "code",
   "execution_count": 173,
   "metadata": {
    "collapsed": true
   },
   "outputs": [],
   "source": [
    "del proj_rev_chck2['Instrument_ID_y']"
   ]
  },
  {
   "cell_type": "code",
   "execution_count": 174,
   "metadata": {
    "collapsed": true
   },
   "outputs": [],
   "source": [
    "del proj_rev_chck2['Instrument_ID_x']"
   ]
  },
  {
   "cell_type": "code",
   "execution_count": 175,
   "metadata": {
    "collapsed": false
   },
   "outputs": [
    {
     "name": "stdout",
     "output_type": "stream",
     "text": [
      "Region_ID                   3367\n",
      "Year Total                     0\n",
      "Key                         3367\n",
      "Key2                           0\n",
      "Annual_Projected_Revenue       0\n",
      "Buy                            0\n",
      "Hospital_ID                    0\n",
      "District_ID                    0\n",
      "Instrument_ID                  0\n",
      "dtype: int64\n"
     ]
    }
   ],
   "source": [
    "print proj_rev_chck2.apply(num_missing, axis=0)"
   ]
  },
  {
   "cell_type": "code",
   "execution_count": 176,
   "metadata": {
    "collapsed": false
   },
   "outputs": [
    {
     "name": "stdout",
     "output_type": "stream",
     "text": [
      "<class 'pandas.core.frame.DataFrame'>\n",
      "Int64Index: 47397 entries, 0 to 47396\n",
      "Data columns (total 9 columns):\n",
      "Region_ID                   44030 non-null object\n",
      "Year Total                  47397 non-null float64\n",
      "Key                         44030 non-null object\n",
      "Key2                        47397 non-null object\n",
      "Annual_Projected_Revenue    47397 non-null object\n",
      "Buy                         47397 non-null object\n",
      "Hospital_ID                 47397 non-null object\n",
      "District_ID                 47397 non-null object\n",
      "Instrument_ID               47397 non-null object\n",
      "dtypes: float64(1), object(8)\n",
      "memory usage: 3.6+ MB\n"
     ]
    }
   ],
   "source": [
    "proj_rev_chck2.info()"
   ]
  },
  {
   "cell_type": "code",
   "execution_count": 177,
   "metadata": {
    "collapsed": true
   },
   "outputs": [],
   "source": [
    "del proj_rev_chck2['Key']"
   ]
  },
  {
   "cell_type": "code",
   "execution_count": 178,
   "metadata": {
    "collapsed": false
   },
   "outputs": [
    {
     "data": {
      "text/plain": [
       "2    14620\n",
       "1    12574\n",
       "3     7899\n",
       "5     6345\n",
       "4     2540\n",
       "6       52\n",
       "Name: Region_ID, dtype: int64"
      ]
     },
     "execution_count": 178,
     "metadata": {},
     "output_type": "execute_result"
    }
   ],
   "source": [
    "proj_rev_chck2['Region_ID'].value_counts()"
   ]
  },
  {
   "cell_type": "code",
   "execution_count": 179,
   "metadata": {
    "collapsed": false
   },
   "outputs": [
    {
     "data": {
      "text/html": [
       "<div>\n",
       "<table border=\"1\" class=\"dataframe\">\n",
       "  <thead>\n",
       "    <tr style=\"text-align: right;\">\n",
       "      <th></th>\n",
       "      <th>Region_ID</th>\n",
       "      <th>Year Total</th>\n",
       "      <th>Key2</th>\n",
       "      <th>Annual_Projected_Revenue</th>\n",
       "      <th>Buy</th>\n",
       "      <th>Hospital_ID</th>\n",
       "      <th>District_ID</th>\n",
       "      <th>Instrument_ID</th>\n",
       "    </tr>\n",
       "  </thead>\n",
       "  <tbody>\n",
       "    <tr>\n",
       "      <th>0</th>\n",
       "      <td>1</td>\n",
       "      <td>103550.0</td>\n",
       "      <td>Hospital 1District 12Instrument 2</td>\n",
       "      <td>0</td>\n",
       "      <td>0</td>\n",
       "      <td>1</td>\n",
       "      <td>12</td>\n",
       "      <td>Instrument 2</td>\n",
       "    </tr>\n",
       "    <tr>\n",
       "      <th>1</th>\n",
       "      <td>1</td>\n",
       "      <td>2562.0</td>\n",
       "      <td>Hospital 1District 12Instrument 3</td>\n",
       "      <td>0</td>\n",
       "      <td>0</td>\n",
       "      <td>1</td>\n",
       "      <td>12</td>\n",
       "      <td>Instrument 3</td>\n",
       "    </tr>\n",
       "    <tr>\n",
       "      <th>2</th>\n",
       "      <td>1</td>\n",
       "      <td>187.0</td>\n",
       "      <td>Hospital 1District 13Instrument 1</td>\n",
       "      <td>0</td>\n",
       "      <td>0</td>\n",
       "      <td>1</td>\n",
       "      <td>13</td>\n",
       "      <td>Instrument 1</td>\n",
       "    </tr>\n",
       "    <tr>\n",
       "      <th>3</th>\n",
       "      <td>1</td>\n",
       "      <td>40741.0</td>\n",
       "      <td>Hospital 1District 13Instrument 2</td>\n",
       "      <td>17164</td>\n",
       "      <td>1</td>\n",
       "      <td>1</td>\n",
       "      <td>13</td>\n",
       "      <td>Instrument 2</td>\n",
       "    </tr>\n",
       "    <tr>\n",
       "      <th>4</th>\n",
       "      <td>1</td>\n",
       "      <td>8549.0</td>\n",
       "      <td>Hospital 1District 13Instrument 3</td>\n",
       "      <td>655645</td>\n",
       "      <td>1</td>\n",
       "      <td>1</td>\n",
       "      <td>13</td>\n",
       "      <td>Instrument 3</td>\n",
       "    </tr>\n",
       "    <tr>\n",
       "      <th>5</th>\n",
       "      <td>1</td>\n",
       "      <td>1421.0</td>\n",
       "      <td>Hospital 1District 13Instrument 4</td>\n",
       "      <td>281452</td>\n",
       "      <td>1</td>\n",
       "      <td>1</td>\n",
       "      <td>13</td>\n",
       "      <td>Instrument 4</td>\n",
       "    </tr>\n",
       "    <tr>\n",
       "      <th>6</th>\n",
       "      <td>1</td>\n",
       "      <td>4820.0</td>\n",
       "      <td>Hospital 1District 13Instrument 5</td>\n",
       "      <td>0</td>\n",
       "      <td>0</td>\n",
       "      <td>1</td>\n",
       "      <td>13</td>\n",
       "      <td>Instrument 5</td>\n",
       "    </tr>\n",
       "    <tr>\n",
       "      <th>7</th>\n",
       "      <td>1</td>\n",
       "      <td>10338.0</td>\n",
       "      <td>Hospital 1District 16Instrument 2</td>\n",
       "      <td>0</td>\n",
       "      <td>0</td>\n",
       "      <td>1</td>\n",
       "      <td>16</td>\n",
       "      <td>Instrument 2</td>\n",
       "    </tr>\n",
       "    <tr>\n",
       "      <th>8</th>\n",
       "      <td>1</td>\n",
       "      <td>15337.0</td>\n",
       "      <td>Hospital 1District 18Instrument 1</td>\n",
       "      <td>0</td>\n",
       "      <td>0</td>\n",
       "      <td>1</td>\n",
       "      <td>18</td>\n",
       "      <td>Instrument 1</td>\n",
       "    </tr>\n",
       "    <tr>\n",
       "      <th>9</th>\n",
       "      <td>1</td>\n",
       "      <td>212707.0</td>\n",
       "      <td>Hospital 1District 18Instrument 2</td>\n",
       "      <td>0</td>\n",
       "      <td>0</td>\n",
       "      <td>1</td>\n",
       "      <td>18</td>\n",
       "      <td>Instrument 2</td>\n",
       "    </tr>\n",
       "    <tr>\n",
       "      <th>10</th>\n",
       "      <td>1</td>\n",
       "      <td>18039.0</td>\n",
       "      <td>Hospital 1District 18Instrument 3</td>\n",
       "      <td>0</td>\n",
       "      <td>0</td>\n",
       "      <td>1</td>\n",
       "      <td>18</td>\n",
       "      <td>Instrument 3</td>\n",
       "    </tr>\n",
       "    <tr>\n",
       "      <th>11</th>\n",
       "      <td>1</td>\n",
       "      <td>6424.0</td>\n",
       "      <td>Hospital 1District 18Instrument 4</td>\n",
       "      <td>0</td>\n",
       "      <td>0</td>\n",
       "      <td>1</td>\n",
       "      <td>18</td>\n",
       "      <td>Instrument 4</td>\n",
       "    </tr>\n",
       "    <tr>\n",
       "      <th>12</th>\n",
       "      <td>1</td>\n",
       "      <td>672.0</td>\n",
       "      <td>Hospital 1District 18Instrument 5</td>\n",
       "      <td>0</td>\n",
       "      <td>0</td>\n",
       "      <td>1</td>\n",
       "      <td>18</td>\n",
       "      <td>Instrument 5</td>\n",
       "    </tr>\n",
       "    <tr>\n",
       "      <th>13</th>\n",
       "      <td>1</td>\n",
       "      <td>313.0</td>\n",
       "      <td>Hospital 1District 18Instrument 6</td>\n",
       "      <td>0</td>\n",
       "      <td>0</td>\n",
       "      <td>1</td>\n",
       "      <td>18</td>\n",
       "      <td>Instrument 6</td>\n",
       "    </tr>\n",
       "    <tr>\n",
       "      <th>14</th>\n",
       "      <td>1</td>\n",
       "      <td>1688.0</td>\n",
       "      <td>Hospital 1District 19Instrument 1</td>\n",
       "      <td>0</td>\n",
       "      <td>0</td>\n",
       "      <td>1</td>\n",
       "      <td>19</td>\n",
       "      <td>Instrument 1</td>\n",
       "    </tr>\n",
       "    <tr>\n",
       "      <th>15</th>\n",
       "      <td>1</td>\n",
       "      <td>12453.0</td>\n",
       "      <td>Hospital 1District 19Instrument 2</td>\n",
       "      <td>0</td>\n",
       "      <td>0</td>\n",
       "      <td>1</td>\n",
       "      <td>19</td>\n",
       "      <td>Instrument 2</td>\n",
       "    </tr>\n",
       "    <tr>\n",
       "      <th>16</th>\n",
       "      <td>1</td>\n",
       "      <td>2543.0</td>\n",
       "      <td>Hospital 1District 19Instrument 7</td>\n",
       "      <td>0</td>\n",
       "      <td>0</td>\n",
       "      <td>1</td>\n",
       "      <td>19</td>\n",
       "      <td>Instrument 7</td>\n",
       "    </tr>\n",
       "    <tr>\n",
       "      <th>17</th>\n",
       "      <td>1</td>\n",
       "      <td>188.0</td>\n",
       "      <td>Hospital 1District 2Instrument 1</td>\n",
       "      <td>0</td>\n",
       "      <td>0</td>\n",
       "      <td>1</td>\n",
       "      <td>2</td>\n",
       "      <td>Instrument 1</td>\n",
       "    </tr>\n",
       "    <tr>\n",
       "      <th>18</th>\n",
       "      <td>1</td>\n",
       "      <td>1864.0</td>\n",
       "      <td>Hospital 1District 2Instrument 2</td>\n",
       "      <td>12199</td>\n",
       "      <td>1</td>\n",
       "      <td>1</td>\n",
       "      <td>2</td>\n",
       "      <td>Instrument 2</td>\n",
       "    </tr>\n",
       "    <tr>\n",
       "      <th>19</th>\n",
       "      <td>1</td>\n",
       "      <td>8826.0</td>\n",
       "      <td>Hospital 1District 20Instrument 1</td>\n",
       "      <td>0</td>\n",
       "      <td>0</td>\n",
       "      <td>1</td>\n",
       "      <td>20</td>\n",
       "      <td>Instrument 1</td>\n",
       "    </tr>\n",
       "    <tr>\n",
       "      <th>20</th>\n",
       "      <td>1</td>\n",
       "      <td>142957.0</td>\n",
       "      <td>Hospital 1District 20Instrument 2</td>\n",
       "      <td>178128</td>\n",
       "      <td>1</td>\n",
       "      <td>1</td>\n",
       "      <td>20</td>\n",
       "      <td>Instrument 2</td>\n",
       "    </tr>\n",
       "    <tr>\n",
       "      <th>21</th>\n",
       "      <td>1</td>\n",
       "      <td>386041.0</td>\n",
       "      <td>Hospital 1District 20Instrument 3</td>\n",
       "      <td>305796</td>\n",
       "      <td>1</td>\n",
       "      <td>1</td>\n",
       "      <td>20</td>\n",
       "      <td>Instrument 3</td>\n",
       "    </tr>\n",
       "    <tr>\n",
       "      <th>22</th>\n",
       "      <td>1</td>\n",
       "      <td>5454.0</td>\n",
       "      <td>Hospital 1District 20Instrument 6</td>\n",
       "      <td>0</td>\n",
       "      <td>0</td>\n",
       "      <td>1</td>\n",
       "      <td>20</td>\n",
       "      <td>Instrument 6</td>\n",
       "    </tr>\n",
       "    <tr>\n",
       "      <th>23</th>\n",
       "      <td>1</td>\n",
       "      <td>13429.0</td>\n",
       "      <td>Hospital 1District 20Instrument 7</td>\n",
       "      <td>5215</td>\n",
       "      <td>1</td>\n",
       "      <td>1</td>\n",
       "      <td>20</td>\n",
       "      <td>Instrument 7</td>\n",
       "    </tr>\n",
       "    <tr>\n",
       "      <th>24</th>\n",
       "      <td>1</td>\n",
       "      <td>18207.0</td>\n",
       "      <td>Hospital 1District 20Instrument 8</td>\n",
       "      <td>280140</td>\n",
       "      <td>1</td>\n",
       "      <td>1</td>\n",
       "      <td>20</td>\n",
       "      <td>Instrument 8</td>\n",
       "    </tr>\n",
       "    <tr>\n",
       "      <th>25</th>\n",
       "      <td>1</td>\n",
       "      <td>271.0</td>\n",
       "      <td>Hospital 1District 28Instrument 1</td>\n",
       "      <td>0</td>\n",
       "      <td>0</td>\n",
       "      <td>1</td>\n",
       "      <td>28</td>\n",
       "      <td>Instrument 1</td>\n",
       "    </tr>\n",
       "    <tr>\n",
       "      <th>26</th>\n",
       "      <td>1</td>\n",
       "      <td>13793.0</td>\n",
       "      <td>Hospital 1District 28Instrument 2</td>\n",
       "      <td>0</td>\n",
       "      <td>0</td>\n",
       "      <td>1</td>\n",
       "      <td>28</td>\n",
       "      <td>Instrument 2</td>\n",
       "    </tr>\n",
       "    <tr>\n",
       "      <th>27</th>\n",
       "      <td>1</td>\n",
       "      <td>658.0</td>\n",
       "      <td>Hospital 1District 28Instrument 3</td>\n",
       "      <td>0</td>\n",
       "      <td>0</td>\n",
       "      <td>1</td>\n",
       "      <td>28</td>\n",
       "      <td>Instrument 3</td>\n",
       "    </tr>\n",
       "    <tr>\n",
       "      <th>28</th>\n",
       "      <td>1</td>\n",
       "      <td>801.0</td>\n",
       "      <td>Hospital 1District 28Instrument 4</td>\n",
       "      <td>0</td>\n",
       "      <td>0</td>\n",
       "      <td>1</td>\n",
       "      <td>28</td>\n",
       "      <td>Instrument 4</td>\n",
       "    </tr>\n",
       "    <tr>\n",
       "      <th>29</th>\n",
       "      <td>1</td>\n",
       "      <td>23.0</td>\n",
       "      <td>Hospital 1District 28Instrument 5</td>\n",
       "      <td>0</td>\n",
       "      <td>0</td>\n",
       "      <td>1</td>\n",
       "      <td>28</td>\n",
       "      <td>Instrument 5</td>\n",
       "    </tr>\n",
       "    <tr>\n",
       "      <th>...</th>\n",
       "      <td>...</td>\n",
       "      <td>...</td>\n",
       "      <td>...</td>\n",
       "      <td>...</td>\n",
       "      <td>...</td>\n",
       "      <td>...</td>\n",
       "      <td>...</td>\n",
       "      <td>...</td>\n",
       "    </tr>\n",
       "    <tr>\n",
       "      <th>70</th>\n",
       "      <td>1</td>\n",
       "      <td>1664.0</td>\n",
       "      <td>Hospital 100District 50Instrument 3</td>\n",
       "      <td>0</td>\n",
       "      <td>0</td>\n",
       "      <td>100</td>\n",
       "      <td>50</td>\n",
       "      <td>Instrument 3</td>\n",
       "    </tr>\n",
       "    <tr>\n",
       "      <th>71</th>\n",
       "      <td>5</td>\n",
       "      <td>84.0</td>\n",
       "      <td>Hospital 1000District 16Instrument 2</td>\n",
       "      <td>0</td>\n",
       "      <td>0</td>\n",
       "      <td>1000</td>\n",
       "      <td>16</td>\n",
       "      <td>Instrument 2</td>\n",
       "    </tr>\n",
       "    <tr>\n",
       "      <th>72</th>\n",
       "      <td>5</td>\n",
       "      <td>455.0</td>\n",
       "      <td>Hospital 1000District 18Instrument 1</td>\n",
       "      <td>0</td>\n",
       "      <td>0</td>\n",
       "      <td>1000</td>\n",
       "      <td>18</td>\n",
       "      <td>Instrument 1</td>\n",
       "    </tr>\n",
       "    <tr>\n",
       "      <th>73</th>\n",
       "      <td>5</td>\n",
       "      <td>5873.0</td>\n",
       "      <td>Hospital 1000District 18Instrument 2</td>\n",
       "      <td>0</td>\n",
       "      <td>0</td>\n",
       "      <td>1000</td>\n",
       "      <td>18</td>\n",
       "      <td>Instrument 2</td>\n",
       "    </tr>\n",
       "    <tr>\n",
       "      <th>74</th>\n",
       "      <td>5</td>\n",
       "      <td>498.0</td>\n",
       "      <td>Hospital 1000District 18Instrument 3</td>\n",
       "      <td>0</td>\n",
       "      <td>0</td>\n",
       "      <td>1000</td>\n",
       "      <td>18</td>\n",
       "      <td>Instrument 3</td>\n",
       "    </tr>\n",
       "    <tr>\n",
       "      <th>75</th>\n",
       "      <td>5</td>\n",
       "      <td>1398.0</td>\n",
       "      <td>Hospital 1000District 18Instrument 4</td>\n",
       "      <td>0</td>\n",
       "      <td>0</td>\n",
       "      <td>1000</td>\n",
       "      <td>18</td>\n",
       "      <td>Instrument 4</td>\n",
       "    </tr>\n",
       "    <tr>\n",
       "      <th>76</th>\n",
       "      <td>5</td>\n",
       "      <td>26.0</td>\n",
       "      <td>Hospital 1000District 18Instrument 6</td>\n",
       "      <td>0</td>\n",
       "      <td>0</td>\n",
       "      <td>1000</td>\n",
       "      <td>18</td>\n",
       "      <td>Instrument 6</td>\n",
       "    </tr>\n",
       "    <tr>\n",
       "      <th>77</th>\n",
       "      <td>5</td>\n",
       "      <td>174.0</td>\n",
       "      <td>Hospital 1000District 28Instrument 1</td>\n",
       "      <td>0</td>\n",
       "      <td>0</td>\n",
       "      <td>1000</td>\n",
       "      <td>28</td>\n",
       "      <td>Instrument 1</td>\n",
       "    </tr>\n",
       "    <tr>\n",
       "      <th>78</th>\n",
       "      <td>5</td>\n",
       "      <td>13121.0</td>\n",
       "      <td>Hospital 1000District 28Instrument 2</td>\n",
       "      <td>0</td>\n",
       "      <td>0</td>\n",
       "      <td>1000</td>\n",
       "      <td>28</td>\n",
       "      <td>Instrument 2</td>\n",
       "    </tr>\n",
       "    <tr>\n",
       "      <th>79</th>\n",
       "      <td>5</td>\n",
       "      <td>192.0</td>\n",
       "      <td>Hospital 1000District 28Instrument 3</td>\n",
       "      <td>0</td>\n",
       "      <td>0</td>\n",
       "      <td>1000</td>\n",
       "      <td>28</td>\n",
       "      <td>Instrument 3</td>\n",
       "    </tr>\n",
       "    <tr>\n",
       "      <th>80</th>\n",
       "      <td>5</td>\n",
       "      <td>2158.0</td>\n",
       "      <td>Hospital 1000District 28Instrument 4</td>\n",
       "      <td>0</td>\n",
       "      <td>0</td>\n",
       "      <td>1000</td>\n",
       "      <td>28</td>\n",
       "      <td>Instrument 4</td>\n",
       "    </tr>\n",
       "    <tr>\n",
       "      <th>81</th>\n",
       "      <td>5</td>\n",
       "      <td>-34.0</td>\n",
       "      <td>Hospital 1000District 28Instrument 6</td>\n",
       "      <td>0</td>\n",
       "      <td>0</td>\n",
       "      <td>1000</td>\n",
       "      <td>28</td>\n",
       "      <td>Instrument 6</td>\n",
       "    </tr>\n",
       "    <tr>\n",
       "      <th>82</th>\n",
       "      <td>5</td>\n",
       "      <td>16795.0</td>\n",
       "      <td>Hospital 1000District 37Instrument 2</td>\n",
       "      <td>0</td>\n",
       "      <td>0</td>\n",
       "      <td>1000</td>\n",
       "      <td>37</td>\n",
       "      <td>Instrument 2</td>\n",
       "    </tr>\n",
       "    <tr>\n",
       "      <th>83</th>\n",
       "      <td>5</td>\n",
       "      <td>8407.0</td>\n",
       "      <td>Hospital 1000District 37Instrument 3</td>\n",
       "      <td>0</td>\n",
       "      <td>0</td>\n",
       "      <td>1000</td>\n",
       "      <td>37</td>\n",
       "      <td>Instrument 3</td>\n",
       "    </tr>\n",
       "    <tr>\n",
       "      <th>84</th>\n",
       "      <td>5</td>\n",
       "      <td>7331.0</td>\n",
       "      <td>Hospital 1000District 37Instrument 4</td>\n",
       "      <td>0</td>\n",
       "      <td>0</td>\n",
       "      <td>1000</td>\n",
       "      <td>37</td>\n",
       "      <td>Instrument 4</td>\n",
       "    </tr>\n",
       "    <tr>\n",
       "      <th>85</th>\n",
       "      <td>5</td>\n",
       "      <td>43.0</td>\n",
       "      <td>Hospital 1000District 39Instrument 1</td>\n",
       "      <td>0</td>\n",
       "      <td>0</td>\n",
       "      <td>1000</td>\n",
       "      <td>39</td>\n",
       "      <td>Instrument 1</td>\n",
       "    </tr>\n",
       "    <tr>\n",
       "      <th>86</th>\n",
       "      <td>5</td>\n",
       "      <td>693.0</td>\n",
       "      <td>Hospital 1000District 39Instrument 2</td>\n",
       "      <td>0</td>\n",
       "      <td>0</td>\n",
       "      <td>1000</td>\n",
       "      <td>39</td>\n",
       "      <td>Instrument 2</td>\n",
       "    </tr>\n",
       "    <tr>\n",
       "      <th>87</th>\n",
       "      <td>5</td>\n",
       "      <td>19.0</td>\n",
       "      <td>Hospital 1000District 41Instrument 1</td>\n",
       "      <td>0</td>\n",
       "      <td>0</td>\n",
       "      <td>1000</td>\n",
       "      <td>41</td>\n",
       "      <td>Instrument 1</td>\n",
       "    </tr>\n",
       "    <tr>\n",
       "      <th>88</th>\n",
       "      <td>5</td>\n",
       "      <td>1855.0</td>\n",
       "      <td>Hospital 1000District 41Instrument 2</td>\n",
       "      <td>0</td>\n",
       "      <td>0</td>\n",
       "      <td>1000</td>\n",
       "      <td>41</td>\n",
       "      <td>Instrument 2</td>\n",
       "    </tr>\n",
       "    <tr>\n",
       "      <th>89</th>\n",
       "      <td>5</td>\n",
       "      <td>623.0</td>\n",
       "      <td>Hospital 1000District 41Instrument 3</td>\n",
       "      <td>0</td>\n",
       "      <td>0</td>\n",
       "      <td>1000</td>\n",
       "      <td>41</td>\n",
       "      <td>Instrument 3</td>\n",
       "    </tr>\n",
       "    <tr>\n",
       "      <th>90</th>\n",
       "      <td>5</td>\n",
       "      <td>16.0</td>\n",
       "      <td>Hospital 1000District 45Instrument 2</td>\n",
       "      <td>0</td>\n",
       "      <td>0</td>\n",
       "      <td>1000</td>\n",
       "      <td>45</td>\n",
       "      <td>Instrument 2</td>\n",
       "    </tr>\n",
       "    <tr>\n",
       "      <th>91</th>\n",
       "      <td>5</td>\n",
       "      <td>195146.0</td>\n",
       "      <td>Hospital 1000District 50Instrument 2</td>\n",
       "      <td>9715</td>\n",
       "      <td>1</td>\n",
       "      <td>1000</td>\n",
       "      <td>50</td>\n",
       "      <td>Instrument 2</td>\n",
       "    </tr>\n",
       "    <tr>\n",
       "      <th>92</th>\n",
       "      <td>5</td>\n",
       "      <td>12508.0</td>\n",
       "      <td>Hospital 1000District 50Instrument 3</td>\n",
       "      <td>2496</td>\n",
       "      <td>1</td>\n",
       "      <td>1000</td>\n",
       "      <td>50</td>\n",
       "      <td>Instrument 3</td>\n",
       "    </tr>\n",
       "    <tr>\n",
       "      <th>93</th>\n",
       "      <td>5</td>\n",
       "      <td>5690.0</td>\n",
       "      <td>Hospital 1000District 50Instrument 5</td>\n",
       "      <td>0</td>\n",
       "      <td>0</td>\n",
       "      <td>1000</td>\n",
       "      <td>50</td>\n",
       "      <td>Instrument 5</td>\n",
       "    </tr>\n",
       "    <tr>\n",
       "      <th>94</th>\n",
       "      <td>5</td>\n",
       "      <td>15342.0</td>\n",
       "      <td>Hospital 1000District 99Instrument 11</td>\n",
       "      <td>0</td>\n",
       "      <td>0</td>\n",
       "      <td>1000</td>\n",
       "      <td>99</td>\n",
       "      <td>Instrument 11</td>\n",
       "    </tr>\n",
       "    <tr>\n",
       "      <th>95</th>\n",
       "      <td>5</td>\n",
       "      <td>6823.0</td>\n",
       "      <td>Hospital 1000District 99Instrument 15</td>\n",
       "      <td>0</td>\n",
       "      <td>0</td>\n",
       "      <td>1000</td>\n",
       "      <td>99</td>\n",
       "      <td>Instrument 15</td>\n",
       "    </tr>\n",
       "    <tr>\n",
       "      <th>96</th>\n",
       "      <td>5</td>\n",
       "      <td>27230.0</td>\n",
       "      <td>Hospital 1000District 99Instrument 6</td>\n",
       "      <td>0</td>\n",
       "      <td>0</td>\n",
       "      <td>1000</td>\n",
       "      <td>99</td>\n",
       "      <td>Instrument 6</td>\n",
       "    </tr>\n",
       "    <tr>\n",
       "      <th>97</th>\n",
       "      <td>5</td>\n",
       "      <td>11433.0</td>\n",
       "      <td>Hospital 1000District 99Instrument 7</td>\n",
       "      <td>0</td>\n",
       "      <td>0</td>\n",
       "      <td>1000</td>\n",
       "      <td>99</td>\n",
       "      <td>Instrument 7</td>\n",
       "    </tr>\n",
       "    <tr>\n",
       "      <th>98</th>\n",
       "      <td>3</td>\n",
       "      <td>10453.0</td>\n",
       "      <td>Hospital 1001District 12Instrument 2</td>\n",
       "      <td>0</td>\n",
       "      <td>0</td>\n",
       "      <td>1001</td>\n",
       "      <td>12</td>\n",
       "      <td>Instrument 2</td>\n",
       "    </tr>\n",
       "    <tr>\n",
       "      <th>99</th>\n",
       "      <td>3</td>\n",
       "      <td>256.0</td>\n",
       "      <td>Hospital 1001District 12Instrument 3</td>\n",
       "      <td>0</td>\n",
       "      <td>0</td>\n",
       "      <td>1001</td>\n",
       "      <td>12</td>\n",
       "      <td>Instrument 3</td>\n",
       "    </tr>\n",
       "  </tbody>\n",
       "</table>\n",
       "<p>100 rows × 8 columns</p>\n",
       "</div>"
      ],
      "text/plain": [
       "   Region_ID  Year Total                                   Key2  \\\n",
       "0          1    103550.0      Hospital 1District 12Instrument 2   \n",
       "1          1      2562.0      Hospital 1District 12Instrument 3   \n",
       "2          1       187.0      Hospital 1District 13Instrument 1   \n",
       "3          1     40741.0      Hospital 1District 13Instrument 2   \n",
       "4          1      8549.0      Hospital 1District 13Instrument 3   \n",
       "5          1      1421.0      Hospital 1District 13Instrument 4   \n",
       "6          1      4820.0      Hospital 1District 13Instrument 5   \n",
       "7          1     10338.0      Hospital 1District 16Instrument 2   \n",
       "8          1     15337.0      Hospital 1District 18Instrument 1   \n",
       "9          1    212707.0      Hospital 1District 18Instrument 2   \n",
       "10         1     18039.0      Hospital 1District 18Instrument 3   \n",
       "11         1      6424.0      Hospital 1District 18Instrument 4   \n",
       "12         1       672.0      Hospital 1District 18Instrument 5   \n",
       "13         1       313.0      Hospital 1District 18Instrument 6   \n",
       "14         1      1688.0      Hospital 1District 19Instrument 1   \n",
       "15         1     12453.0      Hospital 1District 19Instrument 2   \n",
       "16         1      2543.0      Hospital 1District 19Instrument 7   \n",
       "17         1       188.0       Hospital 1District 2Instrument 1   \n",
       "18         1      1864.0       Hospital 1District 2Instrument 2   \n",
       "19         1      8826.0      Hospital 1District 20Instrument 1   \n",
       "20         1    142957.0      Hospital 1District 20Instrument 2   \n",
       "21         1    386041.0      Hospital 1District 20Instrument 3   \n",
       "22         1      5454.0      Hospital 1District 20Instrument 6   \n",
       "23         1     13429.0      Hospital 1District 20Instrument 7   \n",
       "24         1     18207.0      Hospital 1District 20Instrument 8   \n",
       "25         1       271.0      Hospital 1District 28Instrument 1   \n",
       "26         1     13793.0      Hospital 1District 28Instrument 2   \n",
       "27         1       658.0      Hospital 1District 28Instrument 3   \n",
       "28         1       801.0      Hospital 1District 28Instrument 4   \n",
       "29         1        23.0      Hospital 1District 28Instrument 5   \n",
       "..       ...         ...                                    ...   \n",
       "70         1      1664.0    Hospital 100District 50Instrument 3   \n",
       "71         5        84.0   Hospital 1000District 16Instrument 2   \n",
       "72         5       455.0   Hospital 1000District 18Instrument 1   \n",
       "73         5      5873.0   Hospital 1000District 18Instrument 2   \n",
       "74         5       498.0   Hospital 1000District 18Instrument 3   \n",
       "75         5      1398.0   Hospital 1000District 18Instrument 4   \n",
       "76         5        26.0   Hospital 1000District 18Instrument 6   \n",
       "77         5       174.0   Hospital 1000District 28Instrument 1   \n",
       "78         5     13121.0   Hospital 1000District 28Instrument 2   \n",
       "79         5       192.0   Hospital 1000District 28Instrument 3   \n",
       "80         5      2158.0   Hospital 1000District 28Instrument 4   \n",
       "81         5       -34.0   Hospital 1000District 28Instrument 6   \n",
       "82         5     16795.0   Hospital 1000District 37Instrument 2   \n",
       "83         5      8407.0   Hospital 1000District 37Instrument 3   \n",
       "84         5      7331.0   Hospital 1000District 37Instrument 4   \n",
       "85         5        43.0   Hospital 1000District 39Instrument 1   \n",
       "86         5       693.0   Hospital 1000District 39Instrument 2   \n",
       "87         5        19.0   Hospital 1000District 41Instrument 1   \n",
       "88         5      1855.0   Hospital 1000District 41Instrument 2   \n",
       "89         5       623.0   Hospital 1000District 41Instrument 3   \n",
       "90         5        16.0   Hospital 1000District 45Instrument 2   \n",
       "91         5    195146.0   Hospital 1000District 50Instrument 2   \n",
       "92         5     12508.0   Hospital 1000District 50Instrument 3   \n",
       "93         5      5690.0   Hospital 1000District 50Instrument 5   \n",
       "94         5     15342.0  Hospital 1000District 99Instrument 11   \n",
       "95         5      6823.0  Hospital 1000District 99Instrument 15   \n",
       "96         5     27230.0   Hospital 1000District 99Instrument 6   \n",
       "97         5     11433.0   Hospital 1000District 99Instrument 7   \n",
       "98         3     10453.0   Hospital 1001District 12Instrument 2   \n",
       "99         3       256.0   Hospital 1001District 12Instrument 3   \n",
       "\n",
       "   Annual_Projected_Revenue Buy Hospital_ID District_ID  Instrument_ID  \n",
       "0                         0   0           1          12   Instrument 2  \n",
       "1                         0   0           1          12   Instrument 3  \n",
       "2                         0   0           1          13   Instrument 1  \n",
       "3                     17164   1           1          13   Instrument 2  \n",
       "4                    655645   1           1          13   Instrument 3  \n",
       "5                    281452   1           1          13   Instrument 4  \n",
       "6                         0   0           1          13   Instrument 5  \n",
       "7                         0   0           1          16   Instrument 2  \n",
       "8                         0   0           1          18   Instrument 1  \n",
       "9                         0   0           1          18   Instrument 2  \n",
       "10                        0   0           1          18   Instrument 3  \n",
       "11                        0   0           1          18   Instrument 4  \n",
       "12                        0   0           1          18   Instrument 5  \n",
       "13                        0   0           1          18   Instrument 6  \n",
       "14                        0   0           1          19   Instrument 1  \n",
       "15                        0   0           1          19   Instrument 2  \n",
       "16                        0   0           1          19   Instrument 7  \n",
       "17                        0   0           1           2   Instrument 1  \n",
       "18                    12199   1           1           2   Instrument 2  \n",
       "19                        0   0           1          20   Instrument 1  \n",
       "20                   178128   1           1          20   Instrument 2  \n",
       "21                   305796   1           1          20   Instrument 3  \n",
       "22                        0   0           1          20   Instrument 6  \n",
       "23                     5215   1           1          20   Instrument 7  \n",
       "24                   280140   1           1          20   Instrument 8  \n",
       "25                        0   0           1          28   Instrument 1  \n",
       "26                        0   0           1          28   Instrument 2  \n",
       "27                        0   0           1          28   Instrument 3  \n",
       "28                        0   0           1          28   Instrument 4  \n",
       "29                        0   0           1          28   Instrument 5  \n",
       "..                      ...  ..         ...         ...            ...  \n",
       "70                        0   0         100          50   Instrument 3  \n",
       "71                        0   0        1000          16   Instrument 2  \n",
       "72                        0   0        1000          18   Instrument 1  \n",
       "73                        0   0        1000          18   Instrument 2  \n",
       "74                        0   0        1000          18   Instrument 3  \n",
       "75                        0   0        1000          18   Instrument 4  \n",
       "76                        0   0        1000          18   Instrument 6  \n",
       "77                        0   0        1000          28   Instrument 1  \n",
       "78                        0   0        1000          28   Instrument 2  \n",
       "79                        0   0        1000          28   Instrument 3  \n",
       "80                        0   0        1000          28   Instrument 4  \n",
       "81                        0   0        1000          28   Instrument 6  \n",
       "82                        0   0        1000          37   Instrument 2  \n",
       "83                        0   0        1000          37   Instrument 3  \n",
       "84                        0   0        1000          37   Instrument 4  \n",
       "85                        0   0        1000          39   Instrument 1  \n",
       "86                        0   0        1000          39   Instrument 2  \n",
       "87                        0   0        1000          41   Instrument 1  \n",
       "88                        0   0        1000          41   Instrument 2  \n",
       "89                        0   0        1000          41   Instrument 3  \n",
       "90                        0   0        1000          45   Instrument 2  \n",
       "91                     9715   1        1000          50   Instrument 2  \n",
       "92                     2496   1        1000          50   Instrument 3  \n",
       "93                        0   0        1000          50   Instrument 5  \n",
       "94                        0   0        1000          99  Instrument 11  \n",
       "95                        0   0        1000          99  Instrument 15  \n",
       "96                        0   0        1000          99   Instrument 6  \n",
       "97                        0   0        1000          99   Instrument 7  \n",
       "98                        0   0        1001          12   Instrument 2  \n",
       "99                        0   0        1001          12   Instrument 3  \n",
       "\n",
       "[100 rows x 8 columns]"
      ]
     },
     "execution_count": 179,
     "metadata": {},
     "output_type": "execute_result"
    }
   ],
   "source": [
    "proj_rev_chck2.head(100)"
   ]
  },
  {
   "cell_type": "code",
   "execution_count": 180,
   "metadata": {
    "collapsed": false
   },
   "outputs": [
    {
     "data": {
      "text/plain": [
       "(array([44030, 44031, 44032, ..., 47394, 47395, 47396], dtype=int64),)"
      ]
     },
     "execution_count": 180,
     "metadata": {},
     "output_type": "execute_result"
    }
   ],
   "source": [
    "np.where(proj_rev_chck2['Region_ID'].isnull())"
   ]
  },
  {
   "cell_type": "code",
   "execution_count": 181,
   "metadata": {
    "collapsed": true
   },
   "outputs": [],
   "source": [
    "proj_rev_chck2['Region_ID']=proj_rev_chck2['Region_ID'].fillna('99')"
   ]
  },
  {
   "cell_type": "code",
   "execution_count": 182,
   "metadata": {
    "collapsed": false
   },
   "outputs": [
    {
     "name": "stdout",
     "output_type": "stream",
     "text": [
      "Region_ID                   0\n",
      "Year Total                  0\n",
      "Key2                        0\n",
      "Annual_Projected_Revenue    0\n",
      "Buy                         0\n",
      "Hospital_ID                 0\n",
      "District_ID                 0\n",
      "Instrument_ID               0\n",
      "dtype: int64\n"
     ]
    }
   ],
   "source": [
    "print proj_rev_chck2.apply(num_missing, axis=0)"
   ]
  },
  {
   "cell_type": "code",
   "execution_count": 183,
   "metadata": {
    "collapsed": true
   },
   "outputs": [],
   "source": [
    "proj_rev_chck2_v4=proj_rev_chck2.copy()"
   ]
  },
  {
   "cell_type": "code",
   "execution_count": 184,
   "metadata": {
    "collapsed": true
   },
   "outputs": [],
   "source": [
    "proj_rev_chck2_v4['Year_Total']=proj_rev_chck2_v4['Year Total']"
   ]
  },
  {
   "cell_type": "code",
   "execution_count": 185,
   "metadata": {
    "collapsed": true
   },
   "outputs": [],
   "source": [
    "del proj_rev_chck2_v4['Year Total']"
   ]
  },
  {
   "cell_type": "code",
   "execution_count": 186,
   "metadata": {
    "collapsed": false
   },
   "outputs": [],
   "source": [
    "from sklearn.cross_validation import train_test_split\n",
    "\n",
    "\n",
    "train,test=train_test_split(proj_rev_chck2_v4,test_size=0.2)"
   ]
  },
  {
   "cell_type": "code",
   "execution_count": 188,
   "metadata": {
    "collapsed": false
   },
   "outputs": [
    {
     "data": {
      "text/html": [
       "<div>\n",
       "<table border=\"1\" class=\"dataframe\">\n",
       "  <thead>\n",
       "    <tr style=\"text-align: right;\">\n",
       "      <th></th>\n",
       "      <th>Region_ID</th>\n",
       "      <th>Key2</th>\n",
       "      <th>Annual_Projected_Revenue</th>\n",
       "      <th>Buy</th>\n",
       "      <th>Hospital_ID</th>\n",
       "      <th>District_ID</th>\n",
       "      <th>Instrument_ID</th>\n",
       "      <th>Year_Total</th>\n",
       "    </tr>\n",
       "  </thead>\n",
       "  <tbody>\n",
       "    <tr>\n",
       "      <th>4122</th>\n",
       "      <td>4</td>\n",
       "      <td>Hospital 1138District 39Instrument 1</td>\n",
       "      <td>0</td>\n",
       "      <td>0</td>\n",
       "      <td>1138</td>\n",
       "      <td>39</td>\n",
       "      <td>Instrument 1</td>\n",
       "      <td>571.000000</td>\n",
       "    </tr>\n",
       "    <tr>\n",
       "      <th>13395</th>\n",
       "      <td>2</td>\n",
       "      <td>Hospital 1441District 13Instrument 3</td>\n",
       "      <td>1728</td>\n",
       "      <td>1</td>\n",
       "      <td>1441</td>\n",
       "      <td>13</td>\n",
       "      <td>Instrument 3</td>\n",
       "      <td>4528.000000</td>\n",
       "    </tr>\n",
       "    <tr>\n",
       "      <th>40021</th>\n",
       "      <td>3</td>\n",
       "      <td>Hospital 871District 51Instrument 3</td>\n",
       "      <td>0</td>\n",
       "      <td>0</td>\n",
       "      <td>871</td>\n",
       "      <td>51</td>\n",
       "      <td>Instrument 3</td>\n",
       "      <td>418.000000</td>\n",
       "    </tr>\n",
       "    <tr>\n",
       "      <th>5886</th>\n",
       "      <td>5</td>\n",
       "      <td>Hospital 1202District 13Instrument 1</td>\n",
       "      <td>0</td>\n",
       "      <td>0</td>\n",
       "      <td>1202</td>\n",
       "      <td>13</td>\n",
       "      <td>Instrument 1</td>\n",
       "      <td>67.000000</td>\n",
       "    </tr>\n",
       "    <tr>\n",
       "      <th>24633</th>\n",
       "      <td>1</td>\n",
       "      <td>Hospital 35District 39Instrument 7</td>\n",
       "      <td>0</td>\n",
       "      <td>0</td>\n",
       "      <td>35</td>\n",
       "      <td>39</td>\n",
       "      <td>Instrument 7</td>\n",
       "      <td>10027.000000</td>\n",
       "    </tr>\n",
       "    <tr>\n",
       "      <th>30792</th>\n",
       "      <td>1</td>\n",
       "      <td>Hospital 562District 20Instrument 6</td>\n",
       "      <td>0</td>\n",
       "      <td>0</td>\n",
       "      <td>562</td>\n",
       "      <td>20</td>\n",
       "      <td>Instrument 6</td>\n",
       "      <td>1452.000000</td>\n",
       "    </tr>\n",
       "    <tr>\n",
       "      <th>44198</th>\n",
       "      <td>99</td>\n",
       "      <td>Hospital 83No District AvailableInstrument 13</td>\n",
       "      <td>42833</td>\n",
       "      <td>1</td>\n",
       "      <td>Hospital 83</td>\n",
       "      <td>No District Available</td>\n",
       "      <td>Instrument 13</td>\n",
       "      <td>19218.377992</td>\n",
       "    </tr>\n",
       "    <tr>\n",
       "      <th>24072</th>\n",
       "      <td>1</td>\n",
       "      <td>Hospital 332District 12Instrument 2</td>\n",
       "      <td>32742</td>\n",
       "      <td>1</td>\n",
       "      <td>332</td>\n",
       "      <td>12</td>\n",
       "      <td>Instrument 2</td>\n",
       "      <td>86162.000000</td>\n",
       "    </tr>\n",
       "    <tr>\n",
       "      <th>17053</th>\n",
       "      <td>4</td>\n",
       "      <td>Hospital 1559District 48Instrument 2</td>\n",
       "      <td>0</td>\n",
       "      <td>0</td>\n",
       "      <td>1559</td>\n",
       "      <td>48</td>\n",
       "      <td>Instrument 2</td>\n",
       "      <td>16746.000000</td>\n",
       "    </tr>\n",
       "    <tr>\n",
       "      <th>32420</th>\n",
       "      <td>2</td>\n",
       "      <td>Hospital 62District 50Instrument 2</td>\n",
       "      <td>0</td>\n",
       "      <td>0</td>\n",
       "      <td>62</td>\n",
       "      <td>50</td>\n",
       "      <td>Instrument 2</td>\n",
       "      <td>8556.000000</td>\n",
       "    </tr>\n",
       "    <tr>\n",
       "      <th>592</th>\n",
       "      <td>3</td>\n",
       "      <td>Hospital 1016District 13Instrument 8</td>\n",
       "      <td>0</td>\n",
       "      <td>0</td>\n",
       "      <td>1016</td>\n",
       "      <td>13</td>\n",
       "      <td>Instrument 8</td>\n",
       "      <td>2854.000000</td>\n",
       "    </tr>\n",
       "    <tr>\n",
       "      <th>11146</th>\n",
       "      <td>3</td>\n",
       "      <td>Hospital 1371District 28Instrument 5</td>\n",
       "      <td>0</td>\n",
       "      <td>0</td>\n",
       "      <td>1371</td>\n",
       "      <td>28</td>\n",
       "      <td>Instrument 5</td>\n",
       "      <td>385.000000</td>\n",
       "    </tr>\n",
       "    <tr>\n",
       "      <th>395</th>\n",
       "      <td>1</td>\n",
       "      <td>Hospital 1008District 39Instrument 7</td>\n",
       "      <td>0</td>\n",
       "      <td>0</td>\n",
       "      <td>1008</td>\n",
       "      <td>39</td>\n",
       "      <td>Instrument 7</td>\n",
       "      <td>14171.000000</td>\n",
       "    </tr>\n",
       "    <tr>\n",
       "      <th>47159</th>\n",
       "      <td>99</td>\n",
       "      <td>Hospital 919District 4Instrument 3</td>\n",
       "      <td>7680</td>\n",
       "      <td>1</td>\n",
       "      <td>Hospital 919</td>\n",
       "      <td>District 4</td>\n",
       "      <td>Instrument 3</td>\n",
       "      <td>19218.377992</td>\n",
       "    </tr>\n",
       "    <tr>\n",
       "      <th>18747</th>\n",
       "      <td>2</td>\n",
       "      <td>Hospital 169District 6Instrument 2</td>\n",
       "      <td>0</td>\n",
       "      <td>0</td>\n",
       "      <td>169</td>\n",
       "      <td>6</td>\n",
       "      <td>Instrument 2</td>\n",
       "      <td>2495.000000</td>\n",
       "    </tr>\n",
       "    <tr>\n",
       "      <th>5693</th>\n",
       "      <td>2</td>\n",
       "      <td>Hospital 1198District 13Instrument 8</td>\n",
       "      <td>0</td>\n",
       "      <td>0</td>\n",
       "      <td>1198</td>\n",
       "      <td>13</td>\n",
       "      <td>Instrument 8</td>\n",
       "      <td>412.000000</td>\n",
       "    </tr>\n",
       "    <tr>\n",
       "      <th>6611</th>\n",
       "      <td>2</td>\n",
       "      <td>Hospital 1227District 8Instrument 2</td>\n",
       "      <td>0</td>\n",
       "      <td>0</td>\n",
       "      <td>1227</td>\n",
       "      <td>8</td>\n",
       "      <td>Instrument 2</td>\n",
       "      <td>34118.000000</td>\n",
       "    </tr>\n",
       "    <tr>\n",
       "      <th>32706</th>\n",
       "      <td>1</td>\n",
       "      <td>Hospital 630District 13Instrument 4</td>\n",
       "      <td>0</td>\n",
       "      <td>0</td>\n",
       "      <td>630</td>\n",
       "      <td>13</td>\n",
       "      <td>Instrument 4</td>\n",
       "      <td>9505.000000</td>\n",
       "    </tr>\n",
       "    <tr>\n",
       "      <th>35418</th>\n",
       "      <td>5</td>\n",
       "      <td>Hospital 715District 99Instrument 11</td>\n",
       "      <td>0</td>\n",
       "      <td>0</td>\n",
       "      <td>715</td>\n",
       "      <td>99</td>\n",
       "      <td>Instrument 11</td>\n",
       "      <td>114061.000000</td>\n",
       "    </tr>\n",
       "    <tr>\n",
       "      <th>27536</th>\n",
       "      <td>1</td>\n",
       "      <td>Hospital 444District 29Instrument 3</td>\n",
       "      <td>0</td>\n",
       "      <td>0</td>\n",
       "      <td>444</td>\n",
       "      <td>29</td>\n",
       "      <td>Instrument 3</td>\n",
       "      <td>171.000000</td>\n",
       "    </tr>\n",
       "    <tr>\n",
       "      <th>28196</th>\n",
       "      <td>5</td>\n",
       "      <td>Hospital 469District 14Instrument 20</td>\n",
       "      <td>0</td>\n",
       "      <td>0</td>\n",
       "      <td>469</td>\n",
       "      <td>14</td>\n",
       "      <td>Instrument 20</td>\n",
       "      <td>498.000000</td>\n",
       "    </tr>\n",
       "    <tr>\n",
       "      <th>35603</th>\n",
       "      <td>5</td>\n",
       "      <td>Hospital 722District 17Instrument 2</td>\n",
       "      <td>15924</td>\n",
       "      <td>1</td>\n",
       "      <td>722</td>\n",
       "      <td>17</td>\n",
       "      <td>Instrument 2</td>\n",
       "      <td>18411.000000</td>\n",
       "    </tr>\n",
       "    <tr>\n",
       "      <th>45746</th>\n",
       "      <td>99</td>\n",
       "      <td>Hospital 214District 13Instrument 7</td>\n",
       "      <td>300</td>\n",
       "      <td>1</td>\n",
       "      <td>Hospital 214</td>\n",
       "      <td>District 13</td>\n",
       "      <td>Instrument 7</td>\n",
       "      <td>19218.377992</td>\n",
       "    </tr>\n",
       "    <tr>\n",
       "      <th>43318</th>\n",
       "      <td>2</td>\n",
       "      <td>Hospital 982District 13Instrument 5</td>\n",
       "      <td>0</td>\n",
       "      <td>0</td>\n",
       "      <td>982</td>\n",
       "      <td>13</td>\n",
       "      <td>Instrument 5</td>\n",
       "      <td>3031.000000</td>\n",
       "    </tr>\n",
       "    <tr>\n",
       "      <th>38983</th>\n",
       "      <td>2</td>\n",
       "      <td>Hospital 836District 15Instrument 2</td>\n",
       "      <td>0</td>\n",
       "      <td>0</td>\n",
       "      <td>836</td>\n",
       "      <td>15</td>\n",
       "      <td>Instrument 2</td>\n",
       "      <td>145.000000</td>\n",
       "    </tr>\n",
       "    <tr>\n",
       "      <th>18324</th>\n",
       "      <td>1</td>\n",
       "      <td>Hospital 16District 29Instrument 3</td>\n",
       "      <td>0</td>\n",
       "      <td>0</td>\n",
       "      <td>16</td>\n",
       "      <td>29</td>\n",
       "      <td>Instrument 3</td>\n",
       "      <td>1189.000000</td>\n",
       "    </tr>\n",
       "    <tr>\n",
       "      <th>33654</th>\n",
       "      <td>1</td>\n",
       "      <td>Hospital 672District 18Instrument 6</td>\n",
       "      <td>0</td>\n",
       "      <td>0</td>\n",
       "      <td>672</td>\n",
       "      <td>18</td>\n",
       "      <td>Instrument 6</td>\n",
       "      <td>28.000000</td>\n",
       "    </tr>\n",
       "    <tr>\n",
       "      <th>15308</th>\n",
       "      <td>1</td>\n",
       "      <td>Hospital 1501District 51Instrument 7</td>\n",
       "      <td>0</td>\n",
       "      <td>0</td>\n",
       "      <td>1501</td>\n",
       "      <td>51</td>\n",
       "      <td>Instrument 7</td>\n",
       "      <td>283.000000</td>\n",
       "    </tr>\n",
       "    <tr>\n",
       "      <th>25478</th>\n",
       "      <td>5</td>\n",
       "      <td>Hospital 385District 39Instrument 1</td>\n",
       "      <td>0</td>\n",
       "      <td>0</td>\n",
       "      <td>385</td>\n",
       "      <td>39</td>\n",
       "      <td>Instrument 1</td>\n",
       "      <td>1750.000000</td>\n",
       "    </tr>\n",
       "    <tr>\n",
       "      <th>42745</th>\n",
       "      <td>1</td>\n",
       "      <td>Hospital 959District 20Instrument 3</td>\n",
       "      <td>7320</td>\n",
       "      <td>1</td>\n",
       "      <td>959</td>\n",
       "      <td>20</td>\n",
       "      <td>Instrument 3</td>\n",
       "      <td>35844.000000</td>\n",
       "    </tr>\n",
       "    <tr>\n",
       "      <th>45146</th>\n",
       "      <td>99</td>\n",
       "      <td>Hospital 1390District 50Instrument 8</td>\n",
       "      <td>1.16012e+06</td>\n",
       "      <td>1</td>\n",
       "      <td>Hospital 1390</td>\n",
       "      <td>District 50</td>\n",
       "      <td>Instrument 8</td>\n",
       "      <td>19218.377992</td>\n",
       "    </tr>\n",
       "    <tr>\n",
       "      <th>37614</th>\n",
       "      <td>2</td>\n",
       "      <td>Hospital 790District 41Instrument 3</td>\n",
       "      <td>0</td>\n",
       "      <td>0</td>\n",
       "      <td>790</td>\n",
       "      <td>41</td>\n",
       "      <td>Instrument 3</td>\n",
       "      <td>166.000000</td>\n",
       "    </tr>\n",
       "    <tr>\n",
       "      <th>1459</th>\n",
       "      <td>1</td>\n",
       "      <td>Hospital 1051District 99Instrument 10</td>\n",
       "      <td>0</td>\n",
       "      <td>0</td>\n",
       "      <td>1051</td>\n",
       "      <td>99</td>\n",
       "      <td>Instrument 10</td>\n",
       "      <td>212409.000000</td>\n",
       "    </tr>\n",
       "    <tr>\n",
       "      <th>36117</th>\n",
       "      <td>2</td>\n",
       "      <td>Hospital 739District 20Instrument 2</td>\n",
       "      <td>2815</td>\n",
       "      <td>1</td>\n",
       "      <td>739</td>\n",
       "      <td>20</td>\n",
       "      <td>Instrument 2</td>\n",
       "      <td>23261.000000</td>\n",
       "    </tr>\n",
       "    <tr>\n",
       "      <th>35288</th>\n",
       "      <td>2</td>\n",
       "      <td>Hospital 713District 48Instrument 7</td>\n",
       "      <td>90000</td>\n",
       "      <td>1</td>\n",
       "      <td>713</td>\n",
       "      <td>48</td>\n",
       "      <td>Instrument 7</td>\n",
       "      <td>134209.000000</td>\n",
       "    </tr>\n",
       "    <tr>\n",
       "      <th>25051</th>\n",
       "      <td>2</td>\n",
       "      <td>Hospital 37District 28Instrument 2</td>\n",
       "      <td>0</td>\n",
       "      <td>0</td>\n",
       "      <td>37</td>\n",
       "      <td>28</td>\n",
       "      <td>Instrument 2</td>\n",
       "      <td>4455.000000</td>\n",
       "    </tr>\n",
       "    <tr>\n",
       "      <th>20057</th>\n",
       "      <td>2</td>\n",
       "      <td>Hospital 205District 10Instrument 4</td>\n",
       "      <td>0</td>\n",
       "      <td>0</td>\n",
       "      <td>205</td>\n",
       "      <td>10</td>\n",
       "      <td>Instrument 4</td>\n",
       "      <td>234.000000</td>\n",
       "    </tr>\n",
       "    <tr>\n",
       "      <th>40506</th>\n",
       "      <td>2</td>\n",
       "      <td>Hospital 888District 20Instrument 2</td>\n",
       "      <td>54600</td>\n",
       "      <td>1</td>\n",
       "      <td>888</td>\n",
       "      <td>20</td>\n",
       "      <td>Instrument 2</td>\n",
       "      <td>117067.000000</td>\n",
       "    </tr>\n",
       "    <tr>\n",
       "      <th>13529</th>\n",
       "      <td>2</td>\n",
       "      <td>Hospital 1449District 19Instrument 1</td>\n",
       "      <td>0</td>\n",
       "      <td>0</td>\n",
       "      <td>1449</td>\n",
       "      <td>19</td>\n",
       "      <td>Instrument 1</td>\n",
       "      <td>2134.000000</td>\n",
       "    </tr>\n",
       "    <tr>\n",
       "      <th>20886</th>\n",
       "      <td>2</td>\n",
       "      <td>Hospital 228District 18Instrument 3</td>\n",
       "      <td>3654</td>\n",
       "      <td>1</td>\n",
       "      <td>228</td>\n",
       "      <td>18</td>\n",
       "      <td>Instrument 3</td>\n",
       "      <td>21559.000000</td>\n",
       "    </tr>\n",
       "  </tbody>\n",
       "</table>\n",
       "</div>"
      ],
      "text/plain": [
       "      Region_ID                                           Key2  \\\n",
       "4122          4           Hospital 1138District 39Instrument 1   \n",
       "13395         2           Hospital 1441District 13Instrument 3   \n",
       "40021         3            Hospital 871District 51Instrument 3   \n",
       "5886          5           Hospital 1202District 13Instrument 1   \n",
       "24633         1             Hospital 35District 39Instrument 7   \n",
       "30792         1            Hospital 562District 20Instrument 6   \n",
       "44198        99  Hospital 83No District AvailableInstrument 13   \n",
       "24072         1            Hospital 332District 12Instrument 2   \n",
       "17053         4           Hospital 1559District 48Instrument 2   \n",
       "32420         2             Hospital 62District 50Instrument 2   \n",
       "592           3           Hospital 1016District 13Instrument 8   \n",
       "11146         3           Hospital 1371District 28Instrument 5   \n",
       "395           1           Hospital 1008District 39Instrument 7   \n",
       "47159        99             Hospital 919District 4Instrument 3   \n",
       "18747         2             Hospital 169District 6Instrument 2   \n",
       "5693          2           Hospital 1198District 13Instrument 8   \n",
       "6611          2            Hospital 1227District 8Instrument 2   \n",
       "32706         1            Hospital 630District 13Instrument 4   \n",
       "35418         5           Hospital 715District 99Instrument 11   \n",
       "27536         1            Hospital 444District 29Instrument 3   \n",
       "28196         5           Hospital 469District 14Instrument 20   \n",
       "35603         5            Hospital 722District 17Instrument 2   \n",
       "45746        99            Hospital 214District 13Instrument 7   \n",
       "43318         2            Hospital 982District 13Instrument 5   \n",
       "38983         2            Hospital 836District 15Instrument 2   \n",
       "18324         1             Hospital 16District 29Instrument 3   \n",
       "33654         1            Hospital 672District 18Instrument 6   \n",
       "15308         1           Hospital 1501District 51Instrument 7   \n",
       "25478         5            Hospital 385District 39Instrument 1   \n",
       "42745         1            Hospital 959District 20Instrument 3   \n",
       "45146        99           Hospital 1390District 50Instrument 8   \n",
       "37614         2            Hospital 790District 41Instrument 3   \n",
       "1459          1          Hospital 1051District 99Instrument 10   \n",
       "36117         2            Hospital 739District 20Instrument 2   \n",
       "35288         2            Hospital 713District 48Instrument 7   \n",
       "25051         2             Hospital 37District 28Instrument 2   \n",
       "20057         2            Hospital 205District 10Instrument 4   \n",
       "40506         2            Hospital 888District 20Instrument 2   \n",
       "13529         2           Hospital 1449District 19Instrument 1   \n",
       "20886         2            Hospital 228District 18Instrument 3   \n",
       "\n",
       "      Annual_Projected_Revenue Buy    Hospital_ID            District_ID  \\\n",
       "4122                         0   0           1138                     39   \n",
       "13395                     1728   1           1441                     13   \n",
       "40021                        0   0            871                     51   \n",
       "5886                         0   0           1202                     13   \n",
       "24633                        0   0             35                     39   \n",
       "30792                        0   0            562                     20   \n",
       "44198                    42833   1    Hospital 83  No District Available   \n",
       "24072                    32742   1            332                     12   \n",
       "17053                        0   0           1559                     48   \n",
       "32420                        0   0             62                     50   \n",
       "592                          0   0           1016                     13   \n",
       "11146                        0   0           1371                     28   \n",
       "395                          0   0           1008                     39   \n",
       "47159                     7680   1   Hospital 919             District 4   \n",
       "18747                        0   0            169                      6   \n",
       "5693                         0   0           1198                     13   \n",
       "6611                         0   0           1227                      8   \n",
       "32706                        0   0            630                     13   \n",
       "35418                        0   0            715                     99   \n",
       "27536                        0   0            444                     29   \n",
       "28196                        0   0            469                     14   \n",
       "35603                    15924   1            722                     17   \n",
       "45746                      300   1   Hospital 214            District 13   \n",
       "43318                        0   0            982                     13   \n",
       "38983                        0   0            836                     15   \n",
       "18324                        0   0             16                     29   \n",
       "33654                        0   0            672                     18   \n",
       "15308                        0   0           1501                     51   \n",
       "25478                        0   0            385                     39   \n",
       "42745                     7320   1            959                     20   \n",
       "45146              1.16012e+06   1  Hospital 1390            District 50   \n",
       "37614                        0   0            790                     41   \n",
       "1459                         0   0           1051                     99   \n",
       "36117                     2815   1            739                     20   \n",
       "35288                    90000   1            713                     48   \n",
       "25051                        0   0             37                     28   \n",
       "20057                        0   0            205                     10   \n",
       "40506                    54600   1            888                     20   \n",
       "13529                        0   0           1449                     19   \n",
       "20886                     3654   1            228                     18   \n",
       "\n",
       "       Instrument_ID     Year_Total  \n",
       "4122    Instrument 1     571.000000  \n",
       "13395   Instrument 3    4528.000000  \n",
       "40021   Instrument 3     418.000000  \n",
       "5886    Instrument 1      67.000000  \n",
       "24633   Instrument 7   10027.000000  \n",
       "30792   Instrument 6    1452.000000  \n",
       "44198  Instrument 13   19218.377992  \n",
       "24072   Instrument 2   86162.000000  \n",
       "17053   Instrument 2   16746.000000  \n",
       "32420   Instrument 2    8556.000000  \n",
       "592     Instrument 8    2854.000000  \n",
       "11146   Instrument 5     385.000000  \n",
       "395     Instrument 7   14171.000000  \n",
       "47159   Instrument 3   19218.377992  \n",
       "18747   Instrument 2    2495.000000  \n",
       "5693    Instrument 8     412.000000  \n",
       "6611    Instrument 2   34118.000000  \n",
       "32706   Instrument 4    9505.000000  \n",
       "35418  Instrument 11  114061.000000  \n",
       "27536   Instrument 3     171.000000  \n",
       "28196  Instrument 20     498.000000  \n",
       "35603   Instrument 2   18411.000000  \n",
       "45746   Instrument 7   19218.377992  \n",
       "43318   Instrument 5    3031.000000  \n",
       "38983   Instrument 2     145.000000  \n",
       "18324   Instrument 3    1189.000000  \n",
       "33654   Instrument 6      28.000000  \n",
       "15308   Instrument 7     283.000000  \n",
       "25478   Instrument 1    1750.000000  \n",
       "42745   Instrument 3   35844.000000  \n",
       "45146   Instrument 8   19218.377992  \n",
       "37614   Instrument 3     166.000000  \n",
       "1459   Instrument 10  212409.000000  \n",
       "36117   Instrument 2   23261.000000  \n",
       "35288   Instrument 7  134209.000000  \n",
       "25051   Instrument 2    4455.000000  \n",
       "20057   Instrument 4     234.000000  \n",
       "40506   Instrument 2  117067.000000  \n",
       "13529   Instrument 1    2134.000000  \n",
       "20886   Instrument 3   21559.000000  "
      ]
     },
     "execution_count": 188,
     "metadata": {},
     "output_type": "execute_result"
    }
   ],
   "source": [
    "train.head(40)"
   ]
  },
  {
   "cell_type": "code",
   "execution_count": 189,
   "metadata": {
    "collapsed": true
   },
   "outputs": [],
   "source": [
    "proj_rev_chck2_v4['Hospital_ID']=proj_rev_chck2_v4['Hospital_ID'].str.replace('Hospital ','')"
   ]
  },
  {
   "cell_type": "code",
   "execution_count": 190,
   "metadata": {
    "collapsed": true
   },
   "outputs": [],
   "source": [
    "proj_rev_chck2_v4['District_ID']=proj_rev_chck2_v4['District_ID'].str.replace('District ','')"
   ]
  },
  {
   "cell_type": "code",
   "execution_count": 191,
   "metadata": {
    "collapsed": true
   },
   "outputs": [],
   "source": [
    "proj_rev_chck2_v4['District_ID']=proj_rev_chck2_v4['District_ID'].str.replace('No Available','53')"
   ]
  },
  {
   "cell_type": "code",
   "execution_count": 192,
   "metadata": {
    "collapsed": false
   },
   "outputs": [
    {
     "data": {
      "text/html": [
       "<div>\n",
       "<table border=\"1\" class=\"dataframe\">\n",
       "  <thead>\n",
       "    <tr style=\"text-align: right;\">\n",
       "      <th></th>\n",
       "      <th>Region_ID</th>\n",
       "      <th>Key2</th>\n",
       "      <th>Annual_Projected_Revenue</th>\n",
       "      <th>Buy</th>\n",
       "      <th>Hospital_ID</th>\n",
       "      <th>District_ID</th>\n",
       "      <th>Instrument_ID</th>\n",
       "      <th>Year_Total</th>\n",
       "    </tr>\n",
       "  </thead>\n",
       "  <tbody>\n",
       "    <tr>\n",
       "      <th>0</th>\n",
       "      <td>1</td>\n",
       "      <td>Hospital 1District 12Instrument 2</td>\n",
       "      <td>0</td>\n",
       "      <td>0</td>\n",
       "      <td>1</td>\n",
       "      <td>12</td>\n",
       "      <td>Instrument 2</td>\n",
       "      <td>103550.0</td>\n",
       "    </tr>\n",
       "    <tr>\n",
       "      <th>1</th>\n",
       "      <td>1</td>\n",
       "      <td>Hospital 1District 12Instrument 3</td>\n",
       "      <td>0</td>\n",
       "      <td>0</td>\n",
       "      <td>1</td>\n",
       "      <td>12</td>\n",
       "      <td>Instrument 3</td>\n",
       "      <td>2562.0</td>\n",
       "    </tr>\n",
       "    <tr>\n",
       "      <th>2</th>\n",
       "      <td>1</td>\n",
       "      <td>Hospital 1District 13Instrument 1</td>\n",
       "      <td>0</td>\n",
       "      <td>0</td>\n",
       "      <td>1</td>\n",
       "      <td>13</td>\n",
       "      <td>Instrument 1</td>\n",
       "      <td>187.0</td>\n",
       "    </tr>\n",
       "    <tr>\n",
       "      <th>3</th>\n",
       "      <td>1</td>\n",
       "      <td>Hospital 1District 13Instrument 2</td>\n",
       "      <td>17164</td>\n",
       "      <td>1</td>\n",
       "      <td>1</td>\n",
       "      <td>13</td>\n",
       "      <td>Instrument 2</td>\n",
       "      <td>40741.0</td>\n",
       "    </tr>\n",
       "    <tr>\n",
       "      <th>4</th>\n",
       "      <td>1</td>\n",
       "      <td>Hospital 1District 13Instrument 3</td>\n",
       "      <td>655645</td>\n",
       "      <td>1</td>\n",
       "      <td>1</td>\n",
       "      <td>13</td>\n",
       "      <td>Instrument 3</td>\n",
       "      <td>8549.0</td>\n",
       "    </tr>\n",
       "    <tr>\n",
       "      <th>5</th>\n",
       "      <td>1</td>\n",
       "      <td>Hospital 1District 13Instrument 4</td>\n",
       "      <td>281452</td>\n",
       "      <td>1</td>\n",
       "      <td>1</td>\n",
       "      <td>13</td>\n",
       "      <td>Instrument 4</td>\n",
       "      <td>1421.0</td>\n",
       "    </tr>\n",
       "    <tr>\n",
       "      <th>6</th>\n",
       "      <td>1</td>\n",
       "      <td>Hospital 1District 13Instrument 5</td>\n",
       "      <td>0</td>\n",
       "      <td>0</td>\n",
       "      <td>1</td>\n",
       "      <td>13</td>\n",
       "      <td>Instrument 5</td>\n",
       "      <td>4820.0</td>\n",
       "    </tr>\n",
       "    <tr>\n",
       "      <th>7</th>\n",
       "      <td>1</td>\n",
       "      <td>Hospital 1District 16Instrument 2</td>\n",
       "      <td>0</td>\n",
       "      <td>0</td>\n",
       "      <td>1</td>\n",
       "      <td>16</td>\n",
       "      <td>Instrument 2</td>\n",
       "      <td>10338.0</td>\n",
       "    </tr>\n",
       "    <tr>\n",
       "      <th>8</th>\n",
       "      <td>1</td>\n",
       "      <td>Hospital 1District 18Instrument 1</td>\n",
       "      <td>0</td>\n",
       "      <td>0</td>\n",
       "      <td>1</td>\n",
       "      <td>18</td>\n",
       "      <td>Instrument 1</td>\n",
       "      <td>15337.0</td>\n",
       "    </tr>\n",
       "    <tr>\n",
       "      <th>9</th>\n",
       "      <td>1</td>\n",
       "      <td>Hospital 1District 18Instrument 2</td>\n",
       "      <td>0</td>\n",
       "      <td>0</td>\n",
       "      <td>1</td>\n",
       "      <td>18</td>\n",
       "      <td>Instrument 2</td>\n",
       "      <td>212707.0</td>\n",
       "    </tr>\n",
       "    <tr>\n",
       "      <th>10</th>\n",
       "      <td>1</td>\n",
       "      <td>Hospital 1District 18Instrument 3</td>\n",
       "      <td>0</td>\n",
       "      <td>0</td>\n",
       "      <td>1</td>\n",
       "      <td>18</td>\n",
       "      <td>Instrument 3</td>\n",
       "      <td>18039.0</td>\n",
       "    </tr>\n",
       "    <tr>\n",
       "      <th>11</th>\n",
       "      <td>1</td>\n",
       "      <td>Hospital 1District 18Instrument 4</td>\n",
       "      <td>0</td>\n",
       "      <td>0</td>\n",
       "      <td>1</td>\n",
       "      <td>18</td>\n",
       "      <td>Instrument 4</td>\n",
       "      <td>6424.0</td>\n",
       "    </tr>\n",
       "    <tr>\n",
       "      <th>12</th>\n",
       "      <td>1</td>\n",
       "      <td>Hospital 1District 18Instrument 5</td>\n",
       "      <td>0</td>\n",
       "      <td>0</td>\n",
       "      <td>1</td>\n",
       "      <td>18</td>\n",
       "      <td>Instrument 5</td>\n",
       "      <td>672.0</td>\n",
       "    </tr>\n",
       "    <tr>\n",
       "      <th>13</th>\n",
       "      <td>1</td>\n",
       "      <td>Hospital 1District 18Instrument 6</td>\n",
       "      <td>0</td>\n",
       "      <td>0</td>\n",
       "      <td>1</td>\n",
       "      <td>18</td>\n",
       "      <td>Instrument 6</td>\n",
       "      <td>313.0</td>\n",
       "    </tr>\n",
       "    <tr>\n",
       "      <th>14</th>\n",
       "      <td>1</td>\n",
       "      <td>Hospital 1District 19Instrument 1</td>\n",
       "      <td>0</td>\n",
       "      <td>0</td>\n",
       "      <td>1</td>\n",
       "      <td>19</td>\n",
       "      <td>Instrument 1</td>\n",
       "      <td>1688.0</td>\n",
       "    </tr>\n",
       "    <tr>\n",
       "      <th>15</th>\n",
       "      <td>1</td>\n",
       "      <td>Hospital 1District 19Instrument 2</td>\n",
       "      <td>0</td>\n",
       "      <td>0</td>\n",
       "      <td>1</td>\n",
       "      <td>19</td>\n",
       "      <td>Instrument 2</td>\n",
       "      <td>12453.0</td>\n",
       "    </tr>\n",
       "    <tr>\n",
       "      <th>16</th>\n",
       "      <td>1</td>\n",
       "      <td>Hospital 1District 19Instrument 7</td>\n",
       "      <td>0</td>\n",
       "      <td>0</td>\n",
       "      <td>1</td>\n",
       "      <td>19</td>\n",
       "      <td>Instrument 7</td>\n",
       "      <td>2543.0</td>\n",
       "    </tr>\n",
       "    <tr>\n",
       "      <th>17</th>\n",
       "      <td>1</td>\n",
       "      <td>Hospital 1District 2Instrument 1</td>\n",
       "      <td>0</td>\n",
       "      <td>0</td>\n",
       "      <td>1</td>\n",
       "      <td>2</td>\n",
       "      <td>Instrument 1</td>\n",
       "      <td>188.0</td>\n",
       "    </tr>\n",
       "    <tr>\n",
       "      <th>18</th>\n",
       "      <td>1</td>\n",
       "      <td>Hospital 1District 2Instrument 2</td>\n",
       "      <td>12199</td>\n",
       "      <td>1</td>\n",
       "      <td>1</td>\n",
       "      <td>2</td>\n",
       "      <td>Instrument 2</td>\n",
       "      <td>1864.0</td>\n",
       "    </tr>\n",
       "    <tr>\n",
       "      <th>19</th>\n",
       "      <td>1</td>\n",
       "      <td>Hospital 1District 20Instrument 1</td>\n",
       "      <td>0</td>\n",
       "      <td>0</td>\n",
       "      <td>1</td>\n",
       "      <td>20</td>\n",
       "      <td>Instrument 1</td>\n",
       "      <td>8826.0</td>\n",
       "    </tr>\n",
       "    <tr>\n",
       "      <th>20</th>\n",
       "      <td>1</td>\n",
       "      <td>Hospital 1District 20Instrument 2</td>\n",
       "      <td>178128</td>\n",
       "      <td>1</td>\n",
       "      <td>1</td>\n",
       "      <td>20</td>\n",
       "      <td>Instrument 2</td>\n",
       "      <td>142957.0</td>\n",
       "    </tr>\n",
       "    <tr>\n",
       "      <th>21</th>\n",
       "      <td>1</td>\n",
       "      <td>Hospital 1District 20Instrument 3</td>\n",
       "      <td>305796</td>\n",
       "      <td>1</td>\n",
       "      <td>1</td>\n",
       "      <td>20</td>\n",
       "      <td>Instrument 3</td>\n",
       "      <td>386041.0</td>\n",
       "    </tr>\n",
       "    <tr>\n",
       "      <th>22</th>\n",
       "      <td>1</td>\n",
       "      <td>Hospital 1District 20Instrument 6</td>\n",
       "      <td>0</td>\n",
       "      <td>0</td>\n",
       "      <td>1</td>\n",
       "      <td>20</td>\n",
       "      <td>Instrument 6</td>\n",
       "      <td>5454.0</td>\n",
       "    </tr>\n",
       "    <tr>\n",
       "      <th>23</th>\n",
       "      <td>1</td>\n",
       "      <td>Hospital 1District 20Instrument 7</td>\n",
       "      <td>5215</td>\n",
       "      <td>1</td>\n",
       "      <td>1</td>\n",
       "      <td>20</td>\n",
       "      <td>Instrument 7</td>\n",
       "      <td>13429.0</td>\n",
       "    </tr>\n",
       "    <tr>\n",
       "      <th>24</th>\n",
       "      <td>1</td>\n",
       "      <td>Hospital 1District 20Instrument 8</td>\n",
       "      <td>280140</td>\n",
       "      <td>1</td>\n",
       "      <td>1</td>\n",
       "      <td>20</td>\n",
       "      <td>Instrument 8</td>\n",
       "      <td>18207.0</td>\n",
       "    </tr>\n",
       "    <tr>\n",
       "      <th>25</th>\n",
       "      <td>1</td>\n",
       "      <td>Hospital 1District 28Instrument 1</td>\n",
       "      <td>0</td>\n",
       "      <td>0</td>\n",
       "      <td>1</td>\n",
       "      <td>28</td>\n",
       "      <td>Instrument 1</td>\n",
       "      <td>271.0</td>\n",
       "    </tr>\n",
       "    <tr>\n",
       "      <th>26</th>\n",
       "      <td>1</td>\n",
       "      <td>Hospital 1District 28Instrument 2</td>\n",
       "      <td>0</td>\n",
       "      <td>0</td>\n",
       "      <td>1</td>\n",
       "      <td>28</td>\n",
       "      <td>Instrument 2</td>\n",
       "      <td>13793.0</td>\n",
       "    </tr>\n",
       "    <tr>\n",
       "      <th>27</th>\n",
       "      <td>1</td>\n",
       "      <td>Hospital 1District 28Instrument 3</td>\n",
       "      <td>0</td>\n",
       "      <td>0</td>\n",
       "      <td>1</td>\n",
       "      <td>28</td>\n",
       "      <td>Instrument 3</td>\n",
       "      <td>658.0</td>\n",
       "    </tr>\n",
       "    <tr>\n",
       "      <th>28</th>\n",
       "      <td>1</td>\n",
       "      <td>Hospital 1District 28Instrument 4</td>\n",
       "      <td>0</td>\n",
       "      <td>0</td>\n",
       "      <td>1</td>\n",
       "      <td>28</td>\n",
       "      <td>Instrument 4</td>\n",
       "      <td>801.0</td>\n",
       "    </tr>\n",
       "    <tr>\n",
       "      <th>29</th>\n",
       "      <td>1</td>\n",
       "      <td>Hospital 1District 28Instrument 5</td>\n",
       "      <td>0</td>\n",
       "      <td>0</td>\n",
       "      <td>1</td>\n",
       "      <td>28</td>\n",
       "      <td>Instrument 5</td>\n",
       "      <td>23.0</td>\n",
       "    </tr>\n",
       "    <tr>\n",
       "      <th>30</th>\n",
       "      <td>1</td>\n",
       "      <td>Hospital 1District 28Instrument 6</td>\n",
       "      <td>0</td>\n",
       "      <td>0</td>\n",
       "      <td>1</td>\n",
       "      <td>28</td>\n",
       "      <td>Instrument 6</td>\n",
       "      <td>-376.0</td>\n",
       "    </tr>\n",
       "    <tr>\n",
       "      <th>31</th>\n",
       "      <td>1</td>\n",
       "      <td>Hospital 1District 3Instrument 2</td>\n",
       "      <td>0</td>\n",
       "      <td>0</td>\n",
       "      <td>1</td>\n",
       "      <td>3</td>\n",
       "      <td>Instrument 2</td>\n",
       "      <td>1212.0</td>\n",
       "    </tr>\n",
       "    <tr>\n",
       "      <th>32</th>\n",
       "      <td>1</td>\n",
       "      <td>Hospital 1District 34Instrument 2</td>\n",
       "      <td>0</td>\n",
       "      <td>0</td>\n",
       "      <td>1</td>\n",
       "      <td>34</td>\n",
       "      <td>Instrument 2</td>\n",
       "      <td>105.0</td>\n",
       "    </tr>\n",
       "    <tr>\n",
       "      <th>33</th>\n",
       "      <td>1</td>\n",
       "      <td>Hospital 1District 34Instrument 3</td>\n",
       "      <td>0</td>\n",
       "      <td>0</td>\n",
       "      <td>1</td>\n",
       "      <td>34</td>\n",
       "      <td>Instrument 3</td>\n",
       "      <td>2171.0</td>\n",
       "    </tr>\n",
       "    <tr>\n",
       "      <th>34</th>\n",
       "      <td>1</td>\n",
       "      <td>Hospital 1District 34Instrument 4</td>\n",
       "      <td>0</td>\n",
       "      <td>0</td>\n",
       "      <td>1</td>\n",
       "      <td>34</td>\n",
       "      <td>Instrument 4</td>\n",
       "      <td>384.0</td>\n",
       "    </tr>\n",
       "    <tr>\n",
       "      <th>35</th>\n",
       "      <td>1</td>\n",
       "      <td>Hospital 1District 35Instrument 2</td>\n",
       "      <td>0</td>\n",
       "      <td>0</td>\n",
       "      <td>1</td>\n",
       "      <td>35</td>\n",
       "      <td>Instrument 2</td>\n",
       "      <td>13028.0</td>\n",
       "    </tr>\n",
       "    <tr>\n",
       "      <th>36</th>\n",
       "      <td>1</td>\n",
       "      <td>Hospital 1District 37Instrument 2</td>\n",
       "      <td>0</td>\n",
       "      <td>0</td>\n",
       "      <td>1</td>\n",
       "      <td>37</td>\n",
       "      <td>Instrument 2</td>\n",
       "      <td>57370.0</td>\n",
       "    </tr>\n",
       "    <tr>\n",
       "      <th>37</th>\n",
       "      <td>1</td>\n",
       "      <td>Hospital 1District 37Instrument 3</td>\n",
       "      <td>0</td>\n",
       "      <td>0</td>\n",
       "      <td>1</td>\n",
       "      <td>37</td>\n",
       "      <td>Instrument 3</td>\n",
       "      <td>2160.0</td>\n",
       "    </tr>\n",
       "    <tr>\n",
       "      <th>38</th>\n",
       "      <td>1</td>\n",
       "      <td>Hospital 1District 37Instrument 4</td>\n",
       "      <td>0</td>\n",
       "      <td>0</td>\n",
       "      <td>1</td>\n",
       "      <td>37</td>\n",
       "      <td>Instrument 4</td>\n",
       "      <td>281.0</td>\n",
       "    </tr>\n",
       "    <tr>\n",
       "      <th>39</th>\n",
       "      <td>1</td>\n",
       "      <td>Hospital 1District 39Instrument 4</td>\n",
       "      <td>0</td>\n",
       "      <td>0</td>\n",
       "      <td>1</td>\n",
       "      <td>39</td>\n",
       "      <td>Instrument 4</td>\n",
       "      <td>42.0</td>\n",
       "    </tr>\n",
       "  </tbody>\n",
       "</table>\n",
       "</div>"
      ],
      "text/plain": [
       "   Region_ID                               Key2 Annual_Projected_Revenue Buy  \\\n",
       "0          1  Hospital 1District 12Instrument 2                        0   0   \n",
       "1          1  Hospital 1District 12Instrument 3                        0   0   \n",
       "2          1  Hospital 1District 13Instrument 1                        0   0   \n",
       "3          1  Hospital 1District 13Instrument 2                    17164   1   \n",
       "4          1  Hospital 1District 13Instrument 3                   655645   1   \n",
       "5          1  Hospital 1District 13Instrument 4                   281452   1   \n",
       "6          1  Hospital 1District 13Instrument 5                        0   0   \n",
       "7          1  Hospital 1District 16Instrument 2                        0   0   \n",
       "8          1  Hospital 1District 18Instrument 1                        0   0   \n",
       "9          1  Hospital 1District 18Instrument 2                        0   0   \n",
       "10         1  Hospital 1District 18Instrument 3                        0   0   \n",
       "11         1  Hospital 1District 18Instrument 4                        0   0   \n",
       "12         1  Hospital 1District 18Instrument 5                        0   0   \n",
       "13         1  Hospital 1District 18Instrument 6                        0   0   \n",
       "14         1  Hospital 1District 19Instrument 1                        0   0   \n",
       "15         1  Hospital 1District 19Instrument 2                        0   0   \n",
       "16         1  Hospital 1District 19Instrument 7                        0   0   \n",
       "17         1   Hospital 1District 2Instrument 1                        0   0   \n",
       "18         1   Hospital 1District 2Instrument 2                    12199   1   \n",
       "19         1  Hospital 1District 20Instrument 1                        0   0   \n",
       "20         1  Hospital 1District 20Instrument 2                   178128   1   \n",
       "21         1  Hospital 1District 20Instrument 3                   305796   1   \n",
       "22         1  Hospital 1District 20Instrument 6                        0   0   \n",
       "23         1  Hospital 1District 20Instrument 7                     5215   1   \n",
       "24         1  Hospital 1District 20Instrument 8                   280140   1   \n",
       "25         1  Hospital 1District 28Instrument 1                        0   0   \n",
       "26         1  Hospital 1District 28Instrument 2                        0   0   \n",
       "27         1  Hospital 1District 28Instrument 3                        0   0   \n",
       "28         1  Hospital 1District 28Instrument 4                        0   0   \n",
       "29         1  Hospital 1District 28Instrument 5                        0   0   \n",
       "30         1  Hospital 1District 28Instrument 6                        0   0   \n",
       "31         1   Hospital 1District 3Instrument 2                        0   0   \n",
       "32         1  Hospital 1District 34Instrument 2                        0   0   \n",
       "33         1  Hospital 1District 34Instrument 3                        0   0   \n",
       "34         1  Hospital 1District 34Instrument 4                        0   0   \n",
       "35         1  Hospital 1District 35Instrument 2                        0   0   \n",
       "36         1  Hospital 1District 37Instrument 2                        0   0   \n",
       "37         1  Hospital 1District 37Instrument 3                        0   0   \n",
       "38         1  Hospital 1District 37Instrument 4                        0   0   \n",
       "39         1  Hospital 1District 39Instrument 4                        0   0   \n",
       "\n",
       "   Hospital_ID District_ID Instrument_ID  Year_Total  \n",
       "0            1          12  Instrument 2    103550.0  \n",
       "1            1          12  Instrument 3      2562.0  \n",
       "2            1          13  Instrument 1       187.0  \n",
       "3            1          13  Instrument 2     40741.0  \n",
       "4            1          13  Instrument 3      8549.0  \n",
       "5            1          13  Instrument 4      1421.0  \n",
       "6            1          13  Instrument 5      4820.0  \n",
       "7            1          16  Instrument 2     10338.0  \n",
       "8            1          18  Instrument 1     15337.0  \n",
       "9            1          18  Instrument 2    212707.0  \n",
       "10           1          18  Instrument 3     18039.0  \n",
       "11           1          18  Instrument 4      6424.0  \n",
       "12           1          18  Instrument 5       672.0  \n",
       "13           1          18  Instrument 6       313.0  \n",
       "14           1          19  Instrument 1      1688.0  \n",
       "15           1          19  Instrument 2     12453.0  \n",
       "16           1          19  Instrument 7      2543.0  \n",
       "17           1           2  Instrument 1       188.0  \n",
       "18           1           2  Instrument 2      1864.0  \n",
       "19           1          20  Instrument 1      8826.0  \n",
       "20           1          20  Instrument 2    142957.0  \n",
       "21           1          20  Instrument 3    386041.0  \n",
       "22           1          20  Instrument 6      5454.0  \n",
       "23           1          20  Instrument 7     13429.0  \n",
       "24           1          20  Instrument 8     18207.0  \n",
       "25           1          28  Instrument 1       271.0  \n",
       "26           1          28  Instrument 2     13793.0  \n",
       "27           1          28  Instrument 3       658.0  \n",
       "28           1          28  Instrument 4       801.0  \n",
       "29           1          28  Instrument 5        23.0  \n",
       "30           1          28  Instrument 6      -376.0  \n",
       "31           1           3  Instrument 2      1212.0  \n",
       "32           1          34  Instrument 2       105.0  \n",
       "33           1          34  Instrument 3      2171.0  \n",
       "34           1          34  Instrument 4       384.0  \n",
       "35           1          35  Instrument 2     13028.0  \n",
       "36           1          37  Instrument 2     57370.0  \n",
       "37           1          37  Instrument 3      2160.0  \n",
       "38           1          37  Instrument 4       281.0  \n",
       "39           1          39  Instrument 4        42.0  "
      ]
     },
     "execution_count": 192,
     "metadata": {},
     "output_type": "execute_result"
    }
   ],
   "source": [
    "proj_rev_chck2_v4.head(40)"
   ]
  },
  {
   "cell_type": "code",
   "execution_count": 193,
   "metadata": {
    "collapsed": true
   },
   "outputs": [],
   "source": [
    "proj_rev_chck2_v4['Instrument_ID']=proj_rev_chck2_v4['Instrument_ID'].str.replace('Instrument ','')"
   ]
  },
  {
   "cell_type": "code",
   "execution_count": 194,
   "metadata": {
    "collapsed": false
   },
   "outputs": [
    {
     "data": {
      "text/html": [
       "<div>\n",
       "<table border=\"1\" class=\"dataframe\">\n",
       "  <thead>\n",
       "    <tr style=\"text-align: right;\">\n",
       "      <th></th>\n",
       "      <th>Region_ID</th>\n",
       "      <th>Key2</th>\n",
       "      <th>Annual_Projected_Revenue</th>\n",
       "      <th>Buy</th>\n",
       "      <th>Hospital_ID</th>\n",
       "      <th>District_ID</th>\n",
       "      <th>Instrument_ID</th>\n",
       "      <th>Year_Total</th>\n",
       "    </tr>\n",
       "  </thead>\n",
       "  <tbody>\n",
       "    <tr>\n",
       "      <th>0</th>\n",
       "      <td>1</td>\n",
       "      <td>Hospital 1District 12Instrument 2</td>\n",
       "      <td>0</td>\n",
       "      <td>0</td>\n",
       "      <td>1</td>\n",
       "      <td>12</td>\n",
       "      <td>2</td>\n",
       "      <td>103550.0</td>\n",
       "    </tr>\n",
       "    <tr>\n",
       "      <th>1</th>\n",
       "      <td>1</td>\n",
       "      <td>Hospital 1District 12Instrument 3</td>\n",
       "      <td>0</td>\n",
       "      <td>0</td>\n",
       "      <td>1</td>\n",
       "      <td>12</td>\n",
       "      <td>3</td>\n",
       "      <td>2562.0</td>\n",
       "    </tr>\n",
       "    <tr>\n",
       "      <th>2</th>\n",
       "      <td>1</td>\n",
       "      <td>Hospital 1District 13Instrument 1</td>\n",
       "      <td>0</td>\n",
       "      <td>0</td>\n",
       "      <td>1</td>\n",
       "      <td>13</td>\n",
       "      <td>1</td>\n",
       "      <td>187.0</td>\n",
       "    </tr>\n",
       "    <tr>\n",
       "      <th>3</th>\n",
       "      <td>1</td>\n",
       "      <td>Hospital 1District 13Instrument 2</td>\n",
       "      <td>17164</td>\n",
       "      <td>1</td>\n",
       "      <td>1</td>\n",
       "      <td>13</td>\n",
       "      <td>2</td>\n",
       "      <td>40741.0</td>\n",
       "    </tr>\n",
       "    <tr>\n",
       "      <th>4</th>\n",
       "      <td>1</td>\n",
       "      <td>Hospital 1District 13Instrument 3</td>\n",
       "      <td>655645</td>\n",
       "      <td>1</td>\n",
       "      <td>1</td>\n",
       "      <td>13</td>\n",
       "      <td>3</td>\n",
       "      <td>8549.0</td>\n",
       "    </tr>\n",
       "  </tbody>\n",
       "</table>\n",
       "</div>"
      ],
      "text/plain": [
       "  Region_ID                               Key2 Annual_Projected_Revenue Buy  \\\n",
       "0         1  Hospital 1District 12Instrument 2                        0   0   \n",
       "1         1  Hospital 1District 12Instrument 3                        0   0   \n",
       "2         1  Hospital 1District 13Instrument 1                        0   0   \n",
       "3         1  Hospital 1District 13Instrument 2                    17164   1   \n",
       "4         1  Hospital 1District 13Instrument 3                   655645   1   \n",
       "\n",
       "  Hospital_ID District_ID Instrument_ID  Year_Total  \n",
       "0           1          12             2    103550.0  \n",
       "1           1          12             3      2562.0  \n",
       "2           1          13             1       187.0  \n",
       "3           1          13             2     40741.0  \n",
       "4           1          13             3      8549.0  "
      ]
     },
     "execution_count": 194,
     "metadata": {},
     "output_type": "execute_result"
    }
   ],
   "source": [
    "proj_rev_chck2_v4.head()"
   ]
  },
  {
   "cell_type": "code",
   "execution_count": 195,
   "metadata": {
    "collapsed": true
   },
   "outputs": [],
   "source": [
    "from sklearn.cross_validation import train_test_split\n",
    "train1,test1=train_test_split(proj_rev_chck2_v4,test_size=0.2)"
   ]
  },
  {
   "cell_type": "code",
   "execution_count": 200,
   "metadata": {
    "collapsed": false
   },
   "outputs": [
    {
     "name": "stdout",
     "output_type": "stream",
     "text": [
      "<class 'pandas.core.frame.DataFrame'>\n",
      "Int64Index: 47397 entries, 0 to 47396\n",
      "Data columns (total 8 columns):\n",
      "Region_ID                   47397 non-null object\n",
      "Key2                        47397 non-null object\n",
      "Annual_Projected_Revenue    47397 non-null object\n",
      "Buy                         47397 non-null object\n",
      "Hospital_ID                 47397 non-null object\n",
      "District_ID                 47397 non-null object\n",
      "Instrument_ID               47397 non-null object\n",
      "Year_Total                  47397 non-null float64\n",
      "dtypes: float64(1), object(7)\n",
      "memory usage: 3.3+ MB\n"
     ]
    }
   ],
   "source": [
    "proj_rev_chck2_v4.info()"
   ]
  },
  {
   "cell_type": "code",
   "execution_count": 201,
   "metadata": {
    "collapsed": true
   },
   "outputs": [],
   "source": [
    "proj_rev_chck2_v4['Annual_Projected_Revenue']=proj_rev_chck2_v4['Annual_Projected_Revenue'].apply(pd.to_numeric, errors=('coerce'))"
   ]
  },
  {
   "cell_type": "code",
   "execution_count": 202,
   "metadata": {
    "collapsed": false
   },
   "outputs": [
    {
     "name": "stdout",
     "output_type": "stream",
     "text": [
      "<class 'pandas.core.frame.DataFrame'>\n",
      "Int64Index: 47397 entries, 0 to 47396\n",
      "Data columns (total 8 columns):\n",
      "Region_ID                   47397 non-null object\n",
      "Key2                        47397 non-null object\n",
      "Annual_Projected_Revenue    47397 non-null float64\n",
      "Buy                         47397 non-null object\n",
      "Hospital_ID                 47397 non-null object\n",
      "District_ID                 47397 non-null object\n",
      "Instrument_ID               47397 non-null object\n",
      "Year_Total                  47397 non-null float64\n",
      "dtypes: float64(2), object(6)\n",
      "memory usage: 3.3+ MB\n"
     ]
    }
   ],
   "source": [
    "proj_rev_chck2_v4.info()"
   ]
  },
  {
   "cell_type": "code",
   "execution_count": 203,
   "metadata": {
    "collapsed": true
   },
   "outputs": [],
   "source": [
    "proj_rev_chck2_v4['Buy']=proj_rev_chck2_v4['Buy'].apply(pd.to_numeric, errors=('coerce'))"
   ]
  },
  {
   "cell_type": "code",
   "execution_count": 204,
   "metadata": {
    "collapsed": false
   },
   "outputs": [
    {
     "name": "stdout",
     "output_type": "stream",
     "text": [
      "<class 'pandas.core.frame.DataFrame'>\n",
      "Int64Index: 47397 entries, 0 to 47396\n",
      "Data columns (total 8 columns):\n",
      "Region_ID                   47397 non-null object\n",
      "Key2                        47397 non-null object\n",
      "Annual_Projected_Revenue    47397 non-null float64\n",
      "Buy                         47397 non-null int64\n",
      "Hospital_ID                 47397 non-null object\n",
      "District_ID                 47397 non-null object\n",
      "Instrument_ID               47397 non-null object\n",
      "Year_Total                  47397 non-null float64\n",
      "dtypes: float64(2), int64(1), object(5)\n",
      "memory usage: 3.3+ MB\n"
     ]
    }
   ],
   "source": [
    "proj_rev_chck2_v4.info()"
   ]
  },
  {
   "cell_type": "code",
   "execution_count": 205,
   "metadata": {
    "collapsed": false
   },
   "outputs": [],
   "source": [
    "proj_rev_chck2_v4 = proj_rev_chck2_v4[((proj_rev_chck2_v4['Annual_Projected_Revenue'] - proj_rev_chck2_v4['Annual_Projected_Revenue'].mean())/proj_rev_chck2_v4['Annual_Projected_Revenue'].std()).abs()<3]"
   ]
  },
  {
   "cell_type": "code",
   "execution_count": 207,
   "metadata": {
    "collapsed": true
   },
   "outputs": [],
   "source": [
    "from sklearn.cross_validation import train_test_split\n",
    "train2,test2=train_test_split(proj_rev_chck2_v4,test_size=0.2)"
   ]
  },
  {
   "cell_type": "code",
   "execution_count": 209,
   "metadata": {
    "collapsed": false
   },
   "outputs": [
    {
     "name": "stderr",
     "output_type": "stream",
     "text": [
      "C:\\Users\\dell pc\\Anaconda2\\lib\\site-packages\\ipykernel\\__main__.py:1: SettingWithCopyWarning: \n",
      "A value is trying to be set on a copy of a slice from a DataFrame.\n",
      "Try using .loc[row_indexer,col_indexer] = value instead\n",
      "\n",
      "See the caveats in the documentation: http://pandas.pydata.org/pandas-docs/stable/indexing.html#indexing-view-versus-copy\n",
      "  if __name__ == '__main__':\n"
     ]
    }
   ],
   "source": [
    "train2['intercept'] = 1.0"
   ]
  },
  {
   "cell_type": "code",
   "execution_count": 210,
   "metadata": {
    "collapsed": false
   },
   "outputs": [
    {
     "data": {
      "text/html": [
       "<div>\n",
       "<table border=\"1\" class=\"dataframe\">\n",
       "  <thead>\n",
       "    <tr style=\"text-align: right;\">\n",
       "      <th></th>\n",
       "      <th>Region_ID</th>\n",
       "      <th>Key2</th>\n",
       "      <th>Annual_Projected_Revenue</th>\n",
       "      <th>Buy</th>\n",
       "      <th>Hospital_ID</th>\n",
       "      <th>District_ID</th>\n",
       "      <th>Instrument_ID</th>\n",
       "      <th>Year_Total</th>\n",
       "      <th>intercept</th>\n",
       "    </tr>\n",
       "  </thead>\n",
       "  <tbody>\n",
       "    <tr>\n",
       "      <th>5275</th>\n",
       "      <td>3</td>\n",
       "      <td>Hospital 1183District 13Instrument 8</td>\n",
       "      <td>0.0</td>\n",
       "      <td>0</td>\n",
       "      <td>1183</td>\n",
       "      <td>13</td>\n",
       "      <td>8</td>\n",
       "      <td>1631.0</td>\n",
       "      <td>1.0</td>\n",
       "    </tr>\n",
       "    <tr>\n",
       "      <th>38439</th>\n",
       "      <td>2</td>\n",
       "      <td>Hospital 814District 44Instrument 2</td>\n",
       "      <td>0.0</td>\n",
       "      <td>0</td>\n",
       "      <td>814</td>\n",
       "      <td>44</td>\n",
       "      <td>2</td>\n",
       "      <td>1293.0</td>\n",
       "      <td>1.0</td>\n",
       "    </tr>\n",
       "    <tr>\n",
       "      <th>40586</th>\n",
       "      <td>1</td>\n",
       "      <td>Hospital 89District 41Instrument 1</td>\n",
       "      <td>0.0</td>\n",
       "      <td>0</td>\n",
       "      <td>89</td>\n",
       "      <td>41</td>\n",
       "      <td>1</td>\n",
       "      <td>1272.0</td>\n",
       "      <td>1.0</td>\n",
       "    </tr>\n",
       "    <tr>\n",
       "      <th>7247</th>\n",
       "      <td>1</td>\n",
       "      <td>Hospital 1250District 37Instrument 2</td>\n",
       "      <td>0.0</td>\n",
       "      <td>0</td>\n",
       "      <td>1250</td>\n",
       "      <td>37</td>\n",
       "      <td>2</td>\n",
       "      <td>650.0</td>\n",
       "      <td>1.0</td>\n",
       "    </tr>\n",
       "    <tr>\n",
       "      <th>20247</th>\n",
       "      <td>1</td>\n",
       "      <td>Hospital 213District 20Instrument 1</td>\n",
       "      <td>0.0</td>\n",
       "      <td>0</td>\n",
       "      <td>213</td>\n",
       "      <td>20</td>\n",
       "      <td>1</td>\n",
       "      <td>14.0</td>\n",
       "      <td>1.0</td>\n",
       "    </tr>\n",
       "  </tbody>\n",
       "</table>\n",
       "</div>"
      ],
      "text/plain": [
       "      Region_ID                                  Key2  \\\n",
       "5275          3  Hospital 1183District 13Instrument 8   \n",
       "38439         2   Hospital 814District 44Instrument 2   \n",
       "40586         1    Hospital 89District 41Instrument 1   \n",
       "7247          1  Hospital 1250District 37Instrument 2   \n",
       "20247         1   Hospital 213District 20Instrument 1   \n",
       "\n",
       "       Annual_Projected_Revenue  Buy Hospital_ID District_ID Instrument_ID  \\\n",
       "5275                        0.0    0        1183          13             8   \n",
       "38439                       0.0    0         814          44             2   \n",
       "40586                       0.0    0          89          41             1   \n",
       "7247                        0.0    0        1250          37             2   \n",
       "20247                       0.0    0         213          20             1   \n",
       "\n",
       "       Year_Total  intercept  \n",
       "5275       1631.0        1.0  \n",
       "38439      1293.0        1.0  \n",
       "40586      1272.0        1.0  \n",
       "7247        650.0        1.0  \n",
       "20247        14.0        1.0  "
      ]
     },
     "execution_count": 210,
     "metadata": {},
     "output_type": "execute_result"
    }
   ],
   "source": [
    "train2.head()"
   ]
  },
  {
   "cell_type": "code",
   "execution_count": 212,
   "metadata": {
    "collapsed": false
   },
   "outputs": [
    {
     "name": "stdout",
     "output_type": "stream",
     "text": [
      "Warning: Maximum number of iterations has been exceeded.\n",
      "         Current function value: 0.000000\n",
      "         Iterations: 35\n",
      "                                Results: Logit\n",
      "===============================================================================\n",
      "Model:                   Logit                Pseudo R-squared:     1.000      \n",
      "Dependent Variable:      Buy                  AIC:                  14.0000    \n",
      "Date:                    2016-07-31 16:30     BIC:                  73.7729    \n",
      "No. Observations:        37759                Log-Likelihood:       -2.7327e-06\n",
      "Df Model:                6                    LL-Null:              -20769.    \n",
      "Df Residuals:            37752                LLR p-value:          0.0000     \n",
      "Converged:               0.0000               Scale:                1.0000     \n",
      "No. Iterations:          35.0000                                               \n",
      "-------------------------------------------------------------------------------\n",
      "                          Coef.    Std.Err.    z    P>|z|    [0.025     0.975] \n",
      "-------------------------------------------------------------------------------\n",
      "Hospital_ID               -0.0014    2.8772 -0.0005 0.9996    -5.6406    5.6377\n",
      "District_ID                0.0024   88.9757  0.0000 1.0000  -174.3866  174.3915\n",
      "Instrument_ID             -1.2346  687.7861 -0.0018 0.9986 -1349.2707 1346.8014\n",
      "Year_Total                -0.0000    0.0478 -0.0001 0.9999    -0.0936    0.0936\n",
      "Region_ID                  0.0741   56.3637  0.0013 0.9990  -110.3967  110.5448\n",
      "Annual_Projected_Revenue   0.4166   36.8244  0.0113 0.9910   -71.7578   72.5911\n",
      "intercept                -21.6140 3637.0051 -0.0059 0.9953 -7150.0129 7106.7849\n",
      "===============================================================================\n",
      "\n"
     ]
    },
    {
     "name": "stderr",
     "output_type": "stream",
     "text": [
      "C:\\Users\\dell pc\\Anaconda2\\lib\\site-packages\\statsmodels\\base\\model.py:466: ConvergenceWarning: Maximum Likelihood optimization failed to converge. Check mle_retvals\n",
      "  \"Check mle_retvals\", ConvergenceWarning)\n"
     ]
    }
   ],
   "source": [
    "train_cols = ['Hospital_ID','District_ID','Instrument_ID','Year_Total','Region_ID','Annual_Projected_Revenue']\n",
    "logit = sm.Logit(train2['Buy'].astype(float), train2[train_cols].astype(float))\n",
    "result = logit.fit()\n",
    "print result.summary2()"
   ]
  },
  {
   "cell_type": "code",
   "execution_count": 215,
   "metadata": {
    "collapsed": false
   },
   "outputs": [
    {
     "name": "stdout",
     "output_type": "stream",
     "text": [
      "Warning: Maximum number of iterations has been exceeded.\n",
      "         Current function value: 0.000000\n",
      "         Iterations: 35\n",
      "                               Results: Logit\n",
      "============================================================================\n",
      "Model:                  Logit               Pseudo R-squared:    1.000      \n",
      "Dependent Variable:     Buy                 AIC:                 12.0005    \n",
      "Date:                   2016-07-31 16:33    BIC:                 63.2343    \n",
      "No. Observations:       37759               Log-Likelihood:      -0.00022708\n",
      "Df Model:               5                   LL-Null:             -20769.    \n",
      "Df Residuals:           37753               LLR p-value:         0.0000     \n",
      "Converged:              0.0000              Scale:               1.0000     \n",
      "No. Iterations:         35.0000                                             \n",
      "----------------------------------------------------------------------------\n",
      "                          Coef.   Std.Err.    z    P>|z|    [0.025   0.975] \n",
      "----------------------------------------------------------------------------\n",
      "Hospital_ID               -0.0074   0.5158 -0.0143 0.9886   -1.0183   1.0036\n",
      "District_ID               -0.2205  11.9376 -0.0185 0.9853  -23.6178  23.1767\n",
      "Instrument_ID             -1.1258 115.5751 -0.0097 0.9922 -227.6487 225.3972\n",
      "Year_Total                -0.0000   0.0045 -0.0027 0.9979   -0.0088   0.0088\n",
      "Annual_Projected_Revenue   0.4886  17.1763  0.0284 0.9773  -33.1763  34.1536\n",
      "intercept                -11.1111 202.7987 -0.0548 0.9563 -408.5894 386.3671\n",
      "============================================================================\n",
      "\n"
     ]
    },
    {
     "name": "stderr",
     "output_type": "stream",
     "text": [
      "C:\\Users\\dell pc\\Anaconda2\\lib\\site-packages\\statsmodels\\base\\model.py:466: ConvergenceWarning: Maximum Likelihood optimization failed to converge. Check mle_retvals\n",
      "  \"Check mle_retvals\", ConvergenceWarning)\n"
     ]
    }
   ],
   "source": [
    "train_cols1 = ['Hospital_ID','District_ID','Instrument_ID','Year_Total','Annual_Projected_Revenue','intercept']\n",
    "logit1 = sm.Logit(train2['Buy'].astype(float), train2[train_cols1].astype(float))\n",
    "result1 = logit1.fit()\n",
    "print result1.summary2()"
   ]
  },
  {
   "cell_type": "code",
   "execution_count": 216,
   "metadata": {
    "collapsed": false
   },
   "outputs": [
    {
     "name": "stdout",
     "output_type": "stream",
     "text": [
      "Warning: Maximum number of iterations has been exceeded.\n",
      "         Current function value: 0.000000\n",
      "         Iterations: 35\n",
      "                               Results: Logit\n",
      "============================================================================\n",
      "Model:                  Logit               Pseudo R-squared:    1.000      \n",
      "Dependent Variable:     Buy                 AIC:                 12.0005    \n",
      "Date:                   2016-07-31 16:34    BIC:                 63.2343    \n",
      "No. Observations:       37759               Log-Likelihood:      -0.00022708\n",
      "Df Model:               5                   LL-Null:             -20769.    \n",
      "Df Residuals:           37753               LLR p-value:         0.0000     \n",
      "Converged:              0.0000              Scale:               1.0000     \n",
      "No. Iterations:         35.0000                                             \n",
      "----------------------------------------------------------------------------\n",
      "                          Coef.   Std.Err.    z    P>|z|    [0.025   0.975] \n",
      "----------------------------------------------------------------------------\n",
      "Hospital_ID               -0.0074   0.5158 -0.0143 0.9886   -1.0183   1.0036\n",
      "District_ID               -0.2205  11.9376 -0.0185 0.9853  -23.6178  23.1767\n",
      "Instrument_ID             -1.1258 115.5751 -0.0097 0.9922 -227.6487 225.3972\n",
      "Year_Total                -0.0000   0.0045 -0.0027 0.9979   -0.0088   0.0088\n",
      "Annual_Projected_Revenue   0.4886  17.1763  0.0284 0.9773  -33.1763  34.1536\n",
      "intercept                -11.1111 202.7987 -0.0548 0.9563 -408.5894 386.3671\n",
      "============================================================================\n",
      "\n"
     ]
    },
    {
     "name": "stderr",
     "output_type": "stream",
     "text": [
      "C:\\Users\\dell pc\\Anaconda2\\lib\\site-packages\\statsmodels\\base\\model.py:466: ConvergenceWarning: Maximum Likelihood optimization failed to converge. Check mle_retvals\n",
      "  \"Check mle_retvals\", ConvergenceWarning)\n"
     ]
    }
   ],
   "source": [
    "train_cols2 = ['Hospital_ID','Instrument_ID','Year_Total','Annual_Projected_Revenue','intercept']\n",
    "logit2 = sm.Logit(train2['Buy'].astype(float), train2[train_cols2].astype(float))\n",
    "result2 = logit1.fit()\n",
    "print result2.summary2()"
   ]
  },
  {
   "cell_type": "code",
   "execution_count": 217,
   "metadata": {
    "collapsed": false
   },
   "outputs": [
    {
     "data": {
      "text/html": [
       "<div>\n",
       "<table border=\"1\" class=\"dataframe\">\n",
       "  <thead>\n",
       "    <tr style=\"text-align: right;\">\n",
       "      <th></th>\n",
       "      <th>Hospital_ID</th>\n",
       "      <th>Region_ID</th>\n",
       "      <th>District_ID</th>\n",
       "      <th>Instrument_ID</th>\n",
       "      <th>Year Total</th>\n",
       "      <th>Hospital_employees</th>\n",
       "    </tr>\n",
       "  </thead>\n",
       "  <tbody>\n",
       "    <tr>\n",
       "      <th>0</th>\n",
       "      <td>1</td>\n",
       "      <td>1</td>\n",
       "      <td>12</td>\n",
       "      <td>2</td>\n",
       "      <td>103550</td>\n",
       "      <td>3.0</td>\n",
       "    </tr>\n",
       "    <tr>\n",
       "      <th>1</th>\n",
       "      <td>1</td>\n",
       "      <td>1</td>\n",
       "      <td>12</td>\n",
       "      <td>3</td>\n",
       "      <td>2562</td>\n",
       "      <td>3.0</td>\n",
       "    </tr>\n",
       "    <tr>\n",
       "      <th>2</th>\n",
       "      <td>1</td>\n",
       "      <td>1</td>\n",
       "      <td>13</td>\n",
       "      <td>1</td>\n",
       "      <td>187</td>\n",
       "      <td>6.0</td>\n",
       "    </tr>\n",
       "    <tr>\n",
       "      <th>3</th>\n",
       "      <td>1</td>\n",
       "      <td>1</td>\n",
       "      <td>13</td>\n",
       "      <td>2</td>\n",
       "      <td>40741</td>\n",
       "      <td>6.0</td>\n",
       "    </tr>\n",
       "    <tr>\n",
       "      <th>4</th>\n",
       "      <td>1</td>\n",
       "      <td>1</td>\n",
       "      <td>13</td>\n",
       "      <td>3</td>\n",
       "      <td>8549</td>\n",
       "      <td>6.0</td>\n",
       "    </tr>\n",
       "  </tbody>\n",
       "</table>\n",
       "</div>"
      ],
      "text/plain": [
       "  Hospital_ID Region_ID District_ID Instrument_ID  Year Total  \\\n",
       "0           1         1          12             2      103550   \n",
       "1           1         1          12             3        2562   \n",
       "2           1         1          13             1         187   \n",
       "3           1         1          13             2       40741   \n",
       "4           1         1          13             3        8549   \n",
       "\n",
       "   Hospital_employees  \n",
       "0                 3.0  \n",
       "1                 3.0  \n",
       "2                 6.0  \n",
       "3                 6.0  \n",
       "4                 6.0  "
      ]
     },
     "execution_count": 217,
     "metadata": {},
     "output_type": "execute_result"
    }
   ],
   "source": [
    "fin_df_v2.head()"
   ]
  },
  {
   "cell_type": "code",
   "execution_count": 218,
   "metadata": {
    "collapsed": false
   },
   "outputs": [
    {
     "name": "stdout",
     "output_type": "stream",
     "text": [
      "<class 'pandas.core.frame.DataFrame'>\n",
      "Int64Index: 49031 entries, 0 to 49030\n",
      "Data columns (total 6 columns):\n",
      "Hospital_ID           49031 non-null object\n",
      "Region_ID             49031 non-null object\n",
      "District_ID           49031 non-null object\n",
      "Instrument_ID         49031 non-null object\n",
      "Year Total            49031 non-null int64\n",
      "Hospital_employees    36243 non-null float64\n",
      "dtypes: float64(1), int64(1), object(4)\n",
      "memory usage: 2.6+ MB\n"
     ]
    }
   ],
   "source": [
    "fin_df_v1.info()"
   ]
  },
  {
   "cell_type": "code",
   "execution_count": 219,
   "metadata": {
    "collapsed": false
   },
   "outputs": [
    {
     "data": {
      "text/html": [
       "<div>\n",
       "<table border=\"1\" class=\"dataframe\">\n",
       "  <thead>\n",
       "    <tr style=\"text-align: right;\">\n",
       "      <th></th>\n",
       "      <th>Year Total</th>\n",
       "      <th>Hospital_employees</th>\n",
       "    </tr>\n",
       "  </thead>\n",
       "  <tbody>\n",
       "    <tr>\n",
       "      <th>count</th>\n",
       "      <td>49031.000000</td>\n",
       "      <td>36243.000000</td>\n",
       "    </tr>\n",
       "    <tr>\n",
       "      <th>mean</th>\n",
       "      <td>21340.439824</td>\n",
       "      <td>979.281765</td>\n",
       "    </tr>\n",
       "    <tr>\n",
       "      <th>std</th>\n",
       "      <td>64160.070979</td>\n",
       "      <td>4583.174972</td>\n",
       "    </tr>\n",
       "    <tr>\n",
       "      <th>min</th>\n",
       "      <td>-514967.000000</td>\n",
       "      <td>1.000000</td>\n",
       "    </tr>\n",
       "    <tr>\n",
       "      <th>25%</th>\n",
       "      <td>260.000000</td>\n",
       "      <td>NaN</td>\n",
       "    </tr>\n",
       "    <tr>\n",
       "      <th>50%</th>\n",
       "      <td>1954.000000</td>\n",
       "      <td>NaN</td>\n",
       "    </tr>\n",
       "    <tr>\n",
       "      <th>75%</th>\n",
       "      <td>12122.000000</td>\n",
       "      <td>NaN</td>\n",
       "    </tr>\n",
       "    <tr>\n",
       "      <th>max</th>\n",
       "      <td>664055.000000</td>\n",
       "      <td>151043.000000</td>\n",
       "    </tr>\n",
       "  </tbody>\n",
       "</table>\n",
       "</div>"
      ],
      "text/plain": [
       "          Year Total  Hospital_employees\n",
       "count   49031.000000        36243.000000\n",
       "mean    21340.439824          979.281765\n",
       "std     64160.070979         4583.174972\n",
       "min   -514967.000000            1.000000\n",
       "25%       260.000000                 NaN\n",
       "50%      1954.000000                 NaN\n",
       "75%     12122.000000                 NaN\n",
       "max    664055.000000       151043.000000"
      ]
     },
     "execution_count": 219,
     "metadata": {},
     "output_type": "execute_result"
    }
   ],
   "source": [
    "fin_df_v1.describe()"
   ]
  },
  {
   "cell_type": "code",
   "execution_count": 220,
   "metadata": {
    "collapsed": false
   },
   "outputs": [
    {
     "data": {
      "text/html": [
       "<div>\n",
       "<table border=\"1\" class=\"dataframe\">\n",
       "  <thead>\n",
       "    <tr style=\"text-align: right;\">\n",
       "      <th></th>\n",
       "      <th>Hospital_ID</th>\n",
       "      <th>Region_ID</th>\n",
       "      <th>District_ID</th>\n",
       "      <th>Instrument_ID</th>\n",
       "      <th>Year Total</th>\n",
       "      <th>Hospital_employees</th>\n",
       "    </tr>\n",
       "  </thead>\n",
       "  <tbody>\n",
       "    <tr>\n",
       "      <th>0</th>\n",
       "      <td>1</td>\n",
       "      <td>1</td>\n",
       "      <td>12</td>\n",
       "      <td>2</td>\n",
       "      <td>103550</td>\n",
       "      <td>3.0</td>\n",
       "    </tr>\n",
       "    <tr>\n",
       "      <th>1</th>\n",
       "      <td>1</td>\n",
       "      <td>1</td>\n",
       "      <td>12</td>\n",
       "      <td>3</td>\n",
       "      <td>2562</td>\n",
       "      <td>3.0</td>\n",
       "    </tr>\n",
       "    <tr>\n",
       "      <th>2</th>\n",
       "      <td>1</td>\n",
       "      <td>1</td>\n",
       "      <td>13</td>\n",
       "      <td>1</td>\n",
       "      <td>187</td>\n",
       "      <td>6.0</td>\n",
       "    </tr>\n",
       "    <tr>\n",
       "      <th>3</th>\n",
       "      <td>1</td>\n",
       "      <td>1</td>\n",
       "      <td>13</td>\n",
       "      <td>2</td>\n",
       "      <td>40741</td>\n",
       "      <td>6.0</td>\n",
       "    </tr>\n",
       "    <tr>\n",
       "      <th>4</th>\n",
       "      <td>1</td>\n",
       "      <td>1</td>\n",
       "      <td>13</td>\n",
       "      <td>3</td>\n",
       "      <td>8549</td>\n",
       "      <td>6.0</td>\n",
       "    </tr>\n",
       "  </tbody>\n",
       "</table>\n",
       "</div>"
      ],
      "text/plain": [
       "  Hospital_ID Region_ID District_ID Instrument_ID  Year Total  \\\n",
       "0           1         1          12             2      103550   \n",
       "1           1         1          12             3        2562   \n",
       "2           1         1          13             1         187   \n",
       "3           1         1          13             2       40741   \n",
       "4           1         1          13             3        8549   \n",
       "\n",
       "   Hospital_employees  \n",
       "0                 3.0  \n",
       "1                 3.0  \n",
       "2                 6.0  \n",
       "3                 6.0  \n",
       "4                 6.0  "
      ]
     },
     "execution_count": 220,
     "metadata": {},
     "output_type": "execute_result"
    }
   ],
   "source": [
    "fin_df_v1.head()"
   ]
  },
  {
   "cell_type": "code",
   "execution_count": 221,
   "metadata": {
    "collapsed": false
   },
   "outputs": [
    {
     "data": {
      "text/html": [
       "<div>\n",
       "<table border=\"1\" class=\"dataframe\">\n",
       "  <thead>\n",
       "    <tr style=\"text-align: right;\">\n",
       "      <th></th>\n",
       "      <th>Hospital_ID_x</th>\n",
       "      <th>Region_ID</th>\n",
       "      <th>District_ID_x</th>\n",
       "      <th>Instrument_ID_x</th>\n",
       "      <th>Year Total</th>\n",
       "      <th>Key</th>\n",
       "      <th>Key2</th>\n",
       "      <th>Hospital_ID_y</th>\n",
       "      <th>District_ID_y</th>\n",
       "      <th>Instrument_ID_y</th>\n",
       "      <th>Annual_Projected_Revenue</th>\n",
       "      <th>Buy</th>\n",
       "      <th>Hospital_ID</th>\n",
       "      <th>District_ID</th>\n",
       "      <th>Instrument_ID</th>\n",
       "    </tr>\n",
       "  </thead>\n",
       "  <tbody>\n",
       "    <tr>\n",
       "      <th>0</th>\n",
       "      <td>1</td>\n",
       "      <td>1</td>\n",
       "      <td>12</td>\n",
       "      <td>Instrument 2</td>\n",
       "      <td>103550.0</td>\n",
       "      <td>Hospital 1District 12</td>\n",
       "      <td>Hospital 1District 12Instrument 2</td>\n",
       "      <td>NaN</td>\n",
       "      <td>NaN</td>\n",
       "      <td>NaN</td>\n",
       "      <td>0</td>\n",
       "      <td>0</td>\n",
       "      <td>1</td>\n",
       "      <td>12</td>\n",
       "      <td>Instrument 2</td>\n",
       "    </tr>\n",
       "    <tr>\n",
       "      <th>1</th>\n",
       "      <td>1</td>\n",
       "      <td>1</td>\n",
       "      <td>12</td>\n",
       "      <td>Instrument 3</td>\n",
       "      <td>2562.0</td>\n",
       "      <td>Hospital 1District 12</td>\n",
       "      <td>Hospital 1District 12Instrument 3</td>\n",
       "      <td>NaN</td>\n",
       "      <td>NaN</td>\n",
       "      <td>NaN</td>\n",
       "      <td>0</td>\n",
       "      <td>0</td>\n",
       "      <td>1</td>\n",
       "      <td>12</td>\n",
       "      <td>Instrument 3</td>\n",
       "    </tr>\n",
       "    <tr>\n",
       "      <th>2</th>\n",
       "      <td>1</td>\n",
       "      <td>1</td>\n",
       "      <td>13</td>\n",
       "      <td>Instrument 1</td>\n",
       "      <td>187.0</td>\n",
       "      <td>Hospital 1District 13</td>\n",
       "      <td>Hospital 1District 13Instrument 1</td>\n",
       "      <td>NaN</td>\n",
       "      <td>NaN</td>\n",
       "      <td>NaN</td>\n",
       "      <td>0</td>\n",
       "      <td>0</td>\n",
       "      <td>1</td>\n",
       "      <td>13</td>\n",
       "      <td>Instrument 1</td>\n",
       "    </tr>\n",
       "    <tr>\n",
       "      <th>3</th>\n",
       "      <td>1</td>\n",
       "      <td>1</td>\n",
       "      <td>13</td>\n",
       "      <td>Instrument 2</td>\n",
       "      <td>40741.0</td>\n",
       "      <td>Hospital 1District 13</td>\n",
       "      <td>Hospital 1District 13Instrument 2</td>\n",
       "      <td>Hospital 1</td>\n",
       "      <td>District 13</td>\n",
       "      <td>Instrument 2</td>\n",
       "      <td>17164</td>\n",
       "      <td>1</td>\n",
       "      <td>1</td>\n",
       "      <td>13</td>\n",
       "      <td>Instrument 2</td>\n",
       "    </tr>\n",
       "    <tr>\n",
       "      <th>4</th>\n",
       "      <td>1</td>\n",
       "      <td>1</td>\n",
       "      <td>13</td>\n",
       "      <td>Instrument 3</td>\n",
       "      <td>8549.0</td>\n",
       "      <td>Hospital 1District 13</td>\n",
       "      <td>Hospital 1District 13Instrument 3</td>\n",
       "      <td>Hospital 1</td>\n",
       "      <td>District 13</td>\n",
       "      <td>Instrument 3</td>\n",
       "      <td>655645</td>\n",
       "      <td>1</td>\n",
       "      <td>1</td>\n",
       "      <td>13</td>\n",
       "      <td>Instrument 3</td>\n",
       "    </tr>\n",
       "  </tbody>\n",
       "</table>\n",
       "</div>"
      ],
      "text/plain": [
       "  Hospital_ID_x Region_ID District_ID_x Instrument_ID_x  Year Total  \\\n",
       "0             1         1            12    Instrument 2    103550.0   \n",
       "1             1         1            12    Instrument 3      2562.0   \n",
       "2             1         1            13    Instrument 1       187.0   \n",
       "3             1         1            13    Instrument 2     40741.0   \n",
       "4             1         1            13    Instrument 3      8549.0   \n",
       "\n",
       "                     Key                               Key2 Hospital_ID_y  \\\n",
       "0  Hospital 1District 12  Hospital 1District 12Instrument 2           NaN   \n",
       "1  Hospital 1District 12  Hospital 1District 12Instrument 3           NaN   \n",
       "2  Hospital 1District 13  Hospital 1District 13Instrument 1           NaN   \n",
       "3  Hospital 1District 13  Hospital 1District 13Instrument 2    Hospital 1   \n",
       "4  Hospital 1District 13  Hospital 1District 13Instrument 3    Hospital 1   \n",
       "\n",
       "  District_ID_y Instrument_ID_y Annual_Projected_Revenue Buy Hospital_ID  \\\n",
       "0           NaN             NaN                        0   0           1   \n",
       "1           NaN             NaN                        0   0           1   \n",
       "2           NaN             NaN                        0   0           1   \n",
       "3   District 13    Instrument 2                    17164   1           1   \n",
       "4   District 13    Instrument 3                   655645   1           1   \n",
       "\n",
       "  District_ID Instrument_ID  \n",
       "0          12  Instrument 2  \n",
       "1          12  Instrument 3  \n",
       "2          13  Instrument 1  \n",
       "3          13  Instrument 2  \n",
       "4          13  Instrument 3  "
      ]
     },
     "execution_count": 221,
     "metadata": {},
     "output_type": "execute_result"
    }
   ],
   "source": [
    "proj_rev_chck2_v3.head()"
   ]
  },
  {
   "cell_type": "code",
   "execution_count": 223,
   "metadata": {
    "collapsed": true
   },
   "outputs": [],
   "source": [
    "proj_rev_all = proj_rev_chck2_v3.copy()"
   ]
  },
  {
   "cell_type": "code",
   "execution_count": 230,
   "metadata": {
    "collapsed": true
   },
   "outputs": [],
   "source": [
    "proj_rev_all_features = proj_rev_all.merge(df_for_merge,how='left',on='Key')"
   ]
  },
  {
   "cell_type": "code",
   "execution_count": 232,
   "metadata": {
    "collapsed": false
   },
   "outputs": [
    {
     "data": {
      "text/html": [
       "<div>\n",
       "<table border=\"1\" class=\"dataframe\">\n",
       "  <thead>\n",
       "    <tr style=\"text-align: right;\">\n",
       "      <th></th>\n",
       "      <th>Region_ID</th>\n",
       "      <th>Key2</th>\n",
       "      <th>Annual_Projected_Revenue</th>\n",
       "      <th>Buy</th>\n",
       "      <th>Hospital_ID</th>\n",
       "      <th>District_ID</th>\n",
       "      <th>Instrument_ID</th>\n",
       "      <th>Year_Total</th>\n",
       "    </tr>\n",
       "  </thead>\n",
       "  <tbody>\n",
       "    <tr>\n",
       "      <th>0</th>\n",
       "      <td>1</td>\n",
       "      <td>Hospital 1District 12Instrument 2</td>\n",
       "      <td>0.0</td>\n",
       "      <td>0</td>\n",
       "      <td>1</td>\n",
       "      <td>12</td>\n",
       "      <td>2</td>\n",
       "      <td>103550.0</td>\n",
       "    </tr>\n",
       "    <tr>\n",
       "      <th>1</th>\n",
       "      <td>1</td>\n",
       "      <td>Hospital 1District 12Instrument 3</td>\n",
       "      <td>0.0</td>\n",
       "      <td>0</td>\n",
       "      <td>1</td>\n",
       "      <td>12</td>\n",
       "      <td>3</td>\n",
       "      <td>2562.0</td>\n",
       "    </tr>\n",
       "    <tr>\n",
       "      <th>2</th>\n",
       "      <td>1</td>\n",
       "      <td>Hospital 1District 13Instrument 1</td>\n",
       "      <td>0.0</td>\n",
       "      <td>0</td>\n",
       "      <td>1</td>\n",
       "      <td>13</td>\n",
       "      <td>1</td>\n",
       "      <td>187.0</td>\n",
       "    </tr>\n",
       "    <tr>\n",
       "      <th>3</th>\n",
       "      <td>1</td>\n",
       "      <td>Hospital 1District 13Instrument 2</td>\n",
       "      <td>17164.0</td>\n",
       "      <td>1</td>\n",
       "      <td>1</td>\n",
       "      <td>13</td>\n",
       "      <td>2</td>\n",
       "      <td>40741.0</td>\n",
       "    </tr>\n",
       "    <tr>\n",
       "      <th>4</th>\n",
       "      <td>1</td>\n",
       "      <td>Hospital 1District 13Instrument 3</td>\n",
       "      <td>655645.0</td>\n",
       "      <td>1</td>\n",
       "      <td>1</td>\n",
       "      <td>13</td>\n",
       "      <td>3</td>\n",
       "      <td>8549.0</td>\n",
       "    </tr>\n",
       "  </tbody>\n",
       "</table>\n",
       "</div>"
      ],
      "text/plain": [
       "  Region_ID                               Key2  Annual_Projected_Revenue  Buy  \\\n",
       "0         1  Hospital 1District 12Instrument 2                       0.0    0   \n",
       "1         1  Hospital 1District 12Instrument 3                       0.0    0   \n",
       "2         1  Hospital 1District 13Instrument 1                       0.0    0   \n",
       "3         1  Hospital 1District 13Instrument 2                   17164.0    1   \n",
       "4         1  Hospital 1District 13Instrument 3                  655645.0    1   \n",
       "\n",
       "  Hospital_ID District_ID Instrument_ID  Year_Total  \n",
       "0           1          12             2    103550.0  \n",
       "1           1          12             3      2562.0  \n",
       "2           1          13             1       187.0  \n",
       "3           1          13             2     40741.0  \n",
       "4           1          13             3      8549.0  "
      ]
     },
     "execution_count": 232,
     "metadata": {},
     "output_type": "execute_result"
    }
   ],
   "source": [
    "proj_rev_chck2_v4.head()"
   ]
  },
  {
   "cell_type": "code",
   "execution_count": 233,
   "metadata": {
    "collapsed": true
   },
   "outputs": [],
   "source": [
    "zs_1 = proj_rev_chck2_v4.copy()"
   ]
  },
  {
   "cell_type": "code",
   "execution_count": 235,
   "metadata": {
    "collapsed": false
   },
   "outputs": [],
   "source": [
    "zs_1['Key']=zs_1['Key2'].replace(to_replace='Instrument \\d+',value='',regex=True)"
   ]
  },
  {
   "cell_type": "code",
   "execution_count": 236,
   "metadata": {
    "collapsed": false
   },
   "outputs": [
    {
     "data": {
      "text/html": [
       "<div>\n",
       "<table border=\"1\" class=\"dataframe\">\n",
       "  <thead>\n",
       "    <tr style=\"text-align: right;\">\n",
       "      <th></th>\n",
       "      <th>Region_ID</th>\n",
       "      <th>Key2</th>\n",
       "      <th>Annual_Projected_Revenue</th>\n",
       "      <th>Buy</th>\n",
       "      <th>Hospital_ID</th>\n",
       "      <th>District_ID</th>\n",
       "      <th>Instrument_ID</th>\n",
       "      <th>Year_Total</th>\n",
       "      <th>Key</th>\n",
       "    </tr>\n",
       "  </thead>\n",
       "  <tbody>\n",
       "    <tr>\n",
       "      <th>0</th>\n",
       "      <td>1</td>\n",
       "      <td>Hospital 1District 12Instrument 2</td>\n",
       "      <td>0.0</td>\n",
       "      <td>0</td>\n",
       "      <td>1</td>\n",
       "      <td>12</td>\n",
       "      <td>2</td>\n",
       "      <td>103550.0</td>\n",
       "      <td>Hospital 1District 12</td>\n",
       "    </tr>\n",
       "    <tr>\n",
       "      <th>1</th>\n",
       "      <td>1</td>\n",
       "      <td>Hospital 1District 12Instrument 3</td>\n",
       "      <td>0.0</td>\n",
       "      <td>0</td>\n",
       "      <td>1</td>\n",
       "      <td>12</td>\n",
       "      <td>3</td>\n",
       "      <td>2562.0</td>\n",
       "      <td>Hospital 1District 12</td>\n",
       "    </tr>\n",
       "    <tr>\n",
       "      <th>2</th>\n",
       "      <td>1</td>\n",
       "      <td>Hospital 1District 13Instrument 1</td>\n",
       "      <td>0.0</td>\n",
       "      <td>0</td>\n",
       "      <td>1</td>\n",
       "      <td>13</td>\n",
       "      <td>1</td>\n",
       "      <td>187.0</td>\n",
       "      <td>Hospital 1District 13</td>\n",
       "    </tr>\n",
       "    <tr>\n",
       "      <th>3</th>\n",
       "      <td>1</td>\n",
       "      <td>Hospital 1District 13Instrument 2</td>\n",
       "      <td>17164.0</td>\n",
       "      <td>1</td>\n",
       "      <td>1</td>\n",
       "      <td>13</td>\n",
       "      <td>2</td>\n",
       "      <td>40741.0</td>\n",
       "      <td>Hospital 1District 13</td>\n",
       "    </tr>\n",
       "    <tr>\n",
       "      <th>4</th>\n",
       "      <td>1</td>\n",
       "      <td>Hospital 1District 13Instrument 3</td>\n",
       "      <td>655645.0</td>\n",
       "      <td>1</td>\n",
       "      <td>1</td>\n",
       "      <td>13</td>\n",
       "      <td>3</td>\n",
       "      <td>8549.0</td>\n",
       "      <td>Hospital 1District 13</td>\n",
       "    </tr>\n",
       "  </tbody>\n",
       "</table>\n",
       "</div>"
      ],
      "text/plain": [
       "  Region_ID                               Key2  Annual_Projected_Revenue  Buy  \\\n",
       "0         1  Hospital 1District 12Instrument 2                       0.0    0   \n",
       "1         1  Hospital 1District 12Instrument 3                       0.0    0   \n",
       "2         1  Hospital 1District 13Instrument 1                       0.0    0   \n",
       "3         1  Hospital 1District 13Instrument 2                   17164.0    1   \n",
       "4         1  Hospital 1District 13Instrument 3                  655645.0    1   \n",
       "\n",
       "  Hospital_ID District_ID Instrument_ID  Year_Total                    Key  \n",
       "0           1          12             2    103550.0  Hospital 1District 12  \n",
       "1           1          12             3      2562.0  Hospital 1District 12  \n",
       "2           1          13             1       187.0  Hospital 1District 13  \n",
       "3           1          13             2     40741.0  Hospital 1District 13  \n",
       "4           1          13             3      8549.0  Hospital 1District 13  "
      ]
     },
     "execution_count": 236,
     "metadata": {},
     "output_type": "execute_result"
    }
   ],
   "source": [
    "zs_1.head()"
   ]
  },
  {
   "cell_type": "code",
   "execution_count": 237,
   "metadata": {
    "collapsed": false
   },
   "outputs": [
    {
     "name": "stdout",
     "output_type": "stream",
     "text": [
      "Region_ID                   0\n",
      "Key2                        0\n",
      "Annual_Projected_Revenue    0\n",
      "Buy                         0\n",
      "Hospital_ID                 0\n",
      "District_ID                 0\n",
      "Instrument_ID               0\n",
      "Year_Total                  0\n",
      "Key                         0\n",
      "dtype: int64\n"
     ]
    }
   ],
   "source": [
    "print zs_1.apply(num_missing, axis=0)"
   ]
  },
  {
   "cell_type": "code",
   "execution_count": 238,
   "metadata": {
    "collapsed": true
   },
   "outputs": [],
   "source": [
    "zs_2 = zs_1.merge(df_for_merge,how='left',on='Key')"
   ]
  },
  {
   "cell_type": "code",
   "execution_count": 239,
   "metadata": {
    "collapsed": false
   },
   "outputs": [
    {
     "data": {
      "text/html": [
       "<div>\n",
       "<table border=\"1\" class=\"dataframe\">\n",
       "  <thead>\n",
       "    <tr style=\"text-align: right;\">\n",
       "      <th></th>\n",
       "      <th>Region_ID</th>\n",
       "      <th>Key2</th>\n",
       "      <th>Annual_Projected_Revenue</th>\n",
       "      <th>Buy</th>\n",
       "      <th>Hospital_ID</th>\n",
       "      <th>District_ID</th>\n",
       "      <th>Instrument_ID</th>\n",
       "      <th>Year_Total</th>\n",
       "      <th>Key</th>\n",
       "      <th>Hospital_employees</th>\n",
       "    </tr>\n",
       "  </thead>\n",
       "  <tbody>\n",
       "    <tr>\n",
       "      <th>0</th>\n",
       "      <td>1</td>\n",
       "      <td>Hospital 1District 12Instrument 2</td>\n",
       "      <td>0.0</td>\n",
       "      <td>0</td>\n",
       "      <td>1</td>\n",
       "      <td>12</td>\n",
       "      <td>2</td>\n",
       "      <td>103550.0</td>\n",
       "      <td>Hospital 1District 12</td>\n",
       "      <td>3.0</td>\n",
       "    </tr>\n",
       "    <tr>\n",
       "      <th>1</th>\n",
       "      <td>1</td>\n",
       "      <td>Hospital 1District 12Instrument 3</td>\n",
       "      <td>0.0</td>\n",
       "      <td>0</td>\n",
       "      <td>1</td>\n",
       "      <td>12</td>\n",
       "      <td>3</td>\n",
       "      <td>2562.0</td>\n",
       "      <td>Hospital 1District 12</td>\n",
       "      <td>3.0</td>\n",
       "    </tr>\n",
       "    <tr>\n",
       "      <th>2</th>\n",
       "      <td>1</td>\n",
       "      <td>Hospital 1District 13Instrument 1</td>\n",
       "      <td>0.0</td>\n",
       "      <td>0</td>\n",
       "      <td>1</td>\n",
       "      <td>13</td>\n",
       "      <td>1</td>\n",
       "      <td>187.0</td>\n",
       "      <td>Hospital 1District 13</td>\n",
       "      <td>6.0</td>\n",
       "    </tr>\n",
       "    <tr>\n",
       "      <th>3</th>\n",
       "      <td>1</td>\n",
       "      <td>Hospital 1District 13Instrument 2</td>\n",
       "      <td>17164.0</td>\n",
       "      <td>1</td>\n",
       "      <td>1</td>\n",
       "      <td>13</td>\n",
       "      <td>2</td>\n",
       "      <td>40741.0</td>\n",
       "      <td>Hospital 1District 13</td>\n",
       "      <td>6.0</td>\n",
       "    </tr>\n",
       "    <tr>\n",
       "      <th>4</th>\n",
       "      <td>1</td>\n",
       "      <td>Hospital 1District 13Instrument 3</td>\n",
       "      <td>655645.0</td>\n",
       "      <td>1</td>\n",
       "      <td>1</td>\n",
       "      <td>13</td>\n",
       "      <td>3</td>\n",
       "      <td>8549.0</td>\n",
       "      <td>Hospital 1District 13</td>\n",
       "      <td>6.0</td>\n",
       "    </tr>\n",
       "  </tbody>\n",
       "</table>\n",
       "</div>"
      ],
      "text/plain": [
       "  Region_ID                               Key2  Annual_Projected_Revenue  Buy  \\\n",
       "0         1  Hospital 1District 12Instrument 2                       0.0    0   \n",
       "1         1  Hospital 1District 12Instrument 3                       0.0    0   \n",
       "2         1  Hospital 1District 13Instrument 1                       0.0    0   \n",
       "3         1  Hospital 1District 13Instrument 2                   17164.0    1   \n",
       "4         1  Hospital 1District 13Instrument 3                  655645.0    1   \n",
       "\n",
       "  Hospital_ID District_ID Instrument_ID  Year_Total                    Key  \\\n",
       "0           1          12             2    103550.0  Hospital 1District 12   \n",
       "1           1          12             3      2562.0  Hospital 1District 12   \n",
       "2           1          13             1       187.0  Hospital 1District 13   \n",
       "3           1          13             2     40741.0  Hospital 1District 13   \n",
       "4           1          13             3      8549.0  Hospital 1District 13   \n",
       "\n",
       "   Hospital_employees  \n",
       "0                 3.0  \n",
       "1                 3.0  \n",
       "2                 6.0  \n",
       "3                 6.0  \n",
       "4                 6.0  "
      ]
     },
     "execution_count": 239,
     "metadata": {},
     "output_type": "execute_result"
    }
   ],
   "source": [
    "zs_2.head()"
   ]
  },
  {
   "cell_type": "code",
   "execution_count": 240,
   "metadata": {
    "collapsed": false
   },
   "outputs": [
    {
     "name": "stdout",
     "output_type": "stream",
     "text": [
      "Region_ID                       0\n",
      "Key2                            0\n",
      "Annual_Projected_Revenue        0\n",
      "Buy                             0\n",
      "Hospital_ID                     0\n",
      "District_ID                     0\n",
      "Instrument_ID                   0\n",
      "Year_Total                      0\n",
      "Key                             0\n",
      "Hospital_employees          13747\n",
      "dtype: int64\n"
     ]
    }
   ],
   "source": [
    "print zs_2.apply(num_missing, axis=0)"
   ]
  },
  {
   "cell_type": "code",
   "execution_count": 241,
   "metadata": {
    "collapsed": true
   },
   "outputs": [],
   "source": [
    "zs_2['Hospital_employees']=zs_2['Hospital_employees'].fillna(zs_2['Hospital_employees'].mean())"
   ]
  },
  {
   "cell_type": "code",
   "execution_count": 242,
   "metadata": {
    "collapsed": false
   },
   "outputs": [
    {
     "data": {
      "text/html": [
       "<div>\n",
       "<table border=\"1\" class=\"dataframe\">\n",
       "  <thead>\n",
       "    <tr style=\"text-align: right;\">\n",
       "      <th></th>\n",
       "      <th>Region_ID</th>\n",
       "      <th>Key2</th>\n",
       "      <th>Annual_Projected_Revenue</th>\n",
       "      <th>Buy</th>\n",
       "      <th>Hospital_ID</th>\n",
       "      <th>District_ID</th>\n",
       "      <th>Instrument_ID</th>\n",
       "      <th>Year_Total</th>\n",
       "      <th>Key</th>\n",
       "      <th>Hospital_employees</th>\n",
       "    </tr>\n",
       "  </thead>\n",
       "  <tbody>\n",
       "    <tr>\n",
       "      <th>0</th>\n",
       "      <td>1</td>\n",
       "      <td>Hospital 1District 12Instrument 2</td>\n",
       "      <td>0.0</td>\n",
       "      <td>0</td>\n",
       "      <td>1</td>\n",
       "      <td>12</td>\n",
       "      <td>2</td>\n",
       "      <td>103550.0</td>\n",
       "      <td>Hospital 1District 12</td>\n",
       "      <td>3.0</td>\n",
       "    </tr>\n",
       "    <tr>\n",
       "      <th>1</th>\n",
       "      <td>1</td>\n",
       "      <td>Hospital 1District 12Instrument 3</td>\n",
       "      <td>0.0</td>\n",
       "      <td>0</td>\n",
       "      <td>1</td>\n",
       "      <td>12</td>\n",
       "      <td>3</td>\n",
       "      <td>2562.0</td>\n",
       "      <td>Hospital 1District 12</td>\n",
       "      <td>3.0</td>\n",
       "    </tr>\n",
       "    <tr>\n",
       "      <th>2</th>\n",
       "      <td>1</td>\n",
       "      <td>Hospital 1District 13Instrument 1</td>\n",
       "      <td>0.0</td>\n",
       "      <td>0</td>\n",
       "      <td>1</td>\n",
       "      <td>13</td>\n",
       "      <td>1</td>\n",
       "      <td>187.0</td>\n",
       "      <td>Hospital 1District 13</td>\n",
       "      <td>6.0</td>\n",
       "    </tr>\n",
       "    <tr>\n",
       "      <th>3</th>\n",
       "      <td>1</td>\n",
       "      <td>Hospital 1District 13Instrument 2</td>\n",
       "      <td>17164.0</td>\n",
       "      <td>1</td>\n",
       "      <td>1</td>\n",
       "      <td>13</td>\n",
       "      <td>2</td>\n",
       "      <td>40741.0</td>\n",
       "      <td>Hospital 1District 13</td>\n",
       "      <td>6.0</td>\n",
       "    </tr>\n",
       "    <tr>\n",
       "      <th>4</th>\n",
       "      <td>1</td>\n",
       "      <td>Hospital 1District 13Instrument 3</td>\n",
       "      <td>655645.0</td>\n",
       "      <td>1</td>\n",
       "      <td>1</td>\n",
       "      <td>13</td>\n",
       "      <td>3</td>\n",
       "      <td>8549.0</td>\n",
       "      <td>Hospital 1District 13</td>\n",
       "      <td>6.0</td>\n",
       "    </tr>\n",
       "  </tbody>\n",
       "</table>\n",
       "</div>"
      ],
      "text/plain": [
       "  Region_ID                               Key2  Annual_Projected_Revenue  Buy  \\\n",
       "0         1  Hospital 1District 12Instrument 2                       0.0    0   \n",
       "1         1  Hospital 1District 12Instrument 3                       0.0    0   \n",
       "2         1  Hospital 1District 13Instrument 1                       0.0    0   \n",
       "3         1  Hospital 1District 13Instrument 2                   17164.0    1   \n",
       "4         1  Hospital 1District 13Instrument 3                  655645.0    1   \n",
       "\n",
       "  Hospital_ID District_ID Instrument_ID  Year_Total                    Key  \\\n",
       "0           1          12             2    103550.0  Hospital 1District 12   \n",
       "1           1          12             3      2562.0  Hospital 1District 12   \n",
       "2           1          13             1       187.0  Hospital 1District 13   \n",
       "3           1          13             2     40741.0  Hospital 1District 13   \n",
       "4           1          13             3      8549.0  Hospital 1District 13   \n",
       "\n",
       "   Hospital_employees  \n",
       "0                 3.0  \n",
       "1                 3.0  \n",
       "2                 6.0  \n",
       "3                 6.0  \n",
       "4                 6.0  "
      ]
     },
     "execution_count": 242,
     "metadata": {},
     "output_type": "execute_result"
    }
   ],
   "source": [
    "zs_2.head()"
   ]
  },
  {
   "cell_type": "code",
   "execution_count": 245,
   "metadata": {
    "collapsed": true
   },
   "outputs": [],
   "source": [
    "zs_2['intercept']=1.0"
   ]
  },
  {
   "cell_type": "code",
   "execution_count": 246,
   "metadata": {
    "collapsed": true
   },
   "outputs": [],
   "source": [
    "zs_2_v1=zs_2.copy()"
   ]
  },
  {
   "cell_type": "code",
   "execution_count": 247,
   "metadata": {
    "collapsed": true
   },
   "outputs": [],
   "source": [
    "train_cols4 = ['Hospital_ID','Instrument_ID','District_ID','Region_ID','Year_Total','Annual_Projected_Revenue','Hospital_employees','intercept']"
   ]
  },
  {
   "cell_type": "code",
   "execution_count": 248,
   "metadata": {
    "collapsed": true
   },
   "outputs": [],
   "source": [
    "from sklearn.cross_validation import train_test_split\n",
    "train4,test4=train_test_split(zs_2,test_size=0.2)\n"
   ]
  },
  {
   "cell_type": "code",
   "execution_count": 249,
   "metadata": {
    "collapsed": false
   },
   "outputs": [
    {
     "name": "stdout",
     "output_type": "stream",
     "text": [
      "Warning: Maximum number of iterations has been exceeded.\n",
      "         Current function value: 0.000000\n",
      "         Iterations: 35\n",
      "                                Results: Logit\n",
      "===============================================================================\n",
      "Model:                   Logit                Pseudo R-squared:     1.000      \n",
      "Dependent Variable:      Buy                  AIC:                  16.0000    \n",
      "Date:                    2016-07-31 17:28     BIC:                  85.1418    \n",
      "No. Observations:        41887                Log-Likelihood:       -7.7193e-07\n",
      "Df Model:                7                    LL-Null:              -23022.    \n",
      "Df Residuals:            41879                LLR p-value:          0.0000     \n",
      "Converged:               0.0000               Scale:                1.0000     \n",
      "No. Iterations:          35.0000                                               \n",
      "-------------------------------------------------------------------------------\n",
      "                          Coef.    Std.Err.    z    P>|z|    [0.025     0.975] \n",
      "-------------------------------------------------------------------------------\n",
      "Hospital_ID               -0.0030    3.8636 -0.0008 0.9994    -7.5755    7.5695\n",
      "Instrument_ID             -0.8401 1022.2552 -0.0008 0.9993 -2004.4236 2002.7433\n",
      "District_ID               -0.0902  125.2156 -0.0007 0.9994  -245.5082  245.3278\n",
      "Region_ID                  0.0399   73.2057  0.0005 0.9996  -143.4406  143.5205\n",
      "Year_Total                -0.0000    0.0665 -0.0004 0.9997    -0.1303    0.1303\n",
      "Annual_Projected_Revenue   0.4441   59.6712  0.0074 0.9941  -116.5093  117.3974\n",
      "Hospital_employees        -0.0003    0.7886 -0.0004 0.9997    -1.5459    1.5453\n",
      "intercept                -19.3268 3291.9165 -0.0059 0.9953 -6471.3645 6432.7110\n",
      "===============================================================================\n",
      "\n"
     ]
    },
    {
     "name": "stderr",
     "output_type": "stream",
     "text": [
      "C:\\Users\\dell pc\\Anaconda2\\lib\\site-packages\\statsmodels\\base\\model.py:466: ConvergenceWarning: Maximum Likelihood optimization failed to converge. Check mle_retvals\n",
      "  \"Check mle_retvals\", ConvergenceWarning)\n"
     ]
    }
   ],
   "source": [
    "logit4 = sm.Logit(train4['Buy'].astype(float), train4[train_cols4].astype(float))\n",
    "result4 = logit4.fit()\n",
    "print result4.summary2()"
   ]
  },
  {
   "cell_type": "code",
   "execution_count": 250,
   "metadata": {
    "collapsed": true
   },
   "outputs": [],
   "source": [
    "train_cols5 = ['Hospital_ID','Instrument_ID','District_ID','Year_Total','Annual_Projected_Revenue','Hospital_employees','intercept']"
   ]
  },
  {
   "cell_type": "code",
   "execution_count": 252,
   "metadata": {
    "collapsed": false
   },
   "outputs": [
    {
     "name": "stdout",
     "output_type": "stream",
     "text": [
      "Warning: Maximum number of iterations has been exceeded.\n",
      "         Current function value: 0.008807\n",
      "         Iterations: 35\n",
      "                              Results: Logit\n",
      "==========================================================================\n",
      "Model:                   Logit               Pseudo R-squared:    0.984   \n",
      "Dependent Variable:      Buy                 AIC:                 751.8131\n",
      "Date:                    2016-07-31 17:30    BIC:                 812.3122\n",
      "No. Observations:        41887               Log-Likelihood:      -368.91 \n",
      "Df Model:                6                   LL-Null:             -23022. \n",
      "Df Residuals:            41880               LLR p-value:         0.0000  \n",
      "Converged:               0.0000              Scale:               1.0000  \n",
      "No. Iterations:          35.0000                                          \n",
      "--------------------------------------------------------------------------\n",
      "                          Coef.   Std.Err.    z    P>|z|   [0.025   0.975]\n",
      "--------------------------------------------------------------------------\n",
      "Hospital_ID               -0.0019   0.0011 -1.6922 0.0906  -0.0042  0.0003\n",
      "Instrument_ID              0.4812   0.2430  1.9807 0.0476   0.0050  0.9574\n",
      "District_ID                0.0010   0.0751  0.0130 0.9896  -0.1463  0.1482\n",
      "Year_Total                 0.0000   0.0000  0.7361 0.4616  -0.0000  0.0000\n",
      "Annual_Projected_Revenue   0.3562   9.1096  0.0391 0.9688 -17.4983 18.2106\n",
      "Hospital_employees         0.0004   0.0002  2.3907 0.0168   0.0001  0.0007\n",
      "intercept                -20.9606   9.2951 -2.2550 0.0241 -39.1787 -2.7425\n",
      "==========================================================================\n",
      "\n"
     ]
    },
    {
     "name": "stderr",
     "output_type": "stream",
     "text": [
      "C:\\Users\\dell pc\\Anaconda2\\lib\\site-packages\\statsmodels\\base\\model.py:466: ConvergenceWarning: Maximum Likelihood optimization failed to converge. Check mle_retvals\n",
      "  \"Check mle_retvals\", ConvergenceWarning)\n"
     ]
    }
   ],
   "source": [
    "logit5 = sm.Logit(train4['Buy'].astype(float), train4[train_cols5].astype(float))\n",
    "result5 = logit5.fit()\n",
    "print result5.summary2()"
   ]
  },
  {
   "cell_type": "code",
   "execution_count": 253,
   "metadata": {
    "collapsed": true
   },
   "outputs": [],
   "source": [
    "solve = pd.read_csv(\"C:\\Users\\dell pc\\Dataset\\Solution.csv\")"
   ]
  },
  {
   "cell_type": "code",
   "execution_count": 254,
   "metadata": {
    "collapsed": false
   },
   "outputs": [
    {
     "data": {
      "text/html": [
       "<div>\n",
       "<table border=\"1\" class=\"dataframe\">\n",
       "  <thead>\n",
       "    <tr style=\"text-align: right;\">\n",
       "      <th></th>\n",
       "      <th>Hospital_ID</th>\n",
       "      <th>District_ID</th>\n",
       "      <th>Instrument_ID</th>\n",
       "      <th>Buy_or_not</th>\n",
       "      <th>Revenue</th>\n",
       "    </tr>\n",
       "  </thead>\n",
       "  <tbody>\n",
       "    <tr>\n",
       "      <th>0</th>\n",
       "      <td>Hospital 1</td>\n",
       "      <td>District 12</td>\n",
       "      <td>Instrument 1</td>\n",
       "      <td>NaN</td>\n",
       "      <td>NaN</td>\n",
       "    </tr>\n",
       "    <tr>\n",
       "      <th>1</th>\n",
       "      <td>Hospital 1</td>\n",
       "      <td>District 12</td>\n",
       "      <td>Instrument 10</td>\n",
       "      <td>NaN</td>\n",
       "      <td>NaN</td>\n",
       "    </tr>\n",
       "    <tr>\n",
       "      <th>2</th>\n",
       "      <td>Hospital 1</td>\n",
       "      <td>District 12</td>\n",
       "      <td>Instrument 11</td>\n",
       "      <td>NaN</td>\n",
       "      <td>NaN</td>\n",
       "    </tr>\n",
       "    <tr>\n",
       "      <th>3</th>\n",
       "      <td>Hospital 1</td>\n",
       "      <td>District 12</td>\n",
       "      <td>Instrument 13</td>\n",
       "      <td>NaN</td>\n",
       "      <td>NaN</td>\n",
       "    </tr>\n",
       "    <tr>\n",
       "      <th>4</th>\n",
       "      <td>Hospital 1</td>\n",
       "      <td>District 12</td>\n",
       "      <td>Instrument 15</td>\n",
       "      <td>NaN</td>\n",
       "      <td>NaN</td>\n",
       "    </tr>\n",
       "  </tbody>\n",
       "</table>\n",
       "</div>"
      ],
      "text/plain": [
       "  Hospital_ID  District_ID  Instrument_ID  Buy_or_not  Revenue\n",
       "0  Hospital 1  District 12   Instrument 1         NaN      NaN\n",
       "1  Hospital 1  District 12  Instrument 10         NaN      NaN\n",
       "2  Hospital 1  District 12  Instrument 11         NaN      NaN\n",
       "3  Hospital 1  District 12  Instrument 13         NaN      NaN\n",
       "4  Hospital 1  District 12  Instrument 15         NaN      NaN"
      ]
     },
     "execution_count": 254,
     "metadata": {},
     "output_type": "execute_result"
    }
   ],
   "source": [
    "solve.head()"
   ]
  },
  {
   "cell_type": "code",
   "execution_count": 255,
   "metadata": {
    "collapsed": true
   },
   "outputs": [],
   "source": [
    "solve['Key2']=solve.Hospital_ID+solve.District_ID+solve.Instrument_ID"
   ]
  },
  {
   "cell_type": "code",
   "execution_count": 256,
   "metadata": {
    "collapsed": false
   },
   "outputs": [
    {
     "data": {
      "text/html": [
       "<div>\n",
       "<table border=\"1\" class=\"dataframe\">\n",
       "  <thead>\n",
       "    <tr style=\"text-align: right;\">\n",
       "      <th></th>\n",
       "      <th>Hospital_ID</th>\n",
       "      <th>District_ID</th>\n",
       "      <th>Instrument_ID</th>\n",
       "      <th>Buy_or_not</th>\n",
       "      <th>Revenue</th>\n",
       "      <th>Key2</th>\n",
       "    </tr>\n",
       "  </thead>\n",
       "  <tbody>\n",
       "    <tr>\n",
       "      <th>0</th>\n",
       "      <td>Hospital 1</td>\n",
       "      <td>District 12</td>\n",
       "      <td>Instrument 1</td>\n",
       "      <td>NaN</td>\n",
       "      <td>NaN</td>\n",
       "      <td>Hospital 1District 12Instrument 1</td>\n",
       "    </tr>\n",
       "    <tr>\n",
       "      <th>1</th>\n",
       "      <td>Hospital 1</td>\n",
       "      <td>District 12</td>\n",
       "      <td>Instrument 10</td>\n",
       "      <td>NaN</td>\n",
       "      <td>NaN</td>\n",
       "      <td>Hospital 1District 12Instrument 10</td>\n",
       "    </tr>\n",
       "    <tr>\n",
       "      <th>2</th>\n",
       "      <td>Hospital 1</td>\n",
       "      <td>District 12</td>\n",
       "      <td>Instrument 11</td>\n",
       "      <td>NaN</td>\n",
       "      <td>NaN</td>\n",
       "      <td>Hospital 1District 12Instrument 11</td>\n",
       "    </tr>\n",
       "    <tr>\n",
       "      <th>3</th>\n",
       "      <td>Hospital 1</td>\n",
       "      <td>District 12</td>\n",
       "      <td>Instrument 13</td>\n",
       "      <td>NaN</td>\n",
       "      <td>NaN</td>\n",
       "      <td>Hospital 1District 12Instrument 13</td>\n",
       "    </tr>\n",
       "    <tr>\n",
       "      <th>4</th>\n",
       "      <td>Hospital 1</td>\n",
       "      <td>District 12</td>\n",
       "      <td>Instrument 15</td>\n",
       "      <td>NaN</td>\n",
       "      <td>NaN</td>\n",
       "      <td>Hospital 1District 12Instrument 15</td>\n",
       "    </tr>\n",
       "  </tbody>\n",
       "</table>\n",
       "</div>"
      ],
      "text/plain": [
       "  Hospital_ID  District_ID  Instrument_ID  Buy_or_not  Revenue  \\\n",
       "0  Hospital 1  District 12   Instrument 1         NaN      NaN   \n",
       "1  Hospital 1  District 12  Instrument 10         NaN      NaN   \n",
       "2  Hospital 1  District 12  Instrument 11         NaN      NaN   \n",
       "3  Hospital 1  District 12  Instrument 13         NaN      NaN   \n",
       "4  Hospital 1  District 12  Instrument 15         NaN      NaN   \n",
       "\n",
       "                                 Key2  \n",
       "0   Hospital 1District 12Instrument 1  \n",
       "1  Hospital 1District 12Instrument 10  \n",
       "2  Hospital 1District 12Instrument 11  \n",
       "3  Hospital 1District 12Instrument 13  \n",
       "4  Hospital 1District 12Instrument 15  "
      ]
     },
     "execution_count": 256,
     "metadata": {},
     "output_type": "execute_result"
    }
   ],
   "source": [
    "solve.head()"
   ]
  },
  {
   "cell_type": "code",
   "execution_count": 260,
   "metadata": {
    "collapsed": true
   },
   "outputs": [],
   "source": [
    "del solve['Key2']"
   ]
  },
  {
   "cell_type": "code",
   "execution_count": 257,
   "metadata": {
    "collapsed": false
   },
   "outputs": [
    {
     "name": "stdout",
     "output_type": "stream",
     "text": [
      "<class 'pandas.core.frame.DataFrame'>\n",
      "Int64Index: 52359 entries, 0 to 52358\n",
      "Data columns (total 11 columns):\n",
      "Region_ID                   52359 non-null object\n",
      "Key2                        52359 non-null object\n",
      "Annual_Projected_Revenue    52359 non-null float64\n",
      "Buy                         52359 non-null int64\n",
      "Hospital_ID                 52359 non-null object\n",
      "District_ID                 52359 non-null object\n",
      "Instrument_ID               52359 non-null object\n",
      "Year_Total                  52359 non-null float64\n",
      "Key                         52359 non-null object\n",
      "Hospital_employees          52359 non-null float64\n",
      "intercept                   52359 non-null float64\n",
      "dtypes: float64(4), int64(1), object(6)\n",
      "memory usage: 4.8+ MB\n"
     ]
    }
   ],
   "source": [
    "zs_2_v1.info()"
   ]
  },
  {
   "cell_type": "code",
   "execution_count": 261,
   "metadata": {
    "collapsed": false
   },
   "outputs": [
    {
     "name": "stdout",
     "output_type": "stream",
     "text": [
      "Warning: Maximum number of iterations has been exceeded.\n",
      "         Current function value: 0.000000\n",
      "         Iterations: 35\n",
      "                                Results: Logit\n",
      "===============================================================================\n",
      "Model:                   Logit                Pseudo R-squared:     1.000      \n",
      "Dependent Variable:      Buy                  AIC:                  16.0000    \n",
      "Date:                    2016-07-31 17:57     BIC:                  86.9270    \n",
      "No. Observations:        52359                Log-Likelihood:       -1.0682e-06\n",
      "Df Model:                7                    LL-Null:              -28750.    \n",
      "Df Residuals:            52351                LLR p-value:          0.0000     \n",
      "Converged:               0.0000               Scale:                1.0000     \n",
      "No. Iterations:          35.0000                                               \n",
      "-------------------------------------------------------------------------------\n",
      "                          Coef.    Std.Err.    z    P>|z|    [0.025     0.975] \n",
      "-------------------------------------------------------------------------------\n",
      "Hospital_ID               -0.0031    3.2964 -0.0009 0.9993    -6.4639    6.4577\n",
      "Instrument_ID             -0.9118  855.5523 -0.0011 0.9991 -1677.7636 1675.9399\n",
      "District_ID               -0.0933  106.9441 -0.0009 0.9993  -209.7000  209.5133\n",
      "Region_ID                  0.0399   60.3406  0.0007 0.9995  -118.2255  118.3054\n",
      "Year_Total                -0.0000    0.0328 -0.0004 0.9997    -0.0643    0.0643\n",
      "Annual_Projected_Revenue   0.4429   51.9638  0.0085 0.9932  -101.4043  102.2900\n",
      "Hospital_employees        -0.0004    0.6175 -0.0006 0.9995    -1.2106    1.2099\n",
      "intercept                -19.1106 2788.8887 -0.0069 0.9945 -5485.2320 5447.0108\n",
      "===============================================================================\n",
      "\n"
     ]
    },
    {
     "name": "stderr",
     "output_type": "stream",
     "text": [
      "C:\\Users\\dell pc\\Anaconda2\\lib\\site-packages\\statsmodels\\base\\model.py:466: ConvergenceWarning: Maximum Likelihood optimization failed to converge. Check mle_retvals\n",
      "  \"Check mle_retvals\", ConvergenceWarning)\n"
     ]
    }
   ],
   "source": [
    "logit6 = sm.Logit(zs_2_v1['Buy'].astype(float), zs_2_v1[train_cols4].astype(float))\n",
    "result6 = logit6.fit()\n",
    "print result6.summary2()"
   ]
  },
  {
   "cell_type": "code",
   "execution_count": 267,
   "metadata": {
    "collapsed": true
   },
   "outputs": [],
   "source": [
    "test4=test4.apply(pd.to_numeric, errors=('coerce'))"
   ]
  },
  {
   "cell_type": "code",
   "execution_count": 270,
   "metadata": {
    "collapsed": true
   },
   "outputs": [],
   "source": [
    "train4=train4.apply(pd.to_numeric, errors=('coerce'))"
   ]
  },
  {
   "cell_type": "code",
   "execution_count": null,
   "metadata": {
    "collapsed": true
   },
   "outputs": [],
   "source": [
    "final=['Buy']"
   ]
  },
  {
   "cell_type": "code",
   "execution_count": 274,
   "metadata": {
    "collapsed": false
   },
   "outputs": [
    {
     "data": {
      "text/html": [
       "<div>\n",
       "<table border=\"1\" class=\"dataframe\">\n",
       "  <thead>\n",
       "    <tr style=\"text-align: right;\">\n",
       "      <th></th>\n",
       "      <th>Region_ID</th>\n",
       "      <th>Key2</th>\n",
       "      <th>Annual_Projected_Revenue</th>\n",
       "      <th>Buy</th>\n",
       "      <th>Hospital_ID</th>\n",
       "      <th>District_ID</th>\n",
       "      <th>Instrument_ID</th>\n",
       "      <th>Year_Total</th>\n",
       "      <th>Key</th>\n",
       "      <th>Hospital_employees</th>\n",
       "      <th>intercept</th>\n",
       "    </tr>\n",
       "  </thead>\n",
       "  <tbody>\n",
       "    <tr>\n",
       "      <th>21715</th>\n",
       "      <td>3</td>\n",
       "      <td>NaN</td>\n",
       "      <td>0.0</td>\n",
       "      <td>0</td>\n",
       "      <td>190</td>\n",
       "      <td>14</td>\n",
       "      <td>7</td>\n",
       "      <td>351.000000</td>\n",
       "      <td>NaN</td>\n",
       "      <td>1007.791697</td>\n",
       "      <td>1.0</td>\n",
       "    </tr>\n",
       "    <tr>\n",
       "      <th>40949</th>\n",
       "      <td>2</td>\n",
       "      <td>NaN</td>\n",
       "      <td>0.0</td>\n",
       "      <td>0</td>\n",
       "      <td>778</td>\n",
       "      <td>39</td>\n",
       "      <td>4</td>\n",
       "      <td>1593.000000</td>\n",
       "      <td>NaN</td>\n",
       "      <td>9.000000</td>\n",
       "      <td>1.0</td>\n",
       "    </tr>\n",
       "    <tr>\n",
       "      <th>5276</th>\n",
       "      <td>1</td>\n",
       "      <td>NaN</td>\n",
       "      <td>0.0</td>\n",
       "      <td>0</td>\n",
       "      <td>1172</td>\n",
       "      <td>50</td>\n",
       "      <td>3</td>\n",
       "      <td>2878.000000</td>\n",
       "      <td>NaN</td>\n",
       "      <td>1007.791697</td>\n",
       "      <td>1.0</td>\n",
       "    </tr>\n",
       "    <tr>\n",
       "      <th>27543</th>\n",
       "      <td>1</td>\n",
       "      <td>NaN</td>\n",
       "      <td>0.0</td>\n",
       "      <td>0</td>\n",
       "      <td>365</td>\n",
       "      <td>50</td>\n",
       "      <td>3</td>\n",
       "      <td>16552.000000</td>\n",
       "      <td>NaN</td>\n",
       "      <td>1007.791697</td>\n",
       "      <td>1.0</td>\n",
       "    </tr>\n",
       "    <tr>\n",
       "      <th>52078</th>\n",
       "      <td>99</td>\n",
       "      <td>NaN</td>\n",
       "      <td>1620.0</td>\n",
       "      <td>1</td>\n",
       "      <td>907</td>\n",
       "      <td>5</td>\n",
       "      <td>3</td>\n",
       "      <td>19218.377992</td>\n",
       "      <td>NaN</td>\n",
       "      <td>14.000000</td>\n",
       "      <td>1.0</td>\n",
       "    </tr>\n",
       "  </tbody>\n",
       "</table>\n",
       "</div>"
      ],
      "text/plain": [
       "       Region_ID  Key2  Annual_Projected_Revenue  Buy  Hospital_ID  \\\n",
       "21715          3   NaN                       0.0    0          190   \n",
       "40949          2   NaN                       0.0    0          778   \n",
       "5276           1   NaN                       0.0    0         1172   \n",
       "27543          1   NaN                       0.0    0          365   \n",
       "52078         99   NaN                    1620.0    1          907   \n",
       "\n",
       "       District_ID  Instrument_ID    Year_Total  Key  Hospital_employees  \\\n",
       "21715           14              7    351.000000  NaN         1007.791697   \n",
       "40949           39              4   1593.000000  NaN            9.000000   \n",
       "5276            50              3   2878.000000  NaN         1007.791697   \n",
       "27543           50              3  16552.000000  NaN         1007.791697   \n",
       "52078            5              3  19218.377992  NaN           14.000000   \n",
       "\n",
       "       intercept  \n",
       "21715        1.0  \n",
       "40949        1.0  \n",
       "5276         1.0  \n",
       "27543        1.0  \n",
       "52078        1.0  "
      ]
     },
     "execution_count": 274,
     "metadata": {},
     "output_type": "execute_result"
    }
   ],
   "source": [
    "test4.head()"
   ]
  },
  {
   "cell_type": "code",
   "execution_count": 268,
   "metadata": {
    "collapsed": false
   },
   "outputs": [],
   "source": [
    "pred_train = result4.predict(test4[train_cols4])"
   ]
  },
  {
   "cell_type": "code",
   "execution_count": 275,
   "metadata": {
    "collapsed": false
   },
   "outputs": [
    {
     "name": "stdout",
     "output_type": "stream",
     "text": [
      "[  1.49555216e-12   4.16823024e-13   7.57967141e-14 ...,   1.34331996e-13\n",
      "   2.69526366e-13   1.09714279e-12]\n"
     ]
    }
   ],
   "source": [
    "print pred_train"
   ]
  },
  {
   "cell_type": "code",
   "execution_count": 272,
   "metadata": {
    "collapsed": false
   },
   "outputs": [
    {
     "data": {
      "text/plain": [
       "2.2324143874257405e-15"
      ]
     },
     "execution_count": 272,
     "metadata": {},
     "output_type": "execute_result"
    }
   ],
   "source": [
    "target=['Buy']\n",
    "from sklearn.metrics import mean_squared_error\n",
    "mean_squared_error(pred_train,test4[target])"
   ]
  },
  {
   "cell_type": "code",
   "execution_count": 273,
   "metadata": {
    "collapsed": false
   },
   "outputs": [],
   "source": [
    "column=['Hospital_ID','District_ID','Instrument_ID']\n",
    "targets=['Buy_or_Not']"
   ]
  },
  {
   "cell_type": "code",
   "execution_count": 277,
   "metadata": {
    "collapsed": true
   },
   "outputs": [],
   "source": [
    "solve['Instrument_ID']=solve['Instrument_ID'].str.replace('Instrument ','')"
   ]
  },
  {
   "cell_type": "code",
   "execution_count": 278,
   "metadata": {
    "collapsed": true
   },
   "outputs": [],
   "source": [
    "solve['District_ID']=solve['District_ID'].str.replace('District ','')"
   ]
  },
  {
   "cell_type": "code",
   "execution_count": 279,
   "metadata": {
    "collapsed": true
   },
   "outputs": [],
   "source": [
    "solve['Hospital_ID']=solve['Hospital_ID'].str.replace('Hospital ','')"
   ]
  },
  {
   "cell_type": "code",
   "execution_count": 280,
   "metadata": {
    "collapsed": true
   },
   "outputs": [],
   "source": [
    "del solve['Buy_or_not']"
   ]
  },
  {
   "cell_type": "code",
   "execution_count": 281,
   "metadata": {
    "collapsed": true
   },
   "outputs": [],
   "source": [
    "del solve['Revenue']"
   ]
  },
  {
   "cell_type": "code",
   "execution_count": 282,
   "metadata": {
    "collapsed": true
   },
   "outputs": [],
   "source": [
    "solve=solve.apply(pd.to_numeric, errors=('coerce'))"
   ]
  },
  {
   "cell_type": "code",
   "execution_count": 284,
   "metadata": {
    "collapsed": false
   },
   "outputs": [
    {
     "ename": "ValueError",
     "evalue": "shapes (193810,3) and (8,) not aligned: 3 (dim 1) != 8 (dim 0)",
     "output_type": "error",
     "traceback": [
      "\u001b[1;31m---------------------------------------------------------------------------\u001b[0m",
      "\u001b[1;31mValueError\u001b[0m                                Traceback (most recent call last)",
      "\u001b[1;32m<ipython-input-284-6c1c33ed1f92>\u001b[0m in \u001b[0;36m<module>\u001b[1;34m()\u001b[0m\n\u001b[1;32m----> 1\u001b[1;33m \u001b[0mpredicting\u001b[0m \u001b[1;33m=\u001b[0m \u001b[0mresult4\u001b[0m\u001b[1;33m.\u001b[0m\u001b[0mpredict\u001b[0m\u001b[1;33m(\u001b[0m\u001b[0msolve\u001b[0m\u001b[1;33m[\u001b[0m\u001b[0mcolumn\u001b[0m\u001b[1;33m]\u001b[0m\u001b[1;33m)\u001b[0m\u001b[1;33m\u001b[0m\u001b[0m\n\u001b[0m",
      "\u001b[1;32mC:\\Users\\dell pc\\Anaconda2\\lib\\site-packages\\statsmodels\\base\\model.pyc\u001b[0m in \u001b[0;36mpredict\u001b[1;34m(self, exog, transform, *args, **kwargs)\u001b[0m\n\u001b[0;32m    747\u001b[0m             \u001b[0mexog\u001b[0m \u001b[1;33m=\u001b[0m \u001b[0mnp\u001b[0m\u001b[1;33m.\u001b[0m\u001b[0matleast_2d\u001b[0m\u001b[1;33m(\u001b[0m\u001b[0mexog\u001b[0m\u001b[1;33m)\u001b[0m  \u001b[1;31m# needed in count model shape[1]\u001b[0m\u001b[1;33m\u001b[0m\u001b[0m\n\u001b[0;32m    748\u001b[0m \u001b[1;33m\u001b[0m\u001b[0m\n\u001b[1;32m--> 749\u001b[1;33m         \u001b[1;32mreturn\u001b[0m \u001b[0mself\u001b[0m\u001b[1;33m.\u001b[0m\u001b[0mmodel\u001b[0m\u001b[1;33m.\u001b[0m\u001b[0mpredict\u001b[0m\u001b[1;33m(\u001b[0m\u001b[0mself\u001b[0m\u001b[1;33m.\u001b[0m\u001b[0mparams\u001b[0m\u001b[1;33m,\u001b[0m \u001b[0mexog\u001b[0m\u001b[1;33m,\u001b[0m \u001b[1;33m*\u001b[0m\u001b[0margs\u001b[0m\u001b[1;33m,\u001b[0m \u001b[1;33m**\u001b[0m\u001b[0mkwargs\u001b[0m\u001b[1;33m)\u001b[0m\u001b[1;33m\u001b[0m\u001b[0m\n\u001b[0m\u001b[0;32m    750\u001b[0m \u001b[1;33m\u001b[0m\u001b[0m\n\u001b[0;32m    751\u001b[0m \u001b[1;33m\u001b[0m\u001b[0m\n",
      "\u001b[1;32mC:\\Users\\dell pc\\Anaconda2\\lib\\site-packages\\statsmodels\\discrete\\discrete_model.pyc\u001b[0m in \u001b[0;36mpredict\u001b[1;34m(self, params, exog, linear)\u001b[0m\n\u001b[0;32m    428\u001b[0m             \u001b[0mexog\u001b[0m \u001b[1;33m=\u001b[0m \u001b[0mself\u001b[0m\u001b[1;33m.\u001b[0m\u001b[0mexog\u001b[0m\u001b[1;33m\u001b[0m\u001b[0m\n\u001b[0;32m    429\u001b[0m         \u001b[1;32mif\u001b[0m \u001b[1;32mnot\u001b[0m \u001b[0mlinear\u001b[0m\u001b[1;33m:\u001b[0m\u001b[1;33m\u001b[0m\u001b[0m\n\u001b[1;32m--> 430\u001b[1;33m             \u001b[1;32mreturn\u001b[0m \u001b[0mself\u001b[0m\u001b[1;33m.\u001b[0m\u001b[0mcdf\u001b[0m\u001b[1;33m(\u001b[0m\u001b[0mnp\u001b[0m\u001b[1;33m.\u001b[0m\u001b[0mdot\u001b[0m\u001b[1;33m(\u001b[0m\u001b[0mexog\u001b[0m\u001b[1;33m,\u001b[0m \u001b[0mparams\u001b[0m\u001b[1;33m)\u001b[0m\u001b[1;33m)\u001b[0m\u001b[1;33m\u001b[0m\u001b[0m\n\u001b[0m\u001b[0;32m    431\u001b[0m         \u001b[1;32melse\u001b[0m\u001b[1;33m:\u001b[0m\u001b[1;33m\u001b[0m\u001b[0m\n\u001b[0;32m    432\u001b[0m             \u001b[1;32mreturn\u001b[0m \u001b[0mnp\u001b[0m\u001b[1;33m.\u001b[0m\u001b[0mdot\u001b[0m\u001b[1;33m(\u001b[0m\u001b[0mexog\u001b[0m\u001b[1;33m,\u001b[0m \u001b[0mparams\u001b[0m\u001b[1;33m)\u001b[0m\u001b[1;33m\u001b[0m\u001b[0m\n",
      "\u001b[1;31mValueError\u001b[0m: shapes (193810,3) and (8,) not aligned: 3 (dim 1) != 8 (dim 0)"
     ]
    }
   ],
   "source": [
    "predicting = result4.predict(solve[column])"
   ]
  },
  {
   "cell_type": "code",
   "execution_count": 285,
   "metadata": {
    "collapsed": false
   },
   "outputs": [
    {
     "data": {
      "text/html": [
       "<div>\n",
       "<table border=\"1\" class=\"dataframe\">\n",
       "  <thead>\n",
       "    <tr style=\"text-align: right;\">\n",
       "      <th></th>\n",
       "      <th>Hospital_ID</th>\n",
       "      <th>District_ID</th>\n",
       "      <th>Instrument_ID</th>\n",
       "    </tr>\n",
       "  </thead>\n",
       "  <tbody>\n",
       "    <tr>\n",
       "      <th>0</th>\n",
       "      <td>1</td>\n",
       "      <td>12</td>\n",
       "      <td>1</td>\n",
       "    </tr>\n",
       "    <tr>\n",
       "      <th>1</th>\n",
       "      <td>1</td>\n",
       "      <td>12</td>\n",
       "      <td>10</td>\n",
       "    </tr>\n",
       "    <tr>\n",
       "      <th>2</th>\n",
       "      <td>1</td>\n",
       "      <td>12</td>\n",
       "      <td>11</td>\n",
       "    </tr>\n",
       "    <tr>\n",
       "      <th>3</th>\n",
       "      <td>1</td>\n",
       "      <td>12</td>\n",
       "      <td>13</td>\n",
       "    </tr>\n",
       "    <tr>\n",
       "      <th>4</th>\n",
       "      <td>1</td>\n",
       "      <td>12</td>\n",
       "      <td>15</td>\n",
       "    </tr>\n",
       "  </tbody>\n",
       "</table>\n",
       "</div>"
      ],
      "text/plain": [
       "   Hospital_ID  District_ID  Instrument_ID\n",
       "0            1           12              1\n",
       "1            1           12             10\n",
       "2            1           12             11\n",
       "3            1           12             13\n",
       "4            1           12             15"
      ]
     },
     "execution_count": 285,
     "metadata": {},
     "output_type": "execute_result"
    }
   ],
   "source": [
    "solve.head()"
   ]
  },
  {
   "cell_type": "code",
   "execution_count": 286,
   "metadata": {
    "collapsed": false
   },
   "outputs": [
    {
     "name": "stdout",
     "output_type": "stream",
     "text": [
      "<class 'pandas.core.frame.DataFrame'>\n",
      "RangeIndex: 193810 entries, 0 to 193809\n",
      "Data columns (total 3 columns):\n",
      "Hospital_ID      193810 non-null int64\n",
      "District_ID      193810 non-null int64\n",
      "Instrument_ID    193810 non-null int64\n",
      "dtypes: int64(3)\n",
      "memory usage: 4.4 MB\n"
     ]
    }
   ],
   "source": [
    "solve.info()"
   ]
  },
  {
   "cell_type": "code",
   "execution_count": 287,
   "metadata": {
    "collapsed": true
   },
   "outputs": [],
   "source": [
    "solve2 = pd.read_csv(\"C:\\Users\\dell pc\\Dataset\\Solution.csv\")"
   ]
  },
  {
   "cell_type": "code",
   "execution_count": 288,
   "metadata": {
    "collapsed": true
   },
   "outputs": [],
   "source": [
    "solve2['Key2']=solve2.Hospital_ID+solve2.District_ID+solve2.Instrument_ID"
   ]
  },
  {
   "cell_type": "code",
   "execution_count": 289,
   "metadata": {
    "collapsed": false
   },
   "outputs": [
    {
     "data": {
      "text/html": [
       "<div>\n",
       "<table border=\"1\" class=\"dataframe\">\n",
       "  <thead>\n",
       "    <tr style=\"text-align: right;\">\n",
       "      <th></th>\n",
       "      <th>Hospital_ID</th>\n",
       "      <th>District_ID</th>\n",
       "      <th>Instrument_ID</th>\n",
       "      <th>Buy_or_not</th>\n",
       "      <th>Revenue</th>\n",
       "      <th>Key2</th>\n",
       "    </tr>\n",
       "  </thead>\n",
       "  <tbody>\n",
       "    <tr>\n",
       "      <th>0</th>\n",
       "      <td>Hospital 1</td>\n",
       "      <td>District 12</td>\n",
       "      <td>Instrument 1</td>\n",
       "      <td>NaN</td>\n",
       "      <td>NaN</td>\n",
       "      <td>Hospital 1District 12Instrument 1</td>\n",
       "    </tr>\n",
       "    <tr>\n",
       "      <th>1</th>\n",
       "      <td>Hospital 1</td>\n",
       "      <td>District 12</td>\n",
       "      <td>Instrument 10</td>\n",
       "      <td>NaN</td>\n",
       "      <td>NaN</td>\n",
       "      <td>Hospital 1District 12Instrument 10</td>\n",
       "    </tr>\n",
       "    <tr>\n",
       "      <th>2</th>\n",
       "      <td>Hospital 1</td>\n",
       "      <td>District 12</td>\n",
       "      <td>Instrument 11</td>\n",
       "      <td>NaN</td>\n",
       "      <td>NaN</td>\n",
       "      <td>Hospital 1District 12Instrument 11</td>\n",
       "    </tr>\n",
       "    <tr>\n",
       "      <th>3</th>\n",
       "      <td>Hospital 1</td>\n",
       "      <td>District 12</td>\n",
       "      <td>Instrument 13</td>\n",
       "      <td>NaN</td>\n",
       "      <td>NaN</td>\n",
       "      <td>Hospital 1District 12Instrument 13</td>\n",
       "    </tr>\n",
       "    <tr>\n",
       "      <th>4</th>\n",
       "      <td>Hospital 1</td>\n",
       "      <td>District 12</td>\n",
       "      <td>Instrument 15</td>\n",
       "      <td>NaN</td>\n",
       "      <td>NaN</td>\n",
       "      <td>Hospital 1District 12Instrument 15</td>\n",
       "    </tr>\n",
       "  </tbody>\n",
       "</table>\n",
       "</div>"
      ],
      "text/plain": [
       "  Hospital_ID  District_ID  Instrument_ID  Buy_or_not  Revenue  \\\n",
       "0  Hospital 1  District 12   Instrument 1         NaN      NaN   \n",
       "1  Hospital 1  District 12  Instrument 10         NaN      NaN   \n",
       "2  Hospital 1  District 12  Instrument 11         NaN      NaN   \n",
       "3  Hospital 1  District 12  Instrument 13         NaN      NaN   \n",
       "4  Hospital 1  District 12  Instrument 15         NaN      NaN   \n",
       "\n",
       "                                 Key2  \n",
       "0   Hospital 1District 12Instrument 1  \n",
       "1  Hospital 1District 12Instrument 10  \n",
       "2  Hospital 1District 12Instrument 11  \n",
       "3  Hospital 1District 12Instrument 13  \n",
       "4  Hospital 1District 12Instrument 15  "
      ]
     },
     "execution_count": 289,
     "metadata": {},
     "output_type": "execute_result"
    }
   ],
   "source": [
    "solve2.head()"
   ]
  },
  {
   "cell_type": "code",
   "execution_count": 290,
   "metadata": {
    "collapsed": true
   },
   "outputs": [],
   "source": [
    "compare_2 = solve2.merge(zs_2_v1,how='left',on='Key2')"
   ]
  },
  {
   "cell_type": "code",
   "execution_count": 292,
   "metadata": {
    "collapsed": false
   },
   "outputs": [
    {
     "name": "stdout",
     "output_type": "stream",
     "text": [
      "<class 'pandas.core.frame.DataFrame'>\n",
      "Int64Index: 193810 entries, 0 to 193809\n",
      "Data columns (total 16 columns):\n",
      "Hospital_ID_x               193810 non-null object\n",
      "District_ID_x               193810 non-null object\n",
      "Instrument_ID_x             193810 non-null object\n",
      "Buy_or_not                  0 non-null float64\n",
      "Revenue                     0 non-null float64\n",
      "Key2                        193810 non-null object\n",
      "Region_ID                   0 non-null object\n",
      "Annual_Projected_Revenue    0 non-null float64\n",
      "Buy                         0 non-null float64\n",
      "Hospital_ID_y               0 non-null object\n",
      "District_ID_y               0 non-null object\n",
      "Instrument_ID_y             0 non-null object\n",
      "Year_Total                  0 non-null float64\n",
      "Key                         0 non-null object\n",
      "Hospital_employees          0 non-null float64\n",
      "intercept                   0 non-null float64\n",
      "dtypes: float64(7), object(9)\n",
      "memory usage: 25.1+ MB\n"
     ]
    }
   ],
   "source": [
    "compare_2.info()"
   ]
  },
  {
   "cell_type": "code",
   "execution_count": 293,
   "metadata": {
    "collapsed": true
   },
   "outputs": [],
   "source": [
    "train_cols6 = ['Hospital_ID','Instrument_ID','District_ID','intercept']"
   ]
  },
  {
   "cell_type": "code",
   "execution_count": 294,
   "metadata": {
    "collapsed": false
   },
   "outputs": [
    {
     "name": "stdout",
     "output_type": "stream",
     "text": [
      "Optimization terminated successfully.\n",
      "         Current function value: 0.545111\n",
      "         Iterations 5\n",
      "                         Results: Logit\n",
      "=================================================================\n",
      "Model:              Logit            Pseudo R-squared: 0.007     \n",
      "Dependent Variable: Buy              AIC:              57090.9497\n",
      "Date:               2016-07-31 19:01 BIC:              57126.4132\n",
      "No. Observations:   52359            Log-Likelihood:   -28541.   \n",
      "Df Model:           3                LL-Null:          -28750.   \n",
      "Df Residuals:       52355            LLR p-value:      6.4092e-90\n",
      "Converged:          1.0000           Scale:            1.0000    \n",
      "No. Iterations:     5.0000                                       \n",
      "-----------------------------------------------------------------\n",
      "                  Coef.  Std.Err.    z     P>|z|   [0.025  0.975]\n",
      "-----------------------------------------------------------------\n",
      "Hospital_ID      -0.0000   0.0000  -0.2135 0.8310 -0.0000  0.0000\n",
      "Instrument_ID     0.0796   0.0040  20.0244 0.0000  0.0718  0.0874\n",
      "District_ID      -0.0058   0.0007  -8.3627 0.0000 -0.0072 -0.0045\n",
      "intercept        -1.2957   0.0298 -43.5020 0.0000 -1.3541 -1.2373\n",
      "=================================================================\n",
      "\n"
     ]
    }
   ],
   "source": [
    "logit7 = sm.Logit(zs_2_v1['Buy'].astype(float), zs_2_v1[train_cols6].astype(float))\n",
    "result7 = logit7.fit()\n",
    "print result7.summary2()"
   ]
  },
  {
   "cell_type": "code",
   "execution_count": 295,
   "metadata": {
    "collapsed": false
   },
   "outputs": [
    {
     "ename": "ValueError",
     "evalue": "shapes (193810,3) and (4,) not aligned: 3 (dim 1) != 4 (dim 0)",
     "output_type": "error",
     "traceback": [
      "\u001b[1;31m---------------------------------------------------------------------------\u001b[0m",
      "\u001b[1;31mValueError\u001b[0m                                Traceback (most recent call last)",
      "\u001b[1;32m<ipython-input-295-1fcc984990b9>\u001b[0m in \u001b[0;36m<module>\u001b[1;34m()\u001b[0m\n\u001b[1;32m----> 1\u001b[1;33m \u001b[0mpredicting\u001b[0m \u001b[1;33m=\u001b[0m \u001b[0mresult7\u001b[0m\u001b[1;33m.\u001b[0m\u001b[0mpredict\u001b[0m\u001b[1;33m(\u001b[0m\u001b[0msolve\u001b[0m\u001b[1;33m[\u001b[0m\u001b[0mcolumn\u001b[0m\u001b[1;33m]\u001b[0m\u001b[1;33m)\u001b[0m\u001b[1;33m\u001b[0m\u001b[0m\n\u001b[0m",
      "\u001b[1;32mC:\\Users\\dell pc\\Anaconda2\\lib\\site-packages\\statsmodels\\base\\model.pyc\u001b[0m in \u001b[0;36mpredict\u001b[1;34m(self, exog, transform, *args, **kwargs)\u001b[0m\n\u001b[0;32m    747\u001b[0m             \u001b[0mexog\u001b[0m \u001b[1;33m=\u001b[0m \u001b[0mnp\u001b[0m\u001b[1;33m.\u001b[0m\u001b[0matleast_2d\u001b[0m\u001b[1;33m(\u001b[0m\u001b[0mexog\u001b[0m\u001b[1;33m)\u001b[0m  \u001b[1;31m# needed in count model shape[1]\u001b[0m\u001b[1;33m\u001b[0m\u001b[0m\n\u001b[0;32m    748\u001b[0m \u001b[1;33m\u001b[0m\u001b[0m\n\u001b[1;32m--> 749\u001b[1;33m         \u001b[1;32mreturn\u001b[0m \u001b[0mself\u001b[0m\u001b[1;33m.\u001b[0m\u001b[0mmodel\u001b[0m\u001b[1;33m.\u001b[0m\u001b[0mpredict\u001b[0m\u001b[1;33m(\u001b[0m\u001b[0mself\u001b[0m\u001b[1;33m.\u001b[0m\u001b[0mparams\u001b[0m\u001b[1;33m,\u001b[0m \u001b[0mexog\u001b[0m\u001b[1;33m,\u001b[0m \u001b[1;33m*\u001b[0m\u001b[0margs\u001b[0m\u001b[1;33m,\u001b[0m \u001b[1;33m**\u001b[0m\u001b[0mkwargs\u001b[0m\u001b[1;33m)\u001b[0m\u001b[1;33m\u001b[0m\u001b[0m\n\u001b[0m\u001b[0;32m    750\u001b[0m \u001b[1;33m\u001b[0m\u001b[0m\n\u001b[0;32m    751\u001b[0m \u001b[1;33m\u001b[0m\u001b[0m\n",
      "\u001b[1;32mC:\\Users\\dell pc\\Anaconda2\\lib\\site-packages\\statsmodels\\discrete\\discrete_model.pyc\u001b[0m in \u001b[0;36mpredict\u001b[1;34m(self, params, exog, linear)\u001b[0m\n\u001b[0;32m    428\u001b[0m             \u001b[0mexog\u001b[0m \u001b[1;33m=\u001b[0m \u001b[0mself\u001b[0m\u001b[1;33m.\u001b[0m\u001b[0mexog\u001b[0m\u001b[1;33m\u001b[0m\u001b[0m\n\u001b[0;32m    429\u001b[0m         \u001b[1;32mif\u001b[0m \u001b[1;32mnot\u001b[0m \u001b[0mlinear\u001b[0m\u001b[1;33m:\u001b[0m\u001b[1;33m\u001b[0m\u001b[0m\n\u001b[1;32m--> 430\u001b[1;33m             \u001b[1;32mreturn\u001b[0m \u001b[0mself\u001b[0m\u001b[1;33m.\u001b[0m\u001b[0mcdf\u001b[0m\u001b[1;33m(\u001b[0m\u001b[0mnp\u001b[0m\u001b[1;33m.\u001b[0m\u001b[0mdot\u001b[0m\u001b[1;33m(\u001b[0m\u001b[0mexog\u001b[0m\u001b[1;33m,\u001b[0m \u001b[0mparams\u001b[0m\u001b[1;33m)\u001b[0m\u001b[1;33m)\u001b[0m\u001b[1;33m\u001b[0m\u001b[0m\n\u001b[0m\u001b[0;32m    431\u001b[0m         \u001b[1;32melse\u001b[0m\u001b[1;33m:\u001b[0m\u001b[1;33m\u001b[0m\u001b[0m\n\u001b[0;32m    432\u001b[0m             \u001b[1;32mreturn\u001b[0m \u001b[0mnp\u001b[0m\u001b[1;33m.\u001b[0m\u001b[0mdot\u001b[0m\u001b[1;33m(\u001b[0m\u001b[0mexog\u001b[0m\u001b[1;33m,\u001b[0m \u001b[0mparams\u001b[0m\u001b[1;33m)\u001b[0m\u001b[1;33m\u001b[0m\u001b[0m\n",
      "\u001b[1;31mValueError\u001b[0m: shapes (193810,3) and (4,) not aligned: 3 (dim 1) != 4 (dim 0)"
     ]
    }
   ],
   "source": [
    "predicting = result7.predict(solve[column])"
   ]
  },
  {
   "cell_type": "code",
   "execution_count": null,
   "metadata": {
    "collapsed": true
   },
   "outputs": [],
   "source": []
  }
 ],
 "metadata": {
  "kernelspec": {
   "display_name": "Python [Root]",
   "language": "python",
   "name": "Python [Root]"
  },
  "language_info": {
   "codemirror_mode": {
    "name": "ipython",
    "version": 2
   },
   "file_extension": ".py",
   "mimetype": "text/x-python",
   "name": "python",
   "nbconvert_exporter": "python",
   "pygments_lexer": "ipython2",
   "version": "2.7.12"
  }
 },
 "nbformat": 4,
 "nbformat_minor": 0
}
